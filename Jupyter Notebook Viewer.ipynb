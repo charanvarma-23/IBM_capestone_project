<!DOCTYPE html>
<!-- saved from url=(0014)about:internet -->
<html lang="en"><head><meta http-equiv="Content-Type" content="text/html; charset=UTF-8">
  
  <title>Jupyter Notebook Viewer</title>
  <meta name="viewport" content="width=device-width, initial-scale=1.0">
  <meta name="description" content="">
  <meta name="author" content="">
  
  <meta name="robots" content="noindex,nofollow">
  

  <!--NEW RELIC Start Perf Measurement-->
  
  <!--NREND-->

  <!-- Le styles -->
  <link href="./Jupyter Notebook Viewer_files/styles.css" rel="stylesheet">

  <!-- Le HTML5 shim, for IE6-8 support of HTML5 elements -->
  <!--[if lt IE 9]>
    <script src="http://html5shim.googlecode.com/svn/trunk/html5.js"></script>
  <![endif]-->

  <!-- Le fav and touch icons -->
  <link rel="shortcut icon" href="https://nbviewer.jupyter.org/static/ico/ipynb_icon_16x16.png">
  <link rel="apple-touch-icon-precomposed" sizes="144x144" href="https://nbviewer.jupyter.org/static/ico/apple-touch-icon-144-precomposed.png">
  <link rel="apple-touch-icon-precomposed" sizes="114x114" href="https://nbviewer.jupyter.org/static/ico/apple-touch-icon-114-precomposed.png">
  <link rel="apple-touch-icon-precomposed" sizes="72x72" href="https://nbviewer.jupyter.org/static/ico/apple-touch-icon-72-precomposed.png">
  <link rel="apple-touch-icon-precomposed" href="https://nbviewer.jupyter.org/static/ico/apple-touch-icon-57-precomposed.png">
  
  

  

  
  <meta name="twitter:card" content="summary">
  <meta name="twitter:title" content="Notebook on nbviewer">
  <meta name="twitter:description" content="Check out this Jupyter notebook!">

  
  <meta name="twitter:domain" content="nbviewer.jupyter.org">
  <meta name="twitter:image:src" content="http://ipython.org/ipython-doc/dev/_images/ipynb_icon_128x128.png">

  
    <link href="./Jupyter Notebook Viewer_files/notebook.css" rel="stylesheet">
  

  

  
    <script async="" src="./Jupyter Notebook Viewer_files/analytics.js.download"></script><script src="./Jupyter Notebook Viewer_files/MathJax.js.download" type="text/javascript">
    </script>
    <script type="text/javascript">
      init_mathjax = function() {
        if (window.MathJax) {
          // MathJax loaded
          MathJax.Hub.Config({
            TeX: {
              equationNumbers: {
                autoNumber: "AMS",
                useLabelIds: true
              }
            },
            tex2jax: {
              inlineMath: [ ['$','$'], ["\\(","\\)"] ],
              displayMath: [ ['$$','$$'], ["\\[","\\]"] ],
              processEscapes: true,
              processEnvironments: true
            },
            displayAlign: 'center',
            "HTML-CSS": {
              styles: {'.MathJax_Display': {"margin": 0}},
              linebreaks: { automatic: true }
            }
          });
          MathJax.Hub.Queue(["Typeset", MathJax.Hub]);
        }
      }
      init_mathjax();
    </script>
  

  
    <script>
      (function() {
        function addWidgetsRenderer() {
          var mimeElement = document.querySelector('script[type="application/vnd.jupyter.widget-view+json"]');
          var scriptElement = document.createElement('script');
          var widgetRendererSrc = 'https://unpkg.com/@jupyter-widgets/html-manager@*/dist/embed-amd.js';
          var widgetState;

          try {
            widgetState = mimeElement && JSON.parse(mimeElement.innerHTML);

            if (widgetState && (widgetState.version_major < 2 || !widgetState.version_major)) {
              widgetRendererSrc = 'https://unpkg.com/jupyter-js-widgets@*/dist/embed.js';
            }
          } catch(e) {}

          scriptElement.src = widgetRendererSrc;
          document.body.appendChild(scriptElement);
        }

        document.addEventListener('DOMContentLoaded', addWidgetsRenderer);
      }());
    </script>
  

<style type="text/css">.MathJax_Hover_Frame {border-radius: .25em; -webkit-border-radius: .25em; -moz-border-radius: .25em; -khtml-border-radius: .25em; box-shadow: 0px 0px 15px #83A; -webkit-box-shadow: 0px 0px 15px #83A; -moz-box-shadow: 0px 0px 15px #83A; -khtml-box-shadow: 0px 0px 15px #83A; border: 1px solid #A6D ! important; display: inline-block; position: absolute}
.MathJax_Menu_Button .MathJax_Hover_Arrow {position: absolute; cursor: pointer; display: inline-block; border: 2px solid #AAA; border-radius: 4px; -webkit-border-radius: 4px; -moz-border-radius: 4px; -khtml-border-radius: 4px; font-family: 'Courier New',Courier; font-size: 9px; color: #F0F0F0}
.MathJax_Menu_Button .MathJax_Hover_Arrow span {display: block; background-color: #AAA; border: 1px solid; border-radius: 3px; line-height: 0; padding: 4px}
.MathJax_Hover_Arrow:hover {color: white!important; border: 2px solid #CCC!important}
.MathJax_Hover_Arrow:hover span {background-color: #CCC!important}
</style><style type="text/css">#MathJax_About {position: fixed; left: 50%; width: auto; text-align: center; border: 3px outset; padding: 1em 2em; background-color: #DDDDDD; color: black; cursor: default; font-family: message-box; font-size: 120%; font-style: normal; text-indent: 0; text-transform: none; line-height: normal; letter-spacing: normal; word-spacing: normal; word-wrap: normal; white-space: nowrap; float: none; z-index: 201; border-radius: 15px; -webkit-border-radius: 15px; -moz-border-radius: 15px; -khtml-border-radius: 15px; box-shadow: 0px 10px 20px #808080; -webkit-box-shadow: 0px 10px 20px #808080; -moz-box-shadow: 0px 10px 20px #808080; -khtml-box-shadow: 0px 10px 20px #808080; filter: progid:DXImageTransform.Microsoft.dropshadow(OffX=2, OffY=2, Color='gray', Positive='true')}
#MathJax_About.MathJax_MousePost {outline: none}
.MathJax_Menu {position: absolute; background-color: white; color: black; width: auto; padding: 2px; border: 1px solid #CCCCCC; margin: 0; cursor: default; font: menu; text-align: left; text-indent: 0; text-transform: none; line-height: normal; letter-spacing: normal; word-spacing: normal; word-wrap: normal; white-space: nowrap; float: none; z-index: 201; box-shadow: 0px 10px 20px #808080; -webkit-box-shadow: 0px 10px 20px #808080; -moz-box-shadow: 0px 10px 20px #808080; -khtml-box-shadow: 0px 10px 20px #808080; filter: progid:DXImageTransform.Microsoft.dropshadow(OffX=2, OffY=2, Color='gray', Positive='true')}
.MathJax_MenuItem {padding: 2px 2em; background: transparent}
.MathJax_MenuArrow {position: absolute; right: .5em; padding-top: .25em; color: #666666; font-size: .75em}
.MathJax_MenuActive .MathJax_MenuArrow {color: white}
.MathJax_MenuArrow.RTL {left: .5em; right: auto}
.MathJax_MenuCheck {position: absolute; left: .7em}
.MathJax_MenuCheck.RTL {right: .7em; left: auto}
.MathJax_MenuRadioCheck {position: absolute; left: 1em}
.MathJax_MenuRadioCheck.RTL {right: 1em; left: auto}
.MathJax_MenuLabel {padding: 2px 2em 4px 1.33em; font-style: italic}
.MathJax_MenuRule {border-top: 1px solid #CCCCCC; margin: 4px 1px 0px}
.MathJax_MenuDisabled {color: GrayText}
.MathJax_MenuActive {background-color: Highlight; color: HighlightText}
.MathJax_MenuDisabled:focus, .MathJax_MenuLabel:focus {background-color: #E8E8E8}
.MathJax_ContextMenu:focus {outline: none}
.MathJax_ContextMenu .MathJax_MenuItem:focus {outline: none}
#MathJax_AboutClose {top: .2em; right: .2em}
.MathJax_Menu .MathJax_MenuClose {top: -10px; left: -10px}
.MathJax_MenuClose {position: absolute; cursor: pointer; display: inline-block; border: 2px solid #AAA; border-radius: 18px; -webkit-border-radius: 18px; -moz-border-radius: 18px; -khtml-border-radius: 18px; font-family: 'Courier New',Courier; font-size: 24px; color: #F0F0F0}
.MathJax_MenuClose span {display: block; background-color: #AAA; border: 1.5px solid; border-radius: 18px; -webkit-border-radius: 18px; -moz-border-radius: 18px; -khtml-border-radius: 18px; line-height: 0; padding: 8px 0 6px}
.MathJax_MenuClose:hover {color: white!important; border: 2px solid #CCC!important}
.MathJax_MenuClose:hover span {background-color: #CCC!important}
.MathJax_MenuClose:hover:focus {outline: none}
</style><style type="text/css">.MathJax_Preview .MJXf-math {color: inherit!important}
</style><style type="text/css">.MJX_Assistive_MathML {position: absolute!important; top: 0; left: 0; clip: rect(1px, 1px, 1px, 1px); padding: 1px 0 0 0!important; border: 0!important; height: 1px!important; width: 1px!important; overflow: hidden!important; display: block!important; -webkit-touch-callout: none; -webkit-user-select: none; -khtml-user-select: none; -moz-user-select: none; -ms-user-select: none; user-select: none}
.MJX_Assistive_MathML.MJX_Assistive_MathML_Block {width: 100%!important}
</style><style type="text/css">#MathJax_Zoom {position: absolute; background-color: #F0F0F0; overflow: auto; display: block; z-index: 301; padding: .5em; border: 1px solid black; margin: 0; font-weight: normal; font-style: normal; text-align: left; text-indent: 0; text-transform: none; line-height: normal; letter-spacing: normal; word-spacing: normal; word-wrap: normal; white-space: nowrap; float: none; -webkit-box-sizing: content-box; -moz-box-sizing: content-box; box-sizing: content-box; box-shadow: 5px 5px 15px #AAAAAA; -webkit-box-shadow: 5px 5px 15px #AAAAAA; -moz-box-shadow: 5px 5px 15px #AAAAAA; -khtml-box-shadow: 5px 5px 15px #AAAAAA; filter: progid:DXImageTransform.Microsoft.dropshadow(OffX=2, OffY=2, Color='gray', Positive='true')}
#MathJax_ZoomOverlay {position: absolute; left: 0; top: 0; z-index: 300; display: inline-block; width: 100%; height: 100%; border: 0; padding: 0; margin: 0; background-color: white; opacity: 0; filter: alpha(opacity=0)}
#MathJax_ZoomFrame {position: relative; display: inline-block; height: 0; width: 0}
#MathJax_ZoomEventTrap {position: absolute; left: 0; top: 0; z-index: 302; display: inline-block; border: 0; padding: 0; margin: 0; background-color: white; opacity: 0; filter: alpha(opacity=0)}
</style><style type="text/css">.MathJax_Preview {color: #888}
#MathJax_Message {position: fixed; left: 1em; bottom: 1.5em; background-color: #E6E6E6; border: 1px solid #959595; margin: 0px; padding: 2px 8px; z-index: 102; color: black; font-size: 80%; width: auto; white-space: nowrap}
#MathJax_MSIE_Frame {position: absolute; top: 0; left: 0; width: 0px; z-index: 101; border: 0px; margin: 0px; padding: 0px}
.MathJax_Error {color: #CC0000; font-style: italic}
</style><style type="text/css">.MJXp-script {font-size: .8em}
.MJXp-right {-webkit-transform-origin: right; -moz-transform-origin: right; -ms-transform-origin: right; -o-transform-origin: right; transform-origin: right}
.MJXp-bold {font-weight: bold}
.MJXp-italic {font-style: italic}
.MJXp-scr {font-family: MathJax_Script,'Times New Roman',Times,STIXGeneral,serif}
.MJXp-frak {font-family: MathJax_Fraktur,'Times New Roman',Times,STIXGeneral,serif}
.MJXp-sf {font-family: MathJax_SansSerif,'Times New Roman',Times,STIXGeneral,serif}
.MJXp-cal {font-family: MathJax_Caligraphic,'Times New Roman',Times,STIXGeneral,serif}
.MJXp-mono {font-family: MathJax_Typewriter,'Times New Roman',Times,STIXGeneral,serif}
.MJXp-largeop {font-size: 150%}
.MJXp-largeop.MJXp-int {vertical-align: -.2em}
.MJXp-math {display: inline-block; line-height: 1.2; text-indent: 0; font-family: 'Times New Roman',Times,STIXGeneral,serif; white-space: nowrap; border-collapse: collapse}
.MJXp-display {display: block; text-align: center; margin: 1em 0}
.MJXp-math span {display: inline-block}
.MJXp-box {display: block!important; text-align: center}
.MJXp-box:after {content: " "}
.MJXp-rule {display: block!important; margin-top: .1em}
.MJXp-char {display: block!important}
.MJXp-mo {margin: 0 .15em}
.MJXp-mfrac {margin: 0 .125em; vertical-align: .25em}
.MJXp-denom {display: inline-table!important; width: 100%}
.MJXp-denom > * {display: table-row!important}
.MJXp-surd {vertical-align: top}
.MJXp-surd > * {display: block!important}
.MJXp-script-box > *  {display: table!important; height: 50%}
.MJXp-script-box > * > * {display: table-cell!important; vertical-align: top}
.MJXp-script-box > *:last-child > * {vertical-align: bottom}
.MJXp-script-box > * > * > * {display: block!important}
.MJXp-mphantom {visibility: hidden}
.MJXp-munderover {display: inline-table!important}
.MJXp-over {display: inline-block!important; text-align: center}
.MJXp-over > * {display: block!important}
.MJXp-munderover > * {display: table-row!important}
.MJXp-mtable {vertical-align: .25em; margin: 0 .125em}
.MJXp-mtable > * {display: inline-table!important; vertical-align: middle}
.MJXp-mtr {display: table-row!important}
.MJXp-mtd {display: table-cell!important; text-align: center; padding: .5em 0 0 .5em}
.MJXp-mtr > .MJXp-mtd:first-child {padding-left: 0}
.MJXp-mtr:first-child > .MJXp-mtd {padding-top: 0}
.MJXp-mlabeledtr {display: table-row!important}
.MJXp-mlabeledtr > .MJXp-mtd:first-child {padding-left: 0}
.MJXp-mlabeledtr:first-child > .MJXp-mtd {padding-top: 0}
.MJXp-merror {background-color: #FFFF88; color: #CC0000; border: 1px solid #CC0000; padding: 1px 3px; font-style: normal; font-size: 90%}
.MJXp-scale0 {-webkit-transform: scaleX(.0); -moz-transform: scaleX(.0); -ms-transform: scaleX(.0); -o-transform: scaleX(.0); transform: scaleX(.0)}
.MJXp-scale1 {-webkit-transform: scaleX(.1); -moz-transform: scaleX(.1); -ms-transform: scaleX(.1); -o-transform: scaleX(.1); transform: scaleX(.1)}
.MJXp-scale2 {-webkit-transform: scaleX(.2); -moz-transform: scaleX(.2); -ms-transform: scaleX(.2); -o-transform: scaleX(.2); transform: scaleX(.2)}
.MJXp-scale3 {-webkit-transform: scaleX(.3); -moz-transform: scaleX(.3); -ms-transform: scaleX(.3); -o-transform: scaleX(.3); transform: scaleX(.3)}
.MJXp-scale4 {-webkit-transform: scaleX(.4); -moz-transform: scaleX(.4); -ms-transform: scaleX(.4); -o-transform: scaleX(.4); transform: scaleX(.4)}
.MJXp-scale5 {-webkit-transform: scaleX(.5); -moz-transform: scaleX(.5); -ms-transform: scaleX(.5); -o-transform: scaleX(.5); transform: scaleX(.5)}
.MJXp-scale6 {-webkit-transform: scaleX(.6); -moz-transform: scaleX(.6); -ms-transform: scaleX(.6); -o-transform: scaleX(.6); transform: scaleX(.6)}
.MJXp-scale7 {-webkit-transform: scaleX(.7); -moz-transform: scaleX(.7); -ms-transform: scaleX(.7); -o-transform: scaleX(.7); transform: scaleX(.7)}
.MJXp-scale8 {-webkit-transform: scaleX(.8); -moz-transform: scaleX(.8); -ms-transform: scaleX(.8); -o-transform: scaleX(.8); transform: scaleX(.8)}
.MJXp-scale9 {-webkit-transform: scaleX(.9); -moz-transform: scaleX(.9); -ms-transform: scaleX(.9); -o-transform: scaleX(.9); transform: scaleX(.9)}
.MathJax_PHTML .noError {vertical-align: ; font-size: 90%; text-align: left; color: black; padding: 1px 3px; border: 1px solid}
</style><style>/*!
 *  Font Awesome 4.7.0 by @davegandy - http://fontawesome.io - @fontawesome
 *  License - http://fontawesome.io/license (Font: SIL OFL 1.1, CSS: MIT License)
 */
/* FONT PATH
 * -------------------------- */
@font-face {
  font-family: 'FontAwesome';
  src: url(https://unpkg.com/@jupyter-widgets/html-manager@0.20.0/dist/674f50d287a8c48dc19ba404d20fe713.eot);
  src: url(https://unpkg.com/@jupyter-widgets/html-manager@0.20.0/dist/674f50d287a8c48dc19ba404d20fe713.eot?#iefix&v=4.7.0) format('embedded-opentype'), url(https://unpkg.com/@jupyter-widgets/html-manager@0.20.0/dist/af7ae505a9eed503f8b8e6982036873e.woff2) format('woff2'), url(https://unpkg.com/@jupyter-widgets/html-manager@0.20.0/dist/fee66e712a8a08eef5805a46892932ad.woff) format('woff'), url(https://unpkg.com/@jupyter-widgets/html-manager@0.20.0/dist/b06871f281fee6b241d60582ae9369b9.ttf) format('truetype'), url(https://unpkg.com/@jupyter-widgets/html-manager@0.20.0/dist/912ec66d7572ff821749319396470bde.svg#fontawesomeregular) format('svg');
  font-weight: normal;
  font-style: normal;
}
.fa {
  display: inline-block;
  font: normal normal normal 14px/1 FontAwesome;
  font-size: inherit;
  text-rendering: auto;
  -webkit-font-smoothing: antialiased;
  -moz-osx-font-smoothing: grayscale;
}
/* makes the font 33% larger relative to the icon container */
.fa-lg {
  font-size: 1.33333333em;
  line-height: 0.75em;
  vertical-align: -15%;
}
.fa-2x {
  font-size: 2em;
}
.fa-3x {
  font-size: 3em;
}
.fa-4x {
  font-size: 4em;
}
.fa-5x {
  font-size: 5em;
}
.fa-fw {
  width: 1.28571429em;
  text-align: center;
}
.fa-ul {
  padding-left: 0;
  margin-left: 2.14285714em;
  list-style-type: none;
}
.fa-ul > li {
  position: relative;
}
.fa-li {
  position: absolute;
  left: -2.14285714em;
  width: 2.14285714em;
  top: 0.14285714em;
  text-align: center;
}
.fa-li.fa-lg {
  left: -1.85714286em;
}
.fa-border {
  padding: .2em .25em .15em;
  border: solid 0.08em #eeeeee;
  border-radius: .1em;
}
.fa-pull-left {
  float: left;
}
.fa-pull-right {
  float: right;
}
.fa.fa-pull-left {
  margin-right: .3em;
}
.fa.fa-pull-right {
  margin-left: .3em;
}
/* Deprecated as of 4.4.0 */
.pull-right {
  float: right;
}
.pull-left {
  float: left;
}
.fa.pull-left {
  margin-right: .3em;
}
.fa.pull-right {
  margin-left: .3em;
}
.fa-spin {
  -webkit-animation: fa-spin 2s infinite linear;
  animation: fa-spin 2s infinite linear;
}
.fa-pulse {
  -webkit-animation: fa-spin 1s infinite steps(8);
  animation: fa-spin 1s infinite steps(8);
}
@-webkit-keyframes fa-spin {
  0% {
    -webkit-transform: rotate(0deg);
    transform: rotate(0deg);
  }
  100% {
    -webkit-transform: rotate(359deg);
    transform: rotate(359deg);
  }
}
@keyframes fa-spin {
  0% {
    -webkit-transform: rotate(0deg);
    transform: rotate(0deg);
  }
  100% {
    -webkit-transform: rotate(359deg);
    transform: rotate(359deg);
  }
}
.fa-rotate-90 {
  -ms-filter: "progid:DXImageTransform.Microsoft.BasicImage(rotation=1)";
  -webkit-transform: rotate(90deg);
  -ms-transform: rotate(90deg);
  transform: rotate(90deg);
}
.fa-rotate-180 {
  -ms-filter: "progid:DXImageTransform.Microsoft.BasicImage(rotation=2)";
  -webkit-transform: rotate(180deg);
  -ms-transform: rotate(180deg);
  transform: rotate(180deg);
}
.fa-rotate-270 {
  -ms-filter: "progid:DXImageTransform.Microsoft.BasicImage(rotation=3)";
  -webkit-transform: rotate(270deg);
  -ms-transform: rotate(270deg);
  transform: rotate(270deg);
}
.fa-flip-horizontal {
  -ms-filter: "progid:DXImageTransform.Microsoft.BasicImage(rotation=0, mirror=1)";
  -webkit-transform: scale(-1, 1);
  -ms-transform: scale(-1, 1);
  transform: scale(-1, 1);
}
.fa-flip-vertical {
  -ms-filter: "progid:DXImageTransform.Microsoft.BasicImage(rotation=2, mirror=1)";
  -webkit-transform: scale(1, -1);
  -ms-transform: scale(1, -1);
  transform: scale(1, -1);
}
:root .fa-rotate-90,
:root .fa-rotate-180,
:root .fa-rotate-270,
:root .fa-flip-horizontal,
:root .fa-flip-vertical {
  filter: none;
}
.fa-stack {
  position: relative;
  display: inline-block;
  width: 2em;
  height: 2em;
  line-height: 2em;
  vertical-align: middle;
}
.fa-stack-1x,
.fa-stack-2x {
  position: absolute;
  left: 0;
  width: 100%;
  text-align: center;
}
.fa-stack-1x {
  line-height: inherit;
}
.fa-stack-2x {
  font-size: 2em;
}
.fa-inverse {
  color: #ffffff;
}
/* Font Awesome uses the Unicode Private Use Area (PUA) to ensure screen
   readers do not read off random characters that represent icons */
.fa-glass:before {
  content: "\f000";
}
.fa-music:before {
  content: "\f001";
}
.fa-search:before {
  content: "\f002";
}
.fa-envelope-o:before {
  content: "\f003";
}
.fa-heart:before {
  content: "\f004";
}
.fa-star:before {
  content: "\f005";
}
.fa-star-o:before {
  content: "\f006";
}
.fa-user:before {
  content: "\f007";
}
.fa-film:before {
  content: "\f008";
}
.fa-th-large:before {
  content: "\f009";
}
.fa-th:before {
  content: "\f00a";
}
.fa-th-list:before {
  content: "\f00b";
}
.fa-check:before {
  content: "\f00c";
}
.fa-remove:before,
.fa-close:before,
.fa-times:before {
  content: "\f00d";
}
.fa-search-plus:before {
  content: "\f00e";
}
.fa-search-minus:before {
  content: "\f010";
}
.fa-power-off:before {
  content: "\f011";
}
.fa-signal:before {
  content: "\f012";
}
.fa-gear:before,
.fa-cog:before {
  content: "\f013";
}
.fa-trash-o:before {
  content: "\f014";
}
.fa-home:before {
  content: "\f015";
}
.fa-file-o:before {
  content: "\f016";
}
.fa-clock-o:before {
  content: "\f017";
}
.fa-road:before {
  content: "\f018";
}
.fa-download:before {
  content: "\f019";
}
.fa-arrow-circle-o-down:before {
  content: "\f01a";
}
.fa-arrow-circle-o-up:before {
  content: "\f01b";
}
.fa-inbox:before {
  content: "\f01c";
}
.fa-play-circle-o:before {
  content: "\f01d";
}
.fa-rotate-right:before,
.fa-repeat:before {
  content: "\f01e";
}
.fa-refresh:before {
  content: "\f021";
}
.fa-list-alt:before {
  content: "\f022";
}
.fa-lock:before {
  content: "\f023";
}
.fa-flag:before {
  content: "\f024";
}
.fa-headphones:before {
  content: "\f025";
}
.fa-volume-off:before {
  content: "\f026";
}
.fa-volume-down:before {
  content: "\f027";
}
.fa-volume-up:before {
  content: "\f028";
}
.fa-qrcode:before {
  content: "\f029";
}
.fa-barcode:before {
  content: "\f02a";
}
.fa-tag:before {
  content: "\f02b";
}
.fa-tags:before {
  content: "\f02c";
}
.fa-book:before {
  content: "\f02d";
}
.fa-bookmark:before {
  content: "\f02e";
}
.fa-print:before {
  content: "\f02f";
}
.fa-camera:before {
  content: "\f030";
}
.fa-font:before {
  content: "\f031";
}
.fa-bold:before {
  content: "\f032";
}
.fa-italic:before {
  content: "\f033";
}
.fa-text-height:before {
  content: "\f034";
}
.fa-text-width:before {
  content: "\f035";
}
.fa-align-left:before {
  content: "\f036";
}
.fa-align-center:before {
  content: "\f037";
}
.fa-align-right:before {
  content: "\f038";
}
.fa-align-justify:before {
  content: "\f039";
}
.fa-list:before {
  content: "\f03a";
}
.fa-dedent:before,
.fa-outdent:before {
  content: "\f03b";
}
.fa-indent:before {
  content: "\f03c";
}
.fa-video-camera:before {
  content: "\f03d";
}
.fa-photo:before,
.fa-image:before,
.fa-picture-o:before {
  content: "\f03e";
}
.fa-pencil:before {
  content: "\f040";
}
.fa-map-marker:before {
  content: "\f041";
}
.fa-adjust:before {
  content: "\f042";
}
.fa-tint:before {
  content: "\f043";
}
.fa-edit:before,
.fa-pencil-square-o:before {
  content: "\f044";
}
.fa-share-square-o:before {
  content: "\f045";
}
.fa-check-square-o:before {
  content: "\f046";
}
.fa-arrows:before {
  content: "\f047";
}
.fa-step-backward:before {
  content: "\f048";
}
.fa-fast-backward:before {
  content: "\f049";
}
.fa-backward:before {
  content: "\f04a";
}
.fa-play:before {
  content: "\f04b";
}
.fa-pause:before {
  content: "\f04c";
}
.fa-stop:before {
  content: "\f04d";
}
.fa-forward:before {
  content: "\f04e";
}
.fa-fast-forward:before {
  content: "\f050";
}
.fa-step-forward:before {
  content: "\f051";
}
.fa-eject:before {
  content: "\f052";
}
.fa-chevron-left:before {
  content: "\f053";
}
.fa-chevron-right:before {
  content: "\f054";
}
.fa-plus-circle:before {
  content: "\f055";
}
.fa-minus-circle:before {
  content: "\f056";
}
.fa-times-circle:before {
  content: "\f057";
}
.fa-check-circle:before {
  content: "\f058";
}
.fa-question-circle:before {
  content: "\f059";
}
.fa-info-circle:before {
  content: "\f05a";
}
.fa-crosshairs:before {
  content: "\f05b";
}
.fa-times-circle-o:before {
  content: "\f05c";
}
.fa-check-circle-o:before {
  content: "\f05d";
}
.fa-ban:before {
  content: "\f05e";
}
.fa-arrow-left:before {
  content: "\f060";
}
.fa-arrow-right:before {
  content: "\f061";
}
.fa-arrow-up:before {
  content: "\f062";
}
.fa-arrow-down:before {
  content: "\f063";
}
.fa-mail-forward:before,
.fa-share:before {
  content: "\f064";
}
.fa-expand:before {
  content: "\f065";
}
.fa-compress:before {
  content: "\f066";
}
.fa-plus:before {
  content: "\f067";
}
.fa-minus:before {
  content: "\f068";
}
.fa-asterisk:before {
  content: "\f069";
}
.fa-exclamation-circle:before {
  content: "\f06a";
}
.fa-gift:before {
  content: "\f06b";
}
.fa-leaf:before {
  content: "\f06c";
}
.fa-fire:before {
  content: "\f06d";
}
.fa-eye:before {
  content: "\f06e";
}
.fa-eye-slash:before {
  content: "\f070";
}
.fa-warning:before,
.fa-exclamation-triangle:before {
  content: "\f071";
}
.fa-plane:before {
  content: "\f072";
}
.fa-calendar:before {
  content: "\f073";
}
.fa-random:before {
  content: "\f074";
}
.fa-comment:before {
  content: "\f075";
}
.fa-magnet:before {
  content: "\f076";
}
.fa-chevron-up:before {
  content: "\f077";
}
.fa-chevron-down:before {
  content: "\f078";
}
.fa-retweet:before {
  content: "\f079";
}
.fa-shopping-cart:before {
  content: "\f07a";
}
.fa-folder:before {
  content: "\f07b";
}
.fa-folder-open:before {
  content: "\f07c";
}
.fa-arrows-v:before {
  content: "\f07d";
}
.fa-arrows-h:before {
  content: "\f07e";
}
.fa-bar-chart-o:before,
.fa-bar-chart:before {
  content: "\f080";
}
.fa-twitter-square:before {
  content: "\f081";
}
.fa-facebook-square:before {
  content: "\f082";
}
.fa-camera-retro:before {
  content: "\f083";
}
.fa-key:before {
  content: "\f084";
}
.fa-gears:before,
.fa-cogs:before {
  content: "\f085";
}
.fa-comments:before {
  content: "\f086";
}
.fa-thumbs-o-up:before {
  content: "\f087";
}
.fa-thumbs-o-down:before {
  content: "\f088";
}
.fa-star-half:before {
  content: "\f089";
}
.fa-heart-o:before {
  content: "\f08a";
}
.fa-sign-out:before {
  content: "\f08b";
}
.fa-linkedin-square:before {
  content: "\f08c";
}
.fa-thumb-tack:before {
  content: "\f08d";
}
.fa-external-link:before {
  content: "\f08e";
}
.fa-sign-in:before {
  content: "\f090";
}
.fa-trophy:before {
  content: "\f091";
}
.fa-github-square:before {
  content: "\f092";
}
.fa-upload:before {
  content: "\f093";
}
.fa-lemon-o:before {
  content: "\f094";
}
.fa-phone:before {
  content: "\f095";
}
.fa-square-o:before {
  content: "\f096";
}
.fa-bookmark-o:before {
  content: "\f097";
}
.fa-phone-square:before {
  content: "\f098";
}
.fa-twitter:before {
  content: "\f099";
}
.fa-facebook-f:before,
.fa-facebook:before {
  content: "\f09a";
}
.fa-github:before {
  content: "\f09b";
}
.fa-unlock:before {
  content: "\f09c";
}
.fa-credit-card:before {
  content: "\f09d";
}
.fa-feed:before,
.fa-rss:before {
  content: "\f09e";
}
.fa-hdd-o:before {
  content: "\f0a0";
}
.fa-bullhorn:before {
  content: "\f0a1";
}
.fa-bell:before {
  content: "\f0f3";
}
.fa-certificate:before {
  content: "\f0a3";
}
.fa-hand-o-right:before {
  content: "\f0a4";
}
.fa-hand-o-left:before {
  content: "\f0a5";
}
.fa-hand-o-up:before {
  content: "\f0a6";
}
.fa-hand-o-down:before {
  content: "\f0a7";
}
.fa-arrow-circle-left:before {
  content: "\f0a8";
}
.fa-arrow-circle-right:before {
  content: "\f0a9";
}
.fa-arrow-circle-up:before {
  content: "\f0aa";
}
.fa-arrow-circle-down:before {
  content: "\f0ab";
}
.fa-globe:before {
  content: "\f0ac";
}
.fa-wrench:before {
  content: "\f0ad";
}
.fa-tasks:before {
  content: "\f0ae";
}
.fa-filter:before {
  content: "\f0b0";
}
.fa-briefcase:before {
  content: "\f0b1";
}
.fa-arrows-alt:before {
  content: "\f0b2";
}
.fa-group:before,
.fa-users:before {
  content: "\f0c0";
}
.fa-chain:before,
.fa-link:before {
  content: "\f0c1";
}
.fa-cloud:before {
  content: "\f0c2";
}
.fa-flask:before {
  content: "\f0c3";
}
.fa-cut:before,
.fa-scissors:before {
  content: "\f0c4";
}
.fa-copy:before,
.fa-files-o:before {
  content: "\f0c5";
}
.fa-paperclip:before {
  content: "\f0c6";
}
.fa-save:before,
.fa-floppy-o:before {
  content: "\f0c7";
}
.fa-square:before {
  content: "\f0c8";
}
.fa-navicon:before,
.fa-reorder:before,
.fa-bars:before {
  content: "\f0c9";
}
.fa-list-ul:before {
  content: "\f0ca";
}
.fa-list-ol:before {
  content: "\f0cb";
}
.fa-strikethrough:before {
  content: "\f0cc";
}
.fa-underline:before {
  content: "\f0cd";
}
.fa-table:before {
  content: "\f0ce";
}
.fa-magic:before {
  content: "\f0d0";
}
.fa-truck:before {
  content: "\f0d1";
}
.fa-pinterest:before {
  content: "\f0d2";
}
.fa-pinterest-square:before {
  content: "\f0d3";
}
.fa-google-plus-square:before {
  content: "\f0d4";
}
.fa-google-plus:before {
  content: "\f0d5";
}
.fa-money:before {
  content: "\f0d6";
}
.fa-caret-down:before {
  content: "\f0d7";
}
.fa-caret-up:before {
  content: "\f0d8";
}
.fa-caret-left:before {
  content: "\f0d9";
}
.fa-caret-right:before {
  content: "\f0da";
}
.fa-columns:before {
  content: "\f0db";
}
.fa-unsorted:before,
.fa-sort:before {
  content: "\f0dc";
}
.fa-sort-down:before,
.fa-sort-desc:before {
  content: "\f0dd";
}
.fa-sort-up:before,
.fa-sort-asc:before {
  content: "\f0de";
}
.fa-envelope:before {
  content: "\f0e0";
}
.fa-linkedin:before {
  content: "\f0e1";
}
.fa-rotate-left:before,
.fa-undo:before {
  content: "\f0e2";
}
.fa-legal:before,
.fa-gavel:before {
  content: "\f0e3";
}
.fa-dashboard:before,
.fa-tachometer:before {
  content: "\f0e4";
}
.fa-comment-o:before {
  content: "\f0e5";
}
.fa-comments-o:before {
  content: "\f0e6";
}
.fa-flash:before,
.fa-bolt:before {
  content: "\f0e7";
}
.fa-sitemap:before {
  content: "\f0e8";
}
.fa-umbrella:before {
  content: "\f0e9";
}
.fa-paste:before,
.fa-clipboard:before {
  content: "\f0ea";
}
.fa-lightbulb-o:before {
  content: "\f0eb";
}
.fa-exchange:before {
  content: "\f0ec";
}
.fa-cloud-download:before {
  content: "\f0ed";
}
.fa-cloud-upload:before {
  content: "\f0ee";
}
.fa-user-md:before {
  content: "\f0f0";
}
.fa-stethoscope:before {
  content: "\f0f1";
}
.fa-suitcase:before {
  content: "\f0f2";
}
.fa-bell-o:before {
  content: "\f0a2";
}
.fa-coffee:before {
  content: "\f0f4";
}
.fa-cutlery:before {
  content: "\f0f5";
}
.fa-file-text-o:before {
  content: "\f0f6";
}
.fa-building-o:before {
  content: "\f0f7";
}
.fa-hospital-o:before {
  content: "\f0f8";
}
.fa-ambulance:before {
  content: "\f0f9";
}
.fa-medkit:before {
  content: "\f0fa";
}
.fa-fighter-jet:before {
  content: "\f0fb";
}
.fa-beer:before {
  content: "\f0fc";
}
.fa-h-square:before {
  content: "\f0fd";
}
.fa-plus-square:before {
  content: "\f0fe";
}
.fa-angle-double-left:before {
  content: "\f100";
}
.fa-angle-double-right:before {
  content: "\f101";
}
.fa-angle-double-up:before {
  content: "\f102";
}
.fa-angle-double-down:before {
  content: "\f103";
}
.fa-angle-left:before {
  content: "\f104";
}
.fa-angle-right:before {
  content: "\f105";
}
.fa-angle-up:before {
  content: "\f106";
}
.fa-angle-down:before {
  content: "\f107";
}
.fa-desktop:before {
  content: "\f108";
}
.fa-laptop:before {
  content: "\f109";
}
.fa-tablet:before {
  content: "\f10a";
}
.fa-mobile-phone:before,
.fa-mobile:before {
  content: "\f10b";
}
.fa-circle-o:before {
  content: "\f10c";
}
.fa-quote-left:before {
  content: "\f10d";
}
.fa-quote-right:before {
  content: "\f10e";
}
.fa-spinner:before {
  content: "\f110";
}
.fa-circle:before {
  content: "\f111";
}
.fa-mail-reply:before,
.fa-reply:before {
  content: "\f112";
}
.fa-github-alt:before {
  content: "\f113";
}
.fa-folder-o:before {
  content: "\f114";
}
.fa-folder-open-o:before {
  content: "\f115";
}
.fa-smile-o:before {
  content: "\f118";
}
.fa-frown-o:before {
  content: "\f119";
}
.fa-meh-o:before {
  content: "\f11a";
}
.fa-gamepad:before {
  content: "\f11b";
}
.fa-keyboard-o:before {
  content: "\f11c";
}
.fa-flag-o:before {
  content: "\f11d";
}
.fa-flag-checkered:before {
  content: "\f11e";
}
.fa-terminal:before {
  content: "\f120";
}
.fa-code:before {
  content: "\f121";
}
.fa-mail-reply-all:before,
.fa-reply-all:before {
  content: "\f122";
}
.fa-star-half-empty:before,
.fa-star-half-full:before,
.fa-star-half-o:before {
  content: "\f123";
}
.fa-location-arrow:before {
  content: "\f124";
}
.fa-crop:before {
  content: "\f125";
}
.fa-code-fork:before {
  content: "\f126";
}
.fa-unlink:before,
.fa-chain-broken:before {
  content: "\f127";
}
.fa-question:before {
  content: "\f128";
}
.fa-info:before {
  content: "\f129";
}
.fa-exclamation:before {
  content: "\f12a";
}
.fa-superscript:before {
  content: "\f12b";
}
.fa-subscript:before {
  content: "\f12c";
}
.fa-eraser:before {
  content: "\f12d";
}
.fa-puzzle-piece:before {
  content: "\f12e";
}
.fa-microphone:before {
  content: "\f130";
}
.fa-microphone-slash:before {
  content: "\f131";
}
.fa-shield:before {
  content: "\f132";
}
.fa-calendar-o:before {
  content: "\f133";
}
.fa-fire-extinguisher:before {
  content: "\f134";
}
.fa-rocket:before {
  content: "\f135";
}
.fa-maxcdn:before {
  content: "\f136";
}
.fa-chevron-circle-left:before {
  content: "\f137";
}
.fa-chevron-circle-right:before {
  content: "\f138";
}
.fa-chevron-circle-up:before {
  content: "\f139";
}
.fa-chevron-circle-down:before {
  content: "\f13a";
}
.fa-html5:before {
  content: "\f13b";
}
.fa-css3:before {
  content: "\f13c";
}
.fa-anchor:before {
  content: "\f13d";
}
.fa-unlock-alt:before {
  content: "\f13e";
}
.fa-bullseye:before {
  content: "\f140";
}
.fa-ellipsis-h:before {
  content: "\f141";
}
.fa-ellipsis-v:before {
  content: "\f142";
}
.fa-rss-square:before {
  content: "\f143";
}
.fa-play-circle:before {
  content: "\f144";
}
.fa-ticket:before {
  content: "\f145";
}
.fa-minus-square:before {
  content: "\f146";
}
.fa-minus-square-o:before {
  content: "\f147";
}
.fa-level-up:before {
  content: "\f148";
}
.fa-level-down:before {
  content: "\f149";
}
.fa-check-square:before {
  content: "\f14a";
}
.fa-pencil-square:before {
  content: "\f14b";
}
.fa-external-link-square:before {
  content: "\f14c";
}
.fa-share-square:before {
  content: "\f14d";
}
.fa-compass:before {
  content: "\f14e";
}
.fa-toggle-down:before,
.fa-caret-square-o-down:before {
  content: "\f150";
}
.fa-toggle-up:before,
.fa-caret-square-o-up:before {
  content: "\f151";
}
.fa-toggle-right:before,
.fa-caret-square-o-right:before {
  content: "\f152";
}
.fa-euro:before,
.fa-eur:before {
  content: "\f153";
}
.fa-gbp:before {
  content: "\f154";
}
.fa-dollar:before,
.fa-usd:before {
  content: "\f155";
}
.fa-rupee:before,
.fa-inr:before {
  content: "\f156";
}
.fa-cny:before,
.fa-rmb:before,
.fa-yen:before,
.fa-jpy:before {
  content: "\f157";
}
.fa-ruble:before,
.fa-rouble:before,
.fa-rub:before {
  content: "\f158";
}
.fa-won:before,
.fa-krw:before {
  content: "\f159";
}
.fa-bitcoin:before,
.fa-btc:before {
  content: "\f15a";
}
.fa-file:before {
  content: "\f15b";
}
.fa-file-text:before {
  content: "\f15c";
}
.fa-sort-alpha-asc:before {
  content: "\f15d";
}
.fa-sort-alpha-desc:before {
  content: "\f15e";
}
.fa-sort-amount-asc:before {
  content: "\f160";
}
.fa-sort-amount-desc:before {
  content: "\f161";
}
.fa-sort-numeric-asc:before {
  content: "\f162";
}
.fa-sort-numeric-desc:before {
  content: "\f163";
}
.fa-thumbs-up:before {
  content: "\f164";
}
.fa-thumbs-down:before {
  content: "\f165";
}
.fa-youtube-square:before {
  content: "\f166";
}
.fa-youtube:before {
  content: "\f167";
}
.fa-xing:before {
  content: "\f168";
}
.fa-xing-square:before {
  content: "\f169";
}
.fa-youtube-play:before {
  content: "\f16a";
}
.fa-dropbox:before {
  content: "\f16b";
}
.fa-stack-overflow:before {
  content: "\f16c";
}
.fa-instagram:before {
  content: "\f16d";
}
.fa-flickr:before {
  content: "\f16e";
}
.fa-adn:before {
  content: "\f170";
}
.fa-bitbucket:before {
  content: "\f171";
}
.fa-bitbucket-square:before {
  content: "\f172";
}
.fa-tumblr:before {
  content: "\f173";
}
.fa-tumblr-square:before {
  content: "\f174";
}
.fa-long-arrow-down:before {
  content: "\f175";
}
.fa-long-arrow-up:before {
  content: "\f176";
}
.fa-long-arrow-left:before {
  content: "\f177";
}
.fa-long-arrow-right:before {
  content: "\f178";
}
.fa-apple:before {
  content: "\f179";
}
.fa-windows:before {
  content: "\f17a";
}
.fa-android:before {
  content: "\f17b";
}
.fa-linux:before {
  content: "\f17c";
}
.fa-dribbble:before {
  content: "\f17d";
}
.fa-skype:before {
  content: "\f17e";
}
.fa-foursquare:before {
  content: "\f180";
}
.fa-trello:before {
  content: "\f181";
}
.fa-female:before {
  content: "\f182";
}
.fa-male:before {
  content: "\f183";
}
.fa-gittip:before,
.fa-gratipay:before {
  content: "\f184";
}
.fa-sun-o:before {
  content: "\f185";
}
.fa-moon-o:before {
  content: "\f186";
}
.fa-archive:before {
  content: "\f187";
}
.fa-bug:before {
  content: "\f188";
}
.fa-vk:before {
  content: "\f189";
}
.fa-weibo:before {
  content: "\f18a";
}
.fa-renren:before {
  content: "\f18b";
}
.fa-pagelines:before {
  content: "\f18c";
}
.fa-stack-exchange:before {
  content: "\f18d";
}
.fa-arrow-circle-o-right:before {
  content: "\f18e";
}
.fa-arrow-circle-o-left:before {
  content: "\f190";
}
.fa-toggle-left:before,
.fa-caret-square-o-left:before {
  content: "\f191";
}
.fa-dot-circle-o:before {
  content: "\f192";
}
.fa-wheelchair:before {
  content: "\f193";
}
.fa-vimeo-square:before {
  content: "\f194";
}
.fa-turkish-lira:before,
.fa-try:before {
  content: "\f195";
}
.fa-plus-square-o:before {
  content: "\f196";
}
.fa-space-shuttle:before {
  content: "\f197";
}
.fa-slack:before {
  content: "\f198";
}
.fa-envelope-square:before {
  content: "\f199";
}
.fa-wordpress:before {
  content: "\f19a";
}
.fa-openid:before {
  content: "\f19b";
}
.fa-institution:before,
.fa-bank:before,
.fa-university:before {
  content: "\f19c";
}
.fa-mortar-board:before,
.fa-graduation-cap:before {
  content: "\f19d";
}
.fa-yahoo:before {
  content: "\f19e";
}
.fa-google:before {
  content: "\f1a0";
}
.fa-reddit:before {
  content: "\f1a1";
}
.fa-reddit-square:before {
  content: "\f1a2";
}
.fa-stumbleupon-circle:before {
  content: "\f1a3";
}
.fa-stumbleupon:before {
  content: "\f1a4";
}
.fa-delicious:before {
  content: "\f1a5";
}
.fa-digg:before {
  content: "\f1a6";
}
.fa-pied-piper-pp:before {
  content: "\f1a7";
}
.fa-pied-piper-alt:before {
  content: "\f1a8";
}
.fa-drupal:before {
  content: "\f1a9";
}
.fa-joomla:before {
  content: "\f1aa";
}
.fa-language:before {
  content: "\f1ab";
}
.fa-fax:before {
  content: "\f1ac";
}
.fa-building:before {
  content: "\f1ad";
}
.fa-child:before {
  content: "\f1ae";
}
.fa-paw:before {
  content: "\f1b0";
}
.fa-spoon:before {
  content: "\f1b1";
}
.fa-cube:before {
  content: "\f1b2";
}
.fa-cubes:before {
  content: "\f1b3";
}
.fa-behance:before {
  content: "\f1b4";
}
.fa-behance-square:before {
  content: "\f1b5";
}
.fa-steam:before {
  content: "\f1b6";
}
.fa-steam-square:before {
  content: "\f1b7";
}
.fa-recycle:before {
  content: "\f1b8";
}
.fa-automobile:before,
.fa-car:before {
  content: "\f1b9";
}
.fa-cab:before,
.fa-taxi:before {
  content: "\f1ba";
}
.fa-tree:before {
  content: "\f1bb";
}
.fa-spotify:before {
  content: "\f1bc";
}
.fa-deviantart:before {
  content: "\f1bd";
}
.fa-soundcloud:before {
  content: "\f1be";
}
.fa-database:before {
  content: "\f1c0";
}
.fa-file-pdf-o:before {
  content: "\f1c1";
}
.fa-file-word-o:before {
  content: "\f1c2";
}
.fa-file-excel-o:before {
  content: "\f1c3";
}
.fa-file-powerpoint-o:before {
  content: "\f1c4";
}
.fa-file-photo-o:before,
.fa-file-picture-o:before,
.fa-file-image-o:before {
  content: "\f1c5";
}
.fa-file-zip-o:before,
.fa-file-archive-o:before {
  content: "\f1c6";
}
.fa-file-sound-o:before,
.fa-file-audio-o:before {
  content: "\f1c7";
}
.fa-file-movie-o:before,
.fa-file-video-o:before {
  content: "\f1c8";
}
.fa-file-code-o:before {
  content: "\f1c9";
}
.fa-vine:before {
  content: "\f1ca";
}
.fa-codepen:before {
  content: "\f1cb";
}
.fa-jsfiddle:before {
  content: "\f1cc";
}
.fa-life-bouy:before,
.fa-life-buoy:before,
.fa-life-saver:before,
.fa-support:before,
.fa-life-ring:before {
  content: "\f1cd";
}
.fa-circle-o-notch:before {
  content: "\f1ce";
}
.fa-ra:before,
.fa-resistance:before,
.fa-rebel:before {
  content: "\f1d0";
}
.fa-ge:before,
.fa-empire:before {
  content: "\f1d1";
}
.fa-git-square:before {
  content: "\f1d2";
}
.fa-git:before {
  content: "\f1d3";
}
.fa-y-combinator-square:before,
.fa-yc-square:before,
.fa-hacker-news:before {
  content: "\f1d4";
}
.fa-tencent-weibo:before {
  content: "\f1d5";
}
.fa-qq:before {
  content: "\f1d6";
}
.fa-wechat:before,
.fa-weixin:before {
  content: "\f1d7";
}
.fa-send:before,
.fa-paper-plane:before {
  content: "\f1d8";
}
.fa-send-o:before,
.fa-paper-plane-o:before {
  content: "\f1d9";
}
.fa-history:before {
  content: "\f1da";
}
.fa-circle-thin:before {
  content: "\f1db";
}
.fa-header:before {
  content: "\f1dc";
}
.fa-paragraph:before {
  content: "\f1dd";
}
.fa-sliders:before {
  content: "\f1de";
}
.fa-share-alt:before {
  content: "\f1e0";
}
.fa-share-alt-square:before {
  content: "\f1e1";
}
.fa-bomb:before {
  content: "\f1e2";
}
.fa-soccer-ball-o:before,
.fa-futbol-o:before {
  content: "\f1e3";
}
.fa-tty:before {
  content: "\f1e4";
}
.fa-binoculars:before {
  content: "\f1e5";
}
.fa-plug:before {
  content: "\f1e6";
}
.fa-slideshare:before {
  content: "\f1e7";
}
.fa-twitch:before {
  content: "\f1e8";
}
.fa-yelp:before {
  content: "\f1e9";
}
.fa-newspaper-o:before {
  content: "\f1ea";
}
.fa-wifi:before {
  content: "\f1eb";
}
.fa-calculator:before {
  content: "\f1ec";
}
.fa-paypal:before {
  content: "\f1ed";
}
.fa-google-wallet:before {
  content: "\f1ee";
}
.fa-cc-visa:before {
  content: "\f1f0";
}
.fa-cc-mastercard:before {
  content: "\f1f1";
}
.fa-cc-discover:before {
  content: "\f1f2";
}
.fa-cc-amex:before {
  content: "\f1f3";
}
.fa-cc-paypal:before {
  content: "\f1f4";
}
.fa-cc-stripe:before {
  content: "\f1f5";
}
.fa-bell-slash:before {
  content: "\f1f6";
}
.fa-bell-slash-o:before {
  content: "\f1f7";
}
.fa-trash:before {
  content: "\f1f8";
}
.fa-copyright:before {
  content: "\f1f9";
}
.fa-at:before {
  content: "\f1fa";
}
.fa-eyedropper:before {
  content: "\f1fb";
}
.fa-paint-brush:before {
  content: "\f1fc";
}
.fa-birthday-cake:before {
  content: "\f1fd";
}
.fa-area-chart:before {
  content: "\f1fe";
}
.fa-pie-chart:before {
  content: "\f200";
}
.fa-line-chart:before {
  content: "\f201";
}
.fa-lastfm:before {
  content: "\f202";
}
.fa-lastfm-square:before {
  content: "\f203";
}
.fa-toggle-off:before {
  content: "\f204";
}
.fa-toggle-on:before {
  content: "\f205";
}
.fa-bicycle:before {
  content: "\f206";
}
.fa-bus:before {
  content: "\f207";
}
.fa-ioxhost:before {
  content: "\f208";
}
.fa-angellist:before {
  content: "\f209";
}
.fa-cc:before {
  content: "\f20a";
}
.fa-shekel:before,
.fa-sheqel:before,
.fa-ils:before {
  content: "\f20b";
}
.fa-meanpath:before {
  content: "\f20c";
}
.fa-buysellads:before {
  content: "\f20d";
}
.fa-connectdevelop:before {
  content: "\f20e";
}
.fa-dashcube:before {
  content: "\f210";
}
.fa-forumbee:before {
  content: "\f211";
}
.fa-leanpub:before {
  content: "\f212";
}
.fa-sellsy:before {
  content: "\f213";
}
.fa-shirtsinbulk:before {
  content: "\f214";
}
.fa-simplybuilt:before {
  content: "\f215";
}
.fa-skyatlas:before {
  content: "\f216";
}
.fa-cart-plus:before {
  content: "\f217";
}
.fa-cart-arrow-down:before {
  content: "\f218";
}
.fa-diamond:before {
  content: "\f219";
}
.fa-ship:before {
  content: "\f21a";
}
.fa-user-secret:before {
  content: "\f21b";
}
.fa-motorcycle:before {
  content: "\f21c";
}
.fa-street-view:before {
  content: "\f21d";
}
.fa-heartbeat:before {
  content: "\f21e";
}
.fa-venus:before {
  content: "\f221";
}
.fa-mars:before {
  content: "\f222";
}
.fa-mercury:before {
  content: "\f223";
}
.fa-intersex:before,
.fa-transgender:before {
  content: "\f224";
}
.fa-transgender-alt:before {
  content: "\f225";
}
.fa-venus-double:before {
  content: "\f226";
}
.fa-mars-double:before {
  content: "\f227";
}
.fa-venus-mars:before {
  content: "\f228";
}
.fa-mars-stroke:before {
  content: "\f229";
}
.fa-mars-stroke-v:before {
  content: "\f22a";
}
.fa-mars-stroke-h:before {
  content: "\f22b";
}
.fa-neuter:before {
  content: "\f22c";
}
.fa-genderless:before {
  content: "\f22d";
}
.fa-facebook-official:before {
  content: "\f230";
}
.fa-pinterest-p:before {
  content: "\f231";
}
.fa-whatsapp:before {
  content: "\f232";
}
.fa-server:before {
  content: "\f233";
}
.fa-user-plus:before {
  content: "\f234";
}
.fa-user-times:before {
  content: "\f235";
}
.fa-hotel:before,
.fa-bed:before {
  content: "\f236";
}
.fa-viacoin:before {
  content: "\f237";
}
.fa-train:before {
  content: "\f238";
}
.fa-subway:before {
  content: "\f239";
}
.fa-medium:before {
  content: "\f23a";
}
.fa-yc:before,
.fa-y-combinator:before {
  content: "\f23b";
}
.fa-optin-monster:before {
  content: "\f23c";
}
.fa-opencart:before {
  content: "\f23d";
}
.fa-expeditedssl:before {
  content: "\f23e";
}
.fa-battery-4:before,
.fa-battery:before,
.fa-battery-full:before {
  content: "\f240";
}
.fa-battery-3:before,
.fa-battery-three-quarters:before {
  content: "\f241";
}
.fa-battery-2:before,
.fa-battery-half:before {
  content: "\f242";
}
.fa-battery-1:before,
.fa-battery-quarter:before {
  content: "\f243";
}
.fa-battery-0:before,
.fa-battery-empty:before {
  content: "\f244";
}
.fa-mouse-pointer:before {
  content: "\f245";
}
.fa-i-cursor:before {
  content: "\f246";
}
.fa-object-group:before {
  content: "\f247";
}
.fa-object-ungroup:before {
  content: "\f248";
}
.fa-sticky-note:before {
  content: "\f249";
}
.fa-sticky-note-o:before {
  content: "\f24a";
}
.fa-cc-jcb:before {
  content: "\f24b";
}
.fa-cc-diners-club:before {
  content: "\f24c";
}
.fa-clone:before {
  content: "\f24d";
}
.fa-balance-scale:before {
  content: "\f24e";
}
.fa-hourglass-o:before {
  content: "\f250";
}
.fa-hourglass-1:before,
.fa-hourglass-start:before {
  content: "\f251";
}
.fa-hourglass-2:before,
.fa-hourglass-half:before {
  content: "\f252";
}
.fa-hourglass-3:before,
.fa-hourglass-end:before {
  content: "\f253";
}
.fa-hourglass:before {
  content: "\f254";
}
.fa-hand-grab-o:before,
.fa-hand-rock-o:before {
  content: "\f255";
}
.fa-hand-stop-o:before,
.fa-hand-paper-o:before {
  content: "\f256";
}
.fa-hand-scissors-o:before {
  content: "\f257";
}
.fa-hand-lizard-o:before {
  content: "\f258";
}
.fa-hand-spock-o:before {
  content: "\f259";
}
.fa-hand-pointer-o:before {
  content: "\f25a";
}
.fa-hand-peace-o:before {
  content: "\f25b";
}
.fa-trademark:before {
  content: "\f25c";
}
.fa-registered:before {
  content: "\f25d";
}
.fa-creative-commons:before {
  content: "\f25e";
}
.fa-gg:before {
  content: "\f260";
}
.fa-gg-circle:before {
  content: "\f261";
}
.fa-tripadvisor:before {
  content: "\f262";
}
.fa-odnoklassniki:before {
  content: "\f263";
}
.fa-odnoklassniki-square:before {
  content: "\f264";
}
.fa-get-pocket:before {
  content: "\f265";
}
.fa-wikipedia-w:before {
  content: "\f266";
}
.fa-safari:before {
  content: "\f267";
}
.fa-chrome:before {
  content: "\f268";
}
.fa-firefox:before {
  content: "\f269";
}
.fa-opera:before {
  content: "\f26a";
}
.fa-internet-explorer:before {
  content: "\f26b";
}
.fa-tv:before,
.fa-television:before {
  content: "\f26c";
}
.fa-contao:before {
  content: "\f26d";
}
.fa-500px:before {
  content: "\f26e";
}
.fa-amazon:before {
  content: "\f270";
}
.fa-calendar-plus-o:before {
  content: "\f271";
}
.fa-calendar-minus-o:before {
  content: "\f272";
}
.fa-calendar-times-o:before {
  content: "\f273";
}
.fa-calendar-check-o:before {
  content: "\f274";
}
.fa-industry:before {
  content: "\f275";
}
.fa-map-pin:before {
  content: "\f276";
}
.fa-map-signs:before {
  content: "\f277";
}
.fa-map-o:before {
  content: "\f278";
}
.fa-map:before {
  content: "\f279";
}
.fa-commenting:before {
  content: "\f27a";
}
.fa-commenting-o:before {
  content: "\f27b";
}
.fa-houzz:before {
  content: "\f27c";
}
.fa-vimeo:before {
  content: "\f27d";
}
.fa-black-tie:before {
  content: "\f27e";
}
.fa-fonticons:before {
  content: "\f280";
}
.fa-reddit-alien:before {
  content: "\f281";
}
.fa-edge:before {
  content: "\f282";
}
.fa-credit-card-alt:before {
  content: "\f283";
}
.fa-codiepie:before {
  content: "\f284";
}
.fa-modx:before {
  content: "\f285";
}
.fa-fort-awesome:before {
  content: "\f286";
}
.fa-usb:before {
  content: "\f287";
}
.fa-product-hunt:before {
  content: "\f288";
}
.fa-mixcloud:before {
  content: "\f289";
}
.fa-scribd:before {
  content: "\f28a";
}
.fa-pause-circle:before {
  content: "\f28b";
}
.fa-pause-circle-o:before {
  content: "\f28c";
}
.fa-stop-circle:before {
  content: "\f28d";
}
.fa-stop-circle-o:before {
  content: "\f28e";
}
.fa-shopping-bag:before {
  content: "\f290";
}
.fa-shopping-basket:before {
  content: "\f291";
}
.fa-hashtag:before {
  content: "\f292";
}
.fa-bluetooth:before {
  content: "\f293";
}
.fa-bluetooth-b:before {
  content: "\f294";
}
.fa-percent:before {
  content: "\f295";
}
.fa-gitlab:before {
  content: "\f296";
}
.fa-wpbeginner:before {
  content: "\f297";
}
.fa-wpforms:before {
  content: "\f298";
}
.fa-envira:before {
  content: "\f299";
}
.fa-universal-access:before {
  content: "\f29a";
}
.fa-wheelchair-alt:before {
  content: "\f29b";
}
.fa-question-circle-o:before {
  content: "\f29c";
}
.fa-blind:before {
  content: "\f29d";
}
.fa-audio-description:before {
  content: "\f29e";
}
.fa-volume-control-phone:before {
  content: "\f2a0";
}
.fa-braille:before {
  content: "\f2a1";
}
.fa-assistive-listening-systems:before {
  content: "\f2a2";
}
.fa-asl-interpreting:before,
.fa-american-sign-language-interpreting:before {
  content: "\f2a3";
}
.fa-deafness:before,
.fa-hard-of-hearing:before,
.fa-deaf:before {
  content: "\f2a4";
}
.fa-glide:before {
  content: "\f2a5";
}
.fa-glide-g:before {
  content: "\f2a6";
}
.fa-signing:before,
.fa-sign-language:before {
  content: "\f2a7";
}
.fa-low-vision:before {
  content: "\f2a8";
}
.fa-viadeo:before {
  content: "\f2a9";
}
.fa-viadeo-square:before {
  content: "\f2aa";
}
.fa-snapchat:before {
  content: "\f2ab";
}
.fa-snapchat-ghost:before {
  content: "\f2ac";
}
.fa-snapchat-square:before {
  content: "\f2ad";
}
.fa-pied-piper:before {
  content: "\f2ae";
}
.fa-first-order:before {
  content: "\f2b0";
}
.fa-yoast:before {
  content: "\f2b1";
}
.fa-themeisle:before {
  content: "\f2b2";
}
.fa-google-plus-circle:before,
.fa-google-plus-official:before {
  content: "\f2b3";
}
.fa-fa:before,
.fa-font-awesome:before {
  content: "\f2b4";
}
.fa-handshake-o:before {
  content: "\f2b5";
}
.fa-envelope-open:before {
  content: "\f2b6";
}
.fa-envelope-open-o:before {
  content: "\f2b7";
}
.fa-linode:before {
  content: "\f2b8";
}
.fa-address-book:before {
  content: "\f2b9";
}
.fa-address-book-o:before {
  content: "\f2ba";
}
.fa-vcard:before,
.fa-address-card:before {
  content: "\f2bb";
}
.fa-vcard-o:before,
.fa-address-card-o:before {
  content: "\f2bc";
}
.fa-user-circle:before {
  content: "\f2bd";
}
.fa-user-circle-o:before {
  content: "\f2be";
}
.fa-user-o:before {
  content: "\f2c0";
}
.fa-id-badge:before {
  content: "\f2c1";
}
.fa-drivers-license:before,
.fa-id-card:before {
  content: "\f2c2";
}
.fa-drivers-license-o:before,
.fa-id-card-o:before {
  content: "\f2c3";
}
.fa-quora:before {
  content: "\f2c4";
}
.fa-free-code-camp:before {
  content: "\f2c5";
}
.fa-telegram:before {
  content: "\f2c6";
}
.fa-thermometer-4:before,
.fa-thermometer:before,
.fa-thermometer-full:before {
  content: "\f2c7";
}
.fa-thermometer-3:before,
.fa-thermometer-three-quarters:before {
  content: "\f2c8";
}
.fa-thermometer-2:before,
.fa-thermometer-half:before {
  content: "\f2c9";
}
.fa-thermometer-1:before,
.fa-thermometer-quarter:before {
  content: "\f2ca";
}
.fa-thermometer-0:before,
.fa-thermometer-empty:before {
  content: "\f2cb";
}
.fa-shower:before {
  content: "\f2cc";
}
.fa-bathtub:before,
.fa-s15:before,
.fa-bath:before {
  content: "\f2cd";
}
.fa-podcast:before {
  content: "\f2ce";
}
.fa-window-maximize:before {
  content: "\f2d0";
}
.fa-window-minimize:before {
  content: "\f2d1";
}
.fa-window-restore:before {
  content: "\f2d2";
}
.fa-times-rectangle:before,
.fa-window-close:before {
  content: "\f2d3";
}
.fa-times-rectangle-o:before,
.fa-window-close-o:before {
  content: "\f2d4";
}
.fa-bandcamp:before {
  content: "\f2d5";
}
.fa-grav:before {
  content: "\f2d6";
}
.fa-etsy:before {
  content: "\f2d7";
}
.fa-imdb:before {
  content: "\f2d8";
}
.fa-ravelry:before {
  content: "\f2d9";
}
.fa-eercast:before {
  content: "\f2da";
}
.fa-microchip:before {
  content: "\f2db";
}
.fa-snowflake-o:before {
  content: "\f2dc";
}
.fa-superpowers:before {
  content: "\f2dd";
}
.fa-wpexplorer:before {
  content: "\f2de";
}
.fa-meetup:before {
  content: "\f2e0";
}
.sr-only {
  position: absolute;
  width: 1px;
  height: 1px;
  padding: 0;
  margin: -1px;
  overflow: hidden;
  clip: rect(0, 0, 0, 0);
  border: 0;
}
.sr-only-focusable:active,
.sr-only-focusable:focus {
  position: static;
  width: auto;
  height: auto;
  margin: 0;
  overflow: visible;
  clip: auto;
}
</style><style>/*-----------------------------------------------------------------------------
| Copyright (c) Jupyter Development Team.
| Copyright (c) 2014-2017, PhosphorJS Contributors
|
| Distributed under the terms of the BSD 3-Clause License.
|
| The full license is in the file LICENSE, distributed with this software.
|----------------------------------------------------------------------------*/


/* <DEPRECATED> */ .p-Widget, /* </DEPRECATED> */
.lm-Widget {
  box-sizing: border-box;
  position: relative;
  overflow: hidden;
  cursor: default;
}


/* <DEPRECATED> */ .p-Widget.p-mod-hidden, /* </DEPRECATED> */
.lm-Widget.lm-mod-hidden {
  display: none !important;
}
</style><style>/*-----------------------------------------------------------------------------
| Copyright (c) Jupyter Development Team.
| Copyright (c) 2014-2017, PhosphorJS Contributors
|
| Distributed under the terms of the BSD 3-Clause License.
|
| The full license is in the file LICENSE, distributed with this software.
|----------------------------------------------------------------------------*/


/* <DEPRECATED> */ .p-CommandPalette, /* </DEPRECATED> */
.lm-CommandPalette {
  display: flex;
  flex-direction: column;
  -webkit-user-select: none;
  -moz-user-select: none;
  -ms-user-select: none;
  user-select: none;
}


/* <DEPRECATED> */ .p-CommandPalette-search, /* </DEPRECATED> */
.lm-CommandPalette-search {
  flex: 0 0 auto;
}


/* <DEPRECATED> */ .p-CommandPalette-content, /* </DEPRECATED> */
.lm-CommandPalette-content {
  flex: 1 1 auto;
  margin: 0;
  padding: 0;
  min-height: 0;
  overflow: auto;
  list-style-type: none;
}


/* <DEPRECATED> */ .p-CommandPalette-header, /* </DEPRECATED> */
.lm-CommandPalette-header {
  overflow: hidden;
  white-space: nowrap;
  text-overflow: ellipsis;
}


/* <DEPRECATED> */ .p-CommandPalette-item, /* </DEPRECATED> */
.lm-CommandPalette-item {
  display: flex;
  flex-direction: row;
}


/* <DEPRECATED> */ .p-CommandPalette-itemIcon, /* </DEPRECATED> */
.lm-CommandPalette-itemIcon {
  flex: 0 0 auto;
}


/* <DEPRECATED> */ .p-CommandPalette-itemContent, /* </DEPRECATED> */
.lm-CommandPalette-itemContent {
  flex: 1 1 auto;
  overflow: hidden;
}


/* <DEPRECATED> */ .p-CommandPalette-itemShortcut, /* </DEPRECATED> */
.lm-CommandPalette-itemShortcut {
  flex: 0 0 auto;
}


/* <DEPRECATED> */ .p-CommandPalette-itemLabel, /* </DEPRECATED> */
.lm-CommandPalette-itemLabel {
  overflow: hidden;
  white-space: nowrap;
  text-overflow: ellipsis;
}

.lm-close-icon {
	border:1px solid transparent;
  background-color: transparent;
  position: absolute;
	z-index:1;
	right:3%;
	top: 0;
	bottom: 0;
	margin: auto;
	padding: 7px 0;
	display: none;
	vertical-align: middle;
  outline: 0;
  cursor: pointer;
}
.lm-close-icon:after {
	content: "X";
	display: block;
	width: 15px;
	height: 15px;
	text-align: center;
	color:#000;
	font-weight: normal;
	font-size: 12px;
	cursor: pointer;
}
</style><style>/*-----------------------------------------------------------------------------
| Copyright (c) Jupyter Development Team.
| Copyright (c) 2014-2017, PhosphorJS Contributors
|
| Distributed under the terms of the BSD 3-Clause License.
|
| The full license is in the file LICENSE, distributed with this software.
|----------------------------------------------------------------------------*/


/* <DEPRECATED> */ .p-DockPanel, /* </DEPRECATED> */
.lm-DockPanel {
  z-index: 0;
}


/* <DEPRECATED> */ .p-DockPanel-widget, /* </DEPRECATED> */
.lm-DockPanel-widget {
  z-index: 0;
}


/* <DEPRECATED> */ .p-DockPanel-tabBar, /* </DEPRECATED> */
.lm-DockPanel-tabBar {
  z-index: 1;
}


/* <DEPRECATED> */ .p-DockPanel-handle, /* </DEPRECATED> */
.lm-DockPanel-handle {
  z-index: 2;
}


/* <DEPRECATED> */ .p-DockPanel-handle.p-mod-hidden, /* </DEPRECATED> */
.lm-DockPanel-handle.lm-mod-hidden {
  display: none !important;
}


/* <DEPRECATED> */ .p-DockPanel-handle:after, /* </DEPRECATED> */
.lm-DockPanel-handle:after {
  position: absolute;
  top: 0;
  left: 0;
  width: 100%;
  height: 100%;
  content: '';
}


/* <DEPRECATED> */
.p-DockPanel-handle[data-orientation='horizontal'],
/* </DEPRECATED> */
.lm-DockPanel-handle[data-orientation='horizontal'] {
  cursor: ew-resize;
}


/* <DEPRECATED> */
.p-DockPanel-handle[data-orientation='vertical'],
/* </DEPRECATED> */
.lm-DockPanel-handle[data-orientation='vertical'] {
  cursor: ns-resize;
}


/* <DEPRECATED> */
.p-DockPanel-handle[data-orientation='horizontal']:after,
/* </DEPRECATED> */
.lm-DockPanel-handle[data-orientation='horizontal']:after {
  left: 50%;
  min-width: 8px;
  transform: translateX(-50%);
}


/* <DEPRECATED> */
.p-DockPanel-handle[data-orientation='vertical']:after,
/* </DEPRECATED> */
.lm-DockPanel-handle[data-orientation='vertical']:after {
  top: 50%;
  min-height: 8px;
  transform: translateY(-50%);
}


/* <DEPRECATED> */ .p-DockPanel-overlay, /* </DEPRECATED> */
.lm-DockPanel-overlay {
  z-index: 3;
  box-sizing: border-box;
  pointer-events: none;
}


/* <DEPRECATED> */ .p-DockPanel-overlay.p-mod-hidden, /* </DEPRECATED> */
.lm-DockPanel-overlay.lm-mod-hidden {
  display: none !important;
}
</style><style>/*-----------------------------------------------------------------------------
| Copyright (c) Jupyter Development Team.
| Copyright (c) 2014-2017, PhosphorJS Contributors
|
| Distributed under the terms of the BSD 3-Clause License.
|
| The full license is in the file LICENSE, distributed with this software.
|----------------------------------------------------------------------------*/


/* <DEPRECATED> */ .p-Menu, /* </DEPRECATED> */
.lm-Menu {
  z-index: 10000;
  position: absolute;
  white-space: nowrap;
  overflow-x: hidden;
  overflow-y: auto;
  outline: none;
  -webkit-user-select: none;
  -moz-user-select: none;
  -ms-user-select: none;
  user-select: none;
}


/* <DEPRECATED> */ .p-Menu-content, /* </DEPRECATED> */
.lm-Menu-content {
  margin: 0;
  padding: 0;
  display: table;
  list-style-type: none;
}


/* <DEPRECATED> */ .p-Menu-item, /* </DEPRECATED> */
.lm-Menu-item {
  display: table-row;
}


/* <DEPRECATED> */
.p-Menu-item.p-mod-hidden,
.p-Menu-item.p-mod-collapsed,
/* </DEPRECATED> */
.lm-Menu-item.lm-mod-hidden,
.lm-Menu-item.lm-mod-collapsed {
  display: none !important;
}


/* <DEPRECATED> */
.p-Menu-itemIcon,
.p-Menu-itemSubmenuIcon,
/* </DEPRECATED> */
.lm-Menu-itemIcon,
.lm-Menu-itemSubmenuIcon {
  display: table-cell;
  text-align: center;
}


/* <DEPRECATED> */ .p-Menu-itemLabel, /* </DEPRECATED> */
.lm-Menu-itemLabel {
  display: table-cell;
  text-align: left;
}


/* <DEPRECATED> */ .p-Menu-itemShortcut, /* </DEPRECATED> */
.lm-Menu-itemShortcut {
  display: table-cell;
  text-align: right;
}
</style><style>/*-----------------------------------------------------------------------------
| Copyright (c) Jupyter Development Team.
| Copyright (c) 2014-2017, PhosphorJS Contributors
|
| Distributed under the terms of the BSD 3-Clause License.
|
| The full license is in the file LICENSE, distributed with this software.
|----------------------------------------------------------------------------*/


/* <DEPRECATED> */ .p-MenuBar, /* </DEPRECATED> */
.lm-MenuBar {
  outline: none;
  -webkit-user-select: none;
  -moz-user-select: none;
  -ms-user-select: none;
  user-select: none;
}


/* <DEPRECATED> */ .p-MenuBar-content, /* </DEPRECATED> */
.lm-MenuBar-content {
  margin: 0;
  padding: 0;
  display: flex;
  flex-direction: row;
  list-style-type: none;
}


/* <DEPRECATED> */ .p--MenuBar-item, /* </DEPRECATED> */
.lm-MenuBar-item {
  box-sizing: border-box;
}


/* <DEPRECATED> */
.p-MenuBar-itemIcon,
.p-MenuBar-itemLabel,
/* </DEPRECATED> */
.lm-MenuBar-itemIcon,
.lm-MenuBar-itemLabel {
  display: inline-block;
}
</style><style>/*-----------------------------------------------------------------------------
| Copyright (c) Jupyter Development Team.
| Copyright (c) 2014-2017, PhosphorJS Contributors
|
| Distributed under the terms of the BSD 3-Clause License.
|
| The full license is in the file LICENSE, distributed with this software.
|----------------------------------------------------------------------------*/


/* <DEPRECATED> */ .p-ScrollBar, /* </DEPRECATED> */
.lm-ScrollBar {
  display: flex;
  -webkit-user-select: none;
  -moz-user-select: none;
  -ms-user-select: none;
  user-select: none;
}


/* <DEPRECATED> */
.p-ScrollBar[data-orientation='horizontal'],
/* </DEPRECATED> */
.lm-ScrollBar[data-orientation='horizontal'] {
  flex-direction: row;
}


/* <DEPRECATED> */
.p-ScrollBar[data-orientation='vertical'],
/* </DEPRECATED> */
.lm-ScrollBar[data-orientation='vertical'] {
  flex-direction: column;
}


/* <DEPRECATED> */ .p-ScrollBar-button, /* </DEPRECATED> */
.lm-ScrollBar-button {
  box-sizing: border-box;
  flex: 0 0 auto;
}


/* <DEPRECATED> */ .p-ScrollBar-track, /* </DEPRECATED> */
.lm-ScrollBar-track {
  box-sizing: border-box;
  position: relative;
  overflow: hidden;
  flex: 1 1 auto;
}


/* <DEPRECATED> */ .p-ScrollBar-thumb, /* </DEPRECATED> */
.lm-ScrollBar-thumb {
  box-sizing: border-box;
  position: absolute;
}
</style><style>/*-----------------------------------------------------------------------------
| Copyright (c) Jupyter Development Team.
| Copyright (c) 2014-2017, PhosphorJS Contributors
|
| Distributed under the terms of the BSD 3-Clause License.
|
| The full license is in the file LICENSE, distributed with this software.
|----------------------------------------------------------------------------*/


/* <DEPRECATED> */ .p-SplitPanel-child, /* </DEPRECATED> */
.lm-SplitPanel-child {
  z-index: 0;
}


/* <DEPRECATED> */ .p-SplitPanel-handle, /* </DEPRECATED> */
.lm-SplitPanel-handle {
  z-index: 1;
}


/* <DEPRECATED> */ .p-SplitPanel-handle.p-mod-hidden, /* </DEPRECATED> */
.lm-SplitPanel-handle.lm-mod-hidden {
  display: none !important;
}


/* <DEPRECATED> */ .p-SplitPanel-handle:after, /* </DEPRECATED> */
.lm-SplitPanel-handle:after {
  position: absolute;
  top: 0;
  left: 0;
  width: 100%;
  height: 100%;
  content: '';
}


/* <DEPRECATED> */
.p-SplitPanel[data-orientation='horizontal'] > .p-SplitPanel-handle,
/* </DEPRECATED> */
.lm-SplitPanel[data-orientation='horizontal'] > .lm-SplitPanel-handle {
  cursor: ew-resize;
}


/* <DEPRECATED> */
.p-SplitPanel[data-orientation='vertical'] > .p-SplitPanel-handle,
/* </DEPRECATED> */
.lm-SplitPanel[data-orientation='vertical'] > .lm-SplitPanel-handle {
  cursor: ns-resize;
}


/* <DEPRECATED> */
.p-SplitPanel[data-orientation='horizontal'] > .p-SplitPanel-handle:after,
/* </DEPRECATED> */
.lm-SplitPanel[data-orientation='horizontal'] > .lm-SplitPanel-handle:after {
  left: 50%;
  min-width: 8px;
  transform: translateX(-50%);
}


/* <DEPRECATED> */
.p-SplitPanel[data-orientation='vertical'] > .p-SplitPanel-handle:after,
/* </DEPRECATED> */
.lm-SplitPanel[data-orientation='vertical'] > .lm-SplitPanel-handle:after {
  top: 50%;
  min-height: 8px;
  transform: translateY(-50%);
}
</style><style>/*-----------------------------------------------------------------------------
| Copyright (c) Jupyter Development Team.
| Copyright (c) 2014-2017, PhosphorJS Contributors
|
| Distributed under the terms of the BSD 3-Clause License.
|
| The full license is in the file LICENSE, distributed with this software.
|----------------------------------------------------------------------------*/


/* <DEPRECATED> */ .p-TabBar, /* </DEPRECATED> */
.lm-TabBar {
  display: flex;
  -webkit-user-select: none;
  -moz-user-select: none;
  -ms-user-select: none;
  user-select: none;
}


/* <DEPRECATED> */ .p-TabBar[data-orientation='horizontal'], /* </DEPRECATED> */
.lm-TabBar[data-orientation='horizontal'] {
  flex-direction: row;
}


/* <DEPRECATED> */ .p-TabBar[data-orientation='vertical'], /* </DEPRECATED> */
.lm-TabBar[data-orientation='vertical'] {
  flex-direction: column;
}


/* <DEPRECATED> */ .p-TabBar-content, /* </DEPRECATED> */
.lm-TabBar-content {
  margin: 0;
  padding: 0;
  display: flex;
  flex: 1 1 auto;
  list-style-type: none;
}


/* <DEPRECATED> */
.p-TabBar[data-orientation='horizontal'] > .p-TabBar-content,
/* </DEPRECATED> */
.lm-TabBar[data-orientation='horizontal'] > .lm-TabBar-content {
  flex-direction: row;
}


/* <DEPRECATED> */
.p-TabBar[data-orientation='vertical'] > .p-TabBar-content,
/* </DEPRECATED> */
.lm-TabBar[data-orientation='vertical'] > .lm-TabBar-content {
  flex-direction: column;
}


/* <DEPRECATED> */ .p-TabBar-tab, /* </DEPRECATED> */
.lm-TabBar-tab {
  display: flex;
  flex-direction: row;
  box-sizing: border-box;
  overflow: hidden;
}


/* <DEPRECATED> */
.p-TabBar-tabIcon,
.p-TabBar-tabCloseIcon,
/* </DEPRECATED> */
.lm-TabBar-tabIcon,
.lm-TabBar-tabCloseIcon {
  flex: 0 0 auto;
}


/* <DEPRECATED> */ .p-TabBar-tabLabel, /* </DEPRECATED> */
.lm-TabBar-tabLabel {
  flex: 1 1 auto;
  overflow: hidden;
  white-space: nowrap;
}


.lm-TabBar-tabInput {
  user-select: all;
  width: 100%;
  box-sizing : border-box;
}


/* <DEPRECATED> */ .p-TabBar-tab.p-mod-hidden, /* </DEPRECATED> */
.lm-TabBar-tab.lm-mod-hidden {
  display: none !important;
}


/* <DEPRECATED> */ .p-TabBar.p-mod-dragging .p-TabBar-tab, /* </DEPRECATED> */
.lm-TabBar.lm-mod-dragging .lm-TabBar-tab {
  position: relative;
}


/* <DEPRECATED> */
.p-TabBar.p-mod-dragging[data-orientation='horizontal'] .p-TabBar-tab,
/* </DEPRECATED> */
.lm-TabBar.lm-mod-dragging[data-orientation='horizontal'] .lm-TabBar-tab {
  left: 0;
  transition: left 150ms ease;
}


/* <DEPRECATED> */
.p-TabBar.p-mod-dragging[data-orientation='vertical'] .p-TabBar-tab,
/* </DEPRECATED> */
.lm-TabBar.lm-mod-dragging[data-orientation='vertical'] .lm-TabBar-tab {
  top: 0;
  transition: top 150ms ease;
}


/* <DEPRECATED> */
.p-TabBar.p-mod-dragging .p-TabBar-tab.p-mod-dragging,
/* </DEPRECATED> */
.lm-TabBar.lm-mod-dragging .lm-TabBar-tab.lm-mod-dragging {
  transition: none;
}
</style><style>/*-----------------------------------------------------------------------------
| Copyright (c) Jupyter Development Team.
| Copyright (c) 2014-2017, PhosphorJS Contributors
|
| Distributed under the terms of the BSD 3-Clause License.
|
| The full license is in the file LICENSE, distributed with this software.
|----------------------------------------------------------------------------*/


/* <DEPRECATED> */ .p-TabPanel-tabBar, /* </DEPRECATED> */
.lm-TabPanel-tabBar {
  z-index: 1;
}


/* <DEPRECATED> */ .p-TabPanel-stackedPanel, /* </DEPRECATED> */
.lm-TabPanel-stackedPanel {
  z-index: 0;
}
</style><style>/*-----------------------------------------------------------------------------
| Copyright (c) Jupyter Development Team.
| Copyright (c) 2014-2017, PhosphorJS Contributors
|
| Distributed under the terms of the BSD 3-Clause License.
|
| The full license is in the file LICENSE, distributed with this software.
|----------------------------------------------------------------------------*/
</style><style>/**
 * The material design colors are adapted from google-material-color v1.2.6
 * https://github.com/danlevan/google-material-color
 * https://github.com/danlevan/google-material-color/blob/f67ca5f4028b2f1b34862f64b0ca67323f91b088/dist/palette.var.css
 *
 * The license for the material design color CSS variables is as follows (see
 * https://github.com/danlevan/google-material-color/blob/f67ca5f4028b2f1b34862f64b0ca67323f91b088/LICENSE)
 *
 * The MIT License (MIT)
 *
 * Copyright (c) 2014 Dan Le Van
 *
 * Permission is hereby granted, free of charge, to any person obtaining a copy
 * of this software and associated documentation files (the "Software"), to deal
 * in the Software without restriction, including without limitation the rights
 * to use, copy, modify, merge, publish, distribute, sublicense, and/or sell
 * copies of the Software, and to permit persons to whom the Software is
 * furnished to do so, subject to the following conditions:
 *
 * The above copyright notice and this permission notice shall be included in
 * all copies or substantial portions of the Software.
 *
 * THE SOFTWARE IS PROVIDED "AS IS", WITHOUT WARRANTY OF ANY KIND, EXPRESS OR
 * IMPLIED, INCLUDING BUT NOT LIMITED TO THE WARRANTIES OF MERCHANTABILITY,
 * FITNESS FOR A PARTICULAR PURPOSE AND NONINFRINGEMENT. IN NO EVENT SHALL THE
 * AUTHORS OR COPYRIGHT HOLDERS BE LIABLE FOR ANY CLAIM, DAMAGES OR OTHER
 * LIABILITY, WHETHER IN AN ACTION OF CONTRACT, TORT OR OTHERWISE, ARISING FROM,
 * OUT OF OR IN CONNECTION WITH THE SOFTWARE OR THE USE OR OTHER DEALINGS IN THE
 * SOFTWARE.
 */
:root {
  --md-red-50: #FFEBEE;
  --md-red-100: #FFCDD2;
  --md-red-200: #EF9A9A;
  --md-red-300: #E57373;
  --md-red-400: #EF5350;
  --md-red-500: #F44336;
  --md-red-600: #E53935;
  --md-red-700: #D32F2F;
  --md-red-800: #C62828;
  --md-red-900: #B71C1C;
  --md-red-A100: #FF8A80;
  --md-red-A200: #FF5252;
  --md-red-A400: #FF1744;
  --md-red-A700: #D50000;

  --md-pink-50: #FCE4EC;
  --md-pink-100: #F8BBD0;
  --md-pink-200: #F48FB1;
  --md-pink-300: #F06292;
  --md-pink-400: #EC407A;
  --md-pink-500: #E91E63;
  --md-pink-600: #D81B60;
  --md-pink-700: #C2185B;
  --md-pink-800: #AD1457;
  --md-pink-900: #880E4F;
  --md-pink-A100: #FF80AB;
  --md-pink-A200: #FF4081;
  --md-pink-A400: #F50057;
  --md-pink-A700: #C51162;

  --md-purple-50: #F3E5F5;
  --md-purple-100: #E1BEE7;
  --md-purple-200: #CE93D8;
  --md-purple-300: #BA68C8;
  --md-purple-400: #AB47BC;
  --md-purple-500: #9C27B0;
  --md-purple-600: #8E24AA;
  --md-purple-700: #7B1FA2;
  --md-purple-800: #6A1B9A;
  --md-purple-900: #4A148C;
  --md-purple-A100: #EA80FC;
  --md-purple-A200: #E040FB;
  --md-purple-A400: #D500F9;
  --md-purple-A700: #AA00FF;

  --md-deep-purple-50: #EDE7F6;
  --md-deep-purple-100: #D1C4E9;
  --md-deep-purple-200: #B39DDB;
  --md-deep-purple-300: #9575CD;
  --md-deep-purple-400: #7E57C2;
  --md-deep-purple-500: #673AB7;
  --md-deep-purple-600: #5E35B1;
  --md-deep-purple-700: #512DA8;
  --md-deep-purple-800: #4527A0;
  --md-deep-purple-900: #311B92;
  --md-deep-purple-A100: #B388FF;
  --md-deep-purple-A200: #7C4DFF;
  --md-deep-purple-A400: #651FFF;
  --md-deep-purple-A700: #6200EA;

  --md-indigo-50: #E8EAF6;
  --md-indigo-100: #C5CAE9;
  --md-indigo-200: #9FA8DA;
  --md-indigo-300: #7986CB;
  --md-indigo-400: #5C6BC0;
  --md-indigo-500: #3F51B5;
  --md-indigo-600: #3949AB;
  --md-indigo-700: #303F9F;
  --md-indigo-800: #283593;
  --md-indigo-900: #1A237E;
  --md-indigo-A100: #8C9EFF;
  --md-indigo-A200: #536DFE;
  --md-indigo-A400: #3D5AFE;
  --md-indigo-A700: #304FFE;

  --md-blue-50: #E3F2FD;
  --md-blue-100: #BBDEFB;
  --md-blue-200: #90CAF9;
  --md-blue-300: #64B5F6;
  --md-blue-400: #42A5F5;
  --md-blue-500: #2196F3;
  --md-blue-600: #1E88E5;
  --md-blue-700: #1976D2;
  --md-blue-800: #1565C0;
  --md-blue-900: #0D47A1;
  --md-blue-A100: #82B1FF;
  --md-blue-A200: #448AFF;
  --md-blue-A400: #2979FF;
  --md-blue-A700: #2962FF;

  --md-light-blue-50: #E1F5FE;
  --md-light-blue-100: #B3E5FC;
  --md-light-blue-200: #81D4FA;
  --md-light-blue-300: #4FC3F7;
  --md-light-blue-400: #29B6F6;
  --md-light-blue-500: #03A9F4;
  --md-light-blue-600: #039BE5;
  --md-light-blue-700: #0288D1;
  --md-light-blue-800: #0277BD;
  --md-light-blue-900: #01579B;
  --md-light-blue-A100: #80D8FF;
  --md-light-blue-A200: #40C4FF;
  --md-light-blue-A400: #00B0FF;
  --md-light-blue-A700: #0091EA;

  --md-cyan-50: #E0F7FA;
  --md-cyan-100: #B2EBF2;
  --md-cyan-200: #80DEEA;
  --md-cyan-300: #4DD0E1;
  --md-cyan-400: #26C6DA;
  --md-cyan-500: #00BCD4;
  --md-cyan-600: #00ACC1;
  --md-cyan-700: #0097A7;
  --md-cyan-800: #00838F;
  --md-cyan-900: #006064;
  --md-cyan-A100: #84FFFF;
  --md-cyan-A200: #18FFFF;
  --md-cyan-A400: #00E5FF;
  --md-cyan-A700: #00B8D4;

  --md-teal-50: #E0F2F1;
  --md-teal-100: #B2DFDB;
  --md-teal-200: #80CBC4;
  --md-teal-300: #4DB6AC;
  --md-teal-400: #26A69A;
  --md-teal-500: #009688;
  --md-teal-600: #00897B;
  --md-teal-700: #00796B;
  --md-teal-800: #00695C;
  --md-teal-900: #004D40;
  --md-teal-A100: #A7FFEB;
  --md-teal-A200: #64FFDA;
  --md-teal-A400: #1DE9B6;
  --md-teal-A700: #00BFA5;

  --md-green-50: #E8F5E9;
  --md-green-100: #C8E6C9;
  --md-green-200: #A5D6A7;
  --md-green-300: #81C784;
  --md-green-400: #66BB6A;
  --md-green-500: #4CAF50;
  --md-green-600: #43A047;
  --md-green-700: #388E3C;
  --md-green-800: #2E7D32;
  --md-green-900: #1B5E20;
  --md-green-A100: #B9F6CA;
  --md-green-A200: #69F0AE;
  --md-green-A400: #00E676;
  --md-green-A700: #00C853;

  --md-light-green-50: #F1F8E9;
  --md-light-green-100: #DCEDC8;
  --md-light-green-200: #C5E1A5;
  --md-light-green-300: #AED581;
  --md-light-green-400: #9CCC65;
  --md-light-green-500: #8BC34A;
  --md-light-green-600: #7CB342;
  --md-light-green-700: #689F38;
  --md-light-green-800: #558B2F;
  --md-light-green-900: #33691E;
  --md-light-green-A100: #CCFF90;
  --md-light-green-A200: #B2FF59;
  --md-light-green-A400: #76FF03;
  --md-light-green-A700: #64DD17;

  --md-lime-50: #F9FBE7;
  --md-lime-100: #F0F4C3;
  --md-lime-200: #E6EE9C;
  --md-lime-300: #DCE775;
  --md-lime-400: #D4E157;
  --md-lime-500: #CDDC39;
  --md-lime-600: #C0CA33;
  --md-lime-700: #AFB42B;
  --md-lime-800: #9E9D24;
  --md-lime-900: #827717;
  --md-lime-A100: #F4FF81;
  --md-lime-A200: #EEFF41;
  --md-lime-A400: #C6FF00;
  --md-lime-A700: #AEEA00;

  --md-yellow-50: #FFFDE7;
  --md-yellow-100: #FFF9C4;
  --md-yellow-200: #FFF59D;
  --md-yellow-300: #FFF176;
  --md-yellow-400: #FFEE58;
  --md-yellow-500: #FFEB3B;
  --md-yellow-600: #FDD835;
  --md-yellow-700: #FBC02D;
  --md-yellow-800: #F9A825;
  --md-yellow-900: #F57F17;
  --md-yellow-A100: #FFFF8D;
  --md-yellow-A200: #FFFF00;
  --md-yellow-A400: #FFEA00;
  --md-yellow-A700: #FFD600;

  --md-amber-50: #FFF8E1;
  --md-amber-100: #FFECB3;
  --md-amber-200: #FFE082;
  --md-amber-300: #FFD54F;
  --md-amber-400: #FFCA28;
  --md-amber-500: #FFC107;
  --md-amber-600: #FFB300;
  --md-amber-700: #FFA000;
  --md-amber-800: #FF8F00;
  --md-amber-900: #FF6F00;
  --md-amber-A100: #FFE57F;
  --md-amber-A200: #FFD740;
  --md-amber-A400: #FFC400;
  --md-amber-A700: #FFAB00;

  --md-orange-50: #FFF3E0;
  --md-orange-100: #FFE0B2;
  --md-orange-200: #FFCC80;
  --md-orange-300: #FFB74D;
  --md-orange-400: #FFA726;
  --md-orange-500: #FF9800;
  --md-orange-600: #FB8C00;
  --md-orange-700: #F57C00;
  --md-orange-800: #EF6C00;
  --md-orange-900: #E65100;
  --md-orange-A100: #FFD180;
  --md-orange-A200: #FFAB40;
  --md-orange-A400: #FF9100;
  --md-orange-A700: #FF6D00;

  --md-deep-orange-50: #FBE9E7;
  --md-deep-orange-100: #FFCCBC;
  --md-deep-orange-200: #FFAB91;
  --md-deep-orange-300: #FF8A65;
  --md-deep-orange-400: #FF7043;
  --md-deep-orange-500: #FF5722;
  --md-deep-orange-600: #F4511E;
  --md-deep-orange-700: #E64A19;
  --md-deep-orange-800: #D84315;
  --md-deep-orange-900: #BF360C;
  --md-deep-orange-A100: #FF9E80;
  --md-deep-orange-A200: #FF6E40;
  --md-deep-orange-A400: #FF3D00;
  --md-deep-orange-A700: #DD2C00;

  --md-brown-50: #EFEBE9;
  --md-brown-100: #D7CCC8;
  --md-brown-200: #BCAAA4;
  --md-brown-300: #A1887F;
  --md-brown-400: #8D6E63;
  --md-brown-500: #795548;
  --md-brown-600: #6D4C41;
  --md-brown-700: #5D4037;
  --md-brown-800: #4E342E;
  --md-brown-900: #3E2723;

  --md-grey-50: #FAFAFA;
  --md-grey-100: #F5F5F5;
  --md-grey-200: #EEEEEE;
  --md-grey-300: #E0E0E0;
  --md-grey-400: #BDBDBD;
  --md-grey-500: #9E9E9E;
  --md-grey-600: #757575;
  --md-grey-700: #616161;
  --md-grey-800: #424242;
  --md-grey-900: #212121;

  --md-blue-grey-50: #ECEFF1;
  --md-blue-grey-100: #CFD8DC;
  --md-blue-grey-200: #B0BEC5;
  --md-blue-grey-300: #90A4AE;
  --md-blue-grey-400: #78909C;
  --md-blue-grey-500: #607D8B;
  --md-blue-grey-600: #546E7A;
  --md-blue-grey-700: #455A64;
  --md-blue-grey-800: #37474F;
  --md-blue-grey-900: #263238;
}</style><style>/*-----------------------------------------------------------------------------
| Copyright (c) Jupyter Development Team.
| Distributed under the terms of the Modified BSD License.
|----------------------------------------------------------------------------*/

/*
This file is copied from the JupyterLab project to define default styling for
when the widget styling is compiled down to eliminate CSS variables. We make one
change - we comment out the font import below.
*/

/*
The following CSS variables define the main, public API for styling JupyterLab.
These variables should be used by all plugins wherever possible. In other
words, plugins should not define custom colors, sizes, etc unless absolutely
necessary. This enables users to change the visual theme of JupyterLab
by changing these variables.

Many variables appear in an ordered sequence (0,1,2,3). These sequences
are designed to work well together, so for example, `--jp-border-color1` should
be used with `--jp-layout-color1`. The numbers have the following meanings:

* 0: super-primary, reserved for special emphasis
* 1: primary, most important under normal situations
* 2: secondary, next most important under normal situations
* 3: tertiary, next most important under normal situations

Throughout JupyterLab, we are mostly following principles from Google's
Material Design when selecting colors. We are not, however, following
all of MD as it is not optimized for dense, information rich UIs.
*/


/*
 * Optional monospace font for input/output prompt.
 */
 /* Commented out in ipywidgets since we don't need it. */
/* @import url('https://fonts.googleapis.com/css?family=Roboto+Mono'); */

/*
 * Added for compabitility with output area
 */
:root {
  --jp-icon-search: none;
  --jp-ui-select-caret: none;
}


:root {

  /* Borders

  The following variables, specify the visual styling of borders in JupyterLab.
   */

  --jp-border-width: 1px;
  --jp-border-color0: var(--md-grey-700);
  --jp-border-color1: var(--md-grey-500);
  --jp-border-color2: var(--md-grey-300);
  --jp-border-color3: var(--md-grey-100);

  /* UI Fonts

  The UI font CSS variables are used for the typography all of the JupyterLab
  user interface elements that are not directly user generated content.
  */

  --jp-ui-font-scale-factor: 1.2;
  --jp-ui-font-size0: calc(var(--jp-ui-font-size1)/var(--jp-ui-font-scale-factor));
  --jp-ui-font-size1: 13px; /* Base font size */
  --jp-ui-font-size2: calc(var(--jp-ui-font-size1)*var(--jp-ui-font-scale-factor));
  --jp-ui-font-size3: calc(var(--jp-ui-font-size2)*var(--jp-ui-font-scale-factor));
  --jp-ui-icon-font-size: 14px; /* Ensures px perfect FontAwesome icons */
  --jp-ui-font-family: "Helvetica Neue", Helvetica, Arial, sans-serif;

  /* Use these font colors against the corresponding main layout colors.
     In a light theme, these go from dark to light.
  */

  --jp-ui-font-color0: rgba(0,0,0,1.0);
  --jp-ui-font-color1: rgba(0,0,0,0.8);
  --jp-ui-font-color2: rgba(0,0,0,0.5);
  --jp-ui-font-color3: rgba(0,0,0,0.3);

  /* Use these against the brand/accent/warn/error colors.
     These will typically go from light to darker, in both a dark and light theme
   */

  --jp-ui-inverse-font-color0: rgba(255, 255, 255, 1);
  --jp-ui-inverse-font-color1: rgba(255, 255, 255, 1);
  --jp-ui-inverse-font-color2: rgba(255, 255, 255, 0.7);
  --jp-ui-inverse-font-color3: rgba(255, 255, 255, 0.5);

  /* For backwards compatibility, we still define these below until ipywidgets 8.0.
  See https://github.com/jupyter-widgets/ipywidgets/pull/2801 */
  --jp-inverse-ui-font-color0: rgba(255,255,255,1);
  --jp-inverse-ui-font-color1: rgba(255,255,255,1.0);
  --jp-inverse-ui-font-color2: rgba(255,255,255,0.7);
  --jp-inverse-ui-font-color3: rgba(255,255,255,0.5);

  /* Content Fonts

  Content font variables are used for typography of user generated content.
  */

  --jp-content-font-size: 13px;
  --jp-content-line-height: 1.5;
  --jp-content-font-color0: black;
  --jp-content-font-color1: black;
  --jp-content-font-color2: var(--md-grey-700);
  --jp-content-font-color3: var(--md-grey-500);

  --jp-ui-font-scale-factor: 1.2;
  --jp-ui-font-size0: calc(var(--jp-ui-font-size1)/var(--jp-ui-font-scale-factor));
  --jp-ui-font-size1: 13px; /* Base font size */
  --jp-ui-font-size2: calc(var(--jp-ui-font-size1)*var(--jp-ui-font-scale-factor));
  --jp-ui-font-size3: calc(var(--jp-ui-font-size2)*var(--jp-ui-font-scale-factor));

  --jp-code-font-size: 13px;
  --jp-code-line-height: 1.307;
  --jp-code-padding: 5px;
  --jp-code-font-family: monospace;


  /* Layout

  The following are the main layout colors use in JupyterLab. In a light
  theme these would go from light to dark.
  */

  --jp-layout-color0: white;
  --jp-layout-color1: white;
  --jp-layout-color2: var(--md-grey-200);
  --jp-layout-color3: var(--md-grey-400);

  /* Brand/accent */

  --jp-brand-color0: var(--md-blue-700);
  --jp-brand-color1: var(--md-blue-500);
  --jp-brand-color2: var(--md-blue-300);
  --jp-brand-color3: var(--md-blue-100);

  --jp-accent-color0: var(--md-green-700);
  --jp-accent-color1: var(--md-green-500);
  --jp-accent-color2: var(--md-green-300);
  --jp-accent-color3: var(--md-green-100);

  /* State colors (warn, error, success, info) */

  --jp-warn-color0: var(--md-orange-700);
  --jp-warn-color1: var(--md-orange-500);
  --jp-warn-color2: var(--md-orange-300);
  --jp-warn-color3: var(--md-orange-100);

  --jp-error-color0: var(--md-red-700);
  --jp-error-color1: var(--md-red-500);
  --jp-error-color2: var(--md-red-300);
  --jp-error-color3: var(--md-red-100);

  --jp-success-color0: var(--md-green-700);
  --jp-success-color1: var(--md-green-500);
  --jp-success-color2: var(--md-green-300);
  --jp-success-color3: var(--md-green-100);

  --jp-info-color0: var(--md-cyan-700);
  --jp-info-color1: var(--md-cyan-500);
  --jp-info-color2: var(--md-cyan-300);
  --jp-info-color3: var(--md-cyan-100);

  /* Cell specific styles */

  --jp-cell-padding: 5px;
  --jp-cell-editor-background: #f7f7f7;
  --jp-cell-editor-border-color: #cfcfcf;
  --jp-cell-editor-background-edit: var(--jp-ui-layout-color1);
  --jp-cell-editor-border-color-edit: var(--jp-brand-color1);
  --jp-cell-prompt-width: 100px;
  --jp-cell-prompt-font-family: 'Roboto Mono', monospace;
  --jp-cell-prompt-letter-spacing: 0px;
  --jp-cell-prompt-opacity: 1.0;
  --jp-cell-prompt-opacity-not-active: 0.4;
  --jp-cell-prompt-font-color-not-active: var(--md-grey-700);
  /* A custom blend of MD grey and blue 600
   * See https://meyerweb.com/eric/tools/color-blend/#546E7A:1E88E5:5:hex */
  --jp-cell-inprompt-font-color: #307FC1;
  /* A custom blend of MD grey and orange 600
   * https://meyerweb.com/eric/tools/color-blend/#546E7A:F4511E:5:hex */
  --jp-cell-outprompt-font-color: #BF5B3D;

  /* Notebook specific styles */

  --jp-notebook-padding: 10px;
  --jp-notebook-scroll-padding: 100px;

  /* Console specific styles */

  --jp-console-background: var(--md-grey-100);

  /* Toolbar specific styles */

  --jp-toolbar-border-color: var(--md-grey-400);
  --jp-toolbar-micro-height: 8px;
  --jp-toolbar-background: var(--jp-layout-color0);
  --jp-toolbar-box-shadow: 0px 0px 2px 0px rgba(0,0,0,0.24);
  --jp-toolbar-header-margin: 4px 4px 0px 4px;
  --jp-toolbar-active-background: var(--md-grey-300);
}
</style><style>/* This file has code derived from PhosphorJS CSS files, as noted below. The license for this PhosphorJS code is:

Copyright (c) 2014-2017, PhosphorJS Contributors
All rights reserved.

Redistribution and use in source and binary forms, with or without
modification, are permitted provided that the following conditions are met:

* Redistributions of source code must retain the above copyright notice, this
  list of conditions and the following disclaimer.

* Redistributions in binary form must reproduce the above copyright notice,
  this list of conditions and the following disclaimer in the documentation
  and/or other materials provided with the distribution.

* Neither the name of the copyright holder nor the names of its
  contributors may be used to endorse or promote products derived from
  this software without specific prior written permission.

THIS SOFTWARE IS PROVIDED BY THE COPYRIGHT HOLDERS AND CONTRIBUTORS "AS IS"
AND ANY EXPRESS OR IMPLIED WARRANTIES, INCLUDING, BUT NOT LIMITED TO, THE
IMPLIED WARRANTIES OF MERCHANTABILITY AND FITNESS FOR A PARTICULAR PURPOSE ARE
DISCLAIMED. IN NO EVENT SHALL THE COPYRIGHT HOLDER OR CONTRIBUTORS BE LIABLE
FOR ANY DIRECT, INDIRECT, INCIDENTAL, SPECIAL, EXEMPLARY, OR CONSEQUENTIAL
DAMAGES (INCLUDING, BUT NOT LIMITED TO, PROCUREMENT OF SUBSTITUTE GOODS OR
SERVICES; LOSS OF USE, DATA, OR PROFITS; OR BUSINESS INTERRUPTION) HOWEVER
CAUSED AND ON ANY THEORY OF LIABILITY, WHETHER IN CONTRACT, STRICT LIABILITY,
OR TORT (INCLUDING NEGLIGENCE OR OTHERWISE) ARISING IN ANY WAY OUT OF THE USE
OF THIS SOFTWARE, EVEN IF ADVISED OF THE POSSIBILITY OF SUCH DAMAGE.

*/

/*
 * The following section is derived from https://github.com/phosphorjs/phosphor/blob/23b9d075ebc5b73ab148b6ebfc20af97f85714c4/packages/widgets/style/tabbar.css 
 * We've scoped the rules so that they are consistent with exactly our code.
 */

.jupyter-widgets.widget-tab > .p-TabBar {
  display: flex;
  -webkit-user-select: none;
  -moz-user-select: none;
  -ms-user-select: none;
  user-select: none;
}


.jupyter-widgets.widget-tab > .p-TabBar[data-orientation='horizontal'] {
  flex-direction: row;
}


.jupyter-widgets.widget-tab > .p-TabBar[data-orientation='vertical'] {
  flex-direction: column;
}


.jupyter-widgets.widget-tab > .p-TabBar > .p-TabBar-content {
  margin: 0;
  padding: 0;
  display: flex;
  flex: 1 1 auto;
  list-style-type: none;
}


.jupyter-widgets.widget-tab > .p-TabBar[data-orientation='horizontal'] > .p-TabBar-content {
  flex-direction: row;
}


.jupyter-widgets.widget-tab > .p-TabBar[data-orientation='vertical'] > .p-TabBar-content {
  flex-direction: column;
}


.jupyter-widgets.widget-tab > .p-TabBar .p-TabBar-tab {
  display: flex;
  flex-direction: row;
  box-sizing: border-box;
  overflow: hidden;
}


.jupyter-widgets.widget-tab > .p-TabBar .p-TabBar-tabIcon,
.jupyter-widgets.widget-tab > .p-TabBar .p-TabBar-tabCloseIcon {
  flex: 0 0 auto;
}


.jupyter-widgets.widget-tab > .p-TabBar .p-TabBar-tabLabel {
  flex: 1 1 auto;
  overflow: hidden;
  white-space: nowrap;
}


.jupyter-widgets.widget-tab > .p-TabBar .p-TabBar-tab.p-mod-hidden {
  display: none !important;
}


.jupyter-widgets.widget-tab > .p-TabBar.p-mod-dragging .p-TabBar-tab {
  position: relative;
}


.jupyter-widgets.widget-tab > .p-TabBar.p-mod-dragging[data-orientation='horizontal'] .p-TabBar-tab {
  left: 0;
  transition: left 150ms ease;
}


.jupyter-widgets.widget-tab > .p-TabBar.p-mod-dragging[data-orientation='vertical'] .p-TabBar-tab {
  top: 0;
  transition: top 150ms ease;
}


.jupyter-widgets.widget-tab > .p-TabBar.p-mod-dragging .p-TabBar-tab.p-mod-dragging {
  transition: none;
}

/* End tabbar.css */
</style><style>/* Copyright (c) Jupyter Development Team.
 * Distributed under the terms of the Modified BSD License.
 */

/*
 * We assume that the CSS variables in
 * https://github.com/jupyterlab/jupyterlab/blob/master/src/default-theme/variables.css
 * have been defined.
 */

:root {
    --jp-widgets-color: var(--jp-content-font-color1);
    --jp-widgets-label-color: var(--jp-widgets-color);
    --jp-widgets-readout-color: var(--jp-widgets-color);
    --jp-widgets-font-size: var(--jp-ui-font-size1);
    --jp-widgets-margin: 2px;
    --jp-widgets-inline-height: 28px;
    --jp-widgets-inline-width: 300px;
    --jp-widgets-inline-width-short: calc(var(--jp-widgets-inline-width) / 2 - var(--jp-widgets-margin));
    --jp-widgets-inline-width-tiny: calc(var(--jp-widgets-inline-width-short) / 2 - var(--jp-widgets-margin));
    --jp-widgets-inline-margin: 4px; /* margin between inline elements */
    --jp-widgets-inline-label-width: 80px;
    --jp-widgets-border-width: var(--jp-border-width);
    --jp-widgets-vertical-height: 200px;
    --jp-widgets-horizontal-tab-height: 24px;
    --jp-widgets-horizontal-tab-width: 144px;
    --jp-widgets-horizontal-tab-top-border: 2px;
    --jp-widgets-progress-thickness: 20px;
    --jp-widgets-container-padding: 15px;
    --jp-widgets-input-padding: 4px;
    --jp-widgets-radio-item-height-adjustment: 8px;
    --jp-widgets-radio-item-height: calc(var(--jp-widgets-inline-height) - var(--jp-widgets-radio-item-height-adjustment));
    --jp-widgets-slider-track-thickness: 4px;
    --jp-widgets-slider-border-width: var(--jp-widgets-border-width);
    --jp-widgets-slider-handle-size: 16px;
    --jp-widgets-slider-handle-border-color: var(--jp-border-color1);
    --jp-widgets-slider-handle-background-color: var(--jp-layout-color1);
    --jp-widgets-slider-active-handle-color: var(--jp-brand-color1);
    --jp-widgets-menu-item-height: 24px;
    --jp-widgets-dropdown-arrow: url("data:image/svg+xml;base64,PD94bWwgdmVyc2lvbj0iMS4wIiBlbmNvZGluZz0idXRmLTgiPz4KPCEtLSBHZW5lcmF0b3I6IEFkb2JlIElsbHVzdHJhdG9yIDE5LjIuMSwgU1ZHIEV4cG9ydCBQbHVnLUluIC4gU1ZHIFZlcnNpb246IDYuMDAgQnVpbGQgMCkgIC0tPgo8c3ZnIHZlcnNpb249IjEuMSIgaWQ9IkxheWVyXzEiIHhtbG5zPSJodHRwOi8vd3d3LnczLm9yZy8yMDAwL3N2ZyIgeG1sbnM6eGxpbms9Imh0dHA6Ly93d3cudzMub3JnLzE5OTkveGxpbmsiIHg9IjBweCIgeT0iMHB4IgoJIHZpZXdCb3g9IjAgMCAxOCAxOCIgc3R5bGU9ImVuYWJsZS1iYWNrZ3JvdW5kOm5ldyAwIDAgMTggMTg7IiB4bWw6c3BhY2U9InByZXNlcnZlIj4KPHN0eWxlIHR5cGU9InRleHQvY3NzIj4KCS5zdDB7ZmlsbDpub25lO30KPC9zdHlsZT4KPHBhdGggZD0iTTUuMiw1LjlMOSw5LjdsMy44LTMuOGwxLjIsMS4ybC00LjksNWwtNC45LTVMNS4yLDUuOXoiLz4KPHBhdGggY2xhc3M9InN0MCIgZD0iTTAtMC42aDE4djE4SDBWLTAuNnoiLz4KPC9zdmc+Cg");
    --jp-widgets-input-color: var(--jp-ui-font-color1);
    --jp-widgets-input-background-color: var(--jp-layout-color1);
    --jp-widgets-input-border-color: var(--jp-border-color1);
    --jp-widgets-input-focus-border-color: var(--jp-brand-color2);
    --jp-widgets-input-border-width: var(--jp-widgets-border-width);
    --jp-widgets-disabled-opacity: 0.6;

    /* From Material Design Lite */
    --md-shadow-key-umbra-opacity: 0.2;
    --md-shadow-key-penumbra-opacity: 0.14;
    --md-shadow-ambient-shadow-opacity: 0.12;
}

.jupyter-widgets {
    margin: var(--jp-widgets-margin);
    box-sizing: border-box;
    color: var(--jp-widgets-color);
    overflow: visible;
}

.jupyter-widgets.jupyter-widgets-disconnected::before {
    line-height: var(--jp-widgets-inline-height);
    height: var(--jp-widgets-inline-height);
}

.jp-Output-result > .jupyter-widgets {
    margin-left: 0;
    margin-right: 0;
}

/* vbox and hbox */

.widget-inline-hbox {
    /* Horizontal widgets */
    box-sizing: border-box;
    display: flex;
    flex-direction: row;
    align-items: baseline;
}

.widget-inline-vbox {
    /* Vertical Widgets */
    box-sizing: border-box;
    display: flex;
    flex-direction: column;
    align-items: center;
}

.widget-box {
    box-sizing: border-box;
    display: flex;
    margin: 0;
    overflow: auto;
}

.widget-gridbox {
    box-sizing: border-box;
    display: grid;
    margin: 0;
    overflow: auto;
}

.widget-hbox {
    flex-direction: row;
}

.widget-vbox {
    flex-direction: column;
}

/* General Button Styling */

.jupyter-button {
    padding-left: 10px;
    padding-right: 10px;
    padding-top: 0px;
    padding-bottom: 0px;
    display: inline-block;
    white-space: nowrap;
    overflow: hidden;
    text-overflow: ellipsis;
    text-align: center;
    font-size: var(--jp-widgets-font-size);
    cursor: pointer;

    height: var(--jp-widgets-inline-height);
    border: 0px solid;
    line-height: var(--jp-widgets-inline-height);
    box-shadow: none;

    color: var(--jp-ui-font-color1);
    background-color: var(--jp-layout-color2);
    border-color: var(--jp-border-color2);
    border: none;
    user-select: none;
}

.jupyter-button i.fa {
    margin-right: var(--jp-widgets-inline-margin);
    pointer-events: none;
}

.jupyter-button:empty:before {
    content: "\200b"; /* zero-width space */
}

.jupyter-widgets.jupyter-button:disabled {
    opacity: var(--jp-widgets-disabled-opacity);
}

.jupyter-button i.fa.center {
    margin-right: 0;
}

.jupyter-button:hover:enabled, .jupyter-button:focus:enabled {
    /* MD Lite 2dp shadow */
    box-shadow: 0 2px 2px 0 rgba(0, 0, 0, var(--md-shadow-key-penumbra-opacity)),
                0 3px 1px -2px rgba(0, 0, 0, var(--md-shadow-key-umbra-opacity)),
                0 1px 5px 0 rgba(0, 0, 0, var(--md-shadow-ambient-shadow-opacity));
}

.jupyter-button:active, .jupyter-button.mod-active {
    /* MD Lite 4dp shadow */
    box-shadow: 0 4px 5px 0 rgba(0, 0, 0, var(--md-shadow-key-penumbra-opacity)),
                0 1px 10px 0 rgba(0, 0, 0, var(--md-shadow-ambient-shadow-opacity)),
                0 2px 4px -1px rgba(0, 0, 0, var(--md-shadow-key-umbra-opacity));
    color: var(--jp-ui-font-color1);
    background-color: var(--jp-layout-color3);
}

.jupyter-button:focus:enabled {
    outline: 1px solid var(--jp-widgets-input-focus-border-color);
}

/* Button "Primary" Styling */

.jupyter-button.mod-primary {
    color: var(--jp-ui-inverse-font-color1, var(--jp-inverse-ui-font-color1));
    background-color: var(--jp-brand-color1);
}

.jupyter-button.mod-primary.mod-active {
    color: var(--jp-ui-inverse-font-color0, var(--jp-inverse-ui-font-color0));
    background-color: var(--jp-brand-color0);
}

.jupyter-button.mod-primary:active {
    color: var(--jp-ui-inverse-font-color0, var(--jp-inverse-ui-font-color0));
    background-color: var(--jp-brand-color0);
}

/* Button "Success" Styling */

.jupyter-button.mod-success {
    color: var(--jp-ui-inverse-font-color1, var(--jp-inverse-ui-font-color1));
    background-color: var(--jp-success-color1);
}

.jupyter-button.mod-success.mod-active {
    color: var(--jp-ui-inverse-font-color0, var(--jp-inverse-ui-font-color0));
    background-color: var(--jp-success-color0);
}

.jupyter-button.mod-success:active {
    color: var(--jp-ui-inverse-font-color0, var(--jp-inverse-ui-font-color0));
    background-color: var(--jp-success-color0);
}

 /* Button "Info" Styling */

.jupyter-button.mod-info {
    color: var(--jp-ui-inverse-font-color1, var(--jp-inverse-ui-font-color1));
    background-color: var(--jp-info-color1);
}

.jupyter-button.mod-info.mod-active {
    color: var(--jp-ui-inverse-font-color0, var(--jp-inverse-ui-font-color0));
    background-color: var(--jp-info-color0);
}

.jupyter-button.mod-info:active {
    color: var(--jp-ui-inverse-font-color0, var(--jp-inverse-ui-font-color0));
    background-color: var(--jp-info-color0);
}

/* Button "Warning" Styling */

.jupyter-button.mod-warning {
    color: var(--jp-ui-inverse-font-color1, var(--jp-inverse-ui-font-color1));
    background-color: var(--jp-warn-color1);
}

.jupyter-button.mod-warning.mod-active {
    color: var(--jp-ui-inverse-font-color0, var(--jp-inverse-ui-font-color0));
    background-color: var(--jp-warn-color0);
}

.jupyter-button.mod-warning:active {
    color: var(--jp-ui-inverse-font-color0, var(--jp-inverse-ui-font-color0));
    background-color: var(--jp-warn-color0);
}

/* Button "Danger" Styling */

.jupyter-button.mod-danger {
    color: var(--jp-ui-inverse-font-color1, var(--jp-inverse-ui-font-color1));
    background-color: var(--jp-error-color1);
}

.jupyter-button.mod-danger.mod-active {
    color: var(--jp-ui-inverse-font-color0, var(--jp-inverse-ui-font-color0));
    background-color: var(--jp-error-color0);
}

.jupyter-button.mod-danger:active {
    color: var(--jp-ui-inverse-font-color0, var(--jp-inverse-ui-font-color0));
    background-color: var(--jp-error-color0);
}

/* Widget Button, Widget Toggle Button, Widget Upload */

.widget-button, .widget-toggle-button, .widget-upload {
    width: var(--jp-widgets-inline-width-short);
}

/* Widget Label Styling */

/* Override Bootstrap label css */
.jupyter-widgets label {
    margin-bottom: initial;
}

.widget-label-basic {
    /* Basic Label */
    color: var(--jp-widgets-label-color);
    font-size: var(--jp-widgets-font-size);
    overflow: hidden;
    text-overflow: ellipsis;
    white-space: nowrap;
    line-height: var(--jp-widgets-inline-height);
}

.widget-label {
    /* Label */
    color: var(--jp-widgets-label-color);
    font-size: var(--jp-widgets-font-size);
    overflow: hidden;
    text-overflow: ellipsis;
    white-space: nowrap;
    line-height: var(--jp-widgets-inline-height);
}

.widget-inline-hbox .widget-label {
    /* Horizontal Widget Label */
    color: var(--jp-widgets-label-color);
    text-align: right;
    margin-right: calc( var(--jp-widgets-inline-margin) * 2 );
    width: var(--jp-widgets-inline-label-width);
    flex-shrink: 0;
}

.widget-inline-vbox .widget-label {
    /* Vertical Widget Label */
    color: var(--jp-widgets-label-color);
    text-align: center;
    line-height: var(--jp-widgets-inline-height);
}

/* Widget Readout Styling */

.widget-readout {
    color: var(--jp-widgets-readout-color);
    font-size: var(--jp-widgets-font-size);
    height: var(--jp-widgets-inline-height);
    line-height: var(--jp-widgets-inline-height);
    overflow: hidden;
    white-space: nowrap;
    text-align: center;
}

.widget-readout.overflow {
    /* Overflowing Readout */

    /* From Material Design Lite
        shadow-key-umbra-opacity: 0.2;
        shadow-key-penumbra-opacity: 0.14;
        shadow-ambient-shadow-opacity: 0.12;
     */
    -webkit-box-shadow: 0 2px 2px 0 rgba(0, 0, 0, 0.2),
                        0 3px 1px -2px rgba(0, 0, 0, 0.14),
                        0 1px 5px 0 rgba(0, 0, 0, 0.12);

    -moz-box-shadow: 0 2px 2px 0 rgba(0, 0, 0, 0.2),
                     0 3px 1px -2px rgba(0, 0, 0, 0.14),
                     0 1px 5px 0 rgba(0, 0, 0, 0.12);

    box-shadow: 0 2px 2px 0 rgba(0, 0, 0, 0.2),
                0 3px 1px -2px rgba(0, 0, 0, 0.14),
                0 1px 5px 0 rgba(0, 0, 0, 0.12);
}

.widget-inline-hbox .widget-readout {
    /* Horizontal Readout */
    text-align: center;
    max-width: var(--jp-widgets-inline-width-short);
    min-width: var(--jp-widgets-inline-width-tiny);
    margin-left: var(--jp-widgets-inline-margin);
}

.widget-inline-vbox .widget-readout {
    /* Vertical Readout */
    margin-top: var(--jp-widgets-inline-margin);
    /* as wide as the widget */
    width: inherit;
}

/* Widget Checkbox Styling */

.widget-checkbox {
    width: var(--jp-widgets-inline-width);
    height: var(--jp-widgets-inline-height);
    line-height: var(--jp-widgets-inline-height);
}

.widget-checkbox input[type="checkbox"] {
    margin: 0px calc( var(--jp-widgets-inline-margin) * 2 ) 0px 0px;
    line-height: var(--jp-widgets-inline-height);
    font-size: large;
    flex-grow: 1;
    flex-shrink: 0;
    align-self: center;
}

/* Widget Valid Styling */

.widget-valid {
    height: var(--jp-widgets-inline-height);
    line-height: var(--jp-widgets-inline-height);
    width: var(--jp-widgets-inline-width-short);
    font-size: var(--jp-widgets-font-size);
}

.widget-valid i:before {
    line-height: var(--jp-widgets-inline-height);
    margin-right: var(--jp-widgets-inline-margin);
    margin-left: var(--jp-widgets-inline-margin);
}

.widget-valid.mod-valid i:before {
    color: green;
}

.widget-valid.mod-invalid i:before {
    color: red;
}

.widget-valid.mod-valid .widget-valid-readout {
    display: none;
}

/* Widget Text and TextArea Stying */

.widget-textarea, .widget-text {
    width: var(--jp-widgets-inline-width);
}

.widget-text input[type="text"], .widget-text input[type="number"], .widget-text input[type="password"] {
    height: var(--jp-widgets-inline-height);
    line-height: var(--jp-widgets-inline-height);
}

.widget-text input[type="text"]:disabled, .widget-text input[type="number"]:disabled, .widget-text input[type="password"]:disabled, .widget-textarea textarea:disabled {
    opacity: var(--jp-widgets-disabled-opacity);
}

.widget-text input[type="text"], .widget-text input[type="number"], .widget-text input[type="password"], .widget-textarea textarea {
    box-sizing: border-box;
    border: var(--jp-widgets-input-border-width) solid var(--jp-widgets-input-border-color);
    background-color: var(--jp-widgets-input-background-color);
    color: var(--jp-widgets-input-color);
    font-size: var(--jp-widgets-font-size);
    flex-grow: 1;
    min-width: 0; /* This makes it possible for the flexbox to shrink this input */
    flex-shrink: 1;
    outline: none !important;
}
    
.widget-text input[type="text"], .widget-text input[type="password"], .widget-textarea textarea {
    padding: var(--jp-widgets-input-padding) calc( var(--jp-widgets-input-padding) *  2);
}

.widget-text input[type="number"] {
    padding: var(--jp-widgets-input-padding) 0 var(--jp-widgets-input-padding) calc(var(--jp-widgets-input-padding) *  2);
}

.widget-textarea textarea {
    height: inherit;
    width: inherit;
}

.widget-text input:focus, .widget-textarea textarea:focus {
    border-color: var(--jp-widgets-input-focus-border-color);
}

/* Widget Slider */

.widget-slider .ui-slider {
    /* Slider Track */
    border: var(--jp-widgets-slider-border-width) solid var(--jp-layout-color3);
    background: var(--jp-layout-color3);
    box-sizing: border-box;
    position: relative;
    border-radius: 0px;
}

.widget-slider .ui-slider .ui-slider-handle {
    /* Slider Handle */
    outline: none !important; /* focused slider handles are colored - see below */
    position: absolute;
    background-color: var(--jp-widgets-slider-handle-background-color);
    border: var(--jp-widgets-slider-border-width) solid var(--jp-widgets-slider-handle-border-color);
    box-sizing: border-box;
    z-index: 1;
    background-image: none; /* Override jquery-ui */
}

/* Override jquery-ui */
.widget-slider .ui-slider .ui-slider-handle:hover, .widget-slider .ui-slider .ui-slider-handle:focus {
    background-color: var(--jp-widgets-slider-active-handle-color);
    border: var(--jp-widgets-slider-border-width) solid var(--jp-widgets-slider-active-handle-color);
}

.widget-slider .ui-slider .ui-slider-handle:active {
    background-color: var(--jp-widgets-slider-active-handle-color);
    border-color: var(--jp-widgets-slider-active-handle-color);
    z-index: 2;
    transform: scale(1.2);
}

.widget-slider  .ui-slider .ui-slider-range {
    /* Interval between the two specified value of a double slider */
    position: absolute;
    background: var(--jp-widgets-slider-active-handle-color);
    z-index: 0;
}

/* Shapes of Slider Handles */

.widget-hslider .ui-slider .ui-slider-handle {
    width: var(--jp-widgets-slider-handle-size);
    height: var(--jp-widgets-slider-handle-size);
    margin-top: calc((var(--jp-widgets-slider-track-thickness) - var(--jp-widgets-slider-handle-size)) / 2 - var(--jp-widgets-slider-border-width));
    margin-left: calc(var(--jp-widgets-slider-handle-size) / -2 + var(--jp-widgets-slider-border-width));
    border-radius: 50%;
    top: 0;
}

.widget-vslider .ui-slider .ui-slider-handle {
    width: var(--jp-widgets-slider-handle-size);
    height: var(--jp-widgets-slider-handle-size);
    margin-bottom: calc(var(--jp-widgets-slider-handle-size) / -2 + var(--jp-widgets-slider-border-width));
    margin-left: calc((var(--jp-widgets-slider-track-thickness) - var(--jp-widgets-slider-handle-size)) / 2 - var(--jp-widgets-slider-border-width));
    border-radius: 50%;
    left: 0;
}

.widget-hslider .ui-slider .ui-slider-range {
    height: calc( var(--jp-widgets-slider-track-thickness) * 2 );
    margin-top: calc((var(--jp-widgets-slider-track-thickness) - var(--jp-widgets-slider-track-thickness) * 2 ) / 2 - var(--jp-widgets-slider-border-width));
}

.widget-vslider .ui-slider .ui-slider-range {
    width: calc( var(--jp-widgets-slider-track-thickness) * 2 );
    margin-left: calc((var(--jp-widgets-slider-track-thickness) - var(--jp-widgets-slider-track-thickness) * 2 ) / 2 - var(--jp-widgets-slider-border-width));
}

/* Horizontal Slider */

.widget-hslider {
    width: var(--jp-widgets-inline-width);
    height: var(--jp-widgets-inline-height);
    line-height: var(--jp-widgets-inline-height);

    /* Override the align-items baseline. This way, the description and readout
    still seem to align their baseline properly, and we don't have to have
    align-self: stretch in the .slider-container. */
    align-items: center;
}

.widgets-slider .slider-container {
    overflow: visible;
}

.widget-hslider .slider-container {
    height: var(--jp-widgets-inline-height);
    margin-left: calc(var(--jp-widgets-slider-handle-size) / 2 - 2 * var(--jp-widgets-slider-border-width));
    margin-right: calc(var(--jp-widgets-slider-handle-size) / 2 - 2 * var(--jp-widgets-slider-border-width));
    flex: 1 1 var(--jp-widgets-inline-width-short);
}

.widget-hslider .ui-slider {
    /* Inner, invisible slide div */
    height: var(--jp-widgets-slider-track-thickness);
    margin-top: calc((var(--jp-widgets-inline-height) - var(--jp-widgets-slider-track-thickness)) / 2);
    width: 100%;
}

/* Vertical Slider */

.widget-vbox .widget-label {
    height: var(--jp-widgets-inline-height);
    line-height: var(--jp-widgets-inline-height);
}

.widget-vslider {
    /* Vertical Slider */
    height: var(--jp-widgets-vertical-height);
    width: var(--jp-widgets-inline-width-tiny);
}

.widget-vslider .slider-container {
    flex: 1 1 var(--jp-widgets-inline-width-short);
    margin-left: auto;
    margin-right: auto;
    margin-bottom: calc(var(--jp-widgets-slider-handle-size) / 2 - 2 * var(--jp-widgets-slider-border-width));
    margin-top: calc(var(--jp-widgets-slider-handle-size) / 2 - 2 * var(--jp-widgets-slider-border-width));
    display: flex;
    flex-direction: column;
}

.widget-vslider .ui-slider-vertical {
    /* Inner, invisible slide div */
    width: var(--jp-widgets-slider-track-thickness);
    flex-grow: 1;
    margin-left: auto;
    margin-right: auto;
}

/* Widget Progress Styling */

.progress-bar {
    -webkit-transition: none;
    -moz-transition: none;
    -ms-transition: none;
    -o-transition: none;
    transition: none;
}

.progress-bar {
    height: var(--jp-widgets-inline-height);
}

.progress-bar {
    background-color: var(--jp-brand-color1);
}

.progress-bar-success {
    background-color: var(--jp-success-color1);
}

.progress-bar-info {
    background-color: var(--jp-info-color1);
}

.progress-bar-warning {
    background-color: var(--jp-warn-color1);
}

.progress-bar-danger {
    background-color: var(--jp-error-color1);
}

.progress {
    background-color: var(--jp-layout-color2);
    border: none;
    box-shadow: none;
}

/* Horisontal Progress */

.widget-hprogress {
    /* Progress Bar */
    height: var(--jp-widgets-inline-height);
    line-height: var(--jp-widgets-inline-height);
    width: var(--jp-widgets-inline-width);
    align-items: center;

}

.widget-hprogress .progress {
    flex-grow: 1;
    margin-top: var(--jp-widgets-input-padding);
    margin-bottom: var(--jp-widgets-input-padding);
    align-self: stretch;
    /* Override bootstrap style */
    height: initial;
}

/* Vertical Progress */

.widget-vprogress {
    height: var(--jp-widgets-vertical-height);
    width: var(--jp-widgets-inline-width-tiny);
}

.widget-vprogress .progress {
    flex-grow: 1;
    width: var(--jp-widgets-progress-thickness);
    margin-left: auto;
    margin-right: auto;
    margin-bottom: 0;
}

/* Select Widget Styling */

.widget-dropdown {
    height: var(--jp-widgets-inline-height);
    width: var(--jp-widgets-inline-width);
    line-height: var(--jp-widgets-inline-height);
}

.widget-dropdown > select {
    padding-right: 20px;
    border: var(--jp-widgets-input-border-width) solid var(--jp-widgets-input-border-color);
    border-radius: 0;
    height: inherit;
    flex: 1 1 var(--jp-widgets-inline-width-short);
    min-width: 0; /* This makes it possible for the flexbox to shrink this input */
    box-sizing: border-box;
    outline: none !important;
    box-shadow: none;
    background-color: var(--jp-widgets-input-background-color);
    color: var(--jp-widgets-input-color);
    font-size: var(--jp-widgets-font-size);
    vertical-align: top;
    padding-left: calc( var(--jp-widgets-input-padding) * 2);
	appearance: none;
	-webkit-appearance: none;
	-moz-appearance: none;
    background-repeat: no-repeat;
	background-size: 20px;
	background-position: right center;
    background-image: var(--jp-widgets-dropdown-arrow);
}
.widget-dropdown > select:focus {
    border-color: var(--jp-widgets-input-focus-border-color);
}

.widget-dropdown > select:disabled {
    opacity: var(--jp-widgets-disabled-opacity);
}

/* To disable the dotted border in Firefox around select controls.
   See http://stackoverflow.com/a/18853002 */
.widget-dropdown > select:-moz-focusring {
    color: transparent;
    text-shadow: 0 0 0 #000;
}

/* Select and SelectMultiple */

.widget-select {
    width: var(--jp-widgets-inline-width);
    line-height: var(--jp-widgets-inline-height);

    /* Because Firefox defines the baseline of a select as the bottom of the
    control, we align the entire control to the top and add padding to the
    select to get an approximate first line baseline alignment. */
    align-items: flex-start;
}

.widget-select > select {
    border: var(--jp-widgets-input-border-width) solid var(--jp-widgets-input-border-color);
    background-color: var(--jp-widgets-input-background-color);
    color: var(--jp-widgets-input-color);
    font-size: var(--jp-widgets-font-size);
    flex: 1 1 var(--jp-widgets-inline-width-short);
    outline: none !important;
    overflow: auto;
    height: inherit;

    /* Because Firefox defines the baseline of a select as the bottom of the
    control, we align the entire control to the top and add padding to the
    select to get an approximate first line baseline alignment. */
    padding-top: 5px;
}

.widget-select > select:focus {
    border-color: var(--jp-widgets-input-focus-border-color);
}

.wiget-select > select > option {
    padding-left: var(--jp-widgets-input-padding);
    line-height: var(--jp-widgets-inline-height);
    /* line-height doesn't work on some browsers for select options */
    padding-top: calc(var(--jp-widgets-inline-height)-var(--jp-widgets-font-size)/2);
    padding-bottom: calc(var(--jp-widgets-inline-height)-var(--jp-widgets-font-size)/2);
}



/* Toggle Buttons Styling */

.widget-toggle-buttons {
    line-height: var(--jp-widgets-inline-height);
}

.widget-toggle-buttons .widget-toggle-button {
    margin-left: var(--jp-widgets-margin);
    margin-right: var(--jp-widgets-margin);
}

.widget-toggle-buttons .jupyter-button:disabled {
    opacity: var(--jp-widgets-disabled-opacity);
}

/* Radio Buttons Styling */

.widget-radio {
    width: var(--jp-widgets-inline-width);
    line-height: var(--jp-widgets-inline-height);
}

.widget-radio-box {
    display: flex;
    flex-direction: column;
    align-items: stretch;
    box-sizing: border-box;
    flex-grow: 1;
    margin-bottom: var(--jp-widgets-radio-item-height-adjustment);
}

.widget-radio-box label {
    height: var(--jp-widgets-radio-item-height);
    line-height: var(--jp-widgets-radio-item-height);
    font-size: var(--jp-widgets-font-size);
}

.widget-radio-box input {
    height: var(--jp-widgets-radio-item-height);
    line-height: var(--jp-widgets-radio-item-height);
    margin: 0 calc( var(--jp-widgets-input-padding) * 2 ) 0 1px;
    float: left;
}

/* Color Picker Styling */

.widget-colorpicker {
    width: var(--jp-widgets-inline-width);
    height: var(--jp-widgets-inline-height);
    line-height: var(--jp-widgets-inline-height);
}

.widget-colorpicker > .widget-colorpicker-input {
    flex-grow: 1;
    flex-shrink: 1;
    min-width: var(--jp-widgets-inline-width-tiny);
}

.widget-colorpicker input[type="color"] {
    width: var(--jp-widgets-inline-height);
    height: var(--jp-widgets-inline-height);
    padding: 0 2px; /* make the color square actually square on Chrome on OS X */
    background: var(--jp-widgets-input-background-color);
    color: var(--jp-widgets-input-color);
    border: var(--jp-widgets-input-border-width) solid var(--jp-widgets-input-border-color);
    border-left: none;
    flex-grow: 0;
    flex-shrink: 0;
    box-sizing: border-box;
    align-self: stretch;
    outline: none !important;
}

.widget-colorpicker.concise input[type="color"] {
    border-left: var(--jp-widgets-input-border-width) solid var(--jp-widgets-input-border-color);
}

.widget-colorpicker input[type="color"]:focus, .widget-colorpicker input[type="text"]:focus {
    border-color: var(--jp-widgets-input-focus-border-color);
}

.widget-colorpicker input[type="text"] {
    flex-grow: 1;
    outline: none !important;
    height: var(--jp-widgets-inline-height);
    line-height: var(--jp-widgets-inline-height);
    background: var(--jp-widgets-input-background-color);
    color: var(--jp-widgets-input-color);
    border: var(--jp-widgets-input-border-width) solid var(--jp-widgets-input-border-color);
    font-size: var(--jp-widgets-font-size);
    padding: var(--jp-widgets-input-padding) calc( var(--jp-widgets-input-padding) *  2 );
    min-width: 0; /* This makes it possible for the flexbox to shrink this input */
    flex-shrink: 1;
    box-sizing: border-box;
}

.widget-colorpicker input[type="text"]:disabled {
    opacity: var(--jp-widgets-disabled-opacity);
}

/* Date Picker Styling */

.widget-datepicker {
    width: var(--jp-widgets-inline-width);
    height: var(--jp-widgets-inline-height);
    line-height: var(--jp-widgets-inline-height);
}

.widget-datepicker input[type="date"] {
    flex-grow: 1;
    flex-shrink: 1;
    min-width: 0; /* This makes it possible for the flexbox to shrink this input */
    outline: none !important;
    height: var(--jp-widgets-inline-height);
    border: var(--jp-widgets-input-border-width) solid var(--jp-widgets-input-border-color);
    background-color: var(--jp-widgets-input-background-color);
    color: var(--jp-widgets-input-color);
    font-size: var(--jp-widgets-font-size);
    padding: var(--jp-widgets-input-padding) calc( var(--jp-widgets-input-padding) *  2 );
    box-sizing: border-box;
}

.widget-datepicker input[type="date"]:focus {
    border-color: var(--jp-widgets-input-focus-border-color);
}

.widget-datepicker input[type="date"]:invalid {
    border-color: var(--jp-warn-color1);
}

.widget-datepicker input[type="date"]:disabled {
    opacity: var(--jp-widgets-disabled-opacity);
}

/* Play Widget */

.widget-play {
    width: var(--jp-widgets-inline-width-short);
    display: flex;
    align-items: stretch;
}

.widget-play .jupyter-button {
    flex-grow: 1;
    height: auto;
}

.widget-play .jupyter-button:disabled {
    opacity: var(--jp-widgets-disabled-opacity);
}

/* Tab Widget */

.jupyter-widgets.widget-tab {
    display: flex;
    flex-direction: column;
}

.jupyter-widgets.widget-tab > .p-TabBar {
    /* Necessary so that a tab can be shifted down to overlay the border of the box below. */
    overflow-x: visible;
    overflow-y: visible;
}

.jupyter-widgets.widget-tab > .p-TabBar > .p-TabBar-content {
    /* Make sure that the tab grows from bottom up */
    align-items: flex-end;
    min-width: 0;
    min-height: 0;
}

.jupyter-widgets.widget-tab > .widget-tab-contents {
    width: 100%;
    box-sizing: border-box;
    margin: 0;
    background: var(--jp-layout-color1);
    color: var(--jp-ui-font-color1);
    border: var(--jp-border-width) solid var(--jp-border-color1);
    padding: var(--jp-widgets-container-padding);
    flex-grow: 1;
    overflow: auto;
}

.jupyter-widgets.widget-tab > .p-TabBar {
    font: var(--jp-widgets-font-size) Helvetica, Arial, sans-serif;
    min-height: calc(var(--jp-widgets-horizontal-tab-height) + var(--jp-border-width));
}

.jupyter-widgets.widget-tab > .p-TabBar .p-TabBar-tab {
    flex: 0 1 var(--jp-widgets-horizontal-tab-width);
    min-width: 35px;
    min-height: calc(var(--jp-widgets-horizontal-tab-height) + var(--jp-border-width));
    line-height: var(--jp-widgets-horizontal-tab-height);
    margin-left: calc(-1 * var(--jp-border-width));
    padding: 0px 10px;
    background: var(--jp-layout-color2);
    color: var(--jp-ui-font-color2);
    border: var(--jp-border-width) solid var(--jp-border-color1);
    border-bottom: none;
    position: relative;
}

.jupyter-widgets.widget-tab > .p-TabBar .p-TabBar-tab.p-mod-current {
    color: var(--jp-ui-font-color0);
    /* We want the background to match the tab content background */
    background: var(--jp-layout-color1);
    min-height: calc(var(--jp-widgets-horizontal-tab-height) + 2 * var(--jp-border-width));
    transform: translateY(var(--jp-border-width));
    overflow: visible;
}

.jupyter-widgets.widget-tab > .p-TabBar .p-TabBar-tab.p-mod-current:before {
    position: absolute;
    top: calc(-1 * var(--jp-border-width));
    left: calc(-1 * var(--jp-border-width));
    content: '';
    height: var(--jp-widgets-horizontal-tab-top-border);
    width: calc(100% + 2 * var(--jp-border-width));
    background: var(--jp-brand-color1);
}

.jupyter-widgets.widget-tab > .p-TabBar .p-TabBar-tab:first-child {
    margin-left: 0;
}

.jupyter-widgets.widget-tab > .p-TabBar .p-TabBar-tab:hover:not(.p-mod-current) {
    background: var(--jp-layout-color1);
    color: var(--jp-ui-font-color1);
}

.jupyter-widgets.widget-tab > .p-TabBar .p-mod-closable > .p-TabBar-tabCloseIcon {
    margin-left: 4px;
}

/* This font-awesome strategy may not work across FA4 and FA5, but we don't
actually support closable tabs, so it really doesn't matter */
.jupyter-widgets.widget-tab > .p-TabBar .p-mod-closable > .p-TabBar-tabCloseIcon:before {
    font-family: FontAwesome;
    content: '\f00d'; /* close */
}

.jupyter-widgets.widget-tab > .p-TabBar .p-TabBar-tabIcon,
.jupyter-widgets.widget-tab > .p-TabBar .p-TabBar-tabLabel,
.jupyter-widgets.widget-tab > .p-TabBar .p-TabBar-tabCloseIcon {
    line-height: var(--jp-widgets-horizontal-tab-height);
}

/* Accordion Widget */

.p-Collapse {
    display: flex;
    flex-direction: column;
    align-items: stretch;
}

.p-Collapse-header {
    padding: var(--jp-widgets-input-padding);
    cursor: pointer;
    color: var(--jp-ui-font-color2);
    background-color: var(--jp-layout-color2);
    border: var(--jp-widgets-border-width) solid var(--jp-border-color1);
    padding: calc(var(--jp-widgets-container-padding) * 2 / 3) var(--jp-widgets-container-padding);
    font-weight: bold;
}

.p-Collapse-header:hover {
    background-color: var(--jp-layout-color1);
    color: var(--jp-ui-font-color1);
}

.p-Collapse-open > .p-Collapse-header {
    background-color: var(--jp-layout-color1);
    color: var(--jp-ui-font-color0);
    cursor: default;
    border-bottom: none;
}

.p-Collapse-contents {
    padding: var(--jp-widgets-container-padding);
    background-color: var(--jp-layout-color1);
    color: var(--jp-ui-font-color1);
    border-left: var(--jp-widgets-border-width) solid var(--jp-border-color1);
    border-right: var(--jp-widgets-border-width) solid var(--jp-border-color1);
    border-bottom: var(--jp-widgets-border-width) solid var(--jp-border-color1);
    overflow: auto;
}

.p-Accordion {
    display: flex;
    flex-direction: column;
    align-items: stretch;
}

.p-Accordion .p-Collapse {
    margin-bottom: 0;
}

.p-Accordion .p-Collapse + .p-Collapse {
    margin-top: 4px;
}



/* HTML widget */

.widget-html, .widget-htmlmath {
    font-size: var(--jp-widgets-font-size);
}

.widget-html > .widget-html-content, .widget-htmlmath > .widget-html-content {
    /* Fill out the area in the HTML widget */
    align-self: stretch;
    flex-grow: 1;
    flex-shrink: 1;
    /* Makes sure the baseline is still aligned with other elements */
    line-height: var(--jp-widgets-inline-height);
    /* Make it possible to have absolutely-positioned elements in the html */
    position: relative;
}


/* Image widget  */

.widget-image {
    max-width: 100%;
    height: auto;
}
</style><style>/* Copyright (c) Jupyter Development Team.
 * Distributed under the terms of the Modified BSD License.
 */
</style><style>/*-----------------------------------------------------------------------------
| Copyright (c) Jupyter Development Team.
| Distributed under the terms of the Modified BSD License.
|----------------------------------------------------------------------------*/

.jupyter-widgets.widget-output .jp-OutputArea-prompt {
    display: none;
}
</style><style>/*!
 *  Font Awesome 4.7.0 by @davegandy - http://fontawesome.io - @fontawesome
 *  License - http://fontawesome.io/license (Font: SIL OFL 1.1, CSS: MIT License)
 */
/* FONT PATH
 * -------------------------- */
@font-face {
  font-family: 'FontAwesome';
  src: url(https://unpkg.com/@jupyter-widgets/html-manager@0.20.0/dist/674f50d287a8c48dc19ba404d20fe713.eot);
  src: url(https://unpkg.com/@jupyter-widgets/html-manager@0.20.0/dist/674f50d287a8c48dc19ba404d20fe713.eot?#iefix&v=4.7.0) format('embedded-opentype'), url(https://unpkg.com/@jupyter-widgets/html-manager@0.20.0/dist/af7ae505a9eed503f8b8e6982036873e.woff2) format('woff2'), url(https://unpkg.com/@jupyter-widgets/html-manager@0.20.0/dist/fee66e712a8a08eef5805a46892932ad.woff) format('woff'), url(https://unpkg.com/@jupyter-widgets/html-manager@0.20.0/dist/b06871f281fee6b241d60582ae9369b9.ttf) format('truetype'), url(https://unpkg.com/@jupyter-widgets/html-manager@0.20.0/dist/912ec66d7572ff821749319396470bde.svg#fontawesomeregular) format('svg');
  font-weight: normal;
  font-style: normal;
}
.fa {
  display: inline-block;
  font: normal normal normal 14px/1 FontAwesome;
  font-size: inherit;
  text-rendering: auto;
  -webkit-font-smoothing: antialiased;
  -moz-osx-font-smoothing: grayscale;
}
/* makes the font 33% larger relative to the icon container */
.fa-lg {
  font-size: 1.33333333em;
  line-height: 0.75em;
  vertical-align: -15%;
}
.fa-2x {
  font-size: 2em;
}
.fa-3x {
  font-size: 3em;
}
.fa-4x {
  font-size: 4em;
}
.fa-5x {
  font-size: 5em;
}
.fa-fw {
  width: 1.28571429em;
  text-align: center;
}
.fa-ul {
  padding-left: 0;
  margin-left: 2.14285714em;
  list-style-type: none;
}
.fa-ul > li {
  position: relative;
}
.fa-li {
  position: absolute;
  left: -2.14285714em;
  width: 2.14285714em;
  top: 0.14285714em;
  text-align: center;
}
.fa-li.fa-lg {
  left: -1.85714286em;
}
.fa-border {
  padding: .2em .25em .15em;
  border: solid 0.08em #eeeeee;
  border-radius: .1em;
}
.fa-pull-left {
  float: left;
}
.fa-pull-right {
  float: right;
}
.fa.fa-pull-left {
  margin-right: .3em;
}
.fa.fa-pull-right {
  margin-left: .3em;
}
/* Deprecated as of 4.4.0 */
.pull-right {
  float: right;
}
.pull-left {
  float: left;
}
.fa.pull-left {
  margin-right: .3em;
}
.fa.pull-right {
  margin-left: .3em;
}
.fa-spin {
  -webkit-animation: fa-spin 2s infinite linear;
  animation: fa-spin 2s infinite linear;
}
.fa-pulse {
  -webkit-animation: fa-spin 1s infinite steps(8);
  animation: fa-spin 1s infinite steps(8);
}
@-webkit-keyframes fa-spin {
  0% {
    -webkit-transform: rotate(0deg);
    transform: rotate(0deg);
  }
  100% {
    -webkit-transform: rotate(359deg);
    transform: rotate(359deg);
  }
}
@keyframes fa-spin {
  0% {
    -webkit-transform: rotate(0deg);
    transform: rotate(0deg);
  }
  100% {
    -webkit-transform: rotate(359deg);
    transform: rotate(359deg);
  }
}
.fa-rotate-90 {
  -ms-filter: "progid:DXImageTransform.Microsoft.BasicImage(rotation=1)";
  -webkit-transform: rotate(90deg);
  -ms-transform: rotate(90deg);
  transform: rotate(90deg);
}
.fa-rotate-180 {
  -ms-filter: "progid:DXImageTransform.Microsoft.BasicImage(rotation=2)";
  -webkit-transform: rotate(180deg);
  -ms-transform: rotate(180deg);
  transform: rotate(180deg);
}
.fa-rotate-270 {
  -ms-filter: "progid:DXImageTransform.Microsoft.BasicImage(rotation=3)";
  -webkit-transform: rotate(270deg);
  -ms-transform: rotate(270deg);
  transform: rotate(270deg);
}
.fa-flip-horizontal {
  -ms-filter: "progid:DXImageTransform.Microsoft.BasicImage(rotation=0, mirror=1)";
  -webkit-transform: scale(-1, 1);
  -ms-transform: scale(-1, 1);
  transform: scale(-1, 1);
}
.fa-flip-vertical {
  -ms-filter: "progid:DXImageTransform.Microsoft.BasicImage(rotation=2, mirror=1)";
  -webkit-transform: scale(1, -1);
  -ms-transform: scale(1, -1);
  transform: scale(1, -1);
}
:root .fa-rotate-90,
:root .fa-rotate-180,
:root .fa-rotate-270,
:root .fa-flip-horizontal,
:root .fa-flip-vertical {
  filter: none;
}
.fa-stack {
  position: relative;
  display: inline-block;
  width: 2em;
  height: 2em;
  line-height: 2em;
  vertical-align: middle;
}
.fa-stack-1x,
.fa-stack-2x {
  position: absolute;
  left: 0;
  width: 100%;
  text-align: center;
}
.fa-stack-1x {
  line-height: inherit;
}
.fa-stack-2x {
  font-size: 2em;
}
.fa-inverse {
  color: #ffffff;
}
/* Font Awesome uses the Unicode Private Use Area (PUA) to ensure screen
   readers do not read off random characters that represent icons */
.fa-glass:before {
  content: "\f000";
}
.fa-music:before {
  content: "\f001";
}
.fa-search:before {
  content: "\f002";
}
.fa-envelope-o:before {
  content: "\f003";
}
.fa-heart:before {
  content: "\f004";
}
.fa-star:before {
  content: "\f005";
}
.fa-star-o:before {
  content: "\f006";
}
.fa-user:before {
  content: "\f007";
}
.fa-film:before {
  content: "\f008";
}
.fa-th-large:before {
  content: "\f009";
}
.fa-th:before {
  content: "\f00a";
}
.fa-th-list:before {
  content: "\f00b";
}
.fa-check:before {
  content: "\f00c";
}
.fa-remove:before,
.fa-close:before,
.fa-times:before {
  content: "\f00d";
}
.fa-search-plus:before {
  content: "\f00e";
}
.fa-search-minus:before {
  content: "\f010";
}
.fa-power-off:before {
  content: "\f011";
}
.fa-signal:before {
  content: "\f012";
}
.fa-gear:before,
.fa-cog:before {
  content: "\f013";
}
.fa-trash-o:before {
  content: "\f014";
}
.fa-home:before {
  content: "\f015";
}
.fa-file-o:before {
  content: "\f016";
}
.fa-clock-o:before {
  content: "\f017";
}
.fa-road:before {
  content: "\f018";
}
.fa-download:before {
  content: "\f019";
}
.fa-arrow-circle-o-down:before {
  content: "\f01a";
}
.fa-arrow-circle-o-up:before {
  content: "\f01b";
}
.fa-inbox:before {
  content: "\f01c";
}
.fa-play-circle-o:before {
  content: "\f01d";
}
.fa-rotate-right:before,
.fa-repeat:before {
  content: "\f01e";
}
.fa-refresh:before {
  content: "\f021";
}
.fa-list-alt:before {
  content: "\f022";
}
.fa-lock:before {
  content: "\f023";
}
.fa-flag:before {
  content: "\f024";
}
.fa-headphones:before {
  content: "\f025";
}
.fa-volume-off:before {
  content: "\f026";
}
.fa-volume-down:before {
  content: "\f027";
}
.fa-volume-up:before {
  content: "\f028";
}
.fa-qrcode:before {
  content: "\f029";
}
.fa-barcode:before {
  content: "\f02a";
}
.fa-tag:before {
  content: "\f02b";
}
.fa-tags:before {
  content: "\f02c";
}
.fa-book:before {
  content: "\f02d";
}
.fa-bookmark:before {
  content: "\f02e";
}
.fa-print:before {
  content: "\f02f";
}
.fa-camera:before {
  content: "\f030";
}
.fa-font:before {
  content: "\f031";
}
.fa-bold:before {
  content: "\f032";
}
.fa-italic:before {
  content: "\f033";
}
.fa-text-height:before {
  content: "\f034";
}
.fa-text-width:before {
  content: "\f035";
}
.fa-align-left:before {
  content: "\f036";
}
.fa-align-center:before {
  content: "\f037";
}
.fa-align-right:before {
  content: "\f038";
}
.fa-align-justify:before {
  content: "\f039";
}
.fa-list:before {
  content: "\f03a";
}
.fa-dedent:before,
.fa-outdent:before {
  content: "\f03b";
}
.fa-indent:before {
  content: "\f03c";
}
.fa-video-camera:before {
  content: "\f03d";
}
.fa-photo:before,
.fa-image:before,
.fa-picture-o:before {
  content: "\f03e";
}
.fa-pencil:before {
  content: "\f040";
}
.fa-map-marker:before {
  content: "\f041";
}
.fa-adjust:before {
  content: "\f042";
}
.fa-tint:before {
  content: "\f043";
}
.fa-edit:before,
.fa-pencil-square-o:before {
  content: "\f044";
}
.fa-share-square-o:before {
  content: "\f045";
}
.fa-check-square-o:before {
  content: "\f046";
}
.fa-arrows:before {
  content: "\f047";
}
.fa-step-backward:before {
  content: "\f048";
}
.fa-fast-backward:before {
  content: "\f049";
}
.fa-backward:before {
  content: "\f04a";
}
.fa-play:before {
  content: "\f04b";
}
.fa-pause:before {
  content: "\f04c";
}
.fa-stop:before {
  content: "\f04d";
}
.fa-forward:before {
  content: "\f04e";
}
.fa-fast-forward:before {
  content: "\f050";
}
.fa-step-forward:before {
  content: "\f051";
}
.fa-eject:before {
  content: "\f052";
}
.fa-chevron-left:before {
  content: "\f053";
}
.fa-chevron-right:before {
  content: "\f054";
}
.fa-plus-circle:before {
  content: "\f055";
}
.fa-minus-circle:before {
  content: "\f056";
}
.fa-times-circle:before {
  content: "\f057";
}
.fa-check-circle:before {
  content: "\f058";
}
.fa-question-circle:before {
  content: "\f059";
}
.fa-info-circle:before {
  content: "\f05a";
}
.fa-crosshairs:before {
  content: "\f05b";
}
.fa-times-circle-o:before {
  content: "\f05c";
}
.fa-check-circle-o:before {
  content: "\f05d";
}
.fa-ban:before {
  content: "\f05e";
}
.fa-arrow-left:before {
  content: "\f060";
}
.fa-arrow-right:before {
  content: "\f061";
}
.fa-arrow-up:before {
  content: "\f062";
}
.fa-arrow-down:before {
  content: "\f063";
}
.fa-mail-forward:before,
.fa-share:before {
  content: "\f064";
}
.fa-expand:before {
  content: "\f065";
}
.fa-compress:before {
  content: "\f066";
}
.fa-plus:before {
  content: "\f067";
}
.fa-minus:before {
  content: "\f068";
}
.fa-asterisk:before {
  content: "\f069";
}
.fa-exclamation-circle:before {
  content: "\f06a";
}
.fa-gift:before {
  content: "\f06b";
}
.fa-leaf:before {
  content: "\f06c";
}
.fa-fire:before {
  content: "\f06d";
}
.fa-eye:before {
  content: "\f06e";
}
.fa-eye-slash:before {
  content: "\f070";
}
.fa-warning:before,
.fa-exclamation-triangle:before {
  content: "\f071";
}
.fa-plane:before {
  content: "\f072";
}
.fa-calendar:before {
  content: "\f073";
}
.fa-random:before {
  content: "\f074";
}
.fa-comment:before {
  content: "\f075";
}
.fa-magnet:before {
  content: "\f076";
}
.fa-chevron-up:before {
  content: "\f077";
}
.fa-chevron-down:before {
  content: "\f078";
}
.fa-retweet:before {
  content: "\f079";
}
.fa-shopping-cart:before {
  content: "\f07a";
}
.fa-folder:before {
  content: "\f07b";
}
.fa-folder-open:before {
  content: "\f07c";
}
.fa-arrows-v:before {
  content: "\f07d";
}
.fa-arrows-h:before {
  content: "\f07e";
}
.fa-bar-chart-o:before,
.fa-bar-chart:before {
  content: "\f080";
}
.fa-twitter-square:before {
  content: "\f081";
}
.fa-facebook-square:before {
  content: "\f082";
}
.fa-camera-retro:before {
  content: "\f083";
}
.fa-key:before {
  content: "\f084";
}
.fa-gears:before,
.fa-cogs:before {
  content: "\f085";
}
.fa-comments:before {
  content: "\f086";
}
.fa-thumbs-o-up:before {
  content: "\f087";
}
.fa-thumbs-o-down:before {
  content: "\f088";
}
.fa-star-half:before {
  content: "\f089";
}
.fa-heart-o:before {
  content: "\f08a";
}
.fa-sign-out:before {
  content: "\f08b";
}
.fa-linkedin-square:before {
  content: "\f08c";
}
.fa-thumb-tack:before {
  content: "\f08d";
}
.fa-external-link:before {
  content: "\f08e";
}
.fa-sign-in:before {
  content: "\f090";
}
.fa-trophy:before {
  content: "\f091";
}
.fa-github-square:before {
  content: "\f092";
}
.fa-upload:before {
  content: "\f093";
}
.fa-lemon-o:before {
  content: "\f094";
}
.fa-phone:before {
  content: "\f095";
}
.fa-square-o:before {
  content: "\f096";
}
.fa-bookmark-o:before {
  content: "\f097";
}
.fa-phone-square:before {
  content: "\f098";
}
.fa-twitter:before {
  content: "\f099";
}
.fa-facebook-f:before,
.fa-facebook:before {
  content: "\f09a";
}
.fa-github:before {
  content: "\f09b";
}
.fa-unlock:before {
  content: "\f09c";
}
.fa-credit-card:before {
  content: "\f09d";
}
.fa-feed:before,
.fa-rss:before {
  content: "\f09e";
}
.fa-hdd-o:before {
  content: "\f0a0";
}
.fa-bullhorn:before {
  content: "\f0a1";
}
.fa-bell:before {
  content: "\f0f3";
}
.fa-certificate:before {
  content: "\f0a3";
}
.fa-hand-o-right:before {
  content: "\f0a4";
}
.fa-hand-o-left:before {
  content: "\f0a5";
}
.fa-hand-o-up:before {
  content: "\f0a6";
}
.fa-hand-o-down:before {
  content: "\f0a7";
}
.fa-arrow-circle-left:before {
  content: "\f0a8";
}
.fa-arrow-circle-right:before {
  content: "\f0a9";
}
.fa-arrow-circle-up:before {
  content: "\f0aa";
}
.fa-arrow-circle-down:before {
  content: "\f0ab";
}
.fa-globe:before {
  content: "\f0ac";
}
.fa-wrench:before {
  content: "\f0ad";
}
.fa-tasks:before {
  content: "\f0ae";
}
.fa-filter:before {
  content: "\f0b0";
}
.fa-briefcase:before {
  content: "\f0b1";
}
.fa-arrows-alt:before {
  content: "\f0b2";
}
.fa-group:before,
.fa-users:before {
  content: "\f0c0";
}
.fa-chain:before,
.fa-link:before {
  content: "\f0c1";
}
.fa-cloud:before {
  content: "\f0c2";
}
.fa-flask:before {
  content: "\f0c3";
}
.fa-cut:before,
.fa-scissors:before {
  content: "\f0c4";
}
.fa-copy:before,
.fa-files-o:before {
  content: "\f0c5";
}
.fa-paperclip:before {
  content: "\f0c6";
}
.fa-save:before,
.fa-floppy-o:before {
  content: "\f0c7";
}
.fa-square:before {
  content: "\f0c8";
}
.fa-navicon:before,
.fa-reorder:before,
.fa-bars:before {
  content: "\f0c9";
}
.fa-list-ul:before {
  content: "\f0ca";
}
.fa-list-ol:before {
  content: "\f0cb";
}
.fa-strikethrough:before {
  content: "\f0cc";
}
.fa-underline:before {
  content: "\f0cd";
}
.fa-table:before {
  content: "\f0ce";
}
.fa-magic:before {
  content: "\f0d0";
}
.fa-truck:before {
  content: "\f0d1";
}
.fa-pinterest:before {
  content: "\f0d2";
}
.fa-pinterest-square:before {
  content: "\f0d3";
}
.fa-google-plus-square:before {
  content: "\f0d4";
}
.fa-google-plus:before {
  content: "\f0d5";
}
.fa-money:before {
  content: "\f0d6";
}
.fa-caret-down:before {
  content: "\f0d7";
}
.fa-caret-up:before {
  content: "\f0d8";
}
.fa-caret-left:before {
  content: "\f0d9";
}
.fa-caret-right:before {
  content: "\f0da";
}
.fa-columns:before {
  content: "\f0db";
}
.fa-unsorted:before,
.fa-sort:before {
  content: "\f0dc";
}
.fa-sort-down:before,
.fa-sort-desc:before {
  content: "\f0dd";
}
.fa-sort-up:before,
.fa-sort-asc:before {
  content: "\f0de";
}
.fa-envelope:before {
  content: "\f0e0";
}
.fa-linkedin:before {
  content: "\f0e1";
}
.fa-rotate-left:before,
.fa-undo:before {
  content: "\f0e2";
}
.fa-legal:before,
.fa-gavel:before {
  content: "\f0e3";
}
.fa-dashboard:before,
.fa-tachometer:before {
  content: "\f0e4";
}
.fa-comment-o:before {
  content: "\f0e5";
}
.fa-comments-o:before {
  content: "\f0e6";
}
.fa-flash:before,
.fa-bolt:before {
  content: "\f0e7";
}
.fa-sitemap:before {
  content: "\f0e8";
}
.fa-umbrella:before {
  content: "\f0e9";
}
.fa-paste:before,
.fa-clipboard:before {
  content: "\f0ea";
}
.fa-lightbulb-o:before {
  content: "\f0eb";
}
.fa-exchange:before {
  content: "\f0ec";
}
.fa-cloud-download:before {
  content: "\f0ed";
}
.fa-cloud-upload:before {
  content: "\f0ee";
}
.fa-user-md:before {
  content: "\f0f0";
}
.fa-stethoscope:before {
  content: "\f0f1";
}
.fa-suitcase:before {
  content: "\f0f2";
}
.fa-bell-o:before {
  content: "\f0a2";
}
.fa-coffee:before {
  content: "\f0f4";
}
.fa-cutlery:before {
  content: "\f0f5";
}
.fa-file-text-o:before {
  content: "\f0f6";
}
.fa-building-o:before {
  content: "\f0f7";
}
.fa-hospital-o:before {
  content: "\f0f8";
}
.fa-ambulance:before {
  content: "\f0f9";
}
.fa-medkit:before {
  content: "\f0fa";
}
.fa-fighter-jet:before {
  content: "\f0fb";
}
.fa-beer:before {
  content: "\f0fc";
}
.fa-h-square:before {
  content: "\f0fd";
}
.fa-plus-square:before {
  content: "\f0fe";
}
.fa-angle-double-left:before {
  content: "\f100";
}
.fa-angle-double-right:before {
  content: "\f101";
}
.fa-angle-double-up:before {
  content: "\f102";
}
.fa-angle-double-down:before {
  content: "\f103";
}
.fa-angle-left:before {
  content: "\f104";
}
.fa-angle-right:before {
  content: "\f105";
}
.fa-angle-up:before {
  content: "\f106";
}
.fa-angle-down:before {
  content: "\f107";
}
.fa-desktop:before {
  content: "\f108";
}
.fa-laptop:before {
  content: "\f109";
}
.fa-tablet:before {
  content: "\f10a";
}
.fa-mobile-phone:before,
.fa-mobile:before {
  content: "\f10b";
}
.fa-circle-o:before {
  content: "\f10c";
}
.fa-quote-left:before {
  content: "\f10d";
}
.fa-quote-right:before {
  content: "\f10e";
}
.fa-spinner:before {
  content: "\f110";
}
.fa-circle:before {
  content: "\f111";
}
.fa-mail-reply:before,
.fa-reply:before {
  content: "\f112";
}
.fa-github-alt:before {
  content: "\f113";
}
.fa-folder-o:before {
  content: "\f114";
}
.fa-folder-open-o:before {
  content: "\f115";
}
.fa-smile-o:before {
  content: "\f118";
}
.fa-frown-o:before {
  content: "\f119";
}
.fa-meh-o:before {
  content: "\f11a";
}
.fa-gamepad:before {
  content: "\f11b";
}
.fa-keyboard-o:before {
  content: "\f11c";
}
.fa-flag-o:before {
  content: "\f11d";
}
.fa-flag-checkered:before {
  content: "\f11e";
}
.fa-terminal:before {
  content: "\f120";
}
.fa-code:before {
  content: "\f121";
}
.fa-mail-reply-all:before,
.fa-reply-all:before {
  content: "\f122";
}
.fa-star-half-empty:before,
.fa-star-half-full:before,
.fa-star-half-o:before {
  content: "\f123";
}
.fa-location-arrow:before {
  content: "\f124";
}
.fa-crop:before {
  content: "\f125";
}
.fa-code-fork:before {
  content: "\f126";
}
.fa-unlink:before,
.fa-chain-broken:before {
  content: "\f127";
}
.fa-question:before {
  content: "\f128";
}
.fa-info:before {
  content: "\f129";
}
.fa-exclamation:before {
  content: "\f12a";
}
.fa-superscript:before {
  content: "\f12b";
}
.fa-subscript:before {
  content: "\f12c";
}
.fa-eraser:before {
  content: "\f12d";
}
.fa-puzzle-piece:before {
  content: "\f12e";
}
.fa-microphone:before {
  content: "\f130";
}
.fa-microphone-slash:before {
  content: "\f131";
}
.fa-shield:before {
  content: "\f132";
}
.fa-calendar-o:before {
  content: "\f133";
}
.fa-fire-extinguisher:before {
  content: "\f134";
}
.fa-rocket:before {
  content: "\f135";
}
.fa-maxcdn:before {
  content: "\f136";
}
.fa-chevron-circle-left:before {
  content: "\f137";
}
.fa-chevron-circle-right:before {
  content: "\f138";
}
.fa-chevron-circle-up:before {
  content: "\f139";
}
.fa-chevron-circle-down:before {
  content: "\f13a";
}
.fa-html5:before {
  content: "\f13b";
}
.fa-css3:before {
  content: "\f13c";
}
.fa-anchor:before {
  content: "\f13d";
}
.fa-unlock-alt:before {
  content: "\f13e";
}
.fa-bullseye:before {
  content: "\f140";
}
.fa-ellipsis-h:before {
  content: "\f141";
}
.fa-ellipsis-v:before {
  content: "\f142";
}
.fa-rss-square:before {
  content: "\f143";
}
.fa-play-circle:before {
  content: "\f144";
}
.fa-ticket:before {
  content: "\f145";
}
.fa-minus-square:before {
  content: "\f146";
}
.fa-minus-square-o:before {
  content: "\f147";
}
.fa-level-up:before {
  content: "\f148";
}
.fa-level-down:before {
  content: "\f149";
}
.fa-check-square:before {
  content: "\f14a";
}
.fa-pencil-square:before {
  content: "\f14b";
}
.fa-external-link-square:before {
  content: "\f14c";
}
.fa-share-square:before {
  content: "\f14d";
}
.fa-compass:before {
  content: "\f14e";
}
.fa-toggle-down:before,
.fa-caret-square-o-down:before {
  content: "\f150";
}
.fa-toggle-up:before,
.fa-caret-square-o-up:before {
  content: "\f151";
}
.fa-toggle-right:before,
.fa-caret-square-o-right:before {
  content: "\f152";
}
.fa-euro:before,
.fa-eur:before {
  content: "\f153";
}
.fa-gbp:before {
  content: "\f154";
}
.fa-dollar:before,
.fa-usd:before {
  content: "\f155";
}
.fa-rupee:before,
.fa-inr:before {
  content: "\f156";
}
.fa-cny:before,
.fa-rmb:before,
.fa-yen:before,
.fa-jpy:before {
  content: "\f157";
}
.fa-ruble:before,
.fa-rouble:before,
.fa-rub:before {
  content: "\f158";
}
.fa-won:before,
.fa-krw:before {
  content: "\f159";
}
.fa-bitcoin:before,
.fa-btc:before {
  content: "\f15a";
}
.fa-file:before {
  content: "\f15b";
}
.fa-file-text:before {
  content: "\f15c";
}
.fa-sort-alpha-asc:before {
  content: "\f15d";
}
.fa-sort-alpha-desc:before {
  content: "\f15e";
}
.fa-sort-amount-asc:before {
  content: "\f160";
}
.fa-sort-amount-desc:before {
  content: "\f161";
}
.fa-sort-numeric-asc:before {
  content: "\f162";
}
.fa-sort-numeric-desc:before {
  content: "\f163";
}
.fa-thumbs-up:before {
  content: "\f164";
}
.fa-thumbs-down:before {
  content: "\f165";
}
.fa-youtube-square:before {
  content: "\f166";
}
.fa-youtube:before {
  content: "\f167";
}
.fa-xing:before {
  content: "\f168";
}
.fa-xing-square:before {
  content: "\f169";
}
.fa-youtube-play:before {
  content: "\f16a";
}
.fa-dropbox:before {
  content: "\f16b";
}
.fa-stack-overflow:before {
  content: "\f16c";
}
.fa-instagram:before {
  content: "\f16d";
}
.fa-flickr:before {
  content: "\f16e";
}
.fa-adn:before {
  content: "\f170";
}
.fa-bitbucket:before {
  content: "\f171";
}
.fa-bitbucket-square:before {
  content: "\f172";
}
.fa-tumblr:before {
  content: "\f173";
}
.fa-tumblr-square:before {
  content: "\f174";
}
.fa-long-arrow-down:before {
  content: "\f175";
}
.fa-long-arrow-up:before {
  content: "\f176";
}
.fa-long-arrow-left:before {
  content: "\f177";
}
.fa-long-arrow-right:before {
  content: "\f178";
}
.fa-apple:before {
  content: "\f179";
}
.fa-windows:before {
  content: "\f17a";
}
.fa-android:before {
  content: "\f17b";
}
.fa-linux:before {
  content: "\f17c";
}
.fa-dribbble:before {
  content: "\f17d";
}
.fa-skype:before {
  content: "\f17e";
}
.fa-foursquare:before {
  content: "\f180";
}
.fa-trello:before {
  content: "\f181";
}
.fa-female:before {
  content: "\f182";
}
.fa-male:before {
  content: "\f183";
}
.fa-gittip:before,
.fa-gratipay:before {
  content: "\f184";
}
.fa-sun-o:before {
  content: "\f185";
}
.fa-moon-o:before {
  content: "\f186";
}
.fa-archive:before {
  content: "\f187";
}
.fa-bug:before {
  content: "\f188";
}
.fa-vk:before {
  content: "\f189";
}
.fa-weibo:before {
  content: "\f18a";
}
.fa-renren:before {
  content: "\f18b";
}
.fa-pagelines:before {
  content: "\f18c";
}
.fa-stack-exchange:before {
  content: "\f18d";
}
.fa-arrow-circle-o-right:before {
  content: "\f18e";
}
.fa-arrow-circle-o-left:before {
  content: "\f190";
}
.fa-toggle-left:before,
.fa-caret-square-o-left:before {
  content: "\f191";
}
.fa-dot-circle-o:before {
  content: "\f192";
}
.fa-wheelchair:before {
  content: "\f193";
}
.fa-vimeo-square:before {
  content: "\f194";
}
.fa-turkish-lira:before,
.fa-try:before {
  content: "\f195";
}
.fa-plus-square-o:before {
  content: "\f196";
}
.fa-space-shuttle:before {
  content: "\f197";
}
.fa-slack:before {
  content: "\f198";
}
.fa-envelope-square:before {
  content: "\f199";
}
.fa-wordpress:before {
  content: "\f19a";
}
.fa-openid:before {
  content: "\f19b";
}
.fa-institution:before,
.fa-bank:before,
.fa-university:before {
  content: "\f19c";
}
.fa-mortar-board:before,
.fa-graduation-cap:before {
  content: "\f19d";
}
.fa-yahoo:before {
  content: "\f19e";
}
.fa-google:before {
  content: "\f1a0";
}
.fa-reddit:before {
  content: "\f1a1";
}
.fa-reddit-square:before {
  content: "\f1a2";
}
.fa-stumbleupon-circle:before {
  content: "\f1a3";
}
.fa-stumbleupon:before {
  content: "\f1a4";
}
.fa-delicious:before {
  content: "\f1a5";
}
.fa-digg:before {
  content: "\f1a6";
}
.fa-pied-piper-pp:before {
  content: "\f1a7";
}
.fa-pied-piper-alt:before {
  content: "\f1a8";
}
.fa-drupal:before {
  content: "\f1a9";
}
.fa-joomla:before {
  content: "\f1aa";
}
.fa-language:before {
  content: "\f1ab";
}
.fa-fax:before {
  content: "\f1ac";
}
.fa-building:before {
  content: "\f1ad";
}
.fa-child:before {
  content: "\f1ae";
}
.fa-paw:before {
  content: "\f1b0";
}
.fa-spoon:before {
  content: "\f1b1";
}
.fa-cube:before {
  content: "\f1b2";
}
.fa-cubes:before {
  content: "\f1b3";
}
.fa-behance:before {
  content: "\f1b4";
}
.fa-behance-square:before {
  content: "\f1b5";
}
.fa-steam:before {
  content: "\f1b6";
}
.fa-steam-square:before {
  content: "\f1b7";
}
.fa-recycle:before {
  content: "\f1b8";
}
.fa-automobile:before,
.fa-car:before {
  content: "\f1b9";
}
.fa-cab:before,
.fa-taxi:before {
  content: "\f1ba";
}
.fa-tree:before {
  content: "\f1bb";
}
.fa-spotify:before {
  content: "\f1bc";
}
.fa-deviantart:before {
  content: "\f1bd";
}
.fa-soundcloud:before {
  content: "\f1be";
}
.fa-database:before {
  content: "\f1c0";
}
.fa-file-pdf-o:before {
  content: "\f1c1";
}
.fa-file-word-o:before {
  content: "\f1c2";
}
.fa-file-excel-o:before {
  content: "\f1c3";
}
.fa-file-powerpoint-o:before {
  content: "\f1c4";
}
.fa-file-photo-o:before,
.fa-file-picture-o:before,
.fa-file-image-o:before {
  content: "\f1c5";
}
.fa-file-zip-o:before,
.fa-file-archive-o:before {
  content: "\f1c6";
}
.fa-file-sound-o:before,
.fa-file-audio-o:before {
  content: "\f1c7";
}
.fa-file-movie-o:before,
.fa-file-video-o:before {
  content: "\f1c8";
}
.fa-file-code-o:before {
  content: "\f1c9";
}
.fa-vine:before {
  content: "\f1ca";
}
.fa-codepen:before {
  content: "\f1cb";
}
.fa-jsfiddle:before {
  content: "\f1cc";
}
.fa-life-bouy:before,
.fa-life-buoy:before,
.fa-life-saver:before,
.fa-support:before,
.fa-life-ring:before {
  content: "\f1cd";
}
.fa-circle-o-notch:before {
  content: "\f1ce";
}
.fa-ra:before,
.fa-resistance:before,
.fa-rebel:before {
  content: "\f1d0";
}
.fa-ge:before,
.fa-empire:before {
  content: "\f1d1";
}
.fa-git-square:before {
  content: "\f1d2";
}
.fa-git:before {
  content: "\f1d3";
}
.fa-y-combinator-square:before,
.fa-yc-square:before,
.fa-hacker-news:before {
  content: "\f1d4";
}
.fa-tencent-weibo:before {
  content: "\f1d5";
}
.fa-qq:before {
  content: "\f1d6";
}
.fa-wechat:before,
.fa-weixin:before {
  content: "\f1d7";
}
.fa-send:before,
.fa-paper-plane:before {
  content: "\f1d8";
}
.fa-send-o:before,
.fa-paper-plane-o:before {
  content: "\f1d9";
}
.fa-history:before {
  content: "\f1da";
}
.fa-circle-thin:before {
  content: "\f1db";
}
.fa-header:before {
  content: "\f1dc";
}
.fa-paragraph:before {
  content: "\f1dd";
}
.fa-sliders:before {
  content: "\f1de";
}
.fa-share-alt:before {
  content: "\f1e0";
}
.fa-share-alt-square:before {
  content: "\f1e1";
}
.fa-bomb:before {
  content: "\f1e2";
}
.fa-soccer-ball-o:before,
.fa-futbol-o:before {
  content: "\f1e3";
}
.fa-tty:before {
  content: "\f1e4";
}
.fa-binoculars:before {
  content: "\f1e5";
}
.fa-plug:before {
  content: "\f1e6";
}
.fa-slideshare:before {
  content: "\f1e7";
}
.fa-twitch:before {
  content: "\f1e8";
}
.fa-yelp:before {
  content: "\f1e9";
}
.fa-newspaper-o:before {
  content: "\f1ea";
}
.fa-wifi:before {
  content: "\f1eb";
}
.fa-calculator:before {
  content: "\f1ec";
}
.fa-paypal:before {
  content: "\f1ed";
}
.fa-google-wallet:before {
  content: "\f1ee";
}
.fa-cc-visa:before {
  content: "\f1f0";
}
.fa-cc-mastercard:before {
  content: "\f1f1";
}
.fa-cc-discover:before {
  content: "\f1f2";
}
.fa-cc-amex:before {
  content: "\f1f3";
}
.fa-cc-paypal:before {
  content: "\f1f4";
}
.fa-cc-stripe:before {
  content: "\f1f5";
}
.fa-bell-slash:before {
  content: "\f1f6";
}
.fa-bell-slash-o:before {
  content: "\f1f7";
}
.fa-trash:before {
  content: "\f1f8";
}
.fa-copyright:before {
  content: "\f1f9";
}
.fa-at:before {
  content: "\f1fa";
}
.fa-eyedropper:before {
  content: "\f1fb";
}
.fa-paint-brush:before {
  content: "\f1fc";
}
.fa-birthday-cake:before {
  content: "\f1fd";
}
.fa-area-chart:before {
  content: "\f1fe";
}
.fa-pie-chart:before {
  content: "\f200";
}
.fa-line-chart:before {
  content: "\f201";
}
.fa-lastfm:before {
  content: "\f202";
}
.fa-lastfm-square:before {
  content: "\f203";
}
.fa-toggle-off:before {
  content: "\f204";
}
.fa-toggle-on:before {
  content: "\f205";
}
.fa-bicycle:before {
  content: "\f206";
}
.fa-bus:before {
  content: "\f207";
}
.fa-ioxhost:before {
  content: "\f208";
}
.fa-angellist:before {
  content: "\f209";
}
.fa-cc:before {
  content: "\f20a";
}
.fa-shekel:before,
.fa-sheqel:before,
.fa-ils:before {
  content: "\f20b";
}
.fa-meanpath:before {
  content: "\f20c";
}
.fa-buysellads:before {
  content: "\f20d";
}
.fa-connectdevelop:before {
  content: "\f20e";
}
.fa-dashcube:before {
  content: "\f210";
}
.fa-forumbee:before {
  content: "\f211";
}
.fa-leanpub:before {
  content: "\f212";
}
.fa-sellsy:before {
  content: "\f213";
}
.fa-shirtsinbulk:before {
  content: "\f214";
}
.fa-simplybuilt:before {
  content: "\f215";
}
.fa-skyatlas:before {
  content: "\f216";
}
.fa-cart-plus:before {
  content: "\f217";
}
.fa-cart-arrow-down:before {
  content: "\f218";
}
.fa-diamond:before {
  content: "\f219";
}
.fa-ship:before {
  content: "\f21a";
}
.fa-user-secret:before {
  content: "\f21b";
}
.fa-motorcycle:before {
  content: "\f21c";
}
.fa-street-view:before {
  content: "\f21d";
}
.fa-heartbeat:before {
  content: "\f21e";
}
.fa-venus:before {
  content: "\f221";
}
.fa-mars:before {
  content: "\f222";
}
.fa-mercury:before {
  content: "\f223";
}
.fa-intersex:before,
.fa-transgender:before {
  content: "\f224";
}
.fa-transgender-alt:before {
  content: "\f225";
}
.fa-venus-double:before {
  content: "\f226";
}
.fa-mars-double:before {
  content: "\f227";
}
.fa-venus-mars:before {
  content: "\f228";
}
.fa-mars-stroke:before {
  content: "\f229";
}
.fa-mars-stroke-v:before {
  content: "\f22a";
}
.fa-mars-stroke-h:before {
  content: "\f22b";
}
.fa-neuter:before {
  content: "\f22c";
}
.fa-genderless:before {
  content: "\f22d";
}
.fa-facebook-official:before {
  content: "\f230";
}
.fa-pinterest-p:before {
  content: "\f231";
}
.fa-whatsapp:before {
  content: "\f232";
}
.fa-server:before {
  content: "\f233";
}
.fa-user-plus:before {
  content: "\f234";
}
.fa-user-times:before {
  content: "\f235";
}
.fa-hotel:before,
.fa-bed:before {
  content: "\f236";
}
.fa-viacoin:before {
  content: "\f237";
}
.fa-train:before {
  content: "\f238";
}
.fa-subway:before {
  content: "\f239";
}
.fa-medium:before {
  content: "\f23a";
}
.fa-yc:before,
.fa-y-combinator:before {
  content: "\f23b";
}
.fa-optin-monster:before {
  content: "\f23c";
}
.fa-opencart:before {
  content: "\f23d";
}
.fa-expeditedssl:before {
  content: "\f23e";
}
.fa-battery-4:before,
.fa-battery:before,
.fa-battery-full:before {
  content: "\f240";
}
.fa-battery-3:before,
.fa-battery-three-quarters:before {
  content: "\f241";
}
.fa-battery-2:before,
.fa-battery-half:before {
  content: "\f242";
}
.fa-battery-1:before,
.fa-battery-quarter:before {
  content: "\f243";
}
.fa-battery-0:before,
.fa-battery-empty:before {
  content: "\f244";
}
.fa-mouse-pointer:before {
  content: "\f245";
}
.fa-i-cursor:before {
  content: "\f246";
}
.fa-object-group:before {
  content: "\f247";
}
.fa-object-ungroup:before {
  content: "\f248";
}
.fa-sticky-note:before {
  content: "\f249";
}
.fa-sticky-note-o:before {
  content: "\f24a";
}
.fa-cc-jcb:before {
  content: "\f24b";
}
.fa-cc-diners-club:before {
  content: "\f24c";
}
.fa-clone:before {
  content: "\f24d";
}
.fa-balance-scale:before {
  content: "\f24e";
}
.fa-hourglass-o:before {
  content: "\f250";
}
.fa-hourglass-1:before,
.fa-hourglass-start:before {
  content: "\f251";
}
.fa-hourglass-2:before,
.fa-hourglass-half:before {
  content: "\f252";
}
.fa-hourglass-3:before,
.fa-hourglass-end:before {
  content: "\f253";
}
.fa-hourglass:before {
  content: "\f254";
}
.fa-hand-grab-o:before,
.fa-hand-rock-o:before {
  content: "\f255";
}
.fa-hand-stop-o:before,
.fa-hand-paper-o:before {
  content: "\f256";
}
.fa-hand-scissors-o:before {
  content: "\f257";
}
.fa-hand-lizard-o:before {
  content: "\f258";
}
.fa-hand-spock-o:before {
  content: "\f259";
}
.fa-hand-pointer-o:before {
  content: "\f25a";
}
.fa-hand-peace-o:before {
  content: "\f25b";
}
.fa-trademark:before {
  content: "\f25c";
}
.fa-registered:before {
  content: "\f25d";
}
.fa-creative-commons:before {
  content: "\f25e";
}
.fa-gg:before {
  content: "\f260";
}
.fa-gg-circle:before {
  content: "\f261";
}
.fa-tripadvisor:before {
  content: "\f262";
}
.fa-odnoklassniki:before {
  content: "\f263";
}
.fa-odnoklassniki-square:before {
  content: "\f264";
}
.fa-get-pocket:before {
  content: "\f265";
}
.fa-wikipedia-w:before {
  content: "\f266";
}
.fa-safari:before {
  content: "\f267";
}
.fa-chrome:before {
  content: "\f268";
}
.fa-firefox:before {
  content: "\f269";
}
.fa-opera:before {
  content: "\f26a";
}
.fa-internet-explorer:before {
  content: "\f26b";
}
.fa-tv:before,
.fa-television:before {
  content: "\f26c";
}
.fa-contao:before {
  content: "\f26d";
}
.fa-500px:before {
  content: "\f26e";
}
.fa-amazon:before {
  content: "\f270";
}
.fa-calendar-plus-o:before {
  content: "\f271";
}
.fa-calendar-minus-o:before {
  content: "\f272";
}
.fa-calendar-times-o:before {
  content: "\f273";
}
.fa-calendar-check-o:before {
  content: "\f274";
}
.fa-industry:before {
  content: "\f275";
}
.fa-map-pin:before {
  content: "\f276";
}
.fa-map-signs:before {
  content: "\f277";
}
.fa-map-o:before {
  content: "\f278";
}
.fa-map:before {
  content: "\f279";
}
.fa-commenting:before {
  content: "\f27a";
}
.fa-commenting-o:before {
  content: "\f27b";
}
.fa-houzz:before {
  content: "\f27c";
}
.fa-vimeo:before {
  content: "\f27d";
}
.fa-black-tie:before {
  content: "\f27e";
}
.fa-fonticons:before {
  content: "\f280";
}
.fa-reddit-alien:before {
  content: "\f281";
}
.fa-edge:before {
  content: "\f282";
}
.fa-credit-card-alt:before {
  content: "\f283";
}
.fa-codiepie:before {
  content: "\f284";
}
.fa-modx:before {
  content: "\f285";
}
.fa-fort-awesome:before {
  content: "\f286";
}
.fa-usb:before {
  content: "\f287";
}
.fa-product-hunt:before {
  content: "\f288";
}
.fa-mixcloud:before {
  content: "\f289";
}
.fa-scribd:before {
  content: "\f28a";
}
.fa-pause-circle:before {
  content: "\f28b";
}
.fa-pause-circle-o:before {
  content: "\f28c";
}
.fa-stop-circle:before {
  content: "\f28d";
}
.fa-stop-circle-o:before {
  content: "\f28e";
}
.fa-shopping-bag:before {
  content: "\f290";
}
.fa-shopping-basket:before {
  content: "\f291";
}
.fa-hashtag:before {
  content: "\f292";
}
.fa-bluetooth:before {
  content: "\f293";
}
.fa-bluetooth-b:before {
  content: "\f294";
}
.fa-percent:before {
  content: "\f295";
}
.fa-gitlab:before {
  content: "\f296";
}
.fa-wpbeginner:before {
  content: "\f297";
}
.fa-wpforms:before {
  content: "\f298";
}
.fa-envira:before {
  content: "\f299";
}
.fa-universal-access:before {
  content: "\f29a";
}
.fa-wheelchair-alt:before {
  content: "\f29b";
}
.fa-question-circle-o:before {
  content: "\f29c";
}
.fa-blind:before {
  content: "\f29d";
}
.fa-audio-description:before {
  content: "\f29e";
}
.fa-volume-control-phone:before {
  content: "\f2a0";
}
.fa-braille:before {
  content: "\f2a1";
}
.fa-assistive-listening-systems:before {
  content: "\f2a2";
}
.fa-asl-interpreting:before,
.fa-american-sign-language-interpreting:before {
  content: "\f2a3";
}
.fa-deafness:before,
.fa-hard-of-hearing:before,
.fa-deaf:before {
  content: "\f2a4";
}
.fa-glide:before {
  content: "\f2a5";
}
.fa-glide-g:before {
  content: "\f2a6";
}
.fa-signing:before,
.fa-sign-language:before {
  content: "\f2a7";
}
.fa-low-vision:before {
  content: "\f2a8";
}
.fa-viadeo:before {
  content: "\f2a9";
}
.fa-viadeo-square:before {
  content: "\f2aa";
}
.fa-snapchat:before {
  content: "\f2ab";
}
.fa-snapchat-ghost:before {
  content: "\f2ac";
}
.fa-snapchat-square:before {
  content: "\f2ad";
}
.fa-pied-piper:before {
  content: "\f2ae";
}
.fa-first-order:before {
  content: "\f2b0";
}
.fa-yoast:before {
  content: "\f2b1";
}
.fa-themeisle:before {
  content: "\f2b2";
}
.fa-google-plus-circle:before,
.fa-google-plus-official:before {
  content: "\f2b3";
}
.fa-fa:before,
.fa-font-awesome:before {
  content: "\f2b4";
}
.fa-handshake-o:before {
  content: "\f2b5";
}
.fa-envelope-open:before {
  content: "\f2b6";
}
.fa-envelope-open-o:before {
  content: "\f2b7";
}
.fa-linode:before {
  content: "\f2b8";
}
.fa-address-book:before {
  content: "\f2b9";
}
.fa-address-book-o:before {
  content: "\f2ba";
}
.fa-vcard:before,
.fa-address-card:before {
  content: "\f2bb";
}
.fa-vcard-o:before,
.fa-address-card-o:before {
  content: "\f2bc";
}
.fa-user-circle:before {
  content: "\f2bd";
}
.fa-user-circle-o:before {
  content: "\f2be";
}
.fa-user-o:before {
  content: "\f2c0";
}
.fa-id-badge:before {
  content: "\f2c1";
}
.fa-drivers-license:before,
.fa-id-card:before {
  content: "\f2c2";
}
.fa-drivers-license-o:before,
.fa-id-card-o:before {
  content: "\f2c3";
}
.fa-quora:before {
  content: "\f2c4";
}
.fa-free-code-camp:before {
  content: "\f2c5";
}
.fa-telegram:before {
  content: "\f2c6";
}
.fa-thermometer-4:before,
.fa-thermometer:before,
.fa-thermometer-full:before {
  content: "\f2c7";
}
.fa-thermometer-3:before,
.fa-thermometer-three-quarters:before {
  content: "\f2c8";
}
.fa-thermometer-2:before,
.fa-thermometer-half:before {
  content: "\f2c9";
}
.fa-thermometer-1:before,
.fa-thermometer-quarter:before {
  content: "\f2ca";
}
.fa-thermometer-0:before,
.fa-thermometer-empty:before {
  content: "\f2cb";
}
.fa-shower:before {
  content: "\f2cc";
}
.fa-bathtub:before,
.fa-s15:before,
.fa-bath:before {
  content: "\f2cd";
}
.fa-podcast:before {
  content: "\f2ce";
}
.fa-window-maximize:before {
  content: "\f2d0";
}
.fa-window-minimize:before {
  content: "\f2d1";
}
.fa-window-restore:before {
  content: "\f2d2";
}
.fa-times-rectangle:before,
.fa-window-close:before {
  content: "\f2d3";
}
.fa-times-rectangle-o:before,
.fa-window-close-o:before {
  content: "\f2d4";
}
.fa-bandcamp:before {
  content: "\f2d5";
}
.fa-grav:before {
  content: "\f2d6";
}
.fa-etsy:before {
  content: "\f2d7";
}
.fa-imdb:before {
  content: "\f2d8";
}
.fa-ravelry:before {
  content: "\f2d9";
}
.fa-eercast:before {
  content: "\f2da";
}
.fa-microchip:before {
  content: "\f2db";
}
.fa-snowflake-o:before {
  content: "\f2dc";
}
.fa-superpowers:before {
  content: "\f2dd";
}
.fa-wpexplorer:before {
  content: "\f2de";
}
.fa-meetup:before {
  content: "\f2e0";
}
.sr-only {
  position: absolute;
  width: 1px;
  height: 1px;
  padding: 0;
  margin: -1px;
  overflow: hidden;
  clip: rect(0, 0, 0, 0);
  border: 0;
}
.sr-only-focusable:active,
.sr-only-focusable:focus {
  position: static;
  width: auto;
  height: auto;
  margin: 0;
  overflow: visible;
  clip: auto;
}
</style><style>/*-----------------------------------------------------------------------------
| Copyright (c) Jupyter Development Team.
| Copyright (c) 2014-2017, PhosphorJS Contributors
|
| Distributed under the terms of the BSD 3-Clause License.
|
| The full license is in the file LICENSE, distributed with this software.
|----------------------------------------------------------------------------*/


/* <DEPRECATED> */ .p-Widget, /* </DEPRECATED> */
.lm-Widget {
  box-sizing: border-box;
  position: relative;
  overflow: hidden;
  cursor: default;
}


/* <DEPRECATED> */ .p-Widget.p-mod-hidden, /* </DEPRECATED> */
.lm-Widget.lm-mod-hidden {
  display: none !important;
}
</style><style>/*-----------------------------------------------------------------------------
| Copyright (c) Jupyter Development Team.
| Copyright (c) 2014-2017, PhosphorJS Contributors
|
| Distributed under the terms of the BSD 3-Clause License.
|
| The full license is in the file LICENSE, distributed with this software.
|----------------------------------------------------------------------------*/


/* <DEPRECATED> */ .p-CommandPalette, /* </DEPRECATED> */
.lm-CommandPalette {
  display: flex;
  flex-direction: column;
  -webkit-user-select: none;
  -moz-user-select: none;
  -ms-user-select: none;
  user-select: none;
}


/* <DEPRECATED> */ .p-CommandPalette-search, /* </DEPRECATED> */
.lm-CommandPalette-search {
  flex: 0 0 auto;
}


/* <DEPRECATED> */ .p-CommandPalette-content, /* </DEPRECATED> */
.lm-CommandPalette-content {
  flex: 1 1 auto;
  margin: 0;
  padding: 0;
  min-height: 0;
  overflow: auto;
  list-style-type: none;
}


/* <DEPRECATED> */ .p-CommandPalette-header, /* </DEPRECATED> */
.lm-CommandPalette-header {
  overflow: hidden;
  white-space: nowrap;
  text-overflow: ellipsis;
}


/* <DEPRECATED> */ .p-CommandPalette-item, /* </DEPRECATED> */
.lm-CommandPalette-item {
  display: flex;
  flex-direction: row;
}


/* <DEPRECATED> */ .p-CommandPalette-itemIcon, /* </DEPRECATED> */
.lm-CommandPalette-itemIcon {
  flex: 0 0 auto;
}


/* <DEPRECATED> */ .p-CommandPalette-itemContent, /* </DEPRECATED> */
.lm-CommandPalette-itemContent {
  flex: 1 1 auto;
  overflow: hidden;
}


/* <DEPRECATED> */ .p-CommandPalette-itemShortcut, /* </DEPRECATED> */
.lm-CommandPalette-itemShortcut {
  flex: 0 0 auto;
}


/* <DEPRECATED> */ .p-CommandPalette-itemLabel, /* </DEPRECATED> */
.lm-CommandPalette-itemLabel {
  overflow: hidden;
  white-space: nowrap;
  text-overflow: ellipsis;
}

.lm-close-icon {
	border:1px solid transparent;
  background-color: transparent;
  position: absolute;
	z-index:1;
	right:3%;
	top: 0;
	bottom: 0;
	margin: auto;
	padding: 7px 0;
	display: none;
	vertical-align: middle;
  outline: 0;
  cursor: pointer;
}
.lm-close-icon:after {
	content: "X";
	display: block;
	width: 15px;
	height: 15px;
	text-align: center;
	color:#000;
	font-weight: normal;
	font-size: 12px;
	cursor: pointer;
}
</style><style>/*-----------------------------------------------------------------------------
| Copyright (c) Jupyter Development Team.
| Copyright (c) 2014-2017, PhosphorJS Contributors
|
| Distributed under the terms of the BSD 3-Clause License.
|
| The full license is in the file LICENSE, distributed with this software.
|----------------------------------------------------------------------------*/


/* <DEPRECATED> */ .p-DockPanel, /* </DEPRECATED> */
.lm-DockPanel {
  z-index: 0;
}


/* <DEPRECATED> */ .p-DockPanel-widget, /* </DEPRECATED> */
.lm-DockPanel-widget {
  z-index: 0;
}


/* <DEPRECATED> */ .p-DockPanel-tabBar, /* </DEPRECATED> */
.lm-DockPanel-tabBar {
  z-index: 1;
}


/* <DEPRECATED> */ .p-DockPanel-handle, /* </DEPRECATED> */
.lm-DockPanel-handle {
  z-index: 2;
}


/* <DEPRECATED> */ .p-DockPanel-handle.p-mod-hidden, /* </DEPRECATED> */
.lm-DockPanel-handle.lm-mod-hidden {
  display: none !important;
}


/* <DEPRECATED> */ .p-DockPanel-handle:after, /* </DEPRECATED> */
.lm-DockPanel-handle:after {
  position: absolute;
  top: 0;
  left: 0;
  width: 100%;
  height: 100%;
  content: '';
}


/* <DEPRECATED> */
.p-DockPanel-handle[data-orientation='horizontal'],
/* </DEPRECATED> */
.lm-DockPanel-handle[data-orientation='horizontal'] {
  cursor: ew-resize;
}


/* <DEPRECATED> */
.p-DockPanel-handle[data-orientation='vertical'],
/* </DEPRECATED> */
.lm-DockPanel-handle[data-orientation='vertical'] {
  cursor: ns-resize;
}


/* <DEPRECATED> */
.p-DockPanel-handle[data-orientation='horizontal']:after,
/* </DEPRECATED> */
.lm-DockPanel-handle[data-orientation='horizontal']:after {
  left: 50%;
  min-width: 8px;
  transform: translateX(-50%);
}


/* <DEPRECATED> */
.p-DockPanel-handle[data-orientation='vertical']:after,
/* </DEPRECATED> */
.lm-DockPanel-handle[data-orientation='vertical']:after {
  top: 50%;
  min-height: 8px;
  transform: translateY(-50%);
}


/* <DEPRECATED> */ .p-DockPanel-overlay, /* </DEPRECATED> */
.lm-DockPanel-overlay {
  z-index: 3;
  box-sizing: border-box;
  pointer-events: none;
}


/* <DEPRECATED> */ .p-DockPanel-overlay.p-mod-hidden, /* </DEPRECATED> */
.lm-DockPanel-overlay.lm-mod-hidden {
  display: none !important;
}
</style><style>/*-----------------------------------------------------------------------------
| Copyright (c) Jupyter Development Team.
| Copyright (c) 2014-2017, PhosphorJS Contributors
|
| Distributed under the terms of the BSD 3-Clause License.
|
| The full license is in the file LICENSE, distributed with this software.
|----------------------------------------------------------------------------*/


/* <DEPRECATED> */ .p-Menu, /* </DEPRECATED> */
.lm-Menu {
  z-index: 10000;
  position: absolute;
  white-space: nowrap;
  overflow-x: hidden;
  overflow-y: auto;
  outline: none;
  -webkit-user-select: none;
  -moz-user-select: none;
  -ms-user-select: none;
  user-select: none;
}


/* <DEPRECATED> */ .p-Menu-content, /* </DEPRECATED> */
.lm-Menu-content {
  margin: 0;
  padding: 0;
  display: table;
  list-style-type: none;
}


/* <DEPRECATED> */ .p-Menu-item, /* </DEPRECATED> */
.lm-Menu-item {
  display: table-row;
}


/* <DEPRECATED> */
.p-Menu-item.p-mod-hidden,
.p-Menu-item.p-mod-collapsed,
/* </DEPRECATED> */
.lm-Menu-item.lm-mod-hidden,
.lm-Menu-item.lm-mod-collapsed {
  display: none !important;
}


/* <DEPRECATED> */
.p-Menu-itemIcon,
.p-Menu-itemSubmenuIcon,
/* </DEPRECATED> */
.lm-Menu-itemIcon,
.lm-Menu-itemSubmenuIcon {
  display: table-cell;
  text-align: center;
}


/* <DEPRECATED> */ .p-Menu-itemLabel, /* </DEPRECATED> */
.lm-Menu-itemLabel {
  display: table-cell;
  text-align: left;
}


/* <DEPRECATED> */ .p-Menu-itemShortcut, /* </DEPRECATED> */
.lm-Menu-itemShortcut {
  display: table-cell;
  text-align: right;
}
</style><style>/*-----------------------------------------------------------------------------
| Copyright (c) Jupyter Development Team.
| Copyright (c) 2014-2017, PhosphorJS Contributors
|
| Distributed under the terms of the BSD 3-Clause License.
|
| The full license is in the file LICENSE, distributed with this software.
|----------------------------------------------------------------------------*/


/* <DEPRECATED> */ .p-MenuBar, /* </DEPRECATED> */
.lm-MenuBar {
  outline: none;
  -webkit-user-select: none;
  -moz-user-select: none;
  -ms-user-select: none;
  user-select: none;
}


/* <DEPRECATED> */ .p-MenuBar-content, /* </DEPRECATED> */
.lm-MenuBar-content {
  margin: 0;
  padding: 0;
  display: flex;
  flex-direction: row;
  list-style-type: none;
}


/* <DEPRECATED> */ .p--MenuBar-item, /* </DEPRECATED> */
.lm-MenuBar-item {
  box-sizing: border-box;
}


/* <DEPRECATED> */
.p-MenuBar-itemIcon,
.p-MenuBar-itemLabel,
/* </DEPRECATED> */
.lm-MenuBar-itemIcon,
.lm-MenuBar-itemLabel {
  display: inline-block;
}
</style><style>/*-----------------------------------------------------------------------------
| Copyright (c) Jupyter Development Team.
| Copyright (c) 2014-2017, PhosphorJS Contributors
|
| Distributed under the terms of the BSD 3-Clause License.
|
| The full license is in the file LICENSE, distributed with this software.
|----------------------------------------------------------------------------*/


/* <DEPRECATED> */ .p-ScrollBar, /* </DEPRECATED> */
.lm-ScrollBar {
  display: flex;
  -webkit-user-select: none;
  -moz-user-select: none;
  -ms-user-select: none;
  user-select: none;
}


/* <DEPRECATED> */
.p-ScrollBar[data-orientation='horizontal'],
/* </DEPRECATED> */
.lm-ScrollBar[data-orientation='horizontal'] {
  flex-direction: row;
}


/* <DEPRECATED> */
.p-ScrollBar[data-orientation='vertical'],
/* </DEPRECATED> */
.lm-ScrollBar[data-orientation='vertical'] {
  flex-direction: column;
}


/* <DEPRECATED> */ .p-ScrollBar-button, /* </DEPRECATED> */
.lm-ScrollBar-button {
  box-sizing: border-box;
  flex: 0 0 auto;
}


/* <DEPRECATED> */ .p-ScrollBar-track, /* </DEPRECATED> */
.lm-ScrollBar-track {
  box-sizing: border-box;
  position: relative;
  overflow: hidden;
  flex: 1 1 auto;
}


/* <DEPRECATED> */ .p-ScrollBar-thumb, /* </DEPRECATED> */
.lm-ScrollBar-thumb {
  box-sizing: border-box;
  position: absolute;
}
</style><style>/*-----------------------------------------------------------------------------
| Copyright (c) Jupyter Development Team.
| Copyright (c) 2014-2017, PhosphorJS Contributors
|
| Distributed under the terms of the BSD 3-Clause License.
|
| The full license is in the file LICENSE, distributed with this software.
|----------------------------------------------------------------------------*/


/* <DEPRECATED> */ .p-SplitPanel-child, /* </DEPRECATED> */
.lm-SplitPanel-child {
  z-index: 0;
}


/* <DEPRECATED> */ .p-SplitPanel-handle, /* </DEPRECATED> */
.lm-SplitPanel-handle {
  z-index: 1;
}


/* <DEPRECATED> */ .p-SplitPanel-handle.p-mod-hidden, /* </DEPRECATED> */
.lm-SplitPanel-handle.lm-mod-hidden {
  display: none !important;
}


/* <DEPRECATED> */ .p-SplitPanel-handle:after, /* </DEPRECATED> */
.lm-SplitPanel-handle:after {
  position: absolute;
  top: 0;
  left: 0;
  width: 100%;
  height: 100%;
  content: '';
}


/* <DEPRECATED> */
.p-SplitPanel[data-orientation='horizontal'] > .p-SplitPanel-handle,
/* </DEPRECATED> */
.lm-SplitPanel[data-orientation='horizontal'] > .lm-SplitPanel-handle {
  cursor: ew-resize;
}


/* <DEPRECATED> */
.p-SplitPanel[data-orientation='vertical'] > .p-SplitPanel-handle,
/* </DEPRECATED> */
.lm-SplitPanel[data-orientation='vertical'] > .lm-SplitPanel-handle {
  cursor: ns-resize;
}


/* <DEPRECATED> */
.p-SplitPanel[data-orientation='horizontal'] > .p-SplitPanel-handle:after,
/* </DEPRECATED> */
.lm-SplitPanel[data-orientation='horizontal'] > .lm-SplitPanel-handle:after {
  left: 50%;
  min-width: 8px;
  transform: translateX(-50%);
}


/* <DEPRECATED> */
.p-SplitPanel[data-orientation='vertical'] > .p-SplitPanel-handle:after,
/* </DEPRECATED> */
.lm-SplitPanel[data-orientation='vertical'] > .lm-SplitPanel-handle:after {
  top: 50%;
  min-height: 8px;
  transform: translateY(-50%);
}
</style><style>/*-----------------------------------------------------------------------------
| Copyright (c) Jupyter Development Team.
| Copyright (c) 2014-2017, PhosphorJS Contributors
|
| Distributed under the terms of the BSD 3-Clause License.
|
| The full license is in the file LICENSE, distributed with this software.
|----------------------------------------------------------------------------*/


/* <DEPRECATED> */ .p-TabBar, /* </DEPRECATED> */
.lm-TabBar {
  display: flex;
  -webkit-user-select: none;
  -moz-user-select: none;
  -ms-user-select: none;
  user-select: none;
}


/* <DEPRECATED> */ .p-TabBar[data-orientation='horizontal'], /* </DEPRECATED> */
.lm-TabBar[data-orientation='horizontal'] {
  flex-direction: row;
}


/* <DEPRECATED> */ .p-TabBar[data-orientation='vertical'], /* </DEPRECATED> */
.lm-TabBar[data-orientation='vertical'] {
  flex-direction: column;
}


/* <DEPRECATED> */ .p-TabBar-content, /* </DEPRECATED> */
.lm-TabBar-content {
  margin: 0;
  padding: 0;
  display: flex;
  flex: 1 1 auto;
  list-style-type: none;
}


/* <DEPRECATED> */
.p-TabBar[data-orientation='horizontal'] > .p-TabBar-content,
/* </DEPRECATED> */
.lm-TabBar[data-orientation='horizontal'] > .lm-TabBar-content {
  flex-direction: row;
}


/* <DEPRECATED> */
.p-TabBar[data-orientation='vertical'] > .p-TabBar-content,
/* </DEPRECATED> */
.lm-TabBar[data-orientation='vertical'] > .lm-TabBar-content {
  flex-direction: column;
}


/* <DEPRECATED> */ .p-TabBar-tab, /* </DEPRECATED> */
.lm-TabBar-tab {
  display: flex;
  flex-direction: row;
  box-sizing: border-box;
  overflow: hidden;
}


/* <DEPRECATED> */
.p-TabBar-tabIcon,
.p-TabBar-tabCloseIcon,
/* </DEPRECATED> */
.lm-TabBar-tabIcon,
.lm-TabBar-tabCloseIcon {
  flex: 0 0 auto;
}


/* <DEPRECATED> */ .p-TabBar-tabLabel, /* </DEPRECATED> */
.lm-TabBar-tabLabel {
  flex: 1 1 auto;
  overflow: hidden;
  white-space: nowrap;
}


.lm-TabBar-tabInput {
  user-select: all;
  width: 100%;
  box-sizing : border-box;
}


/* <DEPRECATED> */ .p-TabBar-tab.p-mod-hidden, /* </DEPRECATED> */
.lm-TabBar-tab.lm-mod-hidden {
  display: none !important;
}


/* <DEPRECATED> */ .p-TabBar.p-mod-dragging .p-TabBar-tab, /* </DEPRECATED> */
.lm-TabBar.lm-mod-dragging .lm-TabBar-tab {
  position: relative;
}


/* <DEPRECATED> */
.p-TabBar.p-mod-dragging[data-orientation='horizontal'] .p-TabBar-tab,
/* </DEPRECATED> */
.lm-TabBar.lm-mod-dragging[data-orientation='horizontal'] .lm-TabBar-tab {
  left: 0;
  transition: left 150ms ease;
}


/* <DEPRECATED> */
.p-TabBar.p-mod-dragging[data-orientation='vertical'] .p-TabBar-tab,
/* </DEPRECATED> */
.lm-TabBar.lm-mod-dragging[data-orientation='vertical'] .lm-TabBar-tab {
  top: 0;
  transition: top 150ms ease;
}


/* <DEPRECATED> */
.p-TabBar.p-mod-dragging .p-TabBar-tab.p-mod-dragging,
/* </DEPRECATED> */
.lm-TabBar.lm-mod-dragging .lm-TabBar-tab.lm-mod-dragging {
  transition: none;
}
</style><style>/*-----------------------------------------------------------------------------
| Copyright (c) Jupyter Development Team.
| Copyright (c) 2014-2017, PhosphorJS Contributors
|
| Distributed under the terms of the BSD 3-Clause License.
|
| The full license is in the file LICENSE, distributed with this software.
|----------------------------------------------------------------------------*/


/* <DEPRECATED> */ .p-TabPanel-tabBar, /* </DEPRECATED> */
.lm-TabPanel-tabBar {
  z-index: 1;
}


/* <DEPRECATED> */ .p-TabPanel-stackedPanel, /* </DEPRECATED> */
.lm-TabPanel-stackedPanel {
  z-index: 0;
}
</style><style>/*-----------------------------------------------------------------------------
| Copyright (c) Jupyter Development Team.
| Copyright (c) 2014-2017, PhosphorJS Contributors
|
| Distributed under the terms of the BSD 3-Clause License.
|
| The full license is in the file LICENSE, distributed with this software.
|----------------------------------------------------------------------------*/
</style><style>/**
 * The material design colors are adapted from google-material-color v1.2.6
 * https://github.com/danlevan/google-material-color
 * https://github.com/danlevan/google-material-color/blob/f67ca5f4028b2f1b34862f64b0ca67323f91b088/dist/palette.var.css
 *
 * The license for the material design color CSS variables is as follows (see
 * https://github.com/danlevan/google-material-color/blob/f67ca5f4028b2f1b34862f64b0ca67323f91b088/LICENSE)
 *
 * The MIT License (MIT)
 *
 * Copyright (c) 2014 Dan Le Van
 *
 * Permission is hereby granted, free of charge, to any person obtaining a copy
 * of this software and associated documentation files (the "Software"), to deal
 * in the Software without restriction, including without limitation the rights
 * to use, copy, modify, merge, publish, distribute, sublicense, and/or sell
 * copies of the Software, and to permit persons to whom the Software is
 * furnished to do so, subject to the following conditions:
 *
 * The above copyright notice and this permission notice shall be included in
 * all copies or substantial portions of the Software.
 *
 * THE SOFTWARE IS PROVIDED "AS IS", WITHOUT WARRANTY OF ANY KIND, EXPRESS OR
 * IMPLIED, INCLUDING BUT NOT LIMITED TO THE WARRANTIES OF MERCHANTABILITY,
 * FITNESS FOR A PARTICULAR PURPOSE AND NONINFRINGEMENT. IN NO EVENT SHALL THE
 * AUTHORS OR COPYRIGHT HOLDERS BE LIABLE FOR ANY CLAIM, DAMAGES OR OTHER
 * LIABILITY, WHETHER IN AN ACTION OF CONTRACT, TORT OR OTHERWISE, ARISING FROM,
 * OUT OF OR IN CONNECTION WITH THE SOFTWARE OR THE USE OR OTHER DEALINGS IN THE
 * SOFTWARE.
 */
:root {
  --md-red-50: #FFEBEE;
  --md-red-100: #FFCDD2;
  --md-red-200: #EF9A9A;
  --md-red-300: #E57373;
  --md-red-400: #EF5350;
  --md-red-500: #F44336;
  --md-red-600: #E53935;
  --md-red-700: #D32F2F;
  --md-red-800: #C62828;
  --md-red-900: #B71C1C;
  --md-red-A100: #FF8A80;
  --md-red-A200: #FF5252;
  --md-red-A400: #FF1744;
  --md-red-A700: #D50000;

  --md-pink-50: #FCE4EC;
  --md-pink-100: #F8BBD0;
  --md-pink-200: #F48FB1;
  --md-pink-300: #F06292;
  --md-pink-400: #EC407A;
  --md-pink-500: #E91E63;
  --md-pink-600: #D81B60;
  --md-pink-700: #C2185B;
  --md-pink-800: #AD1457;
  --md-pink-900: #880E4F;
  --md-pink-A100: #FF80AB;
  --md-pink-A200: #FF4081;
  --md-pink-A400: #F50057;
  --md-pink-A700: #C51162;

  --md-purple-50: #F3E5F5;
  --md-purple-100: #E1BEE7;
  --md-purple-200: #CE93D8;
  --md-purple-300: #BA68C8;
  --md-purple-400: #AB47BC;
  --md-purple-500: #9C27B0;
  --md-purple-600: #8E24AA;
  --md-purple-700: #7B1FA2;
  --md-purple-800: #6A1B9A;
  --md-purple-900: #4A148C;
  --md-purple-A100: #EA80FC;
  --md-purple-A200: #E040FB;
  --md-purple-A400: #D500F9;
  --md-purple-A700: #AA00FF;

  --md-deep-purple-50: #EDE7F6;
  --md-deep-purple-100: #D1C4E9;
  --md-deep-purple-200: #B39DDB;
  --md-deep-purple-300: #9575CD;
  --md-deep-purple-400: #7E57C2;
  --md-deep-purple-500: #673AB7;
  --md-deep-purple-600: #5E35B1;
  --md-deep-purple-700: #512DA8;
  --md-deep-purple-800: #4527A0;
  --md-deep-purple-900: #311B92;
  --md-deep-purple-A100: #B388FF;
  --md-deep-purple-A200: #7C4DFF;
  --md-deep-purple-A400: #651FFF;
  --md-deep-purple-A700: #6200EA;

  --md-indigo-50: #E8EAF6;
  --md-indigo-100: #C5CAE9;
  --md-indigo-200: #9FA8DA;
  --md-indigo-300: #7986CB;
  --md-indigo-400: #5C6BC0;
  --md-indigo-500: #3F51B5;
  --md-indigo-600: #3949AB;
  --md-indigo-700: #303F9F;
  --md-indigo-800: #283593;
  --md-indigo-900: #1A237E;
  --md-indigo-A100: #8C9EFF;
  --md-indigo-A200: #536DFE;
  --md-indigo-A400: #3D5AFE;
  --md-indigo-A700: #304FFE;

  --md-blue-50: #E3F2FD;
  --md-blue-100: #BBDEFB;
  --md-blue-200: #90CAF9;
  --md-blue-300: #64B5F6;
  --md-blue-400: #42A5F5;
  --md-blue-500: #2196F3;
  --md-blue-600: #1E88E5;
  --md-blue-700: #1976D2;
  --md-blue-800: #1565C0;
  --md-blue-900: #0D47A1;
  --md-blue-A100: #82B1FF;
  --md-blue-A200: #448AFF;
  --md-blue-A400: #2979FF;
  --md-blue-A700: #2962FF;

  --md-light-blue-50: #E1F5FE;
  --md-light-blue-100: #B3E5FC;
  --md-light-blue-200: #81D4FA;
  --md-light-blue-300: #4FC3F7;
  --md-light-blue-400: #29B6F6;
  --md-light-blue-500: #03A9F4;
  --md-light-blue-600: #039BE5;
  --md-light-blue-700: #0288D1;
  --md-light-blue-800: #0277BD;
  --md-light-blue-900: #01579B;
  --md-light-blue-A100: #80D8FF;
  --md-light-blue-A200: #40C4FF;
  --md-light-blue-A400: #00B0FF;
  --md-light-blue-A700: #0091EA;

  --md-cyan-50: #E0F7FA;
  --md-cyan-100: #B2EBF2;
  --md-cyan-200: #80DEEA;
  --md-cyan-300: #4DD0E1;
  --md-cyan-400: #26C6DA;
  --md-cyan-500: #00BCD4;
  --md-cyan-600: #00ACC1;
  --md-cyan-700: #0097A7;
  --md-cyan-800: #00838F;
  --md-cyan-900: #006064;
  --md-cyan-A100: #84FFFF;
  --md-cyan-A200: #18FFFF;
  --md-cyan-A400: #00E5FF;
  --md-cyan-A700: #00B8D4;

  --md-teal-50: #E0F2F1;
  --md-teal-100: #B2DFDB;
  --md-teal-200: #80CBC4;
  --md-teal-300: #4DB6AC;
  --md-teal-400: #26A69A;
  --md-teal-500: #009688;
  --md-teal-600: #00897B;
  --md-teal-700: #00796B;
  --md-teal-800: #00695C;
  --md-teal-900: #004D40;
  --md-teal-A100: #A7FFEB;
  --md-teal-A200: #64FFDA;
  --md-teal-A400: #1DE9B6;
  --md-teal-A700: #00BFA5;

  --md-green-50: #E8F5E9;
  --md-green-100: #C8E6C9;
  --md-green-200: #A5D6A7;
  --md-green-300: #81C784;
  --md-green-400: #66BB6A;
  --md-green-500: #4CAF50;
  --md-green-600: #43A047;
  --md-green-700: #388E3C;
  --md-green-800: #2E7D32;
  --md-green-900: #1B5E20;
  --md-green-A100: #B9F6CA;
  --md-green-A200: #69F0AE;
  --md-green-A400: #00E676;
  --md-green-A700: #00C853;

  --md-light-green-50: #F1F8E9;
  --md-light-green-100: #DCEDC8;
  --md-light-green-200: #C5E1A5;
  --md-light-green-300: #AED581;
  --md-light-green-400: #9CCC65;
  --md-light-green-500: #8BC34A;
  --md-light-green-600: #7CB342;
  --md-light-green-700: #689F38;
  --md-light-green-800: #558B2F;
  --md-light-green-900: #33691E;
  --md-light-green-A100: #CCFF90;
  --md-light-green-A200: #B2FF59;
  --md-light-green-A400: #76FF03;
  --md-light-green-A700: #64DD17;

  --md-lime-50: #F9FBE7;
  --md-lime-100: #F0F4C3;
  --md-lime-200: #E6EE9C;
  --md-lime-300: #DCE775;
  --md-lime-400: #D4E157;
  --md-lime-500: #CDDC39;
  --md-lime-600: #C0CA33;
  --md-lime-700: #AFB42B;
  --md-lime-800: #9E9D24;
  --md-lime-900: #827717;
  --md-lime-A100: #F4FF81;
  --md-lime-A200: #EEFF41;
  --md-lime-A400: #C6FF00;
  --md-lime-A700: #AEEA00;

  --md-yellow-50: #FFFDE7;
  --md-yellow-100: #FFF9C4;
  --md-yellow-200: #FFF59D;
  --md-yellow-300: #FFF176;
  --md-yellow-400: #FFEE58;
  --md-yellow-500: #FFEB3B;
  --md-yellow-600: #FDD835;
  --md-yellow-700: #FBC02D;
  --md-yellow-800: #F9A825;
  --md-yellow-900: #F57F17;
  --md-yellow-A100: #FFFF8D;
  --md-yellow-A200: #FFFF00;
  --md-yellow-A400: #FFEA00;
  --md-yellow-A700: #FFD600;

  --md-amber-50: #FFF8E1;
  --md-amber-100: #FFECB3;
  --md-amber-200: #FFE082;
  --md-amber-300: #FFD54F;
  --md-amber-400: #FFCA28;
  --md-amber-500: #FFC107;
  --md-amber-600: #FFB300;
  --md-amber-700: #FFA000;
  --md-amber-800: #FF8F00;
  --md-amber-900: #FF6F00;
  --md-amber-A100: #FFE57F;
  --md-amber-A200: #FFD740;
  --md-amber-A400: #FFC400;
  --md-amber-A700: #FFAB00;

  --md-orange-50: #FFF3E0;
  --md-orange-100: #FFE0B2;
  --md-orange-200: #FFCC80;
  --md-orange-300: #FFB74D;
  --md-orange-400: #FFA726;
  --md-orange-500: #FF9800;
  --md-orange-600: #FB8C00;
  --md-orange-700: #F57C00;
  --md-orange-800: #EF6C00;
  --md-orange-900: #E65100;
  --md-orange-A100: #FFD180;
  --md-orange-A200: #FFAB40;
  --md-orange-A400: #FF9100;
  --md-orange-A700: #FF6D00;

  --md-deep-orange-50: #FBE9E7;
  --md-deep-orange-100: #FFCCBC;
  --md-deep-orange-200: #FFAB91;
  --md-deep-orange-300: #FF8A65;
  --md-deep-orange-400: #FF7043;
  --md-deep-orange-500: #FF5722;
  --md-deep-orange-600: #F4511E;
  --md-deep-orange-700: #E64A19;
  --md-deep-orange-800: #D84315;
  --md-deep-orange-900: #BF360C;
  --md-deep-orange-A100: #FF9E80;
  --md-deep-orange-A200: #FF6E40;
  --md-deep-orange-A400: #FF3D00;
  --md-deep-orange-A700: #DD2C00;

  --md-brown-50: #EFEBE9;
  --md-brown-100: #D7CCC8;
  --md-brown-200: #BCAAA4;
  --md-brown-300: #A1887F;
  --md-brown-400: #8D6E63;
  --md-brown-500: #795548;
  --md-brown-600: #6D4C41;
  --md-brown-700: #5D4037;
  --md-brown-800: #4E342E;
  --md-brown-900: #3E2723;

  --md-grey-50: #FAFAFA;
  --md-grey-100: #F5F5F5;
  --md-grey-200: #EEEEEE;
  --md-grey-300: #E0E0E0;
  --md-grey-400: #BDBDBD;
  --md-grey-500: #9E9E9E;
  --md-grey-600: #757575;
  --md-grey-700: #616161;
  --md-grey-800: #424242;
  --md-grey-900: #212121;

  --md-blue-grey-50: #ECEFF1;
  --md-blue-grey-100: #CFD8DC;
  --md-blue-grey-200: #B0BEC5;
  --md-blue-grey-300: #90A4AE;
  --md-blue-grey-400: #78909C;
  --md-blue-grey-500: #607D8B;
  --md-blue-grey-600: #546E7A;
  --md-blue-grey-700: #455A64;
  --md-blue-grey-800: #37474F;
  --md-blue-grey-900: #263238;
}</style><style>/*-----------------------------------------------------------------------------
| Copyright (c) Jupyter Development Team.
| Distributed under the terms of the Modified BSD License.
|----------------------------------------------------------------------------*/

/*
This file is copied from the JupyterLab project to define default styling for
when the widget styling is compiled down to eliminate CSS variables. We make one
change - we comment out the font import below.
*/

/*
The following CSS variables define the main, public API for styling JupyterLab.
These variables should be used by all plugins wherever possible. In other
words, plugins should not define custom colors, sizes, etc unless absolutely
necessary. This enables users to change the visual theme of JupyterLab
by changing these variables.

Many variables appear in an ordered sequence (0,1,2,3). These sequences
are designed to work well together, so for example, `--jp-border-color1` should
be used with `--jp-layout-color1`. The numbers have the following meanings:

* 0: super-primary, reserved for special emphasis
* 1: primary, most important under normal situations
* 2: secondary, next most important under normal situations
* 3: tertiary, next most important under normal situations

Throughout JupyterLab, we are mostly following principles from Google's
Material Design when selecting colors. We are not, however, following
all of MD as it is not optimized for dense, information rich UIs.
*/


/*
 * Optional monospace font for input/output prompt.
 */
 /* Commented out in ipywidgets since we don't need it. */
/* @import url('https://fonts.googleapis.com/css?family=Roboto+Mono'); */

/*
 * Added for compabitility with output area
 */
:root {
  --jp-icon-search: none;
  --jp-ui-select-caret: none;
}


:root {

  /* Borders

  The following variables, specify the visual styling of borders in JupyterLab.
   */

  --jp-border-width: 1px;
  --jp-border-color0: var(--md-grey-700);
  --jp-border-color1: var(--md-grey-500);
  --jp-border-color2: var(--md-grey-300);
  --jp-border-color3: var(--md-grey-100);

  /* UI Fonts

  The UI font CSS variables are used for the typography all of the JupyterLab
  user interface elements that are not directly user generated content.
  */

  --jp-ui-font-scale-factor: 1.2;
  --jp-ui-font-size0: calc(var(--jp-ui-font-size1)/var(--jp-ui-font-scale-factor));
  --jp-ui-font-size1: 13px; /* Base font size */
  --jp-ui-font-size2: calc(var(--jp-ui-font-size1)*var(--jp-ui-font-scale-factor));
  --jp-ui-font-size3: calc(var(--jp-ui-font-size2)*var(--jp-ui-font-scale-factor));
  --jp-ui-icon-font-size: 14px; /* Ensures px perfect FontAwesome icons */
  --jp-ui-font-family: "Helvetica Neue", Helvetica, Arial, sans-serif;

  /* Use these font colors against the corresponding main layout colors.
     In a light theme, these go from dark to light.
  */

  --jp-ui-font-color0: rgba(0,0,0,1.0);
  --jp-ui-font-color1: rgba(0,0,0,0.8);
  --jp-ui-font-color2: rgba(0,0,0,0.5);
  --jp-ui-font-color3: rgba(0,0,0,0.3);

  /* Use these against the brand/accent/warn/error colors.
     These will typically go from light to darker, in both a dark and light theme
   */

  --jp-ui-inverse-font-color0: rgba(255, 255, 255, 1);
  --jp-ui-inverse-font-color1: rgba(255, 255, 255, 1);
  --jp-ui-inverse-font-color2: rgba(255, 255, 255, 0.7);
  --jp-ui-inverse-font-color3: rgba(255, 255, 255, 0.5);

  /* For backwards compatibility, we still define these below until ipywidgets 8.0.
  See https://github.com/jupyter-widgets/ipywidgets/pull/2801 */
  --jp-inverse-ui-font-color0: rgba(255,255,255,1);
  --jp-inverse-ui-font-color1: rgba(255,255,255,1.0);
  --jp-inverse-ui-font-color2: rgba(255,255,255,0.7);
  --jp-inverse-ui-font-color3: rgba(255,255,255,0.5);

  /* Content Fonts

  Content font variables are used for typography of user generated content.
  */

  --jp-content-font-size: 13px;
  --jp-content-line-height: 1.5;
  --jp-content-font-color0: black;
  --jp-content-font-color1: black;
  --jp-content-font-color2: var(--md-grey-700);
  --jp-content-font-color3: var(--md-grey-500);

  --jp-ui-font-scale-factor: 1.2;
  --jp-ui-font-size0: calc(var(--jp-ui-font-size1)/var(--jp-ui-font-scale-factor));
  --jp-ui-font-size1: 13px; /* Base font size */
  --jp-ui-font-size2: calc(var(--jp-ui-font-size1)*var(--jp-ui-font-scale-factor));
  --jp-ui-font-size3: calc(var(--jp-ui-font-size2)*var(--jp-ui-font-scale-factor));

  --jp-code-font-size: 13px;
  --jp-code-line-height: 1.307;
  --jp-code-padding: 5px;
  --jp-code-font-family: monospace;


  /* Layout

  The following are the main layout colors use in JupyterLab. In a light
  theme these would go from light to dark.
  */

  --jp-layout-color0: white;
  --jp-layout-color1: white;
  --jp-layout-color2: var(--md-grey-200);
  --jp-layout-color3: var(--md-grey-400);

  /* Brand/accent */

  --jp-brand-color0: var(--md-blue-700);
  --jp-brand-color1: var(--md-blue-500);
  --jp-brand-color2: var(--md-blue-300);
  --jp-brand-color3: var(--md-blue-100);

  --jp-accent-color0: var(--md-green-700);
  --jp-accent-color1: var(--md-green-500);
  --jp-accent-color2: var(--md-green-300);
  --jp-accent-color3: var(--md-green-100);

  /* State colors (warn, error, success, info) */

  --jp-warn-color0: var(--md-orange-700);
  --jp-warn-color1: var(--md-orange-500);
  --jp-warn-color2: var(--md-orange-300);
  --jp-warn-color3: var(--md-orange-100);

  --jp-error-color0: var(--md-red-700);
  --jp-error-color1: var(--md-red-500);
  --jp-error-color2: var(--md-red-300);
  --jp-error-color3: var(--md-red-100);

  --jp-success-color0: var(--md-green-700);
  --jp-success-color1: var(--md-green-500);
  --jp-success-color2: var(--md-green-300);
  --jp-success-color3: var(--md-green-100);

  --jp-info-color0: var(--md-cyan-700);
  --jp-info-color1: var(--md-cyan-500);
  --jp-info-color2: var(--md-cyan-300);
  --jp-info-color3: var(--md-cyan-100);

  /* Cell specific styles */

  --jp-cell-padding: 5px;
  --jp-cell-editor-background: #f7f7f7;
  --jp-cell-editor-border-color: #cfcfcf;
  --jp-cell-editor-background-edit: var(--jp-ui-layout-color1);
  --jp-cell-editor-border-color-edit: var(--jp-brand-color1);
  --jp-cell-prompt-width: 100px;
  --jp-cell-prompt-font-family: 'Roboto Mono', monospace;
  --jp-cell-prompt-letter-spacing: 0px;
  --jp-cell-prompt-opacity: 1.0;
  --jp-cell-prompt-opacity-not-active: 0.4;
  --jp-cell-prompt-font-color-not-active: var(--md-grey-700);
  /* A custom blend of MD grey and blue 600
   * See https://meyerweb.com/eric/tools/color-blend/#546E7A:1E88E5:5:hex */
  --jp-cell-inprompt-font-color: #307FC1;
  /* A custom blend of MD grey and orange 600
   * https://meyerweb.com/eric/tools/color-blend/#546E7A:F4511E:5:hex */
  --jp-cell-outprompt-font-color: #BF5B3D;

  /* Notebook specific styles */

  --jp-notebook-padding: 10px;
  --jp-notebook-scroll-padding: 100px;

  /* Console specific styles */

  --jp-console-background: var(--md-grey-100);

  /* Toolbar specific styles */

  --jp-toolbar-border-color: var(--md-grey-400);
  --jp-toolbar-micro-height: 8px;
  --jp-toolbar-background: var(--jp-layout-color0);
  --jp-toolbar-box-shadow: 0px 0px 2px 0px rgba(0,0,0,0.24);
  --jp-toolbar-header-margin: 4px 4px 0px 4px;
  --jp-toolbar-active-background: var(--md-grey-300);
}
</style><style>/* This file has code derived from PhosphorJS CSS files, as noted below. The license for this PhosphorJS code is:

Copyright (c) 2014-2017, PhosphorJS Contributors
All rights reserved.

Redistribution and use in source and binary forms, with or without
modification, are permitted provided that the following conditions are met:

* Redistributions of source code must retain the above copyright notice, this
  list of conditions and the following disclaimer.

* Redistributions in binary form must reproduce the above copyright notice,
  this list of conditions and the following disclaimer in the documentation
  and/or other materials provided with the distribution.

* Neither the name of the copyright holder nor the names of its
  contributors may be used to endorse or promote products derived from
  this software without specific prior written permission.

THIS SOFTWARE IS PROVIDED BY THE COPYRIGHT HOLDERS AND CONTRIBUTORS "AS IS"
AND ANY EXPRESS OR IMPLIED WARRANTIES, INCLUDING, BUT NOT LIMITED TO, THE
IMPLIED WARRANTIES OF MERCHANTABILITY AND FITNESS FOR A PARTICULAR PURPOSE ARE
DISCLAIMED. IN NO EVENT SHALL THE COPYRIGHT HOLDER OR CONTRIBUTORS BE LIABLE
FOR ANY DIRECT, INDIRECT, INCIDENTAL, SPECIAL, EXEMPLARY, OR CONSEQUENTIAL
DAMAGES (INCLUDING, BUT NOT LIMITED TO, PROCUREMENT OF SUBSTITUTE GOODS OR
SERVICES; LOSS OF USE, DATA, OR PROFITS; OR BUSINESS INTERRUPTION) HOWEVER
CAUSED AND ON ANY THEORY OF LIABILITY, WHETHER IN CONTRACT, STRICT LIABILITY,
OR TORT (INCLUDING NEGLIGENCE OR OTHERWISE) ARISING IN ANY WAY OUT OF THE USE
OF THIS SOFTWARE, EVEN IF ADVISED OF THE POSSIBILITY OF SUCH DAMAGE.

*/

/*
 * The following section is derived from https://github.com/phosphorjs/phosphor/blob/23b9d075ebc5b73ab148b6ebfc20af97f85714c4/packages/widgets/style/tabbar.css 
 * We've scoped the rules so that they are consistent with exactly our code.
 */

.jupyter-widgets.widget-tab > .p-TabBar {
  display: flex;
  -webkit-user-select: none;
  -moz-user-select: none;
  -ms-user-select: none;
  user-select: none;
}


.jupyter-widgets.widget-tab > .p-TabBar[data-orientation='horizontal'] {
  flex-direction: row;
}


.jupyter-widgets.widget-tab > .p-TabBar[data-orientation='vertical'] {
  flex-direction: column;
}


.jupyter-widgets.widget-tab > .p-TabBar > .p-TabBar-content {
  margin: 0;
  padding: 0;
  display: flex;
  flex: 1 1 auto;
  list-style-type: none;
}


.jupyter-widgets.widget-tab > .p-TabBar[data-orientation='horizontal'] > .p-TabBar-content {
  flex-direction: row;
}


.jupyter-widgets.widget-tab > .p-TabBar[data-orientation='vertical'] > .p-TabBar-content {
  flex-direction: column;
}


.jupyter-widgets.widget-tab > .p-TabBar .p-TabBar-tab {
  display: flex;
  flex-direction: row;
  box-sizing: border-box;
  overflow: hidden;
}


.jupyter-widgets.widget-tab > .p-TabBar .p-TabBar-tabIcon,
.jupyter-widgets.widget-tab > .p-TabBar .p-TabBar-tabCloseIcon {
  flex: 0 0 auto;
}


.jupyter-widgets.widget-tab > .p-TabBar .p-TabBar-tabLabel {
  flex: 1 1 auto;
  overflow: hidden;
  white-space: nowrap;
}


.jupyter-widgets.widget-tab > .p-TabBar .p-TabBar-tab.p-mod-hidden {
  display: none !important;
}


.jupyter-widgets.widget-tab > .p-TabBar.p-mod-dragging .p-TabBar-tab {
  position: relative;
}


.jupyter-widgets.widget-tab > .p-TabBar.p-mod-dragging[data-orientation='horizontal'] .p-TabBar-tab {
  left: 0;
  transition: left 150ms ease;
}


.jupyter-widgets.widget-tab > .p-TabBar.p-mod-dragging[data-orientation='vertical'] .p-TabBar-tab {
  top: 0;
  transition: top 150ms ease;
}


.jupyter-widgets.widget-tab > .p-TabBar.p-mod-dragging .p-TabBar-tab.p-mod-dragging {
  transition: none;
}

/* End tabbar.css */
</style><style>/* Copyright (c) Jupyter Development Team.
 * Distributed under the terms of the Modified BSD License.
 */

/*
 * We assume that the CSS variables in
 * https://github.com/jupyterlab/jupyterlab/blob/master/src/default-theme/variables.css
 * have been defined.
 */

:root {
    --jp-widgets-color: var(--jp-content-font-color1);
    --jp-widgets-label-color: var(--jp-widgets-color);
    --jp-widgets-readout-color: var(--jp-widgets-color);
    --jp-widgets-font-size: var(--jp-ui-font-size1);
    --jp-widgets-margin: 2px;
    --jp-widgets-inline-height: 28px;
    --jp-widgets-inline-width: 300px;
    --jp-widgets-inline-width-short: calc(var(--jp-widgets-inline-width) / 2 - var(--jp-widgets-margin));
    --jp-widgets-inline-width-tiny: calc(var(--jp-widgets-inline-width-short) / 2 - var(--jp-widgets-margin));
    --jp-widgets-inline-margin: 4px; /* margin between inline elements */
    --jp-widgets-inline-label-width: 80px;
    --jp-widgets-border-width: var(--jp-border-width);
    --jp-widgets-vertical-height: 200px;
    --jp-widgets-horizontal-tab-height: 24px;
    --jp-widgets-horizontal-tab-width: 144px;
    --jp-widgets-horizontal-tab-top-border: 2px;
    --jp-widgets-progress-thickness: 20px;
    --jp-widgets-container-padding: 15px;
    --jp-widgets-input-padding: 4px;
    --jp-widgets-radio-item-height-adjustment: 8px;
    --jp-widgets-radio-item-height: calc(var(--jp-widgets-inline-height) - var(--jp-widgets-radio-item-height-adjustment));
    --jp-widgets-slider-track-thickness: 4px;
    --jp-widgets-slider-border-width: var(--jp-widgets-border-width);
    --jp-widgets-slider-handle-size: 16px;
    --jp-widgets-slider-handle-border-color: var(--jp-border-color1);
    --jp-widgets-slider-handle-background-color: var(--jp-layout-color1);
    --jp-widgets-slider-active-handle-color: var(--jp-brand-color1);
    --jp-widgets-menu-item-height: 24px;
    --jp-widgets-dropdown-arrow: url("data:image/svg+xml;base64,PD94bWwgdmVyc2lvbj0iMS4wIiBlbmNvZGluZz0idXRmLTgiPz4KPCEtLSBHZW5lcmF0b3I6IEFkb2JlIElsbHVzdHJhdG9yIDE5LjIuMSwgU1ZHIEV4cG9ydCBQbHVnLUluIC4gU1ZHIFZlcnNpb246IDYuMDAgQnVpbGQgMCkgIC0tPgo8c3ZnIHZlcnNpb249IjEuMSIgaWQ9IkxheWVyXzEiIHhtbG5zPSJodHRwOi8vd3d3LnczLm9yZy8yMDAwL3N2ZyIgeG1sbnM6eGxpbms9Imh0dHA6Ly93d3cudzMub3JnLzE5OTkveGxpbmsiIHg9IjBweCIgeT0iMHB4IgoJIHZpZXdCb3g9IjAgMCAxOCAxOCIgc3R5bGU9ImVuYWJsZS1iYWNrZ3JvdW5kOm5ldyAwIDAgMTggMTg7IiB4bWw6c3BhY2U9InByZXNlcnZlIj4KPHN0eWxlIHR5cGU9InRleHQvY3NzIj4KCS5zdDB7ZmlsbDpub25lO30KPC9zdHlsZT4KPHBhdGggZD0iTTUuMiw1LjlMOSw5LjdsMy44LTMuOGwxLjIsMS4ybC00LjksNWwtNC45LTVMNS4yLDUuOXoiLz4KPHBhdGggY2xhc3M9InN0MCIgZD0iTTAtMC42aDE4djE4SDBWLTAuNnoiLz4KPC9zdmc+Cg");
    --jp-widgets-input-color: var(--jp-ui-font-color1);
    --jp-widgets-input-background-color: var(--jp-layout-color1);
    --jp-widgets-input-border-color: var(--jp-border-color1);
    --jp-widgets-input-focus-border-color: var(--jp-brand-color2);
    --jp-widgets-input-border-width: var(--jp-widgets-border-width);
    --jp-widgets-disabled-opacity: 0.6;

    /* From Material Design Lite */
    --md-shadow-key-umbra-opacity: 0.2;
    --md-shadow-key-penumbra-opacity: 0.14;
    --md-shadow-ambient-shadow-opacity: 0.12;
}

.jupyter-widgets {
    margin: var(--jp-widgets-margin);
    box-sizing: border-box;
    color: var(--jp-widgets-color);
    overflow: visible;
}

.jupyter-widgets.jupyter-widgets-disconnected::before {
    line-height: var(--jp-widgets-inline-height);
    height: var(--jp-widgets-inline-height);
}

.jp-Output-result > .jupyter-widgets {
    margin-left: 0;
    margin-right: 0;
}

/* vbox and hbox */

.widget-inline-hbox {
    /* Horizontal widgets */
    box-sizing: border-box;
    display: flex;
    flex-direction: row;
    align-items: baseline;
}

.widget-inline-vbox {
    /* Vertical Widgets */
    box-sizing: border-box;
    display: flex;
    flex-direction: column;
    align-items: center;
}

.widget-box {
    box-sizing: border-box;
    display: flex;
    margin: 0;
    overflow: auto;
}

.widget-gridbox {
    box-sizing: border-box;
    display: grid;
    margin: 0;
    overflow: auto;
}

.widget-hbox {
    flex-direction: row;
}

.widget-vbox {
    flex-direction: column;
}

/* General Button Styling */

.jupyter-button {
    padding-left: 10px;
    padding-right: 10px;
    padding-top: 0px;
    padding-bottom: 0px;
    display: inline-block;
    white-space: nowrap;
    overflow: hidden;
    text-overflow: ellipsis;
    text-align: center;
    font-size: var(--jp-widgets-font-size);
    cursor: pointer;

    height: var(--jp-widgets-inline-height);
    border: 0px solid;
    line-height: var(--jp-widgets-inline-height);
    box-shadow: none;

    color: var(--jp-ui-font-color1);
    background-color: var(--jp-layout-color2);
    border-color: var(--jp-border-color2);
    border: none;
    user-select: none;
}

.jupyter-button i.fa {
    margin-right: var(--jp-widgets-inline-margin);
    pointer-events: none;
}

.jupyter-button:empty:before {
    content: "\200b"; /* zero-width space */
}

.jupyter-widgets.jupyter-button:disabled {
    opacity: var(--jp-widgets-disabled-opacity);
}

.jupyter-button i.fa.center {
    margin-right: 0;
}

.jupyter-button:hover:enabled, .jupyter-button:focus:enabled {
    /* MD Lite 2dp shadow */
    box-shadow: 0 2px 2px 0 rgba(0, 0, 0, var(--md-shadow-key-penumbra-opacity)),
                0 3px 1px -2px rgba(0, 0, 0, var(--md-shadow-key-umbra-opacity)),
                0 1px 5px 0 rgba(0, 0, 0, var(--md-shadow-ambient-shadow-opacity));
}

.jupyter-button:active, .jupyter-button.mod-active {
    /* MD Lite 4dp shadow */
    box-shadow: 0 4px 5px 0 rgba(0, 0, 0, var(--md-shadow-key-penumbra-opacity)),
                0 1px 10px 0 rgba(0, 0, 0, var(--md-shadow-ambient-shadow-opacity)),
                0 2px 4px -1px rgba(0, 0, 0, var(--md-shadow-key-umbra-opacity));
    color: var(--jp-ui-font-color1);
    background-color: var(--jp-layout-color3);
}

.jupyter-button:focus:enabled {
    outline: 1px solid var(--jp-widgets-input-focus-border-color);
}

/* Button "Primary" Styling */

.jupyter-button.mod-primary {
    color: var(--jp-ui-inverse-font-color1, var(--jp-inverse-ui-font-color1));
    background-color: var(--jp-brand-color1);
}

.jupyter-button.mod-primary.mod-active {
    color: var(--jp-ui-inverse-font-color0, var(--jp-inverse-ui-font-color0));
    background-color: var(--jp-brand-color0);
}

.jupyter-button.mod-primary:active {
    color: var(--jp-ui-inverse-font-color0, var(--jp-inverse-ui-font-color0));
    background-color: var(--jp-brand-color0);
}

/* Button "Success" Styling */

.jupyter-button.mod-success {
    color: var(--jp-ui-inverse-font-color1, var(--jp-inverse-ui-font-color1));
    background-color: var(--jp-success-color1);
}

.jupyter-button.mod-success.mod-active {
    color: var(--jp-ui-inverse-font-color0, var(--jp-inverse-ui-font-color0));
    background-color: var(--jp-success-color0);
}

.jupyter-button.mod-success:active {
    color: var(--jp-ui-inverse-font-color0, var(--jp-inverse-ui-font-color0));
    background-color: var(--jp-success-color0);
}

 /* Button "Info" Styling */

.jupyter-button.mod-info {
    color: var(--jp-ui-inverse-font-color1, var(--jp-inverse-ui-font-color1));
    background-color: var(--jp-info-color1);
}

.jupyter-button.mod-info.mod-active {
    color: var(--jp-ui-inverse-font-color0, var(--jp-inverse-ui-font-color0));
    background-color: var(--jp-info-color0);
}

.jupyter-button.mod-info:active {
    color: var(--jp-ui-inverse-font-color0, var(--jp-inverse-ui-font-color0));
    background-color: var(--jp-info-color0);
}

/* Button "Warning" Styling */

.jupyter-button.mod-warning {
    color: var(--jp-ui-inverse-font-color1, var(--jp-inverse-ui-font-color1));
    background-color: var(--jp-warn-color1);
}

.jupyter-button.mod-warning.mod-active {
    color: var(--jp-ui-inverse-font-color0, var(--jp-inverse-ui-font-color0));
    background-color: var(--jp-warn-color0);
}

.jupyter-button.mod-warning:active {
    color: var(--jp-ui-inverse-font-color0, var(--jp-inverse-ui-font-color0));
    background-color: var(--jp-warn-color0);
}

/* Button "Danger" Styling */

.jupyter-button.mod-danger {
    color: var(--jp-ui-inverse-font-color1, var(--jp-inverse-ui-font-color1));
    background-color: var(--jp-error-color1);
}

.jupyter-button.mod-danger.mod-active {
    color: var(--jp-ui-inverse-font-color0, var(--jp-inverse-ui-font-color0));
    background-color: var(--jp-error-color0);
}

.jupyter-button.mod-danger:active {
    color: var(--jp-ui-inverse-font-color0, var(--jp-inverse-ui-font-color0));
    background-color: var(--jp-error-color0);
}

/* Widget Button, Widget Toggle Button, Widget Upload */

.widget-button, .widget-toggle-button, .widget-upload {
    width: var(--jp-widgets-inline-width-short);
}

/* Widget Label Styling */

/* Override Bootstrap label css */
.jupyter-widgets label {
    margin-bottom: initial;
}

.widget-label-basic {
    /* Basic Label */
    color: var(--jp-widgets-label-color);
    font-size: var(--jp-widgets-font-size);
    overflow: hidden;
    text-overflow: ellipsis;
    white-space: nowrap;
    line-height: var(--jp-widgets-inline-height);
}

.widget-label {
    /* Label */
    color: var(--jp-widgets-label-color);
    font-size: var(--jp-widgets-font-size);
    overflow: hidden;
    text-overflow: ellipsis;
    white-space: nowrap;
    line-height: var(--jp-widgets-inline-height);
}

.widget-inline-hbox .widget-label {
    /* Horizontal Widget Label */
    color: var(--jp-widgets-label-color);
    text-align: right;
    margin-right: calc( var(--jp-widgets-inline-margin) * 2 );
    width: var(--jp-widgets-inline-label-width);
    flex-shrink: 0;
}

.widget-inline-vbox .widget-label {
    /* Vertical Widget Label */
    color: var(--jp-widgets-label-color);
    text-align: center;
    line-height: var(--jp-widgets-inline-height);
}

/* Widget Readout Styling */

.widget-readout {
    color: var(--jp-widgets-readout-color);
    font-size: var(--jp-widgets-font-size);
    height: var(--jp-widgets-inline-height);
    line-height: var(--jp-widgets-inline-height);
    overflow: hidden;
    white-space: nowrap;
    text-align: center;
}

.widget-readout.overflow {
    /* Overflowing Readout */

    /* From Material Design Lite
        shadow-key-umbra-opacity: 0.2;
        shadow-key-penumbra-opacity: 0.14;
        shadow-ambient-shadow-opacity: 0.12;
     */
    -webkit-box-shadow: 0 2px 2px 0 rgba(0, 0, 0, 0.2),
                        0 3px 1px -2px rgba(0, 0, 0, 0.14),
                        0 1px 5px 0 rgba(0, 0, 0, 0.12);

    -moz-box-shadow: 0 2px 2px 0 rgba(0, 0, 0, 0.2),
                     0 3px 1px -2px rgba(0, 0, 0, 0.14),
                     0 1px 5px 0 rgba(0, 0, 0, 0.12);

    box-shadow: 0 2px 2px 0 rgba(0, 0, 0, 0.2),
                0 3px 1px -2px rgba(0, 0, 0, 0.14),
                0 1px 5px 0 rgba(0, 0, 0, 0.12);
}

.widget-inline-hbox .widget-readout {
    /* Horizontal Readout */
    text-align: center;
    max-width: var(--jp-widgets-inline-width-short);
    min-width: var(--jp-widgets-inline-width-tiny);
    margin-left: var(--jp-widgets-inline-margin);
}

.widget-inline-vbox .widget-readout {
    /* Vertical Readout */
    margin-top: var(--jp-widgets-inline-margin);
    /* as wide as the widget */
    width: inherit;
}

/* Widget Checkbox Styling */

.widget-checkbox {
    width: var(--jp-widgets-inline-width);
    height: var(--jp-widgets-inline-height);
    line-height: var(--jp-widgets-inline-height);
}

.widget-checkbox input[type="checkbox"] {
    margin: 0px calc( var(--jp-widgets-inline-margin) * 2 ) 0px 0px;
    line-height: var(--jp-widgets-inline-height);
    font-size: large;
    flex-grow: 1;
    flex-shrink: 0;
    align-self: center;
}

/* Widget Valid Styling */

.widget-valid {
    height: var(--jp-widgets-inline-height);
    line-height: var(--jp-widgets-inline-height);
    width: var(--jp-widgets-inline-width-short);
    font-size: var(--jp-widgets-font-size);
}

.widget-valid i:before {
    line-height: var(--jp-widgets-inline-height);
    margin-right: var(--jp-widgets-inline-margin);
    margin-left: var(--jp-widgets-inline-margin);
}

.widget-valid.mod-valid i:before {
    color: green;
}

.widget-valid.mod-invalid i:before {
    color: red;
}

.widget-valid.mod-valid .widget-valid-readout {
    display: none;
}

/* Widget Text and TextArea Stying */

.widget-textarea, .widget-text {
    width: var(--jp-widgets-inline-width);
}

.widget-text input[type="text"], .widget-text input[type="number"], .widget-text input[type="password"] {
    height: var(--jp-widgets-inline-height);
    line-height: var(--jp-widgets-inline-height);
}

.widget-text input[type="text"]:disabled, .widget-text input[type="number"]:disabled, .widget-text input[type="password"]:disabled, .widget-textarea textarea:disabled {
    opacity: var(--jp-widgets-disabled-opacity);
}

.widget-text input[type="text"], .widget-text input[type="number"], .widget-text input[type="password"], .widget-textarea textarea {
    box-sizing: border-box;
    border: var(--jp-widgets-input-border-width) solid var(--jp-widgets-input-border-color);
    background-color: var(--jp-widgets-input-background-color);
    color: var(--jp-widgets-input-color);
    font-size: var(--jp-widgets-font-size);
    flex-grow: 1;
    min-width: 0; /* This makes it possible for the flexbox to shrink this input */
    flex-shrink: 1;
    outline: none !important;
}
    
.widget-text input[type="text"], .widget-text input[type="password"], .widget-textarea textarea {
    padding: var(--jp-widgets-input-padding) calc( var(--jp-widgets-input-padding) *  2);
}

.widget-text input[type="number"] {
    padding: var(--jp-widgets-input-padding) 0 var(--jp-widgets-input-padding) calc(var(--jp-widgets-input-padding) *  2);
}

.widget-textarea textarea {
    height: inherit;
    width: inherit;
}

.widget-text input:focus, .widget-textarea textarea:focus {
    border-color: var(--jp-widgets-input-focus-border-color);
}

/* Widget Slider */

.widget-slider .ui-slider {
    /* Slider Track */
    border: var(--jp-widgets-slider-border-width) solid var(--jp-layout-color3);
    background: var(--jp-layout-color3);
    box-sizing: border-box;
    position: relative;
    border-radius: 0px;
}

.widget-slider .ui-slider .ui-slider-handle {
    /* Slider Handle */
    outline: none !important; /* focused slider handles are colored - see below */
    position: absolute;
    background-color: var(--jp-widgets-slider-handle-background-color);
    border: var(--jp-widgets-slider-border-width) solid var(--jp-widgets-slider-handle-border-color);
    box-sizing: border-box;
    z-index: 1;
    background-image: none; /* Override jquery-ui */
}

/* Override jquery-ui */
.widget-slider .ui-slider .ui-slider-handle:hover, .widget-slider .ui-slider .ui-slider-handle:focus {
    background-color: var(--jp-widgets-slider-active-handle-color);
    border: var(--jp-widgets-slider-border-width) solid var(--jp-widgets-slider-active-handle-color);
}

.widget-slider .ui-slider .ui-slider-handle:active {
    background-color: var(--jp-widgets-slider-active-handle-color);
    border-color: var(--jp-widgets-slider-active-handle-color);
    z-index: 2;
    transform: scale(1.2);
}

.widget-slider  .ui-slider .ui-slider-range {
    /* Interval between the two specified value of a double slider */
    position: absolute;
    background: var(--jp-widgets-slider-active-handle-color);
    z-index: 0;
}

/* Shapes of Slider Handles */

.widget-hslider .ui-slider .ui-slider-handle {
    width: var(--jp-widgets-slider-handle-size);
    height: var(--jp-widgets-slider-handle-size);
    margin-top: calc((var(--jp-widgets-slider-track-thickness) - var(--jp-widgets-slider-handle-size)) / 2 - var(--jp-widgets-slider-border-width));
    margin-left: calc(var(--jp-widgets-slider-handle-size) / -2 + var(--jp-widgets-slider-border-width));
    border-radius: 50%;
    top: 0;
}

.widget-vslider .ui-slider .ui-slider-handle {
    width: var(--jp-widgets-slider-handle-size);
    height: var(--jp-widgets-slider-handle-size);
    margin-bottom: calc(var(--jp-widgets-slider-handle-size) / -2 + var(--jp-widgets-slider-border-width));
    margin-left: calc((var(--jp-widgets-slider-track-thickness) - var(--jp-widgets-slider-handle-size)) / 2 - var(--jp-widgets-slider-border-width));
    border-radius: 50%;
    left: 0;
}

.widget-hslider .ui-slider .ui-slider-range {
    height: calc( var(--jp-widgets-slider-track-thickness) * 2 );
    margin-top: calc((var(--jp-widgets-slider-track-thickness) - var(--jp-widgets-slider-track-thickness) * 2 ) / 2 - var(--jp-widgets-slider-border-width));
}

.widget-vslider .ui-slider .ui-slider-range {
    width: calc( var(--jp-widgets-slider-track-thickness) * 2 );
    margin-left: calc((var(--jp-widgets-slider-track-thickness) - var(--jp-widgets-slider-track-thickness) * 2 ) / 2 - var(--jp-widgets-slider-border-width));
}

/* Horizontal Slider */

.widget-hslider {
    width: var(--jp-widgets-inline-width);
    height: var(--jp-widgets-inline-height);
    line-height: var(--jp-widgets-inline-height);

    /* Override the align-items baseline. This way, the description and readout
    still seem to align their baseline properly, and we don't have to have
    align-self: stretch in the .slider-container. */
    align-items: center;
}

.widgets-slider .slider-container {
    overflow: visible;
}

.widget-hslider .slider-container {
    height: var(--jp-widgets-inline-height);
    margin-left: calc(var(--jp-widgets-slider-handle-size) / 2 - 2 * var(--jp-widgets-slider-border-width));
    margin-right: calc(var(--jp-widgets-slider-handle-size) / 2 - 2 * var(--jp-widgets-slider-border-width));
    flex: 1 1 var(--jp-widgets-inline-width-short);
}

.widget-hslider .ui-slider {
    /* Inner, invisible slide div */
    height: var(--jp-widgets-slider-track-thickness);
    margin-top: calc((var(--jp-widgets-inline-height) - var(--jp-widgets-slider-track-thickness)) / 2);
    width: 100%;
}

/* Vertical Slider */

.widget-vbox .widget-label {
    height: var(--jp-widgets-inline-height);
    line-height: var(--jp-widgets-inline-height);
}

.widget-vslider {
    /* Vertical Slider */
    height: var(--jp-widgets-vertical-height);
    width: var(--jp-widgets-inline-width-tiny);
}

.widget-vslider .slider-container {
    flex: 1 1 var(--jp-widgets-inline-width-short);
    margin-left: auto;
    margin-right: auto;
    margin-bottom: calc(var(--jp-widgets-slider-handle-size) / 2 - 2 * var(--jp-widgets-slider-border-width));
    margin-top: calc(var(--jp-widgets-slider-handle-size) / 2 - 2 * var(--jp-widgets-slider-border-width));
    display: flex;
    flex-direction: column;
}

.widget-vslider .ui-slider-vertical {
    /* Inner, invisible slide div */
    width: var(--jp-widgets-slider-track-thickness);
    flex-grow: 1;
    margin-left: auto;
    margin-right: auto;
}

/* Widget Progress Styling */

.progress-bar {
    -webkit-transition: none;
    -moz-transition: none;
    -ms-transition: none;
    -o-transition: none;
    transition: none;
}

.progress-bar {
    height: var(--jp-widgets-inline-height);
}

.progress-bar {
    background-color: var(--jp-brand-color1);
}

.progress-bar-success {
    background-color: var(--jp-success-color1);
}

.progress-bar-info {
    background-color: var(--jp-info-color1);
}

.progress-bar-warning {
    background-color: var(--jp-warn-color1);
}

.progress-bar-danger {
    background-color: var(--jp-error-color1);
}

.progress {
    background-color: var(--jp-layout-color2);
    border: none;
    box-shadow: none;
}

/* Horisontal Progress */

.widget-hprogress {
    /* Progress Bar */
    height: var(--jp-widgets-inline-height);
    line-height: var(--jp-widgets-inline-height);
    width: var(--jp-widgets-inline-width);
    align-items: center;

}

.widget-hprogress .progress {
    flex-grow: 1;
    margin-top: var(--jp-widgets-input-padding);
    margin-bottom: var(--jp-widgets-input-padding);
    align-self: stretch;
    /* Override bootstrap style */
    height: initial;
}

/* Vertical Progress */

.widget-vprogress {
    height: var(--jp-widgets-vertical-height);
    width: var(--jp-widgets-inline-width-tiny);
}

.widget-vprogress .progress {
    flex-grow: 1;
    width: var(--jp-widgets-progress-thickness);
    margin-left: auto;
    margin-right: auto;
    margin-bottom: 0;
}

/* Select Widget Styling */

.widget-dropdown {
    height: var(--jp-widgets-inline-height);
    width: var(--jp-widgets-inline-width);
    line-height: var(--jp-widgets-inline-height);
}

.widget-dropdown > select {
    padding-right: 20px;
    border: var(--jp-widgets-input-border-width) solid var(--jp-widgets-input-border-color);
    border-radius: 0;
    height: inherit;
    flex: 1 1 var(--jp-widgets-inline-width-short);
    min-width: 0; /* This makes it possible for the flexbox to shrink this input */
    box-sizing: border-box;
    outline: none !important;
    box-shadow: none;
    background-color: var(--jp-widgets-input-background-color);
    color: var(--jp-widgets-input-color);
    font-size: var(--jp-widgets-font-size);
    vertical-align: top;
    padding-left: calc( var(--jp-widgets-input-padding) * 2);
	appearance: none;
	-webkit-appearance: none;
	-moz-appearance: none;
    background-repeat: no-repeat;
	background-size: 20px;
	background-position: right center;
    background-image: var(--jp-widgets-dropdown-arrow);
}
.widget-dropdown > select:focus {
    border-color: var(--jp-widgets-input-focus-border-color);
}

.widget-dropdown > select:disabled {
    opacity: var(--jp-widgets-disabled-opacity);
}

/* To disable the dotted border in Firefox around select controls.
   See http://stackoverflow.com/a/18853002 */
.widget-dropdown > select:-moz-focusring {
    color: transparent;
    text-shadow: 0 0 0 #000;
}

/* Select and SelectMultiple */

.widget-select {
    width: var(--jp-widgets-inline-width);
    line-height: var(--jp-widgets-inline-height);

    /* Because Firefox defines the baseline of a select as the bottom of the
    control, we align the entire control to the top and add padding to the
    select to get an approximate first line baseline alignment. */
    align-items: flex-start;
}

.widget-select > select {
    border: var(--jp-widgets-input-border-width) solid var(--jp-widgets-input-border-color);
    background-color: var(--jp-widgets-input-background-color);
    color: var(--jp-widgets-input-color);
    font-size: var(--jp-widgets-font-size);
    flex: 1 1 var(--jp-widgets-inline-width-short);
    outline: none !important;
    overflow: auto;
    height: inherit;

    /* Because Firefox defines the baseline of a select as the bottom of the
    control, we align the entire control to the top and add padding to the
    select to get an approximate first line baseline alignment. */
    padding-top: 5px;
}

.widget-select > select:focus {
    border-color: var(--jp-widgets-input-focus-border-color);
}

.wiget-select > select > option {
    padding-left: var(--jp-widgets-input-padding);
    line-height: var(--jp-widgets-inline-height);
    /* line-height doesn't work on some browsers for select options */
    padding-top: calc(var(--jp-widgets-inline-height)-var(--jp-widgets-font-size)/2);
    padding-bottom: calc(var(--jp-widgets-inline-height)-var(--jp-widgets-font-size)/2);
}



/* Toggle Buttons Styling */

.widget-toggle-buttons {
    line-height: var(--jp-widgets-inline-height);
}

.widget-toggle-buttons .widget-toggle-button {
    margin-left: var(--jp-widgets-margin);
    margin-right: var(--jp-widgets-margin);
}

.widget-toggle-buttons .jupyter-button:disabled {
    opacity: var(--jp-widgets-disabled-opacity);
}

/* Radio Buttons Styling */

.widget-radio {
    width: var(--jp-widgets-inline-width);
    line-height: var(--jp-widgets-inline-height);
}

.widget-radio-box {
    display: flex;
    flex-direction: column;
    align-items: stretch;
    box-sizing: border-box;
    flex-grow: 1;
    margin-bottom: var(--jp-widgets-radio-item-height-adjustment);
}

.widget-radio-box label {
    height: var(--jp-widgets-radio-item-height);
    line-height: var(--jp-widgets-radio-item-height);
    font-size: var(--jp-widgets-font-size);
}

.widget-radio-box input {
    height: var(--jp-widgets-radio-item-height);
    line-height: var(--jp-widgets-radio-item-height);
    margin: 0 calc( var(--jp-widgets-input-padding) * 2 ) 0 1px;
    float: left;
}

/* Color Picker Styling */

.widget-colorpicker {
    width: var(--jp-widgets-inline-width);
    height: var(--jp-widgets-inline-height);
    line-height: var(--jp-widgets-inline-height);
}

.widget-colorpicker > .widget-colorpicker-input {
    flex-grow: 1;
    flex-shrink: 1;
    min-width: var(--jp-widgets-inline-width-tiny);
}

.widget-colorpicker input[type="color"] {
    width: var(--jp-widgets-inline-height);
    height: var(--jp-widgets-inline-height);
    padding: 0 2px; /* make the color square actually square on Chrome on OS X */
    background: var(--jp-widgets-input-background-color);
    color: var(--jp-widgets-input-color);
    border: var(--jp-widgets-input-border-width) solid var(--jp-widgets-input-border-color);
    border-left: none;
    flex-grow: 0;
    flex-shrink: 0;
    box-sizing: border-box;
    align-self: stretch;
    outline: none !important;
}

.widget-colorpicker.concise input[type="color"] {
    border-left: var(--jp-widgets-input-border-width) solid var(--jp-widgets-input-border-color);
}

.widget-colorpicker input[type="color"]:focus, .widget-colorpicker input[type="text"]:focus {
    border-color: var(--jp-widgets-input-focus-border-color);
}

.widget-colorpicker input[type="text"] {
    flex-grow: 1;
    outline: none !important;
    height: var(--jp-widgets-inline-height);
    line-height: var(--jp-widgets-inline-height);
    background: var(--jp-widgets-input-background-color);
    color: var(--jp-widgets-input-color);
    border: var(--jp-widgets-input-border-width) solid var(--jp-widgets-input-border-color);
    font-size: var(--jp-widgets-font-size);
    padding: var(--jp-widgets-input-padding) calc( var(--jp-widgets-input-padding) *  2 );
    min-width: 0; /* This makes it possible for the flexbox to shrink this input */
    flex-shrink: 1;
    box-sizing: border-box;
}

.widget-colorpicker input[type="text"]:disabled {
    opacity: var(--jp-widgets-disabled-opacity);
}

/* Date Picker Styling */

.widget-datepicker {
    width: var(--jp-widgets-inline-width);
    height: var(--jp-widgets-inline-height);
    line-height: var(--jp-widgets-inline-height);
}

.widget-datepicker input[type="date"] {
    flex-grow: 1;
    flex-shrink: 1;
    min-width: 0; /* This makes it possible for the flexbox to shrink this input */
    outline: none !important;
    height: var(--jp-widgets-inline-height);
    border: var(--jp-widgets-input-border-width) solid var(--jp-widgets-input-border-color);
    background-color: var(--jp-widgets-input-background-color);
    color: var(--jp-widgets-input-color);
    font-size: var(--jp-widgets-font-size);
    padding: var(--jp-widgets-input-padding) calc( var(--jp-widgets-input-padding) *  2 );
    box-sizing: border-box;
}

.widget-datepicker input[type="date"]:focus {
    border-color: var(--jp-widgets-input-focus-border-color);
}

.widget-datepicker input[type="date"]:invalid {
    border-color: var(--jp-warn-color1);
}

.widget-datepicker input[type="date"]:disabled {
    opacity: var(--jp-widgets-disabled-opacity);
}

/* Play Widget */

.widget-play {
    width: var(--jp-widgets-inline-width-short);
    display: flex;
    align-items: stretch;
}

.widget-play .jupyter-button {
    flex-grow: 1;
    height: auto;
}

.widget-play .jupyter-button:disabled {
    opacity: var(--jp-widgets-disabled-opacity);
}

/* Tab Widget */

.jupyter-widgets.widget-tab {
    display: flex;
    flex-direction: column;
}

.jupyter-widgets.widget-tab > .p-TabBar {
    /* Necessary so that a tab can be shifted down to overlay the border of the box below. */
    overflow-x: visible;
    overflow-y: visible;
}

.jupyter-widgets.widget-tab > .p-TabBar > .p-TabBar-content {
    /* Make sure that the tab grows from bottom up */
    align-items: flex-end;
    min-width: 0;
    min-height: 0;
}

.jupyter-widgets.widget-tab > .widget-tab-contents {
    width: 100%;
    box-sizing: border-box;
    margin: 0;
    background: var(--jp-layout-color1);
    color: var(--jp-ui-font-color1);
    border: var(--jp-border-width) solid var(--jp-border-color1);
    padding: var(--jp-widgets-container-padding);
    flex-grow: 1;
    overflow: auto;
}

.jupyter-widgets.widget-tab > .p-TabBar {
    font: var(--jp-widgets-font-size) Helvetica, Arial, sans-serif;
    min-height: calc(var(--jp-widgets-horizontal-tab-height) + var(--jp-border-width));
}

.jupyter-widgets.widget-tab > .p-TabBar .p-TabBar-tab {
    flex: 0 1 var(--jp-widgets-horizontal-tab-width);
    min-width: 35px;
    min-height: calc(var(--jp-widgets-horizontal-tab-height) + var(--jp-border-width));
    line-height: var(--jp-widgets-horizontal-tab-height);
    margin-left: calc(-1 * var(--jp-border-width));
    padding: 0px 10px;
    background: var(--jp-layout-color2);
    color: var(--jp-ui-font-color2);
    border: var(--jp-border-width) solid var(--jp-border-color1);
    border-bottom: none;
    position: relative;
}

.jupyter-widgets.widget-tab > .p-TabBar .p-TabBar-tab.p-mod-current {
    color: var(--jp-ui-font-color0);
    /* We want the background to match the tab content background */
    background: var(--jp-layout-color1);
    min-height: calc(var(--jp-widgets-horizontal-tab-height) + 2 * var(--jp-border-width));
    transform: translateY(var(--jp-border-width));
    overflow: visible;
}

.jupyter-widgets.widget-tab > .p-TabBar .p-TabBar-tab.p-mod-current:before {
    position: absolute;
    top: calc(-1 * var(--jp-border-width));
    left: calc(-1 * var(--jp-border-width));
    content: '';
    height: var(--jp-widgets-horizontal-tab-top-border);
    width: calc(100% + 2 * var(--jp-border-width));
    background: var(--jp-brand-color1);
}

.jupyter-widgets.widget-tab > .p-TabBar .p-TabBar-tab:first-child {
    margin-left: 0;
}

.jupyter-widgets.widget-tab > .p-TabBar .p-TabBar-tab:hover:not(.p-mod-current) {
    background: var(--jp-layout-color1);
    color: var(--jp-ui-font-color1);
}

.jupyter-widgets.widget-tab > .p-TabBar .p-mod-closable > .p-TabBar-tabCloseIcon {
    margin-left: 4px;
}

/* This font-awesome strategy may not work across FA4 and FA5, but we don't
actually support closable tabs, so it really doesn't matter */
.jupyter-widgets.widget-tab > .p-TabBar .p-mod-closable > .p-TabBar-tabCloseIcon:before {
    font-family: FontAwesome;
    content: '\f00d'; /* close */
}

.jupyter-widgets.widget-tab > .p-TabBar .p-TabBar-tabIcon,
.jupyter-widgets.widget-tab > .p-TabBar .p-TabBar-tabLabel,
.jupyter-widgets.widget-tab > .p-TabBar .p-TabBar-tabCloseIcon {
    line-height: var(--jp-widgets-horizontal-tab-height);
}

/* Accordion Widget */

.p-Collapse {
    display: flex;
    flex-direction: column;
    align-items: stretch;
}

.p-Collapse-header {
    padding: var(--jp-widgets-input-padding);
    cursor: pointer;
    color: var(--jp-ui-font-color2);
    background-color: var(--jp-layout-color2);
    border: var(--jp-widgets-border-width) solid var(--jp-border-color1);
    padding: calc(var(--jp-widgets-container-padding) * 2 / 3) var(--jp-widgets-container-padding);
    font-weight: bold;
}

.p-Collapse-header:hover {
    background-color: var(--jp-layout-color1);
    color: var(--jp-ui-font-color1);
}

.p-Collapse-open > .p-Collapse-header {
    background-color: var(--jp-layout-color1);
    color: var(--jp-ui-font-color0);
    cursor: default;
    border-bottom: none;
}

.p-Collapse-contents {
    padding: var(--jp-widgets-container-padding);
    background-color: var(--jp-layout-color1);
    color: var(--jp-ui-font-color1);
    border-left: var(--jp-widgets-border-width) solid var(--jp-border-color1);
    border-right: var(--jp-widgets-border-width) solid var(--jp-border-color1);
    border-bottom: var(--jp-widgets-border-width) solid var(--jp-border-color1);
    overflow: auto;
}

.p-Accordion {
    display: flex;
    flex-direction: column;
    align-items: stretch;
}

.p-Accordion .p-Collapse {
    margin-bottom: 0;
}

.p-Accordion .p-Collapse + .p-Collapse {
    margin-top: 4px;
}



/* HTML widget */

.widget-html, .widget-htmlmath {
    font-size: var(--jp-widgets-font-size);
}

.widget-html > .widget-html-content, .widget-htmlmath > .widget-html-content {
    /* Fill out the area in the HTML widget */
    align-self: stretch;
    flex-grow: 1;
    flex-shrink: 1;
    /* Makes sure the baseline is still aligned with other elements */
    line-height: var(--jp-widgets-inline-height);
    /* Make it possible to have absolutely-positioned elements in the html */
    position: relative;
}


/* Image widget  */

.widget-image {
    max-width: 100%;
    height: auto;
}
</style><style>/* Copyright (c) Jupyter Development Team.
 * Distributed under the terms of the Modified BSD License.
 */
</style><style>.fwu96q8{background:black;border:1px solid black;border-radius:3px;height:10px;margin-left:4px;overflow:hidden;width:100px}.fgn7udo{background:var(--jp-brand-color2);height:10px}.f1235lqo{color:var(--jp-ui-font-color1);font-family:var(--jp-ui-font-family);font-size:var(--jp-ui-font-size1);line-height:24px}.f2s1awa{align-items:center;display:flex;flex-direction:row}.f17wptjy{align-items:center;background:var(--jp-layout-color2);display:flex;justify-content:space-between;min-height:24px;padding-left:10px;padding-right:10px}.fddsvlq{align-items:center;display:flex}.fy1visq{flex-direction:row}.f1fwtl1j{flex-direction:row-reverse}.f1ydny4p{color:var(--jp-ui-font-color1);height:24px;margin-left:2px;margin-right:2px;max-height:24px;padding-left:6px;padding-right:6px;text-overflow:ellipsis;white-space:nowrap}.f1rbgl4n{background-color:var(--jp-brand-color1)}.f1rbgl4n .f1235lqo{color:white}.fwgmxe9:hover{background-color:var(--jp-layout-color3)}.fzt5yh7{box-shadow:0px 4px 4px rgba(0, 0, 0, 0.25)}.f1mm715f{background-color:var(--jp-layout-color2);box-shadow:var(--jp-toolbar-box-shadow);font-size:var(--jp-ui-font-size1);padding:4px 12px;z-index:2}.f4ilvu8{color:var(--jp-ui-font-color0);font-size:var(--jp-ui-font-size0);line-height:var(--jp-ui-font-size1);margin-top:4px}.f1958oj{background-position:center;background-repeat:no-repeat;background-size:16px;border:none;border-radius:0px;height:24px;outline:none;padding:0px 12px;position:absolute;right:8px;top:4px;width:12px}.fb0mcj4{background-color:var(--jp-brand-color1);background-position:center;background-repeat:no-repeat;background-size:16px;border:none;border-radius:0px;box-sizing:border-box;height:100%;outline:none;padding:4px 6px;position:absolute;right:0px;top:0px;width:100%}.fya4nu5{background-color:transparent;background-position:center;background-repeat:no-repeat;background-size:16px;border:none;border-radius:0px;box-sizing:border-box;height:100%;outline:none;position:absolute;right:0px;top:0px;width:100%}.f123ynex{background-color:var(--jp-input-active-background);border:1px solid var(--jp-border-color0);height:22px;overflow:hidden;padding:0px 8px}.f1bwa14q{border:var(--jp-border-width) solid var(--md-blue-500);box-shadow:inset 0 0 4px var(--md-blue-300)}.f13uy5em{background:transparent;border:none;color:var(--jp-ui-font-color0);height:100%;line-height:28px;outline:none;width:200px}</style></head>

<body class="nbviewer scrolled"><div id="MathJax_Message" style="display: none;"></div>

  <!-- These are loaded at the top of the body so they are available to
       notebook cells when they are loaded below. -->
  <script src="./Jupyter Notebook Viewer_files/jquery.min.js.download"></script>
  <script src="./Jupyter Notebook Viewer_files/require.js.download"></script>
  <script src="./Jupyter Notebook Viewer_files/moment.min.js.download"></script>
<!-- Navbar
================================================== -->
  <nav id="menubar" class="navbar navbar-default navbar-fixed-top animated affix headroom--not-top slideOutUp" data-spy="affix">
    <div class="container">
      <div class="navbar-header">
        <button type="button" class="navbar-toggle collapsed" data-toggle="collapse" data-target=".navbar-collapse">
          <span class="sr-only">Toggle navigation</span>
          <i class="fa fa-bars"></i>
        </button>
        <a class="navbar-brand" href="https://nbviewer.jupyter.org/">
          <img src="./Jupyter Notebook Viewer_files/nav_logo.svg" width="159">
        </a>
      </div>

      <div class="collapse navbar-collapse">
        <ul class="nav navbar-nav navbar-right">
          <li>
            <a class="active" href="https://jupyter.org/">JUPYTER</a>
          </li>
          <li>
    <a href="https://nbviewer.jupyter.org/faq" title="FAQ">
      
        <span>FAQ</span>
      
    </a>
  </li>

          
  
    
  
    
      
        <li>
    <a href="https://nbviewer.jupyter.org/github/eklavyasaxena/The-Battle-of-Neighborhoods/blob/master/Exploring-the-Taste-of-NYC-Neighborhoods/script/github/eklavyasaxena/The-Battle-of-Neighborhoods/blob/master/Exploring-the-Taste-of-NYC-Neighborhoods/Project_Notebook.ipynb" title="View as Code">
      <span class="fa fa-code fa-2x menu-icon"></span>
      <span class="menu-text">View as Code</span>
    </a>
  </li>
      
    
  

  
    <li>
    <a href="https://nbviewer.jupyter.org/github/eklavyasaxena/The-Battle-of-Neighborhoods/blob/master/Exploring-the-Taste-of-NYC-Neighborhoods/Project_Notebook.ipynb#" title="Python 3 Kernel">
      <span class="fa fa-server fa-2x menu-icon"></span>
      <span class="menu-text">Python 3 Kernel</span>
    </a>
  </li>
  

  
    <li>
    <a href="https://github.com/eklavyasaxena/The-Battle-of-Neighborhoods/blob/master/Exploring-the-Taste-of-NYC-Neighborhoods/Project_Notebook.ipynb" title="View on GitHub">
      <span class="fa fa-github fa-2x menu-icon"></span>
      <span class="menu-text">View on GitHub</span>
    </a>
  </li>
  

  
    <li>
    <a href="https://mybinder.org/v2/gh/eklavyasaxena/The-Battle-of-Neighborhoods/master?filepath=Exploring-the-Taste-of-NYC-Neighborhoods/Project_Notebook.ipynb" title="Execute on Binder">
      <span class="fa fa-icon-binder fa-2x menu-icon"></span>
      <span class="menu-text">Execute on Binder</span>
    </a>
  </li>
  

  <li>
    <a href="https://raw.githubusercontent.com/eklavyasaxena/The-Battle-of-Neighborhoods/master/Exploring-the-Taste-of-NYC-Neighborhoods/Project_Notebook.ipynb" title="Download Notebook" download="">
      <span class="fa fa-download fa-2x menu-icon"></span>
      <span class="menu-text">Download Notebook</span>
    </a>
  </li>

        </ul>
      </div><!-- /.navbar-collapse -->
      
      
    </div>
  </nav>

  <div class="container container-main">
    
  
  <ol class="breadcrumb">
    
      <li>
        <a href="https://nbviewer.jupyter.org/github/eklavyasaxena/The-Battle-of-Neighborhoods/tree/master">The-Battle-of-Neighborhoods</a>
      </li>
    
      <li>
        <a href="https://nbviewer.jupyter.org/github/eklavyasaxena/The-Battle-of-Neighborhoods/tree/master/Exploring-the-Taste-of-NYC-Neighborhoods">Exploring-the-Taste-of-NYC-Neighborhoods</a>
      </li>
    
  </ol>
  
  <div id="notebook">
    <div id="notebook-container">
      <div class="cell border-box-sizing text_cell rendered"><div class="prompt input_prompt">
</div><div class="inner_cell">
<div class="text_cell_render border-box-sizing rendered_html">
<h1 id="Exploring-the-Taste-of-NYC-Neighborhoods">Exploring the Taste of NYC Neighborhoods<a class="anchor-link" href="https://nbviewer.jupyter.org/github/eklavyasaxena/The-Battle-of-Neighborhoods/blob/master/Exploring-the-Taste-of-NYC-Neighborhoods/Project_Notebook.ipynb#Exploring-the-Taste-of-NYC-Neighborhoods">¶</a></h1><blockquote><h2 id="IBM-Applied-Data-Science-Capstone-Project">IBM Applied Data Science Capstone Project<a class="anchor-link" href="https://nbviewer.jupyter.org/github/eklavyasaxena/The-Battle-of-Neighborhoods/blob/master/Exploring-the-Taste-of-NYC-Neighborhoods/Project_Notebook.ipynb#IBM-Applied-Data-Science-Capstone-Project">¶</a></h2>
</blockquote>

</div>
</div>
</div>
<div class="cell border-box-sizing text_cell rendered"><div class="prompt input_prompt">
</div><div class="inner_cell">
<div class="text_cell_render border-box-sizing rendered_html">
<p><a name="tableofcontents"></a></p>

</div>
</div>
</div>
<div class="cell border-box-sizing text_cell rendered"><div class="prompt input_prompt">
</div><div class="inner_cell">
<div class="text_cell_render border-box-sizing rendered_html">
<h2 id="Table-of-Contents">Table of Contents<a class="anchor-link" href="https://nbviewer.jupyter.org/github/eklavyasaxena/The-Battle-of-Neighborhoods/blob/master/Exploring-the-Taste-of-NYC-Neighborhoods/Project_Notebook.ipynb#Table-of-Contents">¶</a></h2><ol>
<li><a href="https://nbviewer.jupyter.org/github/eklavyasaxena/The-Battle-of-Neighborhoods/blob/master/Exploring-the-Taste-of-NYC-Neighborhoods/Project_Notebook.ipynb#introduction">Introduction</a></li>
<li><a href="https://nbviewer.jupyter.org/github/eklavyasaxena/The-Battle-of-Neighborhoods/blob/master/Exploring-the-Taste-of-NYC-Neighborhoods/Project_Notebook.ipynb#data">Data</a></li>
<li><a href="https://nbviewer.jupyter.org/github/eklavyasaxena/The-Battle-of-Neighborhoods/blob/master/Exploring-the-Taste-of-NYC-Neighborhoods/Project_Notebook.ipynb#methodology">Methodology</a></li>
<li><a href="https://nbviewer.jupyter.org/github/eklavyasaxena/The-Battle-of-Neighborhoods/blob/master/Exploring-the-Taste-of-NYC-Neighborhoods/Project_Notebook.ipynb#analysis">Analysis &amp; Machine Learning</a></li>
<li><a href="https://nbviewer.jupyter.org/github/eklavyasaxena/The-Battle-of-Neighborhoods/blob/master/Exploring-the-Taste-of-NYC-Neighborhoods/Project_Notebook.ipynb#results">Results</a></li>
</ol>

</div>
</div>
</div>
<div class="cell border-box-sizing text_cell rendered"><div class="prompt input_prompt">
</div><div class="inner_cell">
<div class="text_cell_render border-box-sizing rendered_html">
<p><a name="introduction"></a></p>

</div>
</div>
</div>
<div class="cell border-box-sizing text_cell rendered"><div class="prompt input_prompt">
</div><div class="inner_cell">
<div class="text_cell_render border-box-sizing rendered_html">
<h2 id="1.-Introduction">1. Introduction<a class="anchor-link" href="https://nbviewer.jupyter.org/github/eklavyasaxena/The-Battle-of-Neighborhoods/blob/master/Exploring-the-Taste-of-NYC-Neighborhoods/Project_Notebook.ipynb#1.-Introduction">¶</a></h2>
</div>
</div>
</div>
<div class="cell border-box-sizing text_cell rendered"><div class="prompt input_prompt">
</div><div class="inner_cell">
<div class="text_cell_render border-box-sizing rendered_html">
<p>New York City is the most populous city in the United States, home to the headquarters of the United Nations and an important center for international diplomacy. It just might be the most diverse city on the planet, as it is home to over 8.6 million people and over 800 languages.</p>
<p>As quoted in an article - <a href="https://freelymagazine.com/2017/01/07/what-food-tells-us-about-culture/">What Food Tells Us About Culture</a><br>
<em>"Traditional cuisine is passed down from one generation to the next. It also operates as an expression of cultural identity. Immigrants bring the food of their countries with them wherever they go and cooking traditional food is a way of preserving their culture when they move to new places."</em></p>
<p>Undoubtedly, <strong>Food Diversity</strong> is an important part of an ethnically diverse metropolis. The idea of this project is to categorically segment the neighborhoods of New York City into major clusters and examine their cuisines. A desirable intention is to examine the neighborhood cluster's food habits and taste. Further examination might reveal if food has any relationship with the diversity of a neighborhood.</p>
<p>This project will help to understand the diversity of a neighborhood by leveraging venue data from Foursquare’s ‘Places API’ and ‘k-means clustering’ machine learning algorithm. Exploratory Data Analysis (EDA) will help to discover further about the culture and diversity of the neighborhood.<br>
<strong>Stakeholders</strong> would be the one who are interested to use this quantifiable analysis to understand the distribution of different cultures and cuisines over "the most diverse city on the planet - NYC". Also, this project can be utilized by a new food vendor who is willing to open his or her restaurant. Or by a government authority to examine and study their city's culture diversity better.</p>

</div>
</div>
</div>
<div class="cell border-box-sizing text_cell rendered"><div class="prompt input_prompt">
</div><div class="inner_cell">
<div class="text_cell_render border-box-sizing rendered_html">
<p><a name="data"></a><a href="https://nbviewer.jupyter.org/github/eklavyasaxena/The-Battle-of-Neighborhoods/blob/master/Exploring-the-Taste-of-NYC-Neighborhoods/Project_Notebook.ipynb#tableofcontents">Scroll Back to Table of Contents</a></p>

</div>
</div>
</div>
<div class="cell border-box-sizing text_cell rendered"><div class="prompt input_prompt">
</div><div class="inner_cell">
<div class="text_cell_render border-box-sizing rendered_html">
<h2 id="2.-Data">2. Data<a class="anchor-link" href="https://nbviewer.jupyter.org/github/eklavyasaxena/The-Battle-of-Neighborhoods/blob/master/Exploring-the-Taste-of-NYC-Neighborhoods/Project_Notebook.ipynb#2.-Data">¶</a></h2>
</div>
</div>
</div>
<div class="cell border-box-sizing text_cell rendered"><div class="prompt input_prompt">
</div><div class="inner_cell">
<div class="text_cell_render border-box-sizing rendered_html">
<p>To examine the above said, following data sources will be used:</p>
<ol>
<li><p><strong>New York City Dataset</strong></p>
<ul>
<li>Link: <a href="https://geo.nyu.edu/catalog/nyu_2451_34572">https://geo.nyu.edu/catalog/nyu_2451_34572</a></li>
<li>Description: This New York City Neighborhood Names point file was created as a guide to New York City’s neighborhoods that appear on the web resource, “New York: A City of Neighborhoods.” Best estimates of label centroids were established at a 1:1,000 scale, but are ideally viewed at a 1:50,000 scale. This dataset will provide the addresses of neighborhood of NYC in json format. An extract of the json is as follows:
<pre><code>{'type': 'Feature',
'id': 'nyu_2451_34572.306',
'geometry': {'type': 'Point',
'coordinates': [-74.08173992211962, 40.61731079252983]},
'geometry_name': 'geom',
'properties': {'name': 'Fox Hills',
'stacked': 2,
'annoline1': 'Fox',
'annoline2': 'Hills',
'annoline3': None,
'annoangle': 0.0,
'borough': 'Staten Island',
'bbox': [-74.08173992211962,
40.61731079252983,
-74.08173992211962,
40.61731079252983]}}</code></pre>
</li>
</ul>
</li>
<li><p><strong>Foursquare API:</strong></p>
<ul>
<li>Link: <a href="https://developer.foursquare.com/docs">https://developer.foursquare.com/docs</a></li>
<li>Description: Foursquare API, a location data provider, will be used to make RESTful API calls to retrieve data about venues in different neighborhoods. This is the link to <a href="https://developer.foursquare.com/docs/resources/categories">Foursquare Venue Category Hierarchy</a>. Venues retrieved from all the neighborhoods are categorized broadly into "Arts &amp; Entertainment", "College &amp; University", "Event", "Food", "Nightlife Spot", "Outdoors &amp; Recreation", etc. An extract of an API call is as follows:
<pre><code>'categories': [{'id': '4bf58dd8d48988d110941735',
'name': 'Italian Restaurant',
'pluralName': 'Italian Restaurants',
'shortName': 'Italian',
'icon': {'prefix': 'https://ss3.4sqi.net/img/categories_v2/food/italian_',
'suffix': '.png'},
'primary': True}],
'verified': False,
'stats': {'tipCount': 17},
'url': 'http://eccorestaurantny.com',
'price': {'tier': 4, 'message': 'Very Expensive', 'currency'</code></pre>
</li>
</ul>
</li>
</ol>

</div>
</div>
</div>
<div class="cell border-box-sizing text_cell rendered"><div class="prompt input_prompt">
</div><div class="inner_cell">
<div class="text_cell_render border-box-sizing rendered_html">
<p><a name="methodology"></a><a href="https://nbviewer.jupyter.org/github/eklavyasaxena/The-Battle-of-Neighborhoods/blob/master/Exploring-the-Taste-of-NYC-Neighborhoods/Project_Notebook.ipynb#tableofcontents">Scroll Back to Table of Contents</a></p>

</div>
</div>
</div>
<div class="cell border-box-sizing text_cell rendered"><div class="prompt input_prompt">
</div><div class="inner_cell">
<div class="text_cell_render border-box-sizing rendered_html">
<h2 id="2.-Methodology">2. Methodology<a class="anchor-link" href="https://nbviewer.jupyter.org/github/eklavyasaxena/The-Battle-of-Neighborhoods/blob/master/Exploring-the-Taste-of-NYC-Neighborhoods/Project_Notebook.ipynb#2.-Methodology">¶</a></h2>
</div>
</div>
</div>
<div class="cell border-box-sizing text_cell rendered"><div class="prompt input_prompt">
</div><div class="inner_cell">
<div class="text_cell_render border-box-sizing rendered_html">
<p>Download all the dependencies.</p>

</div>
</div>
</div>
<div class="cell border-box-sizing code_cell rendered">
<div class="input">
<div class="prompt input_prompt">In&nbsp;[1]:</div>
<div class="inner_cell">
    <div class="input_area">
<div class=" highlight hl-ipython3"><pre><span></span><span class="kn">import</span> <span class="nn">numpy</span> <span class="k">as</span> <span class="nn">np</span> <span class="c1"># library to handle data in a vectorized manner</span>

<span class="kn">import</span> <span class="nn">pandas</span> <span class="k">as</span> <span class="nn">pd</span> <span class="c1"># library for data analsysis</span>
<span class="n">pd</span><span class="o">.</span><span class="n">set_option</span><span class="p">(</span><span class="s1">'display.max_columns'</span><span class="p">,</span> <span class="kc">None</span><span class="p">)</span>
<span class="n">pd</span><span class="o">.</span><span class="n">set_option</span><span class="p">(</span><span class="s1">'display.max_rows'</span><span class="p">,</span> <span class="kc">None</span><span class="p">)</span>

<span class="kn">import</span> <span class="nn">json</span> <span class="c1"># library to handle JSON files</span>
<span class="kn">from</span> <span class="nn">pprint</span> <span class="kn">import</span> <span class="n">pprint</span> <span class="c1"># data pretty printer</span>

<span class="kn">import</span> <span class="nn">requests</span> <span class="c1"># library to handle requests</span>
<span class="kn">from</span> <span class="nn">bs4</span> <span class="kn">import</span> <span class="n">BeautifulSoup</span>  <span class="c1"># library to handle web scraping</span>

<span class="kn">from</span> <span class="nn">geopy.geocoders</span> <span class="kn">import</span> <span class="n">Nominatim</span> <span class="c1"># convert an address into latitude and longitude values</span>

<span class="kn">import</span> <span class="nn">folium</span> <span class="c1"># map rendering library</span>

<span class="kn">import</span> <span class="nn">matplotlib.cm</span> <span class="k">as</span> <span class="nn">cm</span> <span class="c1"># Matplotlib and associated plotting modules</span>
<span class="kn">import</span> <span class="nn">matplotlib.colors</span> <span class="k">as</span> <span class="nn">colors</span> <span class="c1"># Matplotlib and associated plotting modules</span>

<span class="kn">from</span> <span class="nn">pandas.io.json</span> <span class="kn">import</span> <span class="n">json_normalize</span> <span class="c1"># tranform JSON file into a pandas dataframe</span>

<span class="kn">from</span> <span class="nn">collections</span> <span class="kn">import</span> <span class="n">Counter</span> <span class="c1"># count occurrences </span>

<span class="kn">from</span> <span class="nn">sklearn.cluster</span> <span class="kn">import</span> <span class="n">KMeans</span> <span class="c1"># import k-means from clustering stage</span>
</pre></div>

    </div>
</div>
</div>

</div>
<div class="cell border-box-sizing text_cell rendered"><div class="prompt input_prompt">
</div><div class="inner_cell">
<div class="text_cell_render border-box-sizing rendered_html">
<h3 id="Download-and-Explore-New-York-City-Dataset">Download and Explore New York City Dataset<a class="anchor-link" href="https://nbviewer.jupyter.org/github/eklavyasaxena/The-Battle-of-Neighborhoods/blob/master/Exploring-the-Taste-of-NYC-Neighborhoods/Project_Notebook.ipynb#Download-and-Explore-New-York-City-Dataset">¶</a></h3>
</div>
</div>
</div>
<div class="cell border-box-sizing text_cell rendered"><div class="prompt input_prompt">
</div><div class="inner_cell">
<div class="text_cell_render border-box-sizing rendered_html">
<p>In order to segment the neighborhoods of New York City, a dataset is required that contains the 5 boroughs and the neighborhoods, that exist in each borough, with respective latitude and longitude coordinates.</p>
<p>This dataset exists for free on the web. Here is the link</p>
<ul>
<li>To the dataset: <a href="https://geo.nyu.edu/catalog/nyu_2451_34572">https://geo.nyu.edu/catalog/nyu_2451_34572</a>, and</li>
<li>To its downloadable json format file: <a href="https://cocl.us/new_york_dataset/newyork_data.json">https://cocl.us/new_york_dataset/newyork_data.json</a></li>
</ul>

</div>
</div>
</div>
<div class="cell border-box-sizing code_cell rendered">
<div class="input">
<div class="prompt input_prompt">In&nbsp;[2]:</div>
<div class="inner_cell">
    <div class="input_area">
<div class=" highlight hl-ipython3"><pre><span></span><span class="kn">import</span> <span class="nn">wget</span>
<span class="kn">import</span> <span class="nn">os</span>

<span class="k">if</span> <span class="n">os</span><span class="o">.</span><span class="n">path</span><span class="o">.</span><span class="n">exists</span><span class="p">(</span><span class="s1">'newyork_data.json'</span><span class="p">):</span>
    <span class="n">os</span><span class="o">.</span><span class="n">remove</span><span class="p">(</span><span class="s1">'newyork_data.json'</span><span class="p">)</span>

<span class="n">wget</span><span class="o">.</span><span class="n">download</span><span class="p">(</span><span class="s1">'https://cocl.us/new_york_dataset/newyork_data.json'</span><span class="p">)</span>

<span class="nb">print</span><span class="p">(</span><span class="s1">'</span><span class="se">\n</span><span class="s1">Data downloaded!'</span><span class="p">)</span>
</pre></div>

    </div>
</div>
</div>

<div class="output_wrapper">
<div class="output">


<div class="output_area">

    <div class="prompt"></div>


<div class="output_subarea output_stream output_stdout output_text">
<pre>100% [............................................................................] 115774 / 115774
Data downloaded!
</pre>
</div>
</div>

</div>
</div>

</div>
<div class="cell border-box-sizing code_cell rendered">
<div class="input">
<div class="prompt input_prompt">In&nbsp;[3]:</div>
<div class="inner_cell">
    <div class="input_area">
<div class=" highlight hl-ipython3"><pre><span></span><span class="c1"># open &amp; load downloaded file, print its type</span>
<span class="k">with</span> <span class="nb">open</span><span class="p">(</span><span class="s1">'newyork_data.json'</span><span class="p">)</span> <span class="k">as</span> <span class="n">json_data</span><span class="p">:</span>
    <span class="n">newyork_data</span> <span class="o">=</span> <span class="n">json</span><span class="o">.</span><span class="n">load</span><span class="p">(</span><span class="n">json_data</span><span class="p">)</span>
<span class="nb">type</span><span class="p">(</span><span class="n">newyork_data</span><span class="p">)</span>
</pre></div>

    </div>
</div>
</div>

<div class="output_wrapper">
<div class="output">


<div class="output_area">

    <div class="prompt output_prompt">Out[3]:</div>




<div class="output_text output_subarea output_execute_result">
<pre>dict</pre>
</div>

</div>

</div>
</div>

</div>
<div class="cell border-box-sizing code_cell rendered">
<div class="input">
<div class="prompt input_prompt">In&nbsp;[4]:</div>
<div class="inner_cell">
    <div class="input_area">
<div class=" highlight hl-ipython3"><pre><span></span><span class="nb">print</span> <span class="p">(</span><span class="s2">"newyork_data key and value's length are: "</span><span class="p">)</span> 
<span class="k">for</span> <span class="n">key</span><span class="p">,</span> <span class="n">value</span> <span class="ow">in</span> <span class="n">newyork_data</span><span class="o">.</span><span class="n">items</span><span class="p">():</span> 
    <span class="nb">print</span> <span class="p">(</span><span class="n">key</span><span class="p">,</span> <span class="nb">len</span><span class="p">(</span><span class="nb">str</span><span class="p">(</span><span class="n">value</span><span class="p">)))</span>
</pre></div>

    </div>
</div>
</div>

<div class="output_wrapper">
<div class="output">


<div class="output_area">

    <div class="prompt"></div>


<div class="output_subarea output_stream output_stdout output_text">
<pre>newyork_data key and value's length are: 
type 17
totalFeatures 3
features 124743
crs 70
bbox 74
</pre>
</div>
</div>

</div>
</div>

</div>
<div class="cell border-box-sizing text_cell rendered"><div class="prompt input_prompt">
</div><div class="inner_cell">
<div class="text_cell_render border-box-sizing rendered_html">
<p>All the relevant data is in the <em>features</em> key, which is basically a list of the neighborhoods. So, let's define a new variable that includes this data.</p>

</div>
</div>
</div>
<div class="cell border-box-sizing code_cell rendered">
<div class="input">
<div class="prompt input_prompt">In&nbsp;[5]:</div>
<div class="inner_cell">
    <div class="input_area">
<div class=" highlight hl-ipython3"><pre><span></span><span class="n">neighborhoods_data</span> <span class="o">=</span> <span class="n">newyork_data</span><span class="p">[</span><span class="s1">'features'</span><span class="p">]</span>
<span class="n">pprint</span><span class="p">(</span><span class="n">neighborhoods_data</span><span class="p">[</span><span class="mi">305</span><span class="p">])</span>
</pre></div>

    </div>
</div>
</div>

<div class="output_wrapper">
<div class="output">


<div class="output_area">

    <div class="prompt"></div>


<div class="output_subarea output_stream output_stdout output_text">
<pre>{'geometry': {'coordinates': [-74.08173992211962, 40.61731079252983],
              'type': 'Point'},
 'geometry_name': 'geom',
 'id': 'nyu_2451_34572.306',
 'properties': {'annoangle': 0.0,
                'annoline1': 'Fox',
                'annoline2': 'Hills',
                'annoline3': None,
                'bbox': [-74.08173992211962,
                         40.61731079252983,
                         -74.08173992211962,
                         40.61731079252983],
                'borough': 'Staten Island',
                'name': 'Fox Hills',
                'stacked': 2},
 'type': 'Feature'}
</pre>
</div>
</div>

</div>
</div>

</div>
<div class="cell border-box-sizing text_cell rendered"><div class="prompt input_prompt">
</div><div class="inner_cell">
<div class="text_cell_render border-box-sizing rendered_html">
<h4 id="Tranform-the-data-into-a-pandas-dataframe">Tranform the data into a <em>pandas</em> dataframe<a class="anchor-link" href="https://nbviewer.jupyter.org/github/eklavyasaxena/The-Battle-of-Neighborhoods/blob/master/Exploring-the-Taste-of-NYC-Neighborhoods/Project_Notebook.ipynb#Tranform-the-data-into-a-pandas-dataframe">¶</a></h4>
</div>
</div>
</div>
<div class="cell border-box-sizing code_cell rendered">
<div class="input">
<div class="prompt input_prompt">In&nbsp;[6]:</div>
<div class="inner_cell">
    <div class="input_area">
<div class=" highlight hl-ipython3"><pre><span></span><span class="c1"># define the dataframe columns</span>
<span class="n">column_names</span> <span class="o">=</span> <span class="p">[</span><span class="s1">'Borough'</span><span class="p">,</span> <span class="s1">'Neighborhood'</span><span class="p">,</span> <span class="s1">'Latitude'</span><span class="p">,</span> <span class="s1">'Longitude'</span><span class="p">]</span> 

<span class="c1"># instantiate the dataframe</span>
<span class="n">neighborhoods</span> <span class="o">=</span> <span class="n">pd</span><span class="o">.</span><span class="n">DataFrame</span><span class="p">(</span><span class="n">columns</span><span class="o">=</span><span class="n">column_names</span><span class="p">)</span>
<span class="n">neighborhoods</span>
</pre></div>

    </div>
</div>
</div>

<div class="output_wrapper">
<div class="output">


<div class="output_area">

    <div class="prompt output_prompt">Out[6]:</div>



<div class="output_html rendered_html output_subarea output_execute_result">
<div>
<style scoped="">
    .dataframe tbody tr th:only-of-type {
        vertical-align: middle;
    }

    .dataframe tbody tr th {
        vertical-align: top;
    }

    .dataframe thead th {
        text-align: right;
    }
</style>
<table border="1" class="dataframe">
  <thead>
    <tr style="text-align: right;">
      <th></th>
      <th>Borough</th>
      <th>Neighborhood</th>
      <th>Latitude</th>
      <th>Longitude</th>
    </tr>
  </thead>
  <tbody>
  </tbody>
</table>
</div>
</div>

</div>

</div>
</div>

</div>
<div class="cell border-box-sizing text_cell rendered"><div class="prompt input_prompt">
</div><div class="inner_cell">
<div class="text_cell_render border-box-sizing rendered_html">
<p>Then let's loop through the data and fill the dataframe one row at a time.</p>

</div>
</div>
</div>
<div class="cell border-box-sizing code_cell rendered">
<div class="input">
<div class="prompt input_prompt">In&nbsp;[7]:</div>
<div class="inner_cell">
    <div class="input_area">
<div class=" highlight hl-ipython3"><pre><span></span><span class="k">for</span> <span class="n">data</span> <span class="ow">in</span> <span class="n">neighborhoods_data</span><span class="p">:</span>
    <span class="n">borough</span> <span class="o">=</span> <span class="n">data</span><span class="p">[</span><span class="s1">'properties'</span><span class="p">][</span><span class="s1">'borough'</span><span class="p">]</span> 
    <span class="n">neighborhood_name</span> <span class="o">=</span> <span class="n">data</span><span class="p">[</span><span class="s1">'properties'</span><span class="p">][</span><span class="s1">'name'</span><span class="p">]</span>
    <span class="n">neighborhood_latlon</span> <span class="o">=</span> <span class="n">data</span><span class="p">[</span><span class="s1">'geometry'</span><span class="p">][</span><span class="s1">'coordinates'</span><span class="p">]</span>
    <span class="n">neighborhood_lat</span> <span class="o">=</span> <span class="n">neighborhood_latlon</span><span class="p">[</span><span class="mi">1</span><span class="p">]</span>
    <span class="n">neighborhood_lon</span> <span class="o">=</span> <span class="n">neighborhood_latlon</span><span class="p">[</span><span class="mi">0</span><span class="p">]</span>
    
    <span class="n">neighborhoods</span> <span class="o">=</span> <span class="n">neighborhoods</span><span class="o">.</span><span class="n">append</span><span class="p">({</span><span class="s1">'Borough'</span><span class="p">:</span> <span class="n">borough</span><span class="p">,</span>
                                          <span class="s1">'Neighborhood'</span><span class="p">:</span> <span class="n">neighborhood_name</span><span class="p">,</span>
                                          <span class="s1">'Latitude'</span><span class="p">:</span> <span class="n">neighborhood_lat</span><span class="p">,</span>
                                          <span class="s1">'Longitude'</span><span class="p">:</span> <span class="n">neighborhood_lon</span><span class="p">},</span> <span class="n">ignore_index</span><span class="o">=</span><span class="kc">True</span><span class="p">)</span>
</pre></div>

    </div>
</div>
</div>

</div>
<div class="cell border-box-sizing code_cell rendered">
<div class="input">
<div class="prompt input_prompt">In&nbsp;[8]:</div>
<div class="inner_cell">
    <div class="input_area">
<div class=" highlight hl-ipython3"><pre><span></span><span class="n">neighborhoods</span><span class="o">.</span><span class="n">head</span><span class="p">()</span>
</pre></div>

    </div>
</div>
</div>

<div class="output_wrapper">
<div class="output">


<div class="output_area">

    <div class="prompt output_prompt">Out[8]:</div>



<div class="output_html rendered_html output_subarea output_execute_result">
<div>
<style scoped="">
    .dataframe tbody tr th:only-of-type {
        vertical-align: middle;
    }

    .dataframe tbody tr th {
        vertical-align: top;
    }

    .dataframe thead th {
        text-align: right;
    }
</style>
<table border="1" class="dataframe">
  <thead>
    <tr style="text-align: right;">
      <th></th>
      <th>Borough</th>
      <th>Neighborhood</th>
      <th>Latitude</th>
      <th>Longitude</th>
    </tr>
  </thead>
  <tbody>
    <tr>
      <th>0</th>
      <td>Bronx</td>
      <td>Wakefield</td>
      <td>40.894705</td>
      <td>-73.847201</td>
    </tr>
    <tr>
      <th>1</th>
      <td>Bronx</td>
      <td>Co-op City</td>
      <td>40.874294</td>
      <td>-73.829939</td>
    </tr>
    <tr>
      <th>2</th>
      <td>Bronx</td>
      <td>Eastchester</td>
      <td>40.887556</td>
      <td>-73.827806</td>
    </tr>
    <tr>
      <th>3</th>
      <td>Bronx</td>
      <td>Fieldston</td>
      <td>40.895437</td>
      <td>-73.905643</td>
    </tr>
    <tr>
      <th>4</th>
      <td>Bronx</td>
      <td>Riverdale</td>
      <td>40.890834</td>
      <td>-73.912585</td>
    </tr>
  </tbody>
</table>
</div>
</div>

</div>

</div>
</div>

</div>
<div class="cell border-box-sizing code_cell rendered">
<div class="input">
<div class="prompt input_prompt">In&nbsp;[9]:</div>
<div class="inner_cell">
    <div class="input_area">
<div class=" highlight hl-ipython3"><pre><span></span><span class="nb">print</span><span class="p">(</span><span class="s1">'The dataframe has </span><span class="si">{}</span><span class="s1"> boroughs and </span><span class="si">{}</span><span class="s1"> neighborhoods.'</span><span class="o">.</span><span class="n">format</span><span class="p">(</span>
        <span class="nb">len</span><span class="p">(</span><span class="n">neighborhoods</span><span class="p">[</span><span class="s1">'Borough'</span><span class="p">]</span><span class="o">.</span><span class="n">unique</span><span class="p">()),</span>
        <span class="n">neighborhoods</span><span class="o">.</span><span class="n">shape</span><span class="p">[</span><span class="mi">0</span><span class="p">]</span>
    <span class="p">)</span>
<span class="p">)</span>
</pre></div>

    </div>
</div>
</div>

<div class="output_wrapper">
<div class="output">


<div class="output_area">

    <div class="prompt"></div>


<div class="output_subarea output_stream output_stdout output_text">
<pre>The dataframe has 5 boroughs and 306 neighborhoods.
</pre>
</div>
</div>

</div>
</div>

</div>
<div class="cell border-box-sizing text_cell rendered"><div class="prompt input_prompt">
</div><div class="inner_cell">
<div class="text_cell_render border-box-sizing rendered_html">
<h4 id="Use-geopy-library-to-get-the-latitude-and-longitude-values-of-New-York-City.">Use geopy library to get the latitude and longitude values of New York City.<a class="anchor-link" href="https://nbviewer.jupyter.org/github/eklavyasaxena/The-Battle-of-Neighborhoods/blob/master/Exploring-the-Taste-of-NYC-Neighborhoods/Project_Notebook.ipynb#Use-geopy-library-to-get-the-latitude-and-longitude-values-of-New-York-City.">¶</a></h4>
</div>
</div>
</div>
<div class="cell border-box-sizing code_cell rendered">
<div class="input">
<div class="prompt input_prompt">In&nbsp;[10]:</div>
<div class="inner_cell">
    <div class="input_area">
<div class=" highlight hl-ipython3"><pre><span></span><span class="n">address</span> <span class="o">=</span> <span class="s1">'New York City, NY'</span>
<span class="n">location</span> <span class="o">=</span> <span class="kc">None</span>

<span class="c1"># define an instance of the geocoder -&gt; ny_explorer</span>
<span class="k">while</span> <span class="n">location</span> <span class="o">==</span> <span class="kc">None</span><span class="p">:</span>
    <span class="k">try</span><span class="p">:</span>
        <span class="n">geolocator</span> <span class="o">=</span> <span class="n">Nominatim</span><span class="p">(</span><span class="n">user_agent</span><span class="o">=</span><span class="s2">"ny_explorer"</span><span class="p">)</span>
        <span class="n">location</span> <span class="o">=</span> <span class="n">geolocator</span><span class="o">.</span><span class="n">geocode</span><span class="p">(</span><span class="n">address</span><span class="p">)</span>
        <span class="n">latitude</span> <span class="o">=</span> <span class="n">location</span><span class="o">.</span><span class="n">latitude</span>
        <span class="n">longitude</span> <span class="o">=</span> <span class="n">location</span><span class="o">.</span><span class="n">longitude</span>
    <span class="k">except</span><span class="p">:</span>
        <span class="k">pass</span>
<span class="nb">print</span><span class="p">(</span><span class="s1">'The geograpical coordinate of New York City are </span><span class="si">{}</span><span class="s1">, </span><span class="si">{}</span><span class="s1">.'</span><span class="o">.</span><span class="n">format</span><span class="p">(</span><span class="n">latitude</span><span class="p">,</span> <span class="n">longitude</span><span class="p">))</span>
</pre></div>

    </div>
</div>
</div>

<div class="output_wrapper">
<div class="output">


<div class="output_area">

    <div class="prompt"></div>


<div class="output_subarea output_stream output_stdout output_text">
<pre>The geograpical coordinate of New York City are 40.7127281, -74.0060152.
</pre>
</div>
</div>

</div>
</div>

</div>
<div class="cell border-box-sizing text_cell rendered"><div class="prompt input_prompt">
</div><div class="inner_cell">
<div class="text_cell_render border-box-sizing rendered_html">
<h4 id="Create-a-map-of-New-York-with-neighborhoods-superimposed-on-top.">Create a map of New York with neighborhoods superimposed on top.<a class="anchor-link" href="https://nbviewer.jupyter.org/github/eklavyasaxena/The-Battle-of-Neighborhoods/blob/master/Exploring-the-Taste-of-NYC-Neighborhoods/Project_Notebook.ipynb#Create-a-map-of-New-York-with-neighborhoods-superimposed-on-top.">¶</a></h4>
</div>
</div>
</div>
<div class="cell border-box-sizing code_cell rendered">
<div class="input">
<div class="prompt input_prompt">In&nbsp;[11]:</div>
<div class="inner_cell">
    <div class="input_area">
<div class=" highlight hl-ipython3"><pre><span></span><span class="c1"># create map of New York using latitude and longitude values</span>
<span class="n">map_newyork</span> <span class="o">=</span> <span class="n">folium</span><span class="o">.</span><span class="n">Map</span><span class="p">(</span><span class="n">location</span><span class="o">=</span><span class="p">[</span><span class="n">latitude</span><span class="p">,</span> <span class="n">longitude</span><span class="p">],</span> <span class="n">zoom_start</span><span class="o">=</span><span class="mi">10</span><span class="p">)</span>

<span class="c1"># add markers to map</span>
<span class="k">for</span> <span class="n">lat</span><span class="p">,</span> <span class="n">lng</span><span class="p">,</span> <span class="n">borough</span><span class="p">,</span> <span class="n">neighborhood</span> <span class="ow">in</span> <span class="nb">zip</span><span class="p">(</span><span class="n">neighborhoods</span><span class="p">[</span><span class="s1">'Latitude'</span><span class="p">],</span> <span class="n">neighborhoods</span><span class="p">[</span><span class="s1">'Longitude'</span><span class="p">],</span> <span class="n">neighborhoods</span><span class="p">[</span><span class="s1">'Borough'</span><span class="p">],</span> <span class="n">neighborhoods</span><span class="p">[</span><span class="s1">'Neighborhood'</span><span class="p">]):</span>
    <span class="n">label</span> <span class="o">=</span> <span class="s1">'</span><span class="si">{}</span><span class="s1">, </span><span class="si">{}</span><span class="s1">'</span><span class="o">.</span><span class="n">format</span><span class="p">(</span><span class="n">neighborhood</span><span class="p">,</span> <span class="n">borough</span><span class="p">)</span>
    <span class="n">label</span> <span class="o">=</span> <span class="n">folium</span><span class="o">.</span><span class="n">Popup</span><span class="p">(</span><span class="n">label</span><span class="p">,</span> <span class="n">parse_html</span><span class="o">=</span><span class="kc">True</span><span class="p">)</span>
    <span class="n">folium</span><span class="o">.</span><span class="n">CircleMarker</span><span class="p">(</span>
        <span class="p">[</span><span class="n">lat</span><span class="p">,</span> <span class="n">lng</span><span class="p">],</span>
        <span class="n">radius</span><span class="o">=</span><span class="mi">5</span><span class="p">,</span>
        <span class="n">popup</span><span class="o">=</span><span class="n">label</span><span class="p">,</span>
        <span class="n">color</span><span class="o">=</span><span class="s1">'blue'</span><span class="p">,</span>
        <span class="n">fill</span><span class="o">=</span><span class="kc">True</span><span class="p">,</span>
        <span class="n">fill_color</span><span class="o">=</span><span class="s1">'#3186cc'</span><span class="p">,</span>
        <span class="n">fill_opacity</span><span class="o">=</span><span class="mf">0.7</span><span class="p">,</span>
        <span class="n">parse_html</span><span class="o">=</span><span class="kc">False</span><span class="p">)</span><span class="o">.</span><span class="n">add_to</span><span class="p">(</span><span class="n">map_newyork</span><span class="p">)</span>  
    
<span class="n">map_newyork</span>
</pre></div>

    </div>
</div>
</div>

<div class="output_wrapper">
<div class="output">


<div class="output_area">

    <div class="prompt output_prompt">Out[11]:</div>



<div class="output_html rendered_html output_subarea output_execute_result">
<div style="width:100%;"><div style="position:relative;width:100%;height:0;padding-bottom:60%;"><iframe src="./Jupyter Notebook Viewer_files/saved_resource.html" style="position:absolute;width:100%;height:100%;left:0;top:0;border:none !important;" allowfullscreen="" webkitallowfullscreen="" mozallowfullscreen=""></iframe></div></div>
</div>

</div>

</div>
</div>

</div>
<div class="cell border-box-sizing text_cell rendered"><div class="prompt input_prompt">
</div><div class="inner_cell">
<div class="text_cell_render border-box-sizing rendered_html">
<p><strong>Folium</strong> is a great visualization library. Feel free to zoom into the above map, and click on each circle mark to reveal the name of the neighborhood and its respective borough.</p>

</div>
</div>
</div>
<div class="cell border-box-sizing text_cell rendered"><div class="prompt input_prompt">
</div><div class="inner_cell">
<div class="text_cell_render border-box-sizing rendered_html">
<h4 id="Define-Foursquare-Credentials-and-Version">Define Foursquare Credentials and Version<a class="anchor-link" href="https://nbviewer.jupyter.org/github/eklavyasaxena/The-Battle-of-Neighborhoods/blob/master/Exploring-the-Taste-of-NYC-Neighborhoods/Project_Notebook.ipynb#Define-Foursquare-Credentials-and-Version">¶</a></h4><p>Utilizing the Foursquare API to explore the neighborhoods and segment them.</p>

</div>
</div>
</div>
<div class="cell border-box-sizing code_cell rendered">
<div class="input">
<div class="prompt input_prompt">In&nbsp;[12]:</div>
<div class="inner_cell">
    <div class="input_area">
<div class=" highlight hl-ipython3"><pre><span></span><span class="n">CLIENT_ID</span> <span class="o">=</span> <span class="s1">'XOKJYQNJOBDGS1WJQLVWK0KY2MX2LSBS2RQHYZ1IERYGZQM2'</span> <span class="c1"># your Foursquare ID</span>
<span class="n">CLIENT_SECRET</span> <span class="o">=</span> <span class="s1">'JMKC15GZW4SFCQV32GOIZTXEJD4IHUGNM5L4U2SEXLBYPLHH'</span> <span class="c1"># your Foursquare Secret</span>
<span class="n">VERSION</span> <span class="o">=</span> <span class="s1">'20180605'</span> <span class="c1"># Foursquare API version</span>

<span class="nb">print</span><span class="p">(</span><span class="s1">'Your credentails:'</span><span class="p">)</span>
<span class="nb">print</span><span class="p">(</span><span class="s1">'CLIENT_ID: '</span> <span class="o">+</span> <span class="n">CLIENT_ID</span><span class="p">)</span>
<span class="nb">print</span><span class="p">(</span><span class="s1">'CLIENT_SECRET:'</span> <span class="o">+</span> <span class="n">CLIENT_SECRET</span><span class="p">)</span>
</pre></div>

    </div>
</div>
</div>

<div class="output_wrapper">
<div class="output">


<div class="output_area">

    <div class="prompt"></div>


<div class="output_subarea output_stream output_stdout output_text">
<pre>Your credentails:
CLIENT_ID: XOKJYQNJOBDGS1WJQLVWK0KY2MX2LSBS2RQHYZ1IERYGZQM2
CLIENT_SECRET:JMKC15GZW4SFCQV32GOIZTXEJD4IHUGNM5L4U2SEXLBYPLHH
</pre>
</div>
</div>

</div>
</div>

</div>
<div class="cell border-box-sizing text_cell rendered"><div class="prompt input_prompt">
</div><div class="inner_cell">
<div class="text_cell_render border-box-sizing rendered_html">
<p><strong>Fetch Foursquare Venue Category Hierarchy</strong></p>

</div>
</div>
</div>
<div class="cell border-box-sizing code_cell rendered">
<div class="input">
<div class="prompt input_prompt">In&nbsp;[13]:</div>
<div class="inner_cell">
    <div class="input_area">
<div class=" highlight hl-ipython3"><pre><span></span><span class="n">url</span> <span class="o">=</span> <span class="s1">'https://api.foursquare.com/v2/venues/categories?&amp;client_id=</span><span class="si">{}</span><span class="s1">&amp;client_secret=</span><span class="si">{}</span><span class="s1">&amp;v=</span><span class="si">{}</span><span class="s1">'</span><span class="o">.</span><span class="n">format</span><span class="p">(</span>
    <span class="n">CLIENT_ID</span><span class="p">,</span> 
    <span class="n">CLIENT_SECRET</span><span class="p">,</span> 
    <span class="n">VERSION</span><span class="p">)</span>
<span class="n">category_results</span> <span class="o">=</span> <span class="n">requests</span><span class="o">.</span><span class="n">get</span><span class="p">(</span><span class="n">url</span><span class="p">)</span><span class="o">.</span><span class="n">json</span><span class="p">()</span>
</pre></div>

    </div>
</div>
</div>

</div>
<div class="cell border-box-sizing text_cell rendered"><div class="prompt input_prompt">
</div><div class="inner_cell">
<div class="text_cell_render border-box-sizing rendered_html">
<p>Let's see the structure or the keys of the returned request.</p>

</div>
</div>
</div>
<div class="cell border-box-sizing code_cell rendered">
<div class="input">
<div class="prompt input_prompt">In&nbsp;[14]:</div>
<div class="inner_cell">
    <div class="input_area">
<div class=" highlight hl-ipython3"><pre><span></span><span class="k">for</span> <span class="n">key</span><span class="p">,</span> <span class="n">value</span> <span class="ow">in</span> <span class="n">category_results</span><span class="p">[</span><span class="s1">'response'</span><span class="p">][</span><span class="s1">'categories'</span><span class="p">][</span><span class="mi">0</span><span class="p">]</span><span class="o">.</span><span class="n">items</span><span class="p">():</span>
    <span class="nb">print</span><span class="p">(</span><span class="n">key</span><span class="p">,</span> <span class="nb">len</span><span class="p">(</span><span class="nb">str</span><span class="p">(</span><span class="n">value</span><span class="p">)))</span>
</pre></div>

    </div>
</div>
</div>

<div class="output_wrapper">
<div class="output">


<div class="output_area">

    <div class="prompt"></div>


<div class="output_subarea output_stream output_stdout output_text">
<pre>id 24
name 20
pluralName 20
shortName 20
icon 98
categories 15910
</pre>
</div>
</div>

</div>
</div>

</div>
<div class="cell border-box-sizing code_cell rendered">
<div class="input">
<div class="prompt input_prompt">In&nbsp;[15]:</div>
<div class="inner_cell">
    <div class="input_area">
<div class=" highlight hl-ipython3"><pre><span></span><span class="n">category_list</span> <span class="o">=</span> <span class="n">category_results</span><span class="p">[</span><span class="s1">'response'</span><span class="p">][</span><span class="s1">'categories'</span><span class="p">]</span>
</pre></div>

    </div>
</div>
</div>

</div>
<div class="cell border-box-sizing code_cell rendered">
<div class="input">
<div class="prompt input_prompt">In&nbsp;[16]:</div>
<div class="inner_cell">
    <div class="input_area">
<div class=" highlight hl-ipython3"><pre><span></span><span class="nb">len</span><span class="p">(</span><span class="n">category_list</span><span class="p">)</span>
</pre></div>

    </div>
</div>
</div>

<div class="output_wrapper">
<div class="output">


<div class="output_area">

    <div class="prompt output_prompt">Out[16]:</div>




<div class="output_text output_subarea output_execute_result">
<pre>10</pre>
</div>

</div>

</div>
</div>

</div>
<div class="cell border-box-sizing code_cell rendered">
<div class="input">
<div class="prompt input_prompt">In&nbsp;[17]:</div>
<div class="inner_cell">
    <div class="input_area">
<div class=" highlight hl-ipython3"><pre><span></span><span class="k">for</span> <span class="n">data</span> <span class="ow">in</span> <span class="n">category_list</span><span class="p">:</span>
    <span class="nb">print</span><span class="p">(</span><span class="n">data</span><span class="p">[</span><span class="s1">'id'</span><span class="p">],</span> <span class="n">data</span><span class="p">[</span><span class="s1">'name'</span><span class="p">])</span>
</pre></div>

    </div>
</div>
</div>

<div class="output_wrapper">
<div class="output">


<div class="output_area">

    <div class="prompt"></div>


<div class="output_subarea output_stream output_stdout output_text">
<pre>4d4b7104d754a06370d81259 Arts &amp; Entertainment
4d4b7105d754a06372d81259 College &amp; University
4d4b7105d754a06373d81259 Event
4d4b7105d754a06374d81259 Food
4d4b7105d754a06376d81259 Nightlife Spot
4d4b7105d754a06377d81259 Outdoors &amp; Recreation
4d4b7105d754a06375d81259 Professional &amp; Other Places
4e67e38e036454776db1fb3a Residence
4d4b7105d754a06378d81259 Shop &amp; Service
4d4b7105d754a06379d81259 Travel &amp; Transport
</pre>
</div>
</div>

</div>
</div>

</div>
<div class="cell border-box-sizing text_cell rendered"><div class="prompt input_prompt">
</div><div class="inner_cell">
<div class="text_cell_render border-box-sizing rendered_html">
<p><strong><em>Food</em> &amp; It's Sub-Categories</strong></p>
<p>Let's create a function to return a dictionary with Ids' &amp; Names of <em>Food</em> &amp; It's Sub-Categories.</p>

</div>
</div>
</div>
<div class="cell border-box-sizing code_cell rendered">
<div class="input">
<div class="prompt input_prompt">In&nbsp;[18]:</div>
<div class="inner_cell">
    <div class="input_area">
<div class=" highlight hl-ipython3"><pre><span></span><span class="c1"># function to flatten a 'parent_id' category, returns all categories if checkParentID = False</span>
<span class="k">def</span> <span class="nf">flatten_Hierarchy</span><span class="p">(</span><span class="n">category_list</span><span class="p">,</span> <span class="n">checkParentID</span><span class="p">,</span> <span class="n">category_dict</span><span class="p">,</span> <span class="n">parent_id</span> <span class="o">=</span> <span class="s1">''</span><span class="p">):</span>
    <span class="k">for</span> <span class="n">data</span> <span class="ow">in</span> <span class="n">category_list</span><span class="p">:</span>
        
        <span class="k">if</span> <span class="n">checkParentID</span> <span class="o">==</span> <span class="kc">True</span> <span class="ow">and</span> <span class="n">data</span><span class="p">[</span><span class="s1">'id'</span><span class="p">]</span> <span class="o">==</span> <span class="n">parent_id</span><span class="p">:</span>
            <span class="n">category_dict</span><span class="p">[</span><span class="n">data</span><span class="p">[</span><span class="s1">'id'</span><span class="p">]]</span> <span class="o">=</span> <span class="n">data</span><span class="p">[</span><span class="s1">'name'</span><span class="p">]</span>
            <span class="n">flatten_Hierarchy</span><span class="p">(</span><span class="n">category_list</span> <span class="o">=</span> <span class="n">data</span><span class="p">[</span><span class="s1">'categories'</span><span class="p">],</span> <span class="n">checkParentID</span> <span class="o">=</span> <span class="kc">False</span><span class="p">,</span> <span class="n">category_dict</span> <span class="o">=</span> <span class="n">category_dict</span><span class="p">)</span>
        
        <span class="k">elif</span> <span class="n">checkParentID</span> <span class="o">==</span> <span class="kc">False</span><span class="p">:</span>
            <span class="n">category_dict</span><span class="p">[</span><span class="n">data</span><span class="p">[</span><span class="s1">'id'</span><span class="p">]]</span> <span class="o">=</span> <span class="n">data</span><span class="p">[</span><span class="s1">'name'</span><span class="p">]</span>
            <span class="k">if</span> <span class="nb">len</span><span class="p">(</span><span class="n">data</span><span class="p">[</span><span class="s1">'categories'</span><span class="p">])</span> <span class="o">!=</span> <span class="mi">0</span><span class="p">:</span>
                <span class="n">flatten_Hierarchy</span><span class="p">(</span><span class="n">category_list</span> <span class="o">=</span> <span class="n">data</span><span class="p">[</span><span class="s1">'categories'</span><span class="p">],</span> <span class="n">checkParentID</span> <span class="o">=</span> <span class="kc">False</span><span class="p">,</span> <span class="n">category_dict</span> <span class="o">=</span> <span class="n">category_dict</span><span class="p">)</span>
    
    <span class="k">return</span> <span class="n">category_dict</span>
</pre></div>

    </div>
</div>
</div>

</div>
<div class="cell border-box-sizing code_cell rendered">
<div class="input">
<div class="prompt input_prompt">In&nbsp;[19]:</div>
<div class="inner_cell">
    <div class="input_area">
<div class=" highlight hl-ipython3"><pre><span></span><span class="c1"># this function takes the parent ID and returns 'name' and 'id' of all the sub-categories</span>
<span class="n">category_dict</span> <span class="o">=</span> <span class="n">flatten_Hierarchy</span><span class="p">(</span><span class="n">category_list</span><span class="p">,</span> <span class="n">checkParentID</span><span class="o">=</span><span class="kc">True</span><span class="p">,</span> <span class="n">category_dict</span> <span class="o">=</span> <span class="p">{},</span> <span class="n">parent_id</span> <span class="o">=</span> <span class="s1">'4d4b7105d754a06374d81259'</span><span class="p">)</span>
</pre></div>

    </div>
</div>
</div>

</div>
<div class="cell border-box-sizing text_cell rendered"><div class="prompt input_prompt">
</div><div class="inner_cell">
<div class="text_cell_render border-box-sizing rendered_html">
<p>Now, we have all the categories in <em>Food</em> with their id's.</p>

</div>
</div>
</div>
<div class="cell border-box-sizing text_cell rendered"><div class="prompt input_prompt">
</div><div class="inner_cell">
<div class="text_cell_render border-box-sizing rendered_html">
<h4 id="Explore-the-first-neighborhood-to-understand-the-results-of-GET-Request">Explore the first neighborhood to understand the results of GET Request<a class="anchor-link" href="https://nbviewer.jupyter.org/github/eklavyasaxena/The-Battle-of-Neighborhoods/blob/master/Exploring-the-Taste-of-NYC-Neighborhoods/Project_Notebook.ipynb#Explore-the-first-neighborhood-to-understand-the-results-of-GET-Request">¶</a></h4>
</div>
</div>
</div>
<div class="cell border-box-sizing text_cell rendered"><div class="prompt input_prompt">
</div><div class="inner_cell">
<div class="text_cell_render border-box-sizing rendered_html">
<p>Get the neighborhood's name.</p>

</div>
</div>
</div>
<div class="cell border-box-sizing code_cell rendered">
<div class="input">
<div class="prompt input_prompt">In&nbsp;[20]:</div>
<div class="inner_cell">
    <div class="input_area">
<div class=" highlight hl-ipython3"><pre><span></span><span class="n">neighborhoods</span><span class="o">.</span><span class="n">loc</span><span class="p">[</span><span class="mi">0</span><span class="p">,</span> <span class="s1">'Neighborhood'</span><span class="p">]</span>
</pre></div>

    </div>
</div>
</div>

<div class="output_wrapper">
<div class="output">


<div class="output_area">

    <div class="prompt output_prompt">Out[20]:</div>




<div class="output_text output_subarea output_execute_result">
<pre>'Wakefield'</pre>
</div>

</div>

</div>
</div>

</div>
<div class="cell border-box-sizing text_cell rendered"><div class="prompt input_prompt">
</div><div class="inner_cell">
<div class="text_cell_render border-box-sizing rendered_html">
<p>Get the neighborhood's latitude and longitude values.</p>

</div>
</div>
</div>
<div class="cell border-box-sizing code_cell rendered">
<div class="input">
<div class="prompt input_prompt">In&nbsp;[21]:</div>
<div class="inner_cell">
    <div class="input_area">
<div class=" highlight hl-ipython3"><pre><span></span><span class="n">neighborhood_latitude</span> <span class="o">=</span> <span class="n">neighborhoods</span><span class="o">.</span><span class="n">loc</span><span class="p">[</span><span class="mi">0</span><span class="p">,</span> <span class="s1">'Latitude'</span><span class="p">]</span> <span class="c1"># neighborhood latitude value</span>
<span class="n">neighborhood_longitude</span> <span class="o">=</span> <span class="n">neighborhoods</span><span class="o">.</span><span class="n">loc</span><span class="p">[</span><span class="mi">0</span><span class="p">,</span> <span class="s1">'Longitude'</span><span class="p">]</span> <span class="c1"># neighborhood longitude value</span>

<span class="n">neighborhood_name</span> <span class="o">=</span> <span class="n">neighborhoods</span><span class="o">.</span><span class="n">loc</span><span class="p">[</span><span class="mi">0</span><span class="p">,</span> <span class="s1">'Neighborhood'</span><span class="p">]</span> <span class="c1"># neighborhood name</span>

<span class="nb">print</span><span class="p">(</span><span class="s1">'Latitude and longitude values of </span><span class="si">{}</span><span class="s1"> are </span><span class="si">{}</span><span class="s1">, </span><span class="si">{}</span><span class="s1">.'</span><span class="o">.</span><span class="n">format</span><span class="p">(</span><span class="n">neighborhood_name</span><span class="p">,</span> 
                                                               <span class="n">neighborhood_latitude</span><span class="p">,</span> 
                                                               <span class="n">neighborhood_longitude</span><span class="p">))</span>
</pre></div>

    </div>
</div>
</div>

<div class="output_wrapper">
<div class="output">


<div class="output_area">

    <div class="prompt"></div>


<div class="output_subarea output_stream output_stdout output_text">
<pre>Latitude and longitude values of Wakefield are 40.89470517661, -73.84720052054902.
</pre>
</div>
</div>

</div>
</div>

</div>
<div class="cell border-box-sizing text_cell rendered"><div class="prompt input_prompt">
</div><div class="inner_cell">
<div class="text_cell_render border-box-sizing rendered_html">
<h4 id="Now,-let&#39;s-get-the-Food-that-is-in-Wakefield-within-a-radius-of-500-meters.">Now, let's get the <em>Food</em> that is in Wakefield within a radius of 500 meters.<a class="anchor-link" href="https://nbviewer.jupyter.org/github/eklavyasaxena/The-Battle-of-Neighborhoods/blob/master/Exploring-the-Taste-of-NYC-Neighborhoods/Project_Notebook.ipynb#Now,-let&#39;s-get-the-Food-that-is-in-Wakefield-within-a-radius-of-500-meters.">¶</a></h4>
</div>
</div>
</div>
<div class="cell border-box-sizing text_cell rendered"><div class="prompt input_prompt">
</div><div class="inner_cell">
<div class="text_cell_render border-box-sizing rendered_html">
<p>First, let's create the GET request URL to search for Venue with requested <em>Category ID</em></p>

</div>
</div>
</div>
<div class="cell border-box-sizing code_cell rendered">
<div class="input">
<div class="prompt input_prompt">In&nbsp;[22]:</div>
<div class="inner_cell">
    <div class="input_area">
<div class=" highlight hl-ipython3"><pre><span></span><span class="n">LIMIT</span> <span class="o">=</span> <span class="mi">1</span> <span class="c1"># limit of number of venues returned by Foursquare API</span>
<span class="n">radius</span> <span class="o">=</span> <span class="mi">500</span> <span class="c1"># define radius</span>
<span class="n">categoryId</span> <span class="o">=</span> <span class="s1">'4d4b7105d754a06374d81259'</span> <span class="c1"># category ID for "Food"</span>

<span class="c1"># create URL</span>

<span class="n">url</span> <span class="o">=</span> <span class="s1">'https://api.foursquare.com/v2/venues/search?&amp;client_id=</span><span class="si">{}</span><span class="s1">&amp;client_secret=</span><span class="si">{}</span><span class="s1">&amp;v=</span><span class="si">{}</span><span class="s1">&amp;ll=</span><span class="si">{}</span><span class="s1">,</span><span class="si">{}</span><span class="s1">&amp;radius=</span><span class="si">{}</span><span class="s1">&amp;categoryId=</span><span class="si">{}</span><span class="s1">&amp;limit=</span><span class="si">{}</span><span class="s1">'</span><span class="o">.</span><span class="n">format</span><span class="p">(</span>
    <span class="n">CLIENT_ID</span><span class="p">,</span> 
    <span class="n">CLIENT_SECRET</span><span class="p">,</span> 
    <span class="n">VERSION</span><span class="p">,</span> 
    <span class="n">neighborhood_latitude</span><span class="p">,</span> 
    <span class="n">neighborhood_longitude</span><span class="p">,</span> 
    <span class="n">radius</span><span class="p">,</span>
    <span class="n">categoryId</span><span class="p">,</span>
    <span class="n">LIMIT</span><span class="p">)</span>
<span class="n">url</span> <span class="c1"># display URL</span>
</pre></div>

    </div>
</div>
</div>

<div class="output_wrapper">
<div class="output">


<div class="output_area">

    <div class="prompt output_prompt">Out[22]:</div>




<div class="output_text output_subarea output_execute_result">
<pre>'https://api.foursquare.com/v2/venues/search?&amp;client_id=XOKJYQNJOBDGS1WJQLVWK0KY2MX2LSBS2RQHYZ1IERYGZQM2&amp;client_secret=JMKC15GZW4SFCQV32GOIZTXEJD4IHUGNM5L4U2SEXLBYPLHH&amp;v=20180605&amp;ll=40.89470517661,-73.84720052054902&amp;radius=500&amp;categoryId=4d4b7105d754a06374d81259&amp;limit=1'</pre>
</div>

</div>

</div>
</div>

</div>
<div class="cell border-box-sizing text_cell rendered"><div class="prompt input_prompt">
</div><div class="inner_cell">
<div class="text_cell_render border-box-sizing rendered_html">
<p>Send the GET request and examine the resutls</p>

</div>
</div>
</div>
<div class="cell border-box-sizing code_cell rendered">
<div class="input">
<div class="prompt input_prompt">In&nbsp;[23]:</div>
<div class="inner_cell">
    <div class="input_area">
<div class=" highlight hl-ipython3"><pre><span></span><span class="n">results</span> <span class="o">=</span> <span class="n">requests</span><span class="o">.</span><span class="n">get</span><span class="p">(</span><span class="n">url</span><span class="p">)</span><span class="o">.</span><span class="n">json</span><span class="p">()</span>
</pre></div>

    </div>
</div>
</div>

</div>
<div class="cell border-box-sizing code_cell rendered">
<div class="input">
<div class="prompt input_prompt">In&nbsp;[24]:</div>
<div class="inner_cell">
    <div class="input_area">
<div class=" highlight hl-ipython3"><pre><span></span><span class="n">results</span><span class="p">[</span><span class="s1">'response'</span><span class="p">][</span><span class="s1">'venues'</span><span class="p">]</span>
</pre></div>

    </div>
</div>
</div>

<div class="output_wrapper">
<div class="output">


<div class="output_area">

    <div class="prompt output_prompt">Out[24]:</div>




<div class="output_text output_subarea output_execute_result">
<pre>[{'id': '4c783cef3badb1f7e4244b54',
  'name': 'Carvel Ice Cream',
  'location': {'address': '1006 E 233rd St',
   'lat': 40.890486685759605,
   'lng': -73.84856772568665,
   'labeledLatLngs': [{'label': 'display',
     'lat': 40.890486685759605,
     'lng': -73.84856772568665}],
   'distance': 483,
   'postalCode': '10466',
   'cc': 'US',
   'city': 'Bronx',
   'state': 'NY',
   'country': 'United States',
   'formattedAddress': ['1006 E 233rd St',
    'Bronx, NY 10466',
    'United States']},
  'categories': [{'id': '4bf58dd8d48988d1c9941735',
    'name': 'Ice Cream Shop',
    'pluralName': 'Ice Cream Shops',
    'shortName': 'Ice Cream',
    'icon': {'prefix': 'https://ss3.4sqi.net/img/categories_v2/food/icecream_',
     'suffix': '.png'},
    'primary': True}],
  'referralId': 'v-1571641530',
  'hasPerk': False}]</pre>
</div>

</div>

</div>
</div>

</div>
<div class="cell border-box-sizing text_cell rendered"><div class="prompt input_prompt">
</div><div class="inner_cell">
<div class="text_cell_render border-box-sizing rendered_html">
<p>The category name of the venue <strong>'Carvel Ice Cream'</strong> is <strong>'Food'</strong>.</p>
<p>As, our aim is to segment the neighborhoods of NYC with respect to the <em>Food</em> in its vicinity. We need to proceed further to fetch this data from all the 306 neighborhoods' venues.</p>

</div>
</div>
</div>
<div class="cell border-box-sizing text_cell rendered"><div class="prompt input_prompt">
</div><div class="inner_cell">
<div class="text_cell_render border-box-sizing rendered_html">
<h4 id="Let&#39;s-create-a-function-to-repeat-the-following-process-to-all-the-neighborhoods-in-NYC:">Let's create a function to repeat the following process to all the neighborhoods in NYC:<a class="anchor-link" href="https://nbviewer.jupyter.org/github/eklavyasaxena/The-Battle-of-Neighborhoods/blob/master/Exploring-the-Taste-of-NYC-Neighborhoods/Project_Notebook.ipynb#Let&#39;s-create-a-function-to-repeat-the-following-process-to-all-the-neighborhoods-in-NYC:">¶</a></h4><ul>
<li>Loop through neighborhoods<ul>
<li>Create the API request URL with radius=500, LIMIT=100</li>
<li>Make the GET request</li>
<li>For each neighborhood, return only relevant information for each nearby venue</li>
<li>Append all nearby venues to a list</li>
</ul>
</li>
<li>Unfold the list &amp; append it to dataframe being returned</li>
</ul>

</div>
</div>
</div>
<div class="cell border-box-sizing text_cell rendered"><div class="prompt input_prompt">
</div><div class="inner_cell">
<div class="text_cell_render border-box-sizing rendered_html">
<p>The <em>categoryId</em> parameter in the API request URL can be a comma seperated string. So, lets create a comma seperated string from <em>category</em>_<em>dict</em>.</p>

</div>
</div>
</div>
<div class="cell border-box-sizing code_cell rendered">
<div class="input">
<div class="prompt input_prompt">In&nbsp;[25]:</div>
<div class="inner_cell">
    <div class="input_area">
<div class=" highlight hl-ipython3"><pre><span></span><span class="n">categoryId_list</span> <span class="o">=</span> <span class="p">[]</span>
<span class="k">for</span> <span class="n">key</span><span class="p">,</span> <span class="n">value</span> <span class="ow">in</span> <span class="n">category_dict</span><span class="o">.</span><span class="n">items</span><span class="p">():</span>
    <span class="n">categoryId_list</span><span class="o">.</span><span class="n">append</span><span class="p">(</span><span class="n">key</span><span class="p">)</span>
<span class="n">categoryId</span> <span class="o">=</span> <span class="s1">','</span><span class="o">.</span><span class="n">join</span><span class="p">(</span><span class="n">categoryId_list</span><span class="p">)</span>
</pre></div>

    </div>
</div>
</div>

</div>
<div class="cell border-box-sizing text_cell rendered"><div class="prompt input_prompt">
</div><div class="inner_cell">
<div class="text_cell_render border-box-sizing rendered_html">
<p>The above process turns out to be redundant because if a top-level category is specified in the GET Request, all sub-categories will also match the query. But it is an interesting way to retrieve all the sub-categories ID with name.</p>

</div>
</div>
</div>
<div class="cell border-box-sizing code_cell rendered">
<div class="input">
<div class="prompt input_prompt">In&nbsp;[26]:</div>
<div class="inner_cell">
    <div class="input_area">
<div class=" highlight hl-ipython3"><pre><span></span><span class="k">def</span> <span class="nf">getNearbyFood</span><span class="p">(</span><span class="n">names</span><span class="p">,</span> <span class="n">latitudes</span><span class="p">,</span> <span class="n">longitudes</span><span class="p">,</span> <span class="n">radius</span><span class="o">=</span><span class="mi">1000</span><span class="p">,</span> <span class="n">LIMIT</span><span class="o">=</span><span class="mi">500</span><span class="p">):</span>
    <span class="n">not_found</span> <span class="o">=</span> <span class="mi">0</span>
    <span class="nb">print</span><span class="p">(</span><span class="s1">'***Start '</span><span class="p">,</span> <span class="n">end</span><span class="o">=</span><span class="s1">''</span><span class="p">)</span>
    <span class="n">venues_list</span><span class="o">=</span><span class="p">[]</span>
    <span class="k">for</span> <span class="n">name</span><span class="p">,</span> <span class="n">lat</span><span class="p">,</span> <span class="n">lng</span> <span class="ow">in</span> <span class="nb">zip</span><span class="p">(</span><span class="n">names</span><span class="p">,</span> <span class="n">latitudes</span><span class="p">,</span> <span class="n">longitudes</span><span class="p">):</span>
        <span class="nb">print</span><span class="p">(</span><span class="s1">' .'</span><span class="p">,</span> <span class="n">end</span><span class="o">=</span><span class="s1">''</span><span class="p">)</span>
            
        <span class="c1"># create the API request URL</span>
        <span class="n">url</span> <span class="o">=</span> <span class="s1">'https://api.foursquare.com/v2/venues/search?&amp;client_id=</span><span class="si">{}</span><span class="s1">&amp;client_secret=</span><span class="si">{}</span><span class="s1">&amp;v=</span><span class="si">{}</span><span class="s1">&amp;ll=</span><span class="si">{}</span><span class="s1">,</span><span class="si">{}</span><span class="s1">&amp;radius=</span><span class="si">{}</span><span class="s1">&amp;categoryId=</span><span class="si">{}</span><span class="s1">&amp;limit=</span><span class="si">{}</span><span class="s1">'</span><span class="o">.</span><span class="n">format</span><span class="p">(</span>
            <span class="n">CLIENT_ID</span><span class="p">,</span> 
            <span class="n">CLIENT_SECRET</span><span class="p">,</span> 
            <span class="n">VERSION</span><span class="p">,</span> 
            <span class="n">lat</span><span class="p">,</span> 
            <span class="n">lng</span><span class="p">,</span> 
            <span class="n">radius</span><span class="p">,</span>
            <span class="s2">"4d4b7105d754a06374d81259"</span><span class="p">,</span> <span class="c1"># "Food" category id</span>
            <span class="n">LIMIT</span><span class="p">)</span>
            
        <span class="k">try</span><span class="p">:</span>
            <span class="c1"># make the GET request</span>
            <span class="n">results</span> <span class="o">=</span> <span class="n">requests</span><span class="o">.</span><span class="n">get</span><span class="p">(</span><span class="n">url</span><span class="p">)</span><span class="o">.</span><span class="n">json</span><span class="p">()[</span><span class="s1">'response'</span><span class="p">][</span><span class="s1">'venues'</span><span class="p">]</span>
            
            <span class="c1"># return only relevant information for each nearby venue</span>
            <span class="n">venues_list</span><span class="o">.</span><span class="n">append</span><span class="p">([(</span>
                <span class="n">name</span><span class="p">,</span> 
                <span class="n">lat</span><span class="p">,</span> 
                <span class="n">lng</span><span class="p">,</span> 
                <span class="n">v</span><span class="p">[</span><span class="s1">'name'</span><span class="p">],</span> 
                <span class="n">v</span><span class="p">[</span><span class="s1">'location'</span><span class="p">][</span><span class="s1">'lat'</span><span class="p">],</span> 
                <span class="n">v</span><span class="p">[</span><span class="s1">'location'</span><span class="p">][</span><span class="s1">'lng'</span><span class="p">],</span>  
                <span class="n">v</span><span class="p">[</span><span class="s1">'categories'</span><span class="p">][</span><span class="mi">0</span><span class="p">][</span><span class="s1">'name'</span><span class="p">])</span> <span class="k">for</span> <span class="n">v</span> <span class="ow">in</span> <span class="n">results</span><span class="p">])</span>
        <span class="k">except</span><span class="p">:</span>
            <span class="n">not_found</span> <span class="o">+=</span> <span class="mi">1</span>


    <span class="n">nearby_venues</span> <span class="o">=</span> <span class="n">pd</span><span class="o">.</span><span class="n">DataFrame</span><span class="p">([</span><span class="n">item</span> <span class="k">for</span> <span class="n">venue_list</span> <span class="ow">in</span> <span class="n">venues_list</span> <span class="k">for</span> <span class="n">item</span> <span class="ow">in</span> <span class="n">venue_list</span><span class="p">])</span>
    <span class="n">nearby_venues</span><span class="o">.</span><span class="n">columns</span> <span class="o">=</span> <span class="p">[</span><span class="s1">'Neighborhood'</span><span class="p">,</span> 
                  <span class="s1">'Neighborhood Latitude'</span><span class="p">,</span> 
                  <span class="s1">'Neighborhood Longitude'</span><span class="p">,</span> 
                  <span class="s1">'Venue'</span><span class="p">,</span> 
                  <span class="s1">'Venue Latitude'</span><span class="p">,</span> 
                  <span class="s1">'Venue Longitude'</span><span class="p">,</span> 
                  <span class="s1">'Venue Category'</span><span class="p">]</span>
    <span class="nb">print</span><span class="p">(</span><span class="s2">"</span><span class="se">\n</span><span class="s2">Done*** with </span><span class="si">{}</span><span class="s2"> venues with incompelete information."</span><span class="o">.</span><span class="n">format</span><span class="p">(</span><span class="n">not_found</span><span class="p">))</span>
    <span class="k">return</span><span class="p">(</span><span class="n">nearby_venues</span><span class="p">)</span>
</pre></div>

    </div>
</div>
</div>

</div>
<div class="cell border-box-sizing text_cell rendered"><div class="prompt input_prompt">
</div><div class="inner_cell">
<div class="text_cell_render border-box-sizing rendered_html">
<p><strong>Let's use pickle library to serialize the information retrieved from GET requests. This step will counter any redundant requests to the Foursquare API.</strong></p>

</div>
</div>
</div>
<div class="cell border-box-sizing code_cell rendered">
<div class="input">
<div class="prompt input_prompt">In&nbsp;[27]:</div>
<div class="inner_cell">
    <div class="input_area">
<div class=" highlight hl-ipython3"><pre><span></span><span class="kn">import</span> <span class="nn">pickle</span> <span class="c1"># to serialize and deserialize a Python object structure</span>
<span class="k">try</span><span class="p">:</span>
    <span class="k">with</span> <span class="nb">open</span><span class="p">(</span><span class="s1">'nyc_food_venues.pkl'</span><span class="p">,</span> <span class="s1">'rb'</span><span class="p">)</span> <span class="k">as</span> <span class="n">f</span><span class="p">:</span>
        <span class="n">nyc_venues</span> <span class="o">=</span> <span class="n">pickle</span><span class="o">.</span><span class="n">load</span><span class="p">(</span><span class="n">f</span><span class="p">)</span>
    <span class="nb">print</span><span class="p">(</span><span class="s2">"---Dataframe Existed and Deserialized---"</span><span class="p">)</span>
<span class="k">except</span><span class="p">:</span>
    <span class="n">nyc_venues</span> <span class="o">=</span> <span class="n">getNearbyFood</span><span class="p">(</span><span class="n">names</span><span class="o">=</span><span class="n">neighborhoods</span><span class="p">[</span><span class="s1">'Neighborhood'</span><span class="p">],</span>
                                        <span class="n">latitudes</span><span class="o">=</span><span class="n">neighborhoods</span><span class="p">[</span><span class="s1">'Latitude'</span><span class="p">],</span>
                                        <span class="n">longitudes</span><span class="o">=</span><span class="n">neighborhoods</span><span class="p">[</span><span class="s1">'Longitude'</span><span class="p">]</span>
                                       <span class="p">)</span>
    <span class="k">with</span> <span class="nb">open</span><span class="p">(</span><span class="s1">'nyc_food_venues.pkl'</span><span class="p">,</span> <span class="s1">'wb'</span><span class="p">)</span> <span class="k">as</span> <span class="n">f</span><span class="p">:</span>
        <span class="n">pickle</span><span class="o">.</span><span class="n">dump</span><span class="p">(</span><span class="n">nyc_venues</span><span class="p">,</span> <span class="n">f</span><span class="p">)</span>
    <span class="nb">print</span><span class="p">(</span><span class="s2">"---Dataframe Created and Serialized---"</span><span class="p">)</span>
</pre></div>

    </div>
</div>
</div>

<div class="output_wrapper">
<div class="output">


<div class="output_area">

    <div class="prompt"></div>


<div class="output_subarea output_stream output_stdout output_text">
<pre>---Dataframe Existed and Deserialized---
</pre>
</div>
</div>

</div>
</div>

</div>
<div class="cell border-box-sizing text_cell rendered"><div class="prompt input_prompt">
</div><div class="inner_cell">
<div class="text_cell_render border-box-sizing rendered_html">
<p><a name="analysis"> </a><a href="https://nbviewer.jupyter.org/github/eklavyasaxena/The-Battle-of-Neighborhoods/blob/master/Exploring-the-Taste-of-NYC-Neighborhoods/Project_Notebook.ipynb#tableofcontents">Scroll Back to Table of Contents</a></p>

</div>
</div>
</div>
<div class="cell border-box-sizing text_cell rendered"><div class="prompt input_prompt">
</div><div class="inner_cell">
<div class="text_cell_render border-box-sizing rendered_html">
<h2 id="3.-Analysis-&amp;-Machine-Learning">3. Analysis &amp; Machine Learning<a class="anchor-link" href="https://nbviewer.jupyter.org/github/eklavyasaxena/The-Battle-of-Neighborhoods/blob/master/Exploring-the-Taste-of-NYC-Neighborhoods/Project_Notebook.ipynb#3.-Analysis-&amp;-Machine-Learning">¶</a></h2>
</div>
</div>
</div>
<div class="cell border-box-sizing text_cell rendered"><div class="prompt input_prompt">
</div><div class="inner_cell">
<div class="text_cell_render border-box-sizing rendered_html">
<h4 id="Let&#39;s-check-the-size-of-the-resulting-dataframe">Let's check the size of the resulting dataframe<a class="anchor-link" href="https://nbviewer.jupyter.org/github/eklavyasaxena/The-Battle-of-Neighborhoods/blob/master/Exploring-the-Taste-of-NYC-Neighborhoods/Project_Notebook.ipynb#Let&#39;s-check-the-size-of-the-resulting-dataframe">¶</a></h4>
</div>
</div>
</div>
<div class="cell border-box-sizing code_cell rendered">
<div class="input">
<div class="prompt input_prompt">In&nbsp;[28]:</div>
<div class="inner_cell">
    <div class="input_area">
<div class=" highlight hl-ipython3"><pre><span></span><span class="nb">print</span><span class="p">(</span><span class="n">nyc_venues</span><span class="o">.</span><span class="n">shape</span><span class="p">)</span>
<span class="n">nyc_venues</span><span class="o">.</span><span class="n">head</span><span class="p">()</span>
</pre></div>

    </div>
</div>
</div>

<div class="output_wrapper">
<div class="output">


<div class="output_area">

    <div class="prompt"></div>


<div class="output_subarea output_stream output_stdout output_text">
<pre>(14047, 7)
</pre>
</div>
</div>

<div class="output_area">

    <div class="prompt output_prompt">Out[28]:</div>



<div class="output_html rendered_html output_subarea output_execute_result">
<div>
<style scoped="">
    .dataframe tbody tr th:only-of-type {
        vertical-align: middle;
    }

    .dataframe tbody tr th {
        vertical-align: top;
    }

    .dataframe thead th {
        text-align: right;
    }
</style>
<table border="1" class="dataframe">
  <thead>
    <tr style="text-align: right;">
      <th></th>
      <th>Neighborhood</th>
      <th>Neighborhood Latitude</th>
      <th>Neighborhood Longitude</th>
      <th>Venue</th>
      <th>Venue Latitude</th>
      <th>Venue Longitude</th>
      <th>Venue Category</th>
    </tr>
  </thead>
  <tbody>
    <tr>
      <th>0</th>
      <td>Wakefield</td>
      <td>40.894705</td>
      <td>-73.847201</td>
      <td>Lollipops Gelato</td>
      <td>40.894123</td>
      <td>-73.845892</td>
      <td>Dessert Shop</td>
    </tr>
    <tr>
      <th>1</th>
      <td>Wakefield</td>
      <td>40.894705</td>
      <td>-73.847201</td>
      <td>Pitman Deli</td>
      <td>40.894149</td>
      <td>-73.845748</td>
      <td>Food</td>
    </tr>
    <tr>
      <th>2</th>
      <td>Wakefield</td>
      <td>40.894705</td>
      <td>-73.847201</td>
      <td>Carvel Ice Cream</td>
      <td>40.890487</td>
      <td>-73.848568</td>
      <td>Ice Cream Shop</td>
    </tr>
    <tr>
      <th>3</th>
      <td>Wakefield</td>
      <td>40.894705</td>
      <td>-73.847201</td>
      <td>Burger King</td>
      <td>40.895532</td>
      <td>-73.856436</td>
      <td>Fast Food Restaurant</td>
    </tr>
    <tr>
      <th>4</th>
      <td>Wakefield</td>
      <td>40.894705</td>
      <td>-73.847201</td>
      <td>Dunkin'</td>
      <td>40.890459</td>
      <td>-73.849089</td>
      <td>Donut Shop</td>
    </tr>
  </tbody>
</table>
</div>
</div>

</div>

</div>
</div>

</div>
<div class="cell border-box-sizing text_cell rendered"><div class="prompt input_prompt">
</div><div class="inner_cell">
<div class="text_cell_render border-box-sizing rendered_html">
<h4 id="Let&#39;s-find-out-how-many-unique-categories-can-be-curated-from-all-the-returned-venues">Let's find out how many unique categories can be curated from all the returned venues<a class="anchor-link" href="https://nbviewer.jupyter.org/github/eklavyasaxena/The-Battle-of-Neighborhoods/blob/master/Exploring-the-Taste-of-NYC-Neighborhoods/Project_Notebook.ipynb#Let&#39;s-find-out-how-many-unique-categories-can-be-curated-from-all-the-returned-venues">¶</a></h4>
</div>
</div>
</div>
<div class="cell border-box-sizing code_cell rendered">
<div class="input">
<div class="prompt input_prompt">In&nbsp;[29]:</div>
<div class="inner_cell">
    <div class="input_area">
<div class=" highlight hl-ipython3"><pre><span></span><span class="nb">print</span><span class="p">(</span><span class="s1">'There are </span><span class="si">{}</span><span class="s1"> uniques categories.'</span><span class="o">.</span><span class="n">format</span><span class="p">(</span><span class="nb">len</span><span class="p">(</span><span class="n">nyc_venues</span><span class="p">[</span><span class="s1">'Venue Category'</span><span class="p">]</span><span class="o">.</span><span class="n">unique</span><span class="p">())))</span>
<span class="n">nyc_venues</span><span class="o">.</span><span class="n">groupby</span><span class="p">(</span><span class="s1">'Venue Category'</span><span class="p">)[</span><span class="s1">'Venue Category'</span><span class="p">]</span><span class="o">.</span><span class="n">count</span><span class="p">()</span><span class="o">.</span><span class="n">sort_values</span><span class="p">(</span><span class="n">ascending</span><span class="o">=</span><span class="kc">False</span><span class="p">)</span>
</pre></div>

    </div>
</div>
</div>

<div class="output_wrapper">
<div class="output">


<div class="output_area">

    <div class="prompt"></div>


<div class="output_subarea output_stream output_stdout output_text">
<pre>There are 194 uniques categories.
</pre>
</div>
</div>

<div class="output_area">

    <div class="prompt output_prompt">Out[29]:</div>




<div class="output_text output_subarea output_execute_result">
<pre>Venue Category
Deli / Bodega                               1136
Pizza Place                                 1078
Coffee Shop                                  919
Donut Shop                                   710
Fast Food Restaurant                         664
Chinese Restaurant                           619
Italian Restaurant                           544
Bakery                                       544
American Restaurant                          428
Café                                         401
Caribbean Restaurant                         359
Bagel Shop                                   357
Mexican Restaurant                           352
Sandwich Place                               332
Diner                                        313
Ice Cream Shop                               256
Fried Chicken Joint                          254
Restaurant                                   224
Food                                         204
Burger Joint                                 204
Seafood Restaurant                           155
Sushi Restaurant                             152
Latin American Restaurant                    144
Asian Restaurant                             142
Spanish Restaurant                           140
Japanese Restaurant                          136
Food Truck                                   136
Bar                                          120
Juice Bar                                    111
New American Restaurant                      108
Dessert Shop                                 104
Breakfast Spot                                99
Indian Restaurant                             98
Food Court                                    95
Thai Restaurant                               94
Taco Place                                    92
Korean Restaurant                             88
BBQ Joint                                     88
Salad Place                                   75
French Restaurant                             72
Bubble Tea Shop                               72
Grocery Store                                 70
Middle Eastern Restaurant                     68
Mediterranean Restaurant                      63
Greek Restaurant                              60
Steakhouse                                    59
Vegetarian / Vegan Restaurant                 57
Cocktail Bar                                  56
Southern / Soul Food Restaurant               55
Vietnamese Restaurant                         54
Gastropub                                     53
Ramen Restaurant                              46
Wings Joint                                   42
South American Restaurant                     34
Peruvian Restaurant                           30
Filipino Restaurant                           29
Halal Restaurant                              28
Gourmet Shop                                  27
Snack Place                                   27
Turkish Restaurant                            27
Tapas Restaurant                              25
Frozen Yogurt Shop                            25
African Restaurant                            24
Beer Garden                                   24
Hot Dog Joint                                 24
Pub                                           23
Cantonese Restaurant                          23
Comfort Food Restaurant                       22
Eastern European Restaurant                   20
Dumpling Restaurant                           20
Fish &amp; Chips Shop                             18
German Restaurant                             18
Hotel                                         18
Dim Sum Restaurant                            17
Convenience Store                             17
Lounge                                        17
Cuban Restaurant                              17
Noodle House                                  16
Burrito Place                                 15
Tea Room                                      15
Sports Bar                                    14
Empanada Restaurant                           14
Wine Bar                                      14
Falafel Restaurant                            14
Bistro                                        13
Cafeteria                                     13
Sri Lankan Restaurant                         13
Shanghai Restaurant                           13
Russian Restaurant                            12
Irish Pub                                     12
Australian Restaurant                         12
Food &amp; Drink Shop                             11
Hotpot Restaurant                             10
Udon Restaurant                               10
Supermarket                                   10
Bookstore                                     10
Buffet                                        10
Gym / Fitness Center                           9
Arepa Restaurant                               9
Theme Restaurant                               9
Cajun / Creole Restaurant                      9
Farmers Market                                 8
Health Food Store                              8
Malay Restaurant                               8
Tibetan Restaurant                             8
Cupcake Shop                                   8
Flea Market                                    7
Taiwanese Restaurant                           7
Colombian Restaurant                           7
Moroccan Restaurant                            7
Poke Place                                     6
Event Space                                    6
Art Gallery                                    6
Club House                                     5
Arcade                                         5
Himalayan Restaurant                           5
Smoothie Shop                                  5
Hotel Bar                                      5
Ukrainian Restaurant                           5
Gas Station                                    5
Gift Shop                                      5
Tex-Mex Restaurant                             5
Pakistani Restaurant                           5
Israeli Restaurant                             5
Other Nightlife                                5
Mac &amp; Cheese Joint                             5
Hookah Bar                                     5
Kosher Restaurant                              4
Beer Bar                                       4
Soup Place                                     4
Residential Building (Apartment / Condo)       4
Brazilian Restaurant                           4
Music Venue                                    4
Pet Café                                       4
Polish Restaurant                              4
Gluten-free Restaurant                         4
Argentinian Restaurant                         4
Persian Restaurant                             4
Austrian Restaurant                            4
Pie Shop                                       3
Financial or Legal Service                     3
College Cafeteria                              3
Fish Market                                    3
Modern European Restaurant                     3
Creperie                                       3
Salvadoran Restaurant                          3
Lebanese Restaurant                            3
South Indian Restaurant                        3
Indian Chinese Restaurant                      3
Food Stand                                     3
Ethiopian Restaurant                           3
Cheese Shop                                    3
Organic Grocery                                2
Shabu-Shabu Restaurant                         2
Rock Club                                      2
Beach Bar                                      2
Skating Rink                                   2
Street Food Gathering                          2
Szechuan Restaurant                            2
Butcher                                        2
Afghan Restaurant                              2
Candy Store                                    2
Modern Greek Restaurant                        2
Government Building                            2
English Restaurant                             2
Indie Movie Theater                            2
Jewish Restaurant                              2
Market                                         2
Miscellaneous Shop                             2
Laundry Service                                2
Paella Restaurant                              2
Nightclub                                      1
Portuguese Restaurant                          1
Venezuelan Restaurant                          1
Varenyky restaurant                            1
Furniture / Home Store                         1
Flower Shop                                    1
Pastry Shop                                    1
Hawaiian Restaurant                            1
Hong Kong Restaurant                           1
Factory                                        1
Caucasian Restaurant                           1
Burmese Restaurant                             1
Dosa Place                                     1
Kebab Restaurant                               1
Beach                                          1
Dive Bar                                       1
Park                                           1
Clothing Store                                 1
Building                                       1
North Indian Restaurant                        1
Bowling Alley                                  1
Moving Target                                  1
Fruit &amp; Vegetable Store                        1
Name: Venue Category, dtype: int64</pre>
</div>

</div>

</div>
</div>

</div>
<div class="cell border-box-sizing text_cell rendered"><div class="prompt input_prompt">
</div><div class="inner_cell">
<div class="text_cell_render border-box-sizing rendered_html">
<p>As we are interested in exploring the diversity of the neighborhood. Let's remove the generalized categories, like Coffee Shop, Cafe, etc.</p>

</div>
</div>
</div>
<div class="cell border-box-sizing code_cell rendered">
<div class="input">
<div class="prompt input_prompt">In&nbsp;[30]:</div>
<div class="inner_cell">
    <div class="input_area">
<div class=" highlight hl-ipython3"><pre><span></span><span class="c1"># list all the categories</span>
<span class="n">unique_categories</span> <span class="o">=</span> <span class="n">nyc_venues</span><span class="p">[</span><span class="s1">'Venue Category'</span><span class="p">]</span><span class="o">.</span><span class="n">unique</span><span class="p">()</span><span class="o">.</span><span class="n">tolist</span><span class="p">()</span>
<span class="nb">print</span><span class="p">(</span><span class="s1">', '</span><span class="o">.</span><span class="n">join</span><span class="p">(</span><span class="nb">str</span><span class="p">(</span><span class="n">x</span><span class="p">)</span> <span class="k">for</span> <span class="n">x</span> <span class="ow">in</span> <span class="n">unique_categories</span><span class="p">))</span>
</pre></div>

    </div>
</div>
</div>

<div class="output_wrapper">
<div class="output">


<div class="output_area">

    <div class="prompt"></div>


<div class="output_subarea output_stream output_stdout output_text">
<pre>Dessert Shop, Food, Ice Cream Shop, Fast Food Restaurant, Donut Shop, Caribbean Restaurant, Bakery, Sandwich Place, Italian Restaurant, Comfort Food Restaurant, Fried Chicken Joint, Deli / Bodega, Food Truck, Chinese Restaurant, Pizza Place, Southern / Soul Food Restaurant, Halal Restaurant, Asian Restaurant, Bagel Shop, American Restaurant, Burger Joint, Restaurant, Mexican Restaurant, Seafood Restaurant, Frozen Yogurt Shop, Spanish Restaurant, Steakhouse, BBQ Joint, Coffee Shop, Dumpling Restaurant, Diner, Wings Joint, Café, Juice Bar, Breakfast Spot, Grocery Store, Latin American Restaurant, Tapas Restaurant, Japanese Restaurant, Bar, Sushi Restaurant, Greek Restaurant, Indian Restaurant, Thai Restaurant, Korean Restaurant, New American Restaurant, Vegetarian / Vegan Restaurant, Cupcake Shop, Cuban Restaurant, Pub, Fish &amp; Chips Shop, Empanada Restaurant, Salvadoran Restaurant, Cafeteria, Other Nightlife, Arcade, Hot Dog Joint, Food Court, Middle Eastern Restaurant, Health Food Store, French Restaurant, Convenience Store, Taco Place, Food &amp; Drink Shop, Mediterranean Restaurant, Cocktail Bar, African Restaurant, Kosher Restaurant, Vietnamese Restaurant, Cheese Shop, Paella Restaurant, Snack Place, Sports Bar, Lounge, Theme Restaurant, Buffet, Peruvian Restaurant, Bubble Tea Shop, South American Restaurant, South Indian Restaurant, Indian Chinese Restaurant, Arepa Restaurant, Eastern European Restaurant, Building, Irish Pub, College Cafeteria, Noodle House, Lebanese Restaurant, Cantonese Restaurant, Tea Room, Turkish Restaurant, Dim Sum Restaurant, Supermarket, Szechuan Restaurant, Malay Restaurant, Hotpot Restaurant, Gastropub, Beer Garden, Jewish Restaurant, Fish Market, Beer Bar, Clothing Store, Music Venue, Caucasian Restaurant, Russian Restaurant, Varenyky restaurant, Bistro, Modern European Restaurant, Salad Place, Burrito Place, Filipino Restaurant, Tibetan Restaurant, Wine Bar, Cajun / Creole Restaurant, Austrian Restaurant, Gourmet Shop, Ramen Restaurant, Udon Restaurant, Ethiopian Restaurant, Indie Movie Theater, Art Gallery, German Restaurant, Gift Shop, Pie Shop, Fruit &amp; Vegetable Store, Street Food Gathering, Dive Bar, Factory, Israeli Restaurant, Farmers Market, Colombian Restaurant, Mac &amp; Cheese Joint, Moroccan Restaurant, Tex-Mex Restaurant, Creperie, Candy Store, Shanghai Restaurant, Hong Kong Restaurant, Event Space, Falafel Restaurant, Skating Rink, Miscellaneous Shop, Gas Station, Organic Grocery, Pastry Shop, Taiwanese Restaurant, Burmese Restaurant, Club House, Australian Restaurant, Flea Market, Hotel, Furniture / Home Store, Bookstore, Pet Café, Gym / Fitness Center, Persian Restaurant, English Restaurant, Flower Shop, Financial or Legal Service, Hotel Bar, Ukrainian Restaurant, Hookah Bar, Himalayan Restaurant, Argentinian Restaurant, Poke Place, Market, Brazilian Restaurant, North Indian Restaurant, Modern Greek Restaurant, Shabu-Shabu Restaurant, Pakistani Restaurant, Gluten-free Restaurant, Hawaiian Restaurant, Portuguese Restaurant, Smoothie Shop, Butcher, Food Stand, Beach Bar, Beach, Dosa Place, Kebab Restaurant, Soup Place, Sri Lankan Restaurant, Rock Club, Residential Building (Apartment / Condo), Polish Restaurant, Laundry Service, Government Building, Afghan Restaurant, Bowling Alley, Nightclub, Park, Venezuelan Restaurant, Moving Target
</pre>
</div>
</div>

</div>
</div>

</div>
<div class="cell border-box-sizing code_cell rendered">
<div class="input">
<div class="prompt input_prompt">In&nbsp;[31]:</div>
<div class="inner_cell">
    <div class="input_area">
<div class=" highlight hl-ipython3"><pre><span></span><span class="c1"># manually create a list of generalized categories</span>
<span class="n">general_categories</span> <span class="o">=</span> <span class="p">[</span><span class="s1">'Dessert Shop'</span><span class="p">,</span><span class="s1">'Food'</span><span class="p">,</span><span class="s1">'Ice Cream Shop'</span><span class="p">,</span><span class="s1">'Donut Shop'</span><span class="p">,</span><span class="s1">'Bakery'</span><span class="p">,</span><span class="s1">'Sandwich Place'</span><span class="p">,</span><span class="s1">'Comfort Food Restaurant'</span><span class="p">,</span>
                    <span class="s1">'Deli / Bodega'</span><span class="p">,</span><span class="s1">'Food Truck'</span><span class="p">,</span><span class="s1">'Bagel Shop'</span><span class="p">,</span><span class="s1">'Burger Joint'</span><span class="p">,</span><span class="s1">'Restaurant'</span><span class="p">,</span><span class="s1">'Frozen Yogurt Shop'</span><span class="p">,</span><span class="s1">'Coffee Shop'</span><span class="p">,</span>
                    <span class="s1">'Diner'</span><span class="p">,</span><span class="s1">'Wings Joint'</span><span class="p">,</span><span class="s1">'Café'</span><span class="p">,</span><span class="s1">'Juice Bar'</span><span class="p">,</span><span class="s1">'Breakfast Spot'</span><span class="p">,</span><span class="s1">'Grocery Store'</span><span class="p">,</span><span class="s1">'Bar'</span><span class="p">,</span><span class="s1">'Cupcake Shop'</span><span class="p">,</span>
                    <span class="s1">'Pub'</span><span class="p">,</span><span class="s1">'Fish &amp; Chips Shop'</span><span class="p">,</span><span class="s1">'Cafeteria'</span><span class="p">,</span><span class="s1">'Other Nightlife'</span><span class="p">,</span><span class="s1">'Arcade'</span><span class="p">,</span><span class="s1">'Hot Dog Joint'</span><span class="p">,</span><span class="s1">'Food Court'</span><span class="p">,</span>
                    <span class="s1">'Health Food Store'</span><span class="p">,</span><span class="s1">'Convenience Store'</span><span class="p">,</span><span class="s1">'Food &amp; Drink Shop'</span><span class="p">,</span><span class="s1">'Cocktail Bar'</span><span class="p">,</span><span class="s1">'Cheese Shop'</span><span class="p">,</span>
                    <span class="s1">'Snack Place'</span><span class="p">,</span><span class="s1">'Sports Bar'</span><span class="p">,</span><span class="s1">'Lounge'</span><span class="p">,</span><span class="s1">'Theme Restaurant'</span><span class="p">,</span><span class="s1">'Buffet'</span><span class="p">,</span><span class="s1">'Bubble Tea Shop'</span><span class="p">,</span><span class="s1">'Building'</span><span class="p">,</span>
                    <span class="s1">'Irish Pub'</span><span class="p">,</span><span class="s1">'College Cafeteria'</span><span class="p">,</span><span class="s1">'Tea Room'</span><span class="p">,</span><span class="s1">'Supermarket'</span><span class="p">,</span><span class="s1">'Hotpot Restaurant'</span><span class="p">,</span><span class="s1">'Gastropub'</span><span class="p">,</span><span class="s1">'Beer Garden'</span><span class="p">,</span>
                    <span class="s1">'Fish Market'</span><span class="p">,</span><span class="s1">'Beer Bar'</span><span class="p">,</span><span class="s1">'Clothing Store'</span><span class="p">,</span><span class="s1">'Music Venue'</span><span class="p">,</span><span class="s1">'Bistro'</span><span class="p">,</span><span class="s1">'Salad Place'</span><span class="p">,</span><span class="s1">'Wine Bar'</span><span class="p">,</span><span class="s1">'Gourmet Shop'</span><span class="p">,</span>
                    <span class="s1">'Indie Movie Theater'</span><span class="p">,</span><span class="s1">'Art Gallery'</span><span class="p">,</span><span class="s1">'Gift Shop'</span><span class="p">,</span><span class="s1">'Pie Shop'</span><span class="p">,</span><span class="s1">'Fruit &amp; Vegetable Store'</span><span class="p">,</span>
                    <span class="s1">'Street Food Gathering'</span><span class="p">,</span><span class="s1">'Dive Bar'</span><span class="p">,</span><span class="s1">'Factory'</span><span class="p">,</span><span class="s1">'Farmers Market'</span><span class="p">,</span><span class="s1">'Mac &amp; Cheese Joint'</span><span class="p">,</span><span class="s1">'Creperie'</span><span class="p">,</span>
                    <span class="s1">'Candy Store'</span><span class="p">,</span><span class="s1">'Event Space'</span><span class="p">,</span><span class="s1">'Skating Rink'</span><span class="p">,</span><span class="s1">'Miscellaneous Shop'</span><span class="p">,</span><span class="s1">'Gas Station'</span><span class="p">,</span><span class="s1">'Organic Grocery'</span><span class="p">,</span>
                    <span class="s1">'Pastry Shop'</span><span class="p">,</span><span class="s1">'Club House'</span><span class="p">,</span><span class="s1">'Flea Market'</span><span class="p">,</span><span class="s1">'Hotel'</span><span class="p">,</span><span class="s1">'Furniture / Home Store'</span><span class="p">,</span><span class="s1">'Bookstore'</span><span class="p">,</span><span class="s1">'Pet Café'</span><span class="p">,</span>
                    <span class="s1">'Gym / Fitness Center'</span><span class="p">,</span><span class="s1">'Flower Shop'</span><span class="p">,</span><span class="s1">'Financial or Legal Service'</span><span class="p">,</span><span class="s1">'Hotel Bar'</span><span class="p">,</span><span class="s1">'Hookah Bar'</span><span class="p">,</span><span class="s1">'Poke Place'</span><span class="p">,</span>
                    <span class="s1">'Market'</span><span class="p">,</span><span class="s1">'Gluten-free Restaurant'</span><span class="p">,</span><span class="s1">'Smoothie Shop'</span><span class="p">,</span><span class="s1">'Butcher'</span><span class="p">,</span><span class="s1">'Food Stand'</span><span class="p">,</span><span class="s1">'Beach Bar'</span><span class="p">,</span><span class="s1">'Beach'</span><span class="p">,</span>
                    <span class="s1">'Soup Place'</span><span class="p">,</span><span class="s1">'Rock Club'</span><span class="p">,</span><span class="s1">'Residential Building (Apartment / Condo)'</span><span class="p">,</span><span class="s1">'Laundry Service'</span><span class="p">,</span>
                    <span class="s1">'Government Building'</span><span class="p">,</span><span class="s1">'Bowling Alley'</span><span class="p">,</span><span class="s1">'Nightclub'</span><span class="p">,</span><span class="s1">'Park'</span><span class="p">,</span><span class="s1">'Moving Target'</span><span class="p">]</span>
</pre></div>

    </div>
</div>
</div>

</div>
<div class="cell border-box-sizing code_cell rendered">
<div class="input">
<div class="prompt input_prompt">In&nbsp;[32]:</div>
<div class="inner_cell">
    <div class="input_area">
<div class=" highlight hl-ipython3"><pre><span></span><span class="c1"># fetch all the required food categories</span>
<span class="n">food_categories</span> <span class="o">=</span>  <span class="nb">list</span><span class="p">(</span><span class="nb">set</span><span class="p">(</span><span class="n">unique_categories</span><span class="p">)</span> <span class="o">-</span> <span class="nb">set</span><span class="p">(</span><span class="n">general_categories</span><span class="p">))</span>
<span class="nb">print</span><span class="p">(</span><span class="s1">', '</span><span class="o">.</span><span class="n">join</span><span class="p">(</span><span class="nb">str</span><span class="p">(</span><span class="n">x</span><span class="p">)</span> <span class="k">for</span> <span class="n">x</span> <span class="ow">in</span> <span class="n">food_categories</span><span class="p">))</span>
</pre></div>

    </div>
</div>
</div>

<div class="output_wrapper">
<div class="output">


<div class="output_area">

    <div class="prompt"></div>


<div class="output_subarea output_stream output_stdout output_text">
<pre>Szechuan Restaurant, South American Restaurant, American Restaurant, Middle Eastern Restaurant, New American Restaurant, Burrito Place, Arepa Restaurant, Pakistani Restaurant, Tibetan Restaurant, Taco Place, Italian Restaurant, Thai Restaurant, Filipino Restaurant, French Restaurant, Vegetarian / Vegan Restaurant, Ramen Restaurant, Tex-Mex Restaurant, Cajun / Creole Restaurant, Cuban Restaurant, Peruvian Restaurant, Latin American Restaurant, South Indian Restaurant, Shabu-Shabu Restaurant, Indian Chinese Restaurant, North Indian Restaurant, Salvadoran Restaurant, Kosher Restaurant, Argentinian Restaurant, Taiwanese Restaurant, Udon Restaurant, Jewish Restaurant, Venezuelan Restaurant, Caribbean Restaurant, Turkish Restaurant, Dim Sum Restaurant, Cantonese Restaurant, Persian Restaurant, Hawaiian Restaurant, Japanese Restaurant, Moroccan Restaurant, Spanish Restaurant, Paella Restaurant, Mexican Restaurant, BBQ Joint, Falafel Restaurant, Eastern European Restaurant, Kebab Restaurant, Steakhouse, Malay Restaurant, German Restaurant, African Restaurant, Sushi Restaurant, Russian Restaurant, Vietnamese Restaurant, Tapas Restaurant, Caucasian Restaurant, Modern European Restaurant, Dumpling Restaurant, Austrian Restaurant, Halal Restaurant, Southern / Soul Food Restaurant, Sri Lankan Restaurant, Ethiopian Restaurant, Afghan Restaurant, Greek Restaurant, Polish Restaurant, Empanada Restaurant, Israeli Restaurant, Seafood Restaurant, Colombian Restaurant, Burmese Restaurant, English Restaurant, Korean Restaurant, Lebanese Restaurant, Hong Kong Restaurant, Australian Restaurant, Chinese Restaurant, Shanghai Restaurant, Asian Restaurant, Ukrainian Restaurant, Pizza Place, Portuguese Restaurant, Mediterranean Restaurant, Noodle House, Varenyky restaurant, Modern Greek Restaurant, Fast Food Restaurant, Fried Chicken Joint, Himalayan Restaurant, Dosa Place, Indian Restaurant, Brazilian Restaurant
</pre>
</div>
</div>

</div>
</div>

</div>
<div class="cell border-box-sizing text_cell rendered"><div class="prompt input_prompt">
</div><div class="inner_cell">
<div class="text_cell_render border-box-sizing rendered_html">
<p>Let's remove all the generalized categories, like Coffee Shop, Cafe, etc.</p>

</div>
</div>
</div>
<div class="cell border-box-sizing code_cell rendered">
<div class="input">
<div class="prompt input_prompt">In&nbsp;[33]:</div>
<div class="inner_cell">
    <div class="input_area">
<div class=" highlight hl-ipython3"><pre><span></span><span class="n">nyc_venues</span> <span class="o">=</span> <span class="n">nyc_venues</span><span class="p">[</span><span class="n">nyc_venues</span><span class="p">[</span><span class="s1">'Venue Category'</span><span class="p">]</span><span class="o">.</span><span class="n">isin</span><span class="p">(</span><span class="n">food_categories</span><span class="p">)]</span><span class="o">.</span><span class="n">reset_index</span><span class="p">()</span>
<span class="n">nyc_venues</span><span class="o">.</span><span class="n">head</span><span class="p">(</span><span class="mi">5</span><span class="p">)</span>
</pre></div>

    </div>
</div>
</div>

<div class="output_wrapper">
<div class="output">


<div class="output_area">

    <div class="prompt output_prompt">Out[33]:</div>



<div class="output_html rendered_html output_subarea output_execute_result">
<div>
<style scoped="">
    .dataframe tbody tr th:only-of-type {
        vertical-align: middle;
    }

    .dataframe tbody tr th {
        vertical-align: top;
    }

    .dataframe thead th {
        text-align: right;
    }
</style>
<table border="1" class="dataframe">
  <thead>
    <tr style="text-align: right;">
      <th></th>
      <th>index</th>
      <th>Neighborhood</th>
      <th>Neighborhood Latitude</th>
      <th>Neighborhood Longitude</th>
      <th>Venue</th>
      <th>Venue Latitude</th>
      <th>Venue Longitude</th>
      <th>Venue Category</th>
    </tr>
  </thead>
  <tbody>
    <tr>
      <th>0</th>
      <td>3</td>
      <td>Wakefield</td>
      <td>40.894705</td>
      <td>-73.847201</td>
      <td>Burger King</td>
      <td>40.895532</td>
      <td>-73.856436</td>
      <td>Fast Food Restaurant</td>
    </tr>
    <tr>
      <th>1</th>
      <td>5</td>
      <td>Wakefield</td>
      <td>40.894705</td>
      <td>-73.847201</td>
      <td>Cooler Runnings Jamaican Restaurant Inc</td>
      <td>40.898276</td>
      <td>-73.850381</td>
      <td>Caribbean Restaurant</td>
    </tr>
    <tr>
      <th>2</th>
      <td>9</td>
      <td>Wakefield</td>
      <td>40.894705</td>
      <td>-73.847201</td>
      <td>McDonald's</td>
      <td>40.902645</td>
      <td>-73.849485</td>
      <td>Fast Food Restaurant</td>
    </tr>
    <tr>
      <th>3</th>
      <td>10</td>
      <td>Wakefield</td>
      <td>40.894705</td>
      <td>-73.847201</td>
      <td>Ripe Kitchen &amp; Bar</td>
      <td>40.898152</td>
      <td>-73.838875</td>
      <td>Caribbean Restaurant</td>
    </tr>
    <tr>
      <th>4</th>
      <td>11</td>
      <td>Wakefield</td>
      <td>40.894705</td>
      <td>-73.847201</td>
      <td>Frank and Johnies</td>
      <td>40.905019</td>
      <td>-73.858392</td>
      <td>Italian Restaurant</td>
    </tr>
  </tbody>
</table>
</div>
</div>

</div>

</div>
</div>

</div>
<div class="cell border-box-sizing code_cell rendered">
<div class="input">
<div class="prompt input_prompt">In&nbsp;[34]:</div>
<div class="inner_cell">
    <div class="input_area">
<div class=" highlight hl-ipython3"><pre><span></span><span class="nb">print</span><span class="p">(</span><span class="s1">'There are </span><span class="si">{}</span><span class="s1"> unique FOOD categories.'</span><span class="o">.</span><span class="n">format</span><span class="p">(</span><span class="nb">len</span><span class="p">(</span><span class="n">nyc_venues</span><span class="p">[</span><span class="s1">'Venue Category'</span><span class="p">]</span><span class="o">.</span><span class="n">unique</span><span class="p">())))</span>
</pre></div>

    </div>
</div>
</div>

<div class="output_wrapper">
<div class="output">


<div class="output_area">

    <div class="prompt"></div>


<div class="output_subarea output_stream output_stdout output_text">
<pre>There are 92 unique FOOD categories.
</pre>
</div>
</div>

</div>
</div>

</div>
<div class="cell border-box-sizing text_cell rendered"><div class="prompt input_prompt">
</div><div class="inner_cell">
<div class="text_cell_render border-box-sizing rendered_html">
<h4 id="Let&#39;s-find-out-how-many-unique-venues-can-be-curated-from-all-the-returned-venues">Let's find out how many unique venues can be curated from all the returned venues<a class="anchor-link" href="https://nbviewer.jupyter.org/github/eklavyasaxena/The-Battle-of-Neighborhoods/blob/master/Exploring-the-Taste-of-NYC-Neighborhoods/Project_Notebook.ipynb#Let&#39;s-find-out-how-many-unique-venues-can-be-curated-from-all-the-returned-venues">¶</a></h4>
</div>
</div>
</div>
<div class="cell border-box-sizing code_cell rendered">
<div class="input">
<div class="prompt input_prompt">In&nbsp;[35]:</div>
<div class="inner_cell">
    <div class="input_area">
<div class=" highlight hl-ipython3"><pre><span></span><span class="nb">print</span><span class="p">(</span><span class="s1">'There are </span><span class="si">{}</span><span class="s1"> uniques venues.'</span><span class="o">.</span><span class="n">format</span><span class="p">(</span><span class="nb">len</span><span class="p">(</span><span class="n">nyc_venues</span><span class="p">[</span><span class="s1">'Venue'</span><span class="p">]</span><span class="o">.</span><span class="n">unique</span><span class="p">())))</span>
</pre></div>

    </div>
</div>
</div>

<div class="output_wrapper">
<div class="output">


<div class="output_area">

    <div class="prompt"></div>


<div class="output_subarea output_stream output_stdout output_text">
<pre>There are 3323 uniques venues.
</pre>
</div>
</div>

</div>
</div>

</div>
<div class="cell border-box-sizing text_cell rendered"><div class="prompt input_prompt">
</div><div class="inner_cell">
<div class="text_cell_render border-box-sizing rendered_html">
<h3 id="Analyze-Each-Neighborhood">Analyze Each Neighborhood<a class="anchor-link" href="https://nbviewer.jupyter.org/github/eklavyasaxena/The-Battle-of-Neighborhoods/blob/master/Exploring-the-Taste-of-NYC-Neighborhoods/Project_Notebook.ipynb#Analyze-Each-Neighborhood">¶</a></h3>
</div>
</div>
</div>
<div class="cell border-box-sizing code_cell rendered">
<div class="input">
<div class="prompt input_prompt">In&nbsp;[36]:</div>
<div class="inner_cell">
    <div class="input_area">
<div class=" highlight hl-ipython3"><pre><span></span><span class="c1"># one hot encoding</span>
<span class="n">nyc_onehot</span> <span class="o">=</span> <span class="n">pd</span><span class="o">.</span><span class="n">get_dummies</span><span class="p">(</span><span class="n">nyc_venues</span><span class="p">[[</span><span class="s1">'Venue Category'</span><span class="p">]],</span> <span class="n">prefix</span><span class="o">=</span><span class="s2">""</span><span class="p">,</span> <span class="n">prefix_sep</span><span class="o">=</span><span class="s2">""</span><span class="p">)</span>
<span class="n">nyc_onehot</span><span class="o">.</span><span class="n">head</span><span class="p">()</span>
</pre></div>

    </div>
</div>
</div>

<div class="output_wrapper">
<div class="output">


<div class="output_area">

    <div class="prompt output_prompt">Out[36]:</div>



<div class="output_html rendered_html output_subarea output_execute_result">
<div>
<style scoped="">
    .dataframe tbody tr th:only-of-type {
        vertical-align: middle;
    }

    .dataframe tbody tr th {
        vertical-align: top;
    }

    .dataframe thead th {
        text-align: right;
    }
</style>
<table border="1" class="dataframe">
  <thead>
    <tr style="text-align: right;">
      <th></th>
      <th>Afghan Restaurant</th>
      <th>African Restaurant</th>
      <th>American Restaurant</th>
      <th>Arepa Restaurant</th>
      <th>Argentinian Restaurant</th>
      <th>Asian Restaurant</th>
      <th>Australian Restaurant</th>
      <th>Austrian Restaurant</th>
      <th>BBQ Joint</th>
      <th>Brazilian Restaurant</th>
      <th>Burmese Restaurant</th>
      <th>Burrito Place</th>
      <th>Cajun / Creole Restaurant</th>
      <th>Cantonese Restaurant</th>
      <th>Caribbean Restaurant</th>
      <th>Caucasian Restaurant</th>
      <th>Chinese Restaurant</th>
      <th>Colombian Restaurant</th>
      <th>Cuban Restaurant</th>
      <th>Dim Sum Restaurant</th>
      <th>Dosa Place</th>
      <th>Dumpling Restaurant</th>
      <th>Eastern European Restaurant</th>
      <th>Empanada Restaurant</th>
      <th>English Restaurant</th>
      <th>Ethiopian Restaurant</th>
      <th>Falafel Restaurant</th>
      <th>Fast Food Restaurant</th>
      <th>Filipino Restaurant</th>
      <th>French Restaurant</th>
      <th>Fried Chicken Joint</th>
      <th>German Restaurant</th>
      <th>Greek Restaurant</th>
      <th>Halal Restaurant</th>
      <th>Hawaiian Restaurant</th>
      <th>Himalayan Restaurant</th>
      <th>Hong Kong Restaurant</th>
      <th>Indian Chinese Restaurant</th>
      <th>Indian Restaurant</th>
      <th>Israeli Restaurant</th>
      <th>Italian Restaurant</th>
      <th>Japanese Restaurant</th>
      <th>Jewish Restaurant</th>
      <th>Kebab Restaurant</th>
      <th>Korean Restaurant</th>
      <th>Kosher Restaurant</th>
      <th>Latin American Restaurant</th>
      <th>Lebanese Restaurant</th>
      <th>Malay Restaurant</th>
      <th>Mediterranean Restaurant</th>
      <th>Mexican Restaurant</th>
      <th>Middle Eastern Restaurant</th>
      <th>Modern European Restaurant</th>
      <th>Modern Greek Restaurant</th>
      <th>Moroccan Restaurant</th>
      <th>New American Restaurant</th>
      <th>Noodle House</th>
      <th>North Indian Restaurant</th>
      <th>Paella Restaurant</th>
      <th>Pakistani Restaurant</th>
      <th>Persian Restaurant</th>
      <th>Peruvian Restaurant</th>
      <th>Pizza Place</th>
      <th>Polish Restaurant</th>
      <th>Portuguese Restaurant</th>
      <th>Ramen Restaurant</th>
      <th>Russian Restaurant</th>
      <th>Salvadoran Restaurant</th>
      <th>Seafood Restaurant</th>
      <th>Shabu-Shabu Restaurant</th>
      <th>Shanghai Restaurant</th>
      <th>South American Restaurant</th>
      <th>South Indian Restaurant</th>
      <th>Southern / Soul Food Restaurant</th>
      <th>Spanish Restaurant</th>
      <th>Sri Lankan Restaurant</th>
      <th>Steakhouse</th>
      <th>Sushi Restaurant</th>
      <th>Szechuan Restaurant</th>
      <th>Taco Place</th>
      <th>Taiwanese Restaurant</th>
      <th>Tapas Restaurant</th>
      <th>Tex-Mex Restaurant</th>
      <th>Thai Restaurant</th>
      <th>Tibetan Restaurant</th>
      <th>Turkish Restaurant</th>
      <th>Udon Restaurant</th>
      <th>Ukrainian Restaurant</th>
      <th>Varenyky restaurant</th>
      <th>Vegetarian / Vegan Restaurant</th>
      <th>Venezuelan Restaurant</th>
      <th>Vietnamese Restaurant</th>
    </tr>
  </thead>
  <tbody>
    <tr>
      <th>0</th>
      <td>0</td>
      <td>0</td>
      <td>0</td>
      <td>0</td>
      <td>0</td>
      <td>0</td>
      <td>0</td>
      <td>0</td>
      <td>0</td>
      <td>0</td>
      <td>0</td>
      <td>0</td>
      <td>0</td>
      <td>0</td>
      <td>0</td>
      <td>0</td>
      <td>0</td>
      <td>0</td>
      <td>0</td>
      <td>0</td>
      <td>0</td>
      <td>0</td>
      <td>0</td>
      <td>0</td>
      <td>0</td>
      <td>0</td>
      <td>0</td>
      <td>1</td>
      <td>0</td>
      <td>0</td>
      <td>0</td>
      <td>0</td>
      <td>0</td>
      <td>0</td>
      <td>0</td>
      <td>0</td>
      <td>0</td>
      <td>0</td>
      <td>0</td>
      <td>0</td>
      <td>0</td>
      <td>0</td>
      <td>0</td>
      <td>0</td>
      <td>0</td>
      <td>0</td>
      <td>0</td>
      <td>0</td>
      <td>0</td>
      <td>0</td>
      <td>0</td>
      <td>0</td>
      <td>0</td>
      <td>0</td>
      <td>0</td>
      <td>0</td>
      <td>0</td>
      <td>0</td>
      <td>0</td>
      <td>0</td>
      <td>0</td>
      <td>0</td>
      <td>0</td>
      <td>0</td>
      <td>0</td>
      <td>0</td>
      <td>0</td>
      <td>0</td>
      <td>0</td>
      <td>0</td>
      <td>0</td>
      <td>0</td>
      <td>0</td>
      <td>0</td>
      <td>0</td>
      <td>0</td>
      <td>0</td>
      <td>0</td>
      <td>0</td>
      <td>0</td>
      <td>0</td>
      <td>0</td>
      <td>0</td>
      <td>0</td>
      <td>0</td>
      <td>0</td>
      <td>0</td>
      <td>0</td>
      <td>0</td>
      <td>0</td>
      <td>0</td>
      <td>0</td>
    </tr>
    <tr>
      <th>1</th>
      <td>0</td>
      <td>0</td>
      <td>0</td>
      <td>0</td>
      <td>0</td>
      <td>0</td>
      <td>0</td>
      <td>0</td>
      <td>0</td>
      <td>0</td>
      <td>0</td>
      <td>0</td>
      <td>0</td>
      <td>0</td>
      <td>1</td>
      <td>0</td>
      <td>0</td>
      <td>0</td>
      <td>0</td>
      <td>0</td>
      <td>0</td>
      <td>0</td>
      <td>0</td>
      <td>0</td>
      <td>0</td>
      <td>0</td>
      <td>0</td>
      <td>0</td>
      <td>0</td>
      <td>0</td>
      <td>0</td>
      <td>0</td>
      <td>0</td>
      <td>0</td>
      <td>0</td>
      <td>0</td>
      <td>0</td>
      <td>0</td>
      <td>0</td>
      <td>0</td>
      <td>0</td>
      <td>0</td>
      <td>0</td>
      <td>0</td>
      <td>0</td>
      <td>0</td>
      <td>0</td>
      <td>0</td>
      <td>0</td>
      <td>0</td>
      <td>0</td>
      <td>0</td>
      <td>0</td>
      <td>0</td>
      <td>0</td>
      <td>0</td>
      <td>0</td>
      <td>0</td>
      <td>0</td>
      <td>0</td>
      <td>0</td>
      <td>0</td>
      <td>0</td>
      <td>0</td>
      <td>0</td>
      <td>0</td>
      <td>0</td>
      <td>0</td>
      <td>0</td>
      <td>0</td>
      <td>0</td>
      <td>0</td>
      <td>0</td>
      <td>0</td>
      <td>0</td>
      <td>0</td>
      <td>0</td>
      <td>0</td>
      <td>0</td>
      <td>0</td>
      <td>0</td>
      <td>0</td>
      <td>0</td>
      <td>0</td>
      <td>0</td>
      <td>0</td>
      <td>0</td>
      <td>0</td>
      <td>0</td>
      <td>0</td>
      <td>0</td>
      <td>0</td>
    </tr>
    <tr>
      <th>2</th>
      <td>0</td>
      <td>0</td>
      <td>0</td>
      <td>0</td>
      <td>0</td>
      <td>0</td>
      <td>0</td>
      <td>0</td>
      <td>0</td>
      <td>0</td>
      <td>0</td>
      <td>0</td>
      <td>0</td>
      <td>0</td>
      <td>0</td>
      <td>0</td>
      <td>0</td>
      <td>0</td>
      <td>0</td>
      <td>0</td>
      <td>0</td>
      <td>0</td>
      <td>0</td>
      <td>0</td>
      <td>0</td>
      <td>0</td>
      <td>0</td>
      <td>1</td>
      <td>0</td>
      <td>0</td>
      <td>0</td>
      <td>0</td>
      <td>0</td>
      <td>0</td>
      <td>0</td>
      <td>0</td>
      <td>0</td>
      <td>0</td>
      <td>0</td>
      <td>0</td>
      <td>0</td>
      <td>0</td>
      <td>0</td>
      <td>0</td>
      <td>0</td>
      <td>0</td>
      <td>0</td>
      <td>0</td>
      <td>0</td>
      <td>0</td>
      <td>0</td>
      <td>0</td>
      <td>0</td>
      <td>0</td>
      <td>0</td>
      <td>0</td>
      <td>0</td>
      <td>0</td>
      <td>0</td>
      <td>0</td>
      <td>0</td>
      <td>0</td>
      <td>0</td>
      <td>0</td>
      <td>0</td>
      <td>0</td>
      <td>0</td>
      <td>0</td>
      <td>0</td>
      <td>0</td>
      <td>0</td>
      <td>0</td>
      <td>0</td>
      <td>0</td>
      <td>0</td>
      <td>0</td>
      <td>0</td>
      <td>0</td>
      <td>0</td>
      <td>0</td>
      <td>0</td>
      <td>0</td>
      <td>0</td>
      <td>0</td>
      <td>0</td>
      <td>0</td>
      <td>0</td>
      <td>0</td>
      <td>0</td>
      <td>0</td>
      <td>0</td>
      <td>0</td>
    </tr>
    <tr>
      <th>3</th>
      <td>0</td>
      <td>0</td>
      <td>0</td>
      <td>0</td>
      <td>0</td>
      <td>0</td>
      <td>0</td>
      <td>0</td>
      <td>0</td>
      <td>0</td>
      <td>0</td>
      <td>0</td>
      <td>0</td>
      <td>0</td>
      <td>1</td>
      <td>0</td>
      <td>0</td>
      <td>0</td>
      <td>0</td>
      <td>0</td>
      <td>0</td>
      <td>0</td>
      <td>0</td>
      <td>0</td>
      <td>0</td>
      <td>0</td>
      <td>0</td>
      <td>0</td>
      <td>0</td>
      <td>0</td>
      <td>0</td>
      <td>0</td>
      <td>0</td>
      <td>0</td>
      <td>0</td>
      <td>0</td>
      <td>0</td>
      <td>0</td>
      <td>0</td>
      <td>0</td>
      <td>0</td>
      <td>0</td>
      <td>0</td>
      <td>0</td>
      <td>0</td>
      <td>0</td>
      <td>0</td>
      <td>0</td>
      <td>0</td>
      <td>0</td>
      <td>0</td>
      <td>0</td>
      <td>0</td>
      <td>0</td>
      <td>0</td>
      <td>0</td>
      <td>0</td>
      <td>0</td>
      <td>0</td>
      <td>0</td>
      <td>0</td>
      <td>0</td>
      <td>0</td>
      <td>0</td>
      <td>0</td>
      <td>0</td>
      <td>0</td>
      <td>0</td>
      <td>0</td>
      <td>0</td>
      <td>0</td>
      <td>0</td>
      <td>0</td>
      <td>0</td>
      <td>0</td>
      <td>0</td>
      <td>0</td>
      <td>0</td>
      <td>0</td>
      <td>0</td>
      <td>0</td>
      <td>0</td>
      <td>0</td>
      <td>0</td>
      <td>0</td>
      <td>0</td>
      <td>0</td>
      <td>0</td>
      <td>0</td>
      <td>0</td>
      <td>0</td>
      <td>0</td>
    </tr>
    <tr>
      <th>4</th>
      <td>0</td>
      <td>0</td>
      <td>0</td>
      <td>0</td>
      <td>0</td>
      <td>0</td>
      <td>0</td>
      <td>0</td>
      <td>0</td>
      <td>0</td>
      <td>0</td>
      <td>0</td>
      <td>0</td>
      <td>0</td>
      <td>0</td>
      <td>0</td>
      <td>0</td>
      <td>0</td>
      <td>0</td>
      <td>0</td>
      <td>0</td>
      <td>0</td>
      <td>0</td>
      <td>0</td>
      <td>0</td>
      <td>0</td>
      <td>0</td>
      <td>0</td>
      <td>0</td>
      <td>0</td>
      <td>0</td>
      <td>0</td>
      <td>0</td>
      <td>0</td>
      <td>0</td>
      <td>0</td>
      <td>0</td>
      <td>0</td>
      <td>0</td>
      <td>0</td>
      <td>1</td>
      <td>0</td>
      <td>0</td>
      <td>0</td>
      <td>0</td>
      <td>0</td>
      <td>0</td>
      <td>0</td>
      <td>0</td>
      <td>0</td>
      <td>0</td>
      <td>0</td>
      <td>0</td>
      <td>0</td>
      <td>0</td>
      <td>0</td>
      <td>0</td>
      <td>0</td>
      <td>0</td>
      <td>0</td>
      <td>0</td>
      <td>0</td>
      <td>0</td>
      <td>0</td>
      <td>0</td>
      <td>0</td>
      <td>0</td>
      <td>0</td>
      <td>0</td>
      <td>0</td>
      <td>0</td>
      <td>0</td>
      <td>0</td>
      <td>0</td>
      <td>0</td>
      <td>0</td>
      <td>0</td>
      <td>0</td>
      <td>0</td>
      <td>0</td>
      <td>0</td>
      <td>0</td>
      <td>0</td>
      <td>0</td>
      <td>0</td>
      <td>0</td>
      <td>0</td>
      <td>0</td>
      <td>0</td>
      <td>0</td>
      <td>0</td>
      <td>0</td>
    </tr>
  </tbody>
</table>
</div>
</div>

</div>

</div>
</div>

</div>
<div class="cell border-box-sizing code_cell rendered">
<div class="input">
<div class="prompt input_prompt">In&nbsp;[37]:</div>
<div class="inner_cell">
    <div class="input_area">
<div class=" highlight hl-ipython3"><pre><span></span><span class="c1"># add neighborhood column back to dataframe</span>
<span class="n">nyc_onehot</span><span class="p">[</span><span class="s1">'Neighborhood'</span><span class="p">]</span> <span class="o">=</span> <span class="n">nyc_venues</span><span class="p">[</span><span class="s1">'Neighborhood'</span><span class="p">]</span> 
<span class="n">nyc_onehot</span><span class="o">.</span><span class="n">head</span><span class="p">()</span>
</pre></div>

    </div>
</div>
</div>

<div class="output_wrapper">
<div class="output">


<div class="output_area">

    <div class="prompt output_prompt">Out[37]:</div>



<div class="output_html rendered_html output_subarea output_execute_result">
<div>
<style scoped="">
    .dataframe tbody tr th:only-of-type {
        vertical-align: middle;
    }

    .dataframe tbody tr th {
        vertical-align: top;
    }

    .dataframe thead th {
        text-align: right;
    }
</style>
<table border="1" class="dataframe">
  <thead>
    <tr style="text-align: right;">
      <th></th>
      <th>Afghan Restaurant</th>
      <th>African Restaurant</th>
      <th>American Restaurant</th>
      <th>Arepa Restaurant</th>
      <th>Argentinian Restaurant</th>
      <th>Asian Restaurant</th>
      <th>Australian Restaurant</th>
      <th>Austrian Restaurant</th>
      <th>BBQ Joint</th>
      <th>Brazilian Restaurant</th>
      <th>Burmese Restaurant</th>
      <th>Burrito Place</th>
      <th>Cajun / Creole Restaurant</th>
      <th>Cantonese Restaurant</th>
      <th>Caribbean Restaurant</th>
      <th>Caucasian Restaurant</th>
      <th>Chinese Restaurant</th>
      <th>Colombian Restaurant</th>
      <th>Cuban Restaurant</th>
      <th>Dim Sum Restaurant</th>
      <th>Dosa Place</th>
      <th>Dumpling Restaurant</th>
      <th>Eastern European Restaurant</th>
      <th>Empanada Restaurant</th>
      <th>English Restaurant</th>
      <th>Ethiopian Restaurant</th>
      <th>Falafel Restaurant</th>
      <th>Fast Food Restaurant</th>
      <th>Filipino Restaurant</th>
      <th>French Restaurant</th>
      <th>Fried Chicken Joint</th>
      <th>German Restaurant</th>
      <th>Greek Restaurant</th>
      <th>Halal Restaurant</th>
      <th>Hawaiian Restaurant</th>
      <th>Himalayan Restaurant</th>
      <th>Hong Kong Restaurant</th>
      <th>Indian Chinese Restaurant</th>
      <th>Indian Restaurant</th>
      <th>Israeli Restaurant</th>
      <th>Italian Restaurant</th>
      <th>Japanese Restaurant</th>
      <th>Jewish Restaurant</th>
      <th>Kebab Restaurant</th>
      <th>Korean Restaurant</th>
      <th>Kosher Restaurant</th>
      <th>Latin American Restaurant</th>
      <th>Lebanese Restaurant</th>
      <th>Malay Restaurant</th>
      <th>Mediterranean Restaurant</th>
      <th>Mexican Restaurant</th>
      <th>Middle Eastern Restaurant</th>
      <th>Modern European Restaurant</th>
      <th>Modern Greek Restaurant</th>
      <th>Moroccan Restaurant</th>
      <th>New American Restaurant</th>
      <th>Noodle House</th>
      <th>North Indian Restaurant</th>
      <th>Paella Restaurant</th>
      <th>Pakistani Restaurant</th>
      <th>Persian Restaurant</th>
      <th>Peruvian Restaurant</th>
      <th>Pizza Place</th>
      <th>Polish Restaurant</th>
      <th>Portuguese Restaurant</th>
      <th>Ramen Restaurant</th>
      <th>Russian Restaurant</th>
      <th>Salvadoran Restaurant</th>
      <th>Seafood Restaurant</th>
      <th>Shabu-Shabu Restaurant</th>
      <th>Shanghai Restaurant</th>
      <th>South American Restaurant</th>
      <th>South Indian Restaurant</th>
      <th>Southern / Soul Food Restaurant</th>
      <th>Spanish Restaurant</th>
      <th>Sri Lankan Restaurant</th>
      <th>Steakhouse</th>
      <th>Sushi Restaurant</th>
      <th>Szechuan Restaurant</th>
      <th>Taco Place</th>
      <th>Taiwanese Restaurant</th>
      <th>Tapas Restaurant</th>
      <th>Tex-Mex Restaurant</th>
      <th>Thai Restaurant</th>
      <th>Tibetan Restaurant</th>
      <th>Turkish Restaurant</th>
      <th>Udon Restaurant</th>
      <th>Ukrainian Restaurant</th>
      <th>Varenyky restaurant</th>
      <th>Vegetarian / Vegan Restaurant</th>
      <th>Venezuelan Restaurant</th>
      <th>Vietnamese Restaurant</th>
      <th>Neighborhood</th>
    </tr>
  </thead>
  <tbody>
    <tr>
      <th>0</th>
      <td>0</td>
      <td>0</td>
      <td>0</td>
      <td>0</td>
      <td>0</td>
      <td>0</td>
      <td>0</td>
      <td>0</td>
      <td>0</td>
      <td>0</td>
      <td>0</td>
      <td>0</td>
      <td>0</td>
      <td>0</td>
      <td>0</td>
      <td>0</td>
      <td>0</td>
      <td>0</td>
      <td>0</td>
      <td>0</td>
      <td>0</td>
      <td>0</td>
      <td>0</td>
      <td>0</td>
      <td>0</td>
      <td>0</td>
      <td>0</td>
      <td>1</td>
      <td>0</td>
      <td>0</td>
      <td>0</td>
      <td>0</td>
      <td>0</td>
      <td>0</td>
      <td>0</td>
      <td>0</td>
      <td>0</td>
      <td>0</td>
      <td>0</td>
      <td>0</td>
      <td>0</td>
      <td>0</td>
      <td>0</td>
      <td>0</td>
      <td>0</td>
      <td>0</td>
      <td>0</td>
      <td>0</td>
      <td>0</td>
      <td>0</td>
      <td>0</td>
      <td>0</td>
      <td>0</td>
      <td>0</td>
      <td>0</td>
      <td>0</td>
      <td>0</td>
      <td>0</td>
      <td>0</td>
      <td>0</td>
      <td>0</td>
      <td>0</td>
      <td>0</td>
      <td>0</td>
      <td>0</td>
      <td>0</td>
      <td>0</td>
      <td>0</td>
      <td>0</td>
      <td>0</td>
      <td>0</td>
      <td>0</td>
      <td>0</td>
      <td>0</td>
      <td>0</td>
      <td>0</td>
      <td>0</td>
      <td>0</td>
      <td>0</td>
      <td>0</td>
      <td>0</td>
      <td>0</td>
      <td>0</td>
      <td>0</td>
      <td>0</td>
      <td>0</td>
      <td>0</td>
      <td>0</td>
      <td>0</td>
      <td>0</td>
      <td>0</td>
      <td>0</td>
      <td>Wakefield</td>
    </tr>
    <tr>
      <th>1</th>
      <td>0</td>
      <td>0</td>
      <td>0</td>
      <td>0</td>
      <td>0</td>
      <td>0</td>
      <td>0</td>
      <td>0</td>
      <td>0</td>
      <td>0</td>
      <td>0</td>
      <td>0</td>
      <td>0</td>
      <td>0</td>
      <td>1</td>
      <td>0</td>
      <td>0</td>
      <td>0</td>
      <td>0</td>
      <td>0</td>
      <td>0</td>
      <td>0</td>
      <td>0</td>
      <td>0</td>
      <td>0</td>
      <td>0</td>
      <td>0</td>
      <td>0</td>
      <td>0</td>
      <td>0</td>
      <td>0</td>
      <td>0</td>
      <td>0</td>
      <td>0</td>
      <td>0</td>
      <td>0</td>
      <td>0</td>
      <td>0</td>
      <td>0</td>
      <td>0</td>
      <td>0</td>
      <td>0</td>
      <td>0</td>
      <td>0</td>
      <td>0</td>
      <td>0</td>
      <td>0</td>
      <td>0</td>
      <td>0</td>
      <td>0</td>
      <td>0</td>
      <td>0</td>
      <td>0</td>
      <td>0</td>
      <td>0</td>
      <td>0</td>
      <td>0</td>
      <td>0</td>
      <td>0</td>
      <td>0</td>
      <td>0</td>
      <td>0</td>
      <td>0</td>
      <td>0</td>
      <td>0</td>
      <td>0</td>
      <td>0</td>
      <td>0</td>
      <td>0</td>
      <td>0</td>
      <td>0</td>
      <td>0</td>
      <td>0</td>
      <td>0</td>
      <td>0</td>
      <td>0</td>
      <td>0</td>
      <td>0</td>
      <td>0</td>
      <td>0</td>
      <td>0</td>
      <td>0</td>
      <td>0</td>
      <td>0</td>
      <td>0</td>
      <td>0</td>
      <td>0</td>
      <td>0</td>
      <td>0</td>
      <td>0</td>
      <td>0</td>
      <td>0</td>
      <td>Wakefield</td>
    </tr>
    <tr>
      <th>2</th>
      <td>0</td>
      <td>0</td>
      <td>0</td>
      <td>0</td>
      <td>0</td>
      <td>0</td>
      <td>0</td>
      <td>0</td>
      <td>0</td>
      <td>0</td>
      <td>0</td>
      <td>0</td>
      <td>0</td>
      <td>0</td>
      <td>0</td>
      <td>0</td>
      <td>0</td>
      <td>0</td>
      <td>0</td>
      <td>0</td>
      <td>0</td>
      <td>0</td>
      <td>0</td>
      <td>0</td>
      <td>0</td>
      <td>0</td>
      <td>0</td>
      <td>1</td>
      <td>0</td>
      <td>0</td>
      <td>0</td>
      <td>0</td>
      <td>0</td>
      <td>0</td>
      <td>0</td>
      <td>0</td>
      <td>0</td>
      <td>0</td>
      <td>0</td>
      <td>0</td>
      <td>0</td>
      <td>0</td>
      <td>0</td>
      <td>0</td>
      <td>0</td>
      <td>0</td>
      <td>0</td>
      <td>0</td>
      <td>0</td>
      <td>0</td>
      <td>0</td>
      <td>0</td>
      <td>0</td>
      <td>0</td>
      <td>0</td>
      <td>0</td>
      <td>0</td>
      <td>0</td>
      <td>0</td>
      <td>0</td>
      <td>0</td>
      <td>0</td>
      <td>0</td>
      <td>0</td>
      <td>0</td>
      <td>0</td>
      <td>0</td>
      <td>0</td>
      <td>0</td>
      <td>0</td>
      <td>0</td>
      <td>0</td>
      <td>0</td>
      <td>0</td>
      <td>0</td>
      <td>0</td>
      <td>0</td>
      <td>0</td>
      <td>0</td>
      <td>0</td>
      <td>0</td>
      <td>0</td>
      <td>0</td>
      <td>0</td>
      <td>0</td>
      <td>0</td>
      <td>0</td>
      <td>0</td>
      <td>0</td>
      <td>0</td>
      <td>0</td>
      <td>0</td>
      <td>Wakefield</td>
    </tr>
    <tr>
      <th>3</th>
      <td>0</td>
      <td>0</td>
      <td>0</td>
      <td>0</td>
      <td>0</td>
      <td>0</td>
      <td>0</td>
      <td>0</td>
      <td>0</td>
      <td>0</td>
      <td>0</td>
      <td>0</td>
      <td>0</td>
      <td>0</td>
      <td>1</td>
      <td>0</td>
      <td>0</td>
      <td>0</td>
      <td>0</td>
      <td>0</td>
      <td>0</td>
      <td>0</td>
      <td>0</td>
      <td>0</td>
      <td>0</td>
      <td>0</td>
      <td>0</td>
      <td>0</td>
      <td>0</td>
      <td>0</td>
      <td>0</td>
      <td>0</td>
      <td>0</td>
      <td>0</td>
      <td>0</td>
      <td>0</td>
      <td>0</td>
      <td>0</td>
      <td>0</td>
      <td>0</td>
      <td>0</td>
      <td>0</td>
      <td>0</td>
      <td>0</td>
      <td>0</td>
      <td>0</td>
      <td>0</td>
      <td>0</td>
      <td>0</td>
      <td>0</td>
      <td>0</td>
      <td>0</td>
      <td>0</td>
      <td>0</td>
      <td>0</td>
      <td>0</td>
      <td>0</td>
      <td>0</td>
      <td>0</td>
      <td>0</td>
      <td>0</td>
      <td>0</td>
      <td>0</td>
      <td>0</td>
      <td>0</td>
      <td>0</td>
      <td>0</td>
      <td>0</td>
      <td>0</td>
      <td>0</td>
      <td>0</td>
      <td>0</td>
      <td>0</td>
      <td>0</td>
      <td>0</td>
      <td>0</td>
      <td>0</td>
      <td>0</td>
      <td>0</td>
      <td>0</td>
      <td>0</td>
      <td>0</td>
      <td>0</td>
      <td>0</td>
      <td>0</td>
      <td>0</td>
      <td>0</td>
      <td>0</td>
      <td>0</td>
      <td>0</td>
      <td>0</td>
      <td>0</td>
      <td>Wakefield</td>
    </tr>
    <tr>
      <th>4</th>
      <td>0</td>
      <td>0</td>
      <td>0</td>
      <td>0</td>
      <td>0</td>
      <td>0</td>
      <td>0</td>
      <td>0</td>
      <td>0</td>
      <td>0</td>
      <td>0</td>
      <td>0</td>
      <td>0</td>
      <td>0</td>
      <td>0</td>
      <td>0</td>
      <td>0</td>
      <td>0</td>
      <td>0</td>
      <td>0</td>
      <td>0</td>
      <td>0</td>
      <td>0</td>
      <td>0</td>
      <td>0</td>
      <td>0</td>
      <td>0</td>
      <td>0</td>
      <td>0</td>
      <td>0</td>
      <td>0</td>
      <td>0</td>
      <td>0</td>
      <td>0</td>
      <td>0</td>
      <td>0</td>
      <td>0</td>
      <td>0</td>
      <td>0</td>
      <td>0</td>
      <td>1</td>
      <td>0</td>
      <td>0</td>
      <td>0</td>
      <td>0</td>
      <td>0</td>
      <td>0</td>
      <td>0</td>
      <td>0</td>
      <td>0</td>
      <td>0</td>
      <td>0</td>
      <td>0</td>
      <td>0</td>
      <td>0</td>
      <td>0</td>
      <td>0</td>
      <td>0</td>
      <td>0</td>
      <td>0</td>
      <td>0</td>
      <td>0</td>
      <td>0</td>
      <td>0</td>
      <td>0</td>
      <td>0</td>
      <td>0</td>
      <td>0</td>
      <td>0</td>
      <td>0</td>
      <td>0</td>
      <td>0</td>
      <td>0</td>
      <td>0</td>
      <td>0</td>
      <td>0</td>
      <td>0</td>
      <td>0</td>
      <td>0</td>
      <td>0</td>
      <td>0</td>
      <td>0</td>
      <td>0</td>
      <td>0</td>
      <td>0</td>
      <td>0</td>
      <td>0</td>
      <td>0</td>
      <td>0</td>
      <td>0</td>
      <td>0</td>
      <td>0</td>
      <td>Wakefield</td>
    </tr>
  </tbody>
</table>
</div>
</div>

</div>

</div>
</div>

</div>
<div class="cell border-box-sizing code_cell rendered">
<div class="input">
<div class="prompt input_prompt">In&nbsp;[38]:</div>
<div class="inner_cell">
    <div class="input_area">
<div class=" highlight hl-ipython3"><pre><span></span><span class="c1"># move neighborhood column to the first column</span>
<span class="n">Neighborhood</span> <span class="o">=</span> <span class="n">nyc_onehot</span><span class="p">[</span><span class="s1">'Neighborhood'</span><span class="p">]</span>

<span class="n">nyc_onehot</span><span class="o">.</span><span class="n">drop</span><span class="p">(</span><span class="n">labels</span><span class="o">=</span><span class="p">[</span><span class="s1">'Neighborhood'</span><span class="p">],</span> <span class="n">axis</span><span class="o">=</span><span class="mi">1</span><span class="p">,</span><span class="n">inplace</span> <span class="o">=</span> <span class="kc">True</span><span class="p">)</span>
<span class="n">nyc_onehot</span><span class="o">.</span><span class="n">insert</span><span class="p">(</span><span class="mi">0</span><span class="p">,</span> <span class="s1">'Neighborhood'</span><span class="p">,</span> <span class="n">Neighborhood</span><span class="p">)</span>

<span class="n">nyc_onehot</span><span class="o">.</span><span class="n">head</span><span class="p">()</span>
</pre></div>

    </div>
</div>
</div>

<div class="output_wrapper">
<div class="output">


<div class="output_area">

    <div class="prompt output_prompt">Out[38]:</div>



<div class="output_html rendered_html output_subarea output_execute_result">
<div>
<style scoped="">
    .dataframe tbody tr th:only-of-type {
        vertical-align: middle;
    }

    .dataframe tbody tr th {
        vertical-align: top;
    }

    .dataframe thead th {
        text-align: right;
    }
</style>
<table border="1" class="dataframe">
  <thead>
    <tr style="text-align: right;">
      <th></th>
      <th>Neighborhood</th>
      <th>Afghan Restaurant</th>
      <th>African Restaurant</th>
      <th>American Restaurant</th>
      <th>Arepa Restaurant</th>
      <th>Argentinian Restaurant</th>
      <th>Asian Restaurant</th>
      <th>Australian Restaurant</th>
      <th>Austrian Restaurant</th>
      <th>BBQ Joint</th>
      <th>Brazilian Restaurant</th>
      <th>Burmese Restaurant</th>
      <th>Burrito Place</th>
      <th>Cajun / Creole Restaurant</th>
      <th>Cantonese Restaurant</th>
      <th>Caribbean Restaurant</th>
      <th>Caucasian Restaurant</th>
      <th>Chinese Restaurant</th>
      <th>Colombian Restaurant</th>
      <th>Cuban Restaurant</th>
      <th>Dim Sum Restaurant</th>
      <th>Dosa Place</th>
      <th>Dumpling Restaurant</th>
      <th>Eastern European Restaurant</th>
      <th>Empanada Restaurant</th>
      <th>English Restaurant</th>
      <th>Ethiopian Restaurant</th>
      <th>Falafel Restaurant</th>
      <th>Fast Food Restaurant</th>
      <th>Filipino Restaurant</th>
      <th>French Restaurant</th>
      <th>Fried Chicken Joint</th>
      <th>German Restaurant</th>
      <th>Greek Restaurant</th>
      <th>Halal Restaurant</th>
      <th>Hawaiian Restaurant</th>
      <th>Himalayan Restaurant</th>
      <th>Hong Kong Restaurant</th>
      <th>Indian Chinese Restaurant</th>
      <th>Indian Restaurant</th>
      <th>Israeli Restaurant</th>
      <th>Italian Restaurant</th>
      <th>Japanese Restaurant</th>
      <th>Jewish Restaurant</th>
      <th>Kebab Restaurant</th>
      <th>Korean Restaurant</th>
      <th>Kosher Restaurant</th>
      <th>Latin American Restaurant</th>
      <th>Lebanese Restaurant</th>
      <th>Malay Restaurant</th>
      <th>Mediterranean Restaurant</th>
      <th>Mexican Restaurant</th>
      <th>Middle Eastern Restaurant</th>
      <th>Modern European Restaurant</th>
      <th>Modern Greek Restaurant</th>
      <th>Moroccan Restaurant</th>
      <th>New American Restaurant</th>
      <th>Noodle House</th>
      <th>North Indian Restaurant</th>
      <th>Paella Restaurant</th>
      <th>Pakistani Restaurant</th>
      <th>Persian Restaurant</th>
      <th>Peruvian Restaurant</th>
      <th>Pizza Place</th>
      <th>Polish Restaurant</th>
      <th>Portuguese Restaurant</th>
      <th>Ramen Restaurant</th>
      <th>Russian Restaurant</th>
      <th>Salvadoran Restaurant</th>
      <th>Seafood Restaurant</th>
      <th>Shabu-Shabu Restaurant</th>
      <th>Shanghai Restaurant</th>
      <th>South American Restaurant</th>
      <th>South Indian Restaurant</th>
      <th>Southern / Soul Food Restaurant</th>
      <th>Spanish Restaurant</th>
      <th>Sri Lankan Restaurant</th>
      <th>Steakhouse</th>
      <th>Sushi Restaurant</th>
      <th>Szechuan Restaurant</th>
      <th>Taco Place</th>
      <th>Taiwanese Restaurant</th>
      <th>Tapas Restaurant</th>
      <th>Tex-Mex Restaurant</th>
      <th>Thai Restaurant</th>
      <th>Tibetan Restaurant</th>
      <th>Turkish Restaurant</th>
      <th>Udon Restaurant</th>
      <th>Ukrainian Restaurant</th>
      <th>Varenyky restaurant</th>
      <th>Vegetarian / Vegan Restaurant</th>
      <th>Venezuelan Restaurant</th>
      <th>Vietnamese Restaurant</th>
    </tr>
  </thead>
  <tbody>
    <tr>
      <th>0</th>
      <td>Wakefield</td>
      <td>0</td>
      <td>0</td>
      <td>0</td>
      <td>0</td>
      <td>0</td>
      <td>0</td>
      <td>0</td>
      <td>0</td>
      <td>0</td>
      <td>0</td>
      <td>0</td>
      <td>0</td>
      <td>0</td>
      <td>0</td>
      <td>0</td>
      <td>0</td>
      <td>0</td>
      <td>0</td>
      <td>0</td>
      <td>0</td>
      <td>0</td>
      <td>0</td>
      <td>0</td>
      <td>0</td>
      <td>0</td>
      <td>0</td>
      <td>0</td>
      <td>1</td>
      <td>0</td>
      <td>0</td>
      <td>0</td>
      <td>0</td>
      <td>0</td>
      <td>0</td>
      <td>0</td>
      <td>0</td>
      <td>0</td>
      <td>0</td>
      <td>0</td>
      <td>0</td>
      <td>0</td>
      <td>0</td>
      <td>0</td>
      <td>0</td>
      <td>0</td>
      <td>0</td>
      <td>0</td>
      <td>0</td>
      <td>0</td>
      <td>0</td>
      <td>0</td>
      <td>0</td>
      <td>0</td>
      <td>0</td>
      <td>0</td>
      <td>0</td>
      <td>0</td>
      <td>0</td>
      <td>0</td>
      <td>0</td>
      <td>0</td>
      <td>0</td>
      <td>0</td>
      <td>0</td>
      <td>0</td>
      <td>0</td>
      <td>0</td>
      <td>0</td>
      <td>0</td>
      <td>0</td>
      <td>0</td>
      <td>0</td>
      <td>0</td>
      <td>0</td>
      <td>0</td>
      <td>0</td>
      <td>0</td>
      <td>0</td>
      <td>0</td>
      <td>0</td>
      <td>0</td>
      <td>0</td>
      <td>0</td>
      <td>0</td>
      <td>0</td>
      <td>0</td>
      <td>0</td>
      <td>0</td>
      <td>0</td>
      <td>0</td>
      <td>0</td>
      <td>0</td>
    </tr>
    <tr>
      <th>1</th>
      <td>Wakefield</td>
      <td>0</td>
      <td>0</td>
      <td>0</td>
      <td>0</td>
      <td>0</td>
      <td>0</td>
      <td>0</td>
      <td>0</td>
      <td>0</td>
      <td>0</td>
      <td>0</td>
      <td>0</td>
      <td>0</td>
      <td>0</td>
      <td>1</td>
      <td>0</td>
      <td>0</td>
      <td>0</td>
      <td>0</td>
      <td>0</td>
      <td>0</td>
      <td>0</td>
      <td>0</td>
      <td>0</td>
      <td>0</td>
      <td>0</td>
      <td>0</td>
      <td>0</td>
      <td>0</td>
      <td>0</td>
      <td>0</td>
      <td>0</td>
      <td>0</td>
      <td>0</td>
      <td>0</td>
      <td>0</td>
      <td>0</td>
      <td>0</td>
      <td>0</td>
      <td>0</td>
      <td>0</td>
      <td>0</td>
      <td>0</td>
      <td>0</td>
      <td>0</td>
      <td>0</td>
      <td>0</td>
      <td>0</td>
      <td>0</td>
      <td>0</td>
      <td>0</td>
      <td>0</td>
      <td>0</td>
      <td>0</td>
      <td>0</td>
      <td>0</td>
      <td>0</td>
      <td>0</td>
      <td>0</td>
      <td>0</td>
      <td>0</td>
      <td>0</td>
      <td>0</td>
      <td>0</td>
      <td>0</td>
      <td>0</td>
      <td>0</td>
      <td>0</td>
      <td>0</td>
      <td>0</td>
      <td>0</td>
      <td>0</td>
      <td>0</td>
      <td>0</td>
      <td>0</td>
      <td>0</td>
      <td>0</td>
      <td>0</td>
      <td>0</td>
      <td>0</td>
      <td>0</td>
      <td>0</td>
      <td>0</td>
      <td>0</td>
      <td>0</td>
      <td>0</td>
      <td>0</td>
      <td>0</td>
      <td>0</td>
      <td>0</td>
      <td>0</td>
      <td>0</td>
    </tr>
    <tr>
      <th>2</th>
      <td>Wakefield</td>
      <td>0</td>
      <td>0</td>
      <td>0</td>
      <td>0</td>
      <td>0</td>
      <td>0</td>
      <td>0</td>
      <td>0</td>
      <td>0</td>
      <td>0</td>
      <td>0</td>
      <td>0</td>
      <td>0</td>
      <td>0</td>
      <td>0</td>
      <td>0</td>
      <td>0</td>
      <td>0</td>
      <td>0</td>
      <td>0</td>
      <td>0</td>
      <td>0</td>
      <td>0</td>
      <td>0</td>
      <td>0</td>
      <td>0</td>
      <td>0</td>
      <td>1</td>
      <td>0</td>
      <td>0</td>
      <td>0</td>
      <td>0</td>
      <td>0</td>
      <td>0</td>
      <td>0</td>
      <td>0</td>
      <td>0</td>
      <td>0</td>
      <td>0</td>
      <td>0</td>
      <td>0</td>
      <td>0</td>
      <td>0</td>
      <td>0</td>
      <td>0</td>
      <td>0</td>
      <td>0</td>
      <td>0</td>
      <td>0</td>
      <td>0</td>
      <td>0</td>
      <td>0</td>
      <td>0</td>
      <td>0</td>
      <td>0</td>
      <td>0</td>
      <td>0</td>
      <td>0</td>
      <td>0</td>
      <td>0</td>
      <td>0</td>
      <td>0</td>
      <td>0</td>
      <td>0</td>
      <td>0</td>
      <td>0</td>
      <td>0</td>
      <td>0</td>
      <td>0</td>
      <td>0</td>
      <td>0</td>
      <td>0</td>
      <td>0</td>
      <td>0</td>
      <td>0</td>
      <td>0</td>
      <td>0</td>
      <td>0</td>
      <td>0</td>
      <td>0</td>
      <td>0</td>
      <td>0</td>
      <td>0</td>
      <td>0</td>
      <td>0</td>
      <td>0</td>
      <td>0</td>
      <td>0</td>
      <td>0</td>
      <td>0</td>
      <td>0</td>
      <td>0</td>
    </tr>
    <tr>
      <th>3</th>
      <td>Wakefield</td>
      <td>0</td>
      <td>0</td>
      <td>0</td>
      <td>0</td>
      <td>0</td>
      <td>0</td>
      <td>0</td>
      <td>0</td>
      <td>0</td>
      <td>0</td>
      <td>0</td>
      <td>0</td>
      <td>0</td>
      <td>0</td>
      <td>1</td>
      <td>0</td>
      <td>0</td>
      <td>0</td>
      <td>0</td>
      <td>0</td>
      <td>0</td>
      <td>0</td>
      <td>0</td>
      <td>0</td>
      <td>0</td>
      <td>0</td>
      <td>0</td>
      <td>0</td>
      <td>0</td>
      <td>0</td>
      <td>0</td>
      <td>0</td>
      <td>0</td>
      <td>0</td>
      <td>0</td>
      <td>0</td>
      <td>0</td>
      <td>0</td>
      <td>0</td>
      <td>0</td>
      <td>0</td>
      <td>0</td>
      <td>0</td>
      <td>0</td>
      <td>0</td>
      <td>0</td>
      <td>0</td>
      <td>0</td>
      <td>0</td>
      <td>0</td>
      <td>0</td>
      <td>0</td>
      <td>0</td>
      <td>0</td>
      <td>0</td>
      <td>0</td>
      <td>0</td>
      <td>0</td>
      <td>0</td>
      <td>0</td>
      <td>0</td>
      <td>0</td>
      <td>0</td>
      <td>0</td>
      <td>0</td>
      <td>0</td>
      <td>0</td>
      <td>0</td>
      <td>0</td>
      <td>0</td>
      <td>0</td>
      <td>0</td>
      <td>0</td>
      <td>0</td>
      <td>0</td>
      <td>0</td>
      <td>0</td>
      <td>0</td>
      <td>0</td>
      <td>0</td>
      <td>0</td>
      <td>0</td>
      <td>0</td>
      <td>0</td>
      <td>0</td>
      <td>0</td>
      <td>0</td>
      <td>0</td>
      <td>0</td>
      <td>0</td>
      <td>0</td>
      <td>0</td>
    </tr>
    <tr>
      <th>4</th>
      <td>Wakefield</td>
      <td>0</td>
      <td>0</td>
      <td>0</td>
      <td>0</td>
      <td>0</td>
      <td>0</td>
      <td>0</td>
      <td>0</td>
      <td>0</td>
      <td>0</td>
      <td>0</td>
      <td>0</td>
      <td>0</td>
      <td>0</td>
      <td>0</td>
      <td>0</td>
      <td>0</td>
      <td>0</td>
      <td>0</td>
      <td>0</td>
      <td>0</td>
      <td>0</td>
      <td>0</td>
      <td>0</td>
      <td>0</td>
      <td>0</td>
      <td>0</td>
      <td>0</td>
      <td>0</td>
      <td>0</td>
      <td>0</td>
      <td>0</td>
      <td>0</td>
      <td>0</td>
      <td>0</td>
      <td>0</td>
      <td>0</td>
      <td>0</td>
      <td>0</td>
      <td>0</td>
      <td>1</td>
      <td>0</td>
      <td>0</td>
      <td>0</td>
      <td>0</td>
      <td>0</td>
      <td>0</td>
      <td>0</td>
      <td>0</td>
      <td>0</td>
      <td>0</td>
      <td>0</td>
      <td>0</td>
      <td>0</td>
      <td>0</td>
      <td>0</td>
      <td>0</td>
      <td>0</td>
      <td>0</td>
      <td>0</td>
      <td>0</td>
      <td>0</td>
      <td>0</td>
      <td>0</td>
      <td>0</td>
      <td>0</td>
      <td>0</td>
      <td>0</td>
      <td>0</td>
      <td>0</td>
      <td>0</td>
      <td>0</td>
      <td>0</td>
      <td>0</td>
      <td>0</td>
      <td>0</td>
      <td>0</td>
      <td>0</td>
      <td>0</td>
      <td>0</td>
      <td>0</td>
      <td>0</td>
      <td>0</td>
      <td>0</td>
      <td>0</td>
      <td>0</td>
      <td>0</td>
      <td>0</td>
      <td>0</td>
      <td>0</td>
      <td>0</td>
      <td>0</td>
    </tr>
  </tbody>
</table>
</div>
</div>

</div>

</div>
</div>

</div>
<div class="cell border-box-sizing text_cell rendered"><div class="prompt input_prompt">
</div><div class="inner_cell">
<div class="text_cell_render border-box-sizing rendered_html">
<p>And let's examine the new dataframe size.</p>

</div>
</div>
</div>
<div class="cell border-box-sizing code_cell rendered">
<div class="input">
<div class="prompt input_prompt">In&nbsp;[39]:</div>
<div class="inner_cell">
    <div class="input_area">
<div class=" highlight hl-ipython3"><pre><span></span><span class="n">nyc_onehot</span><span class="o">.</span><span class="n">shape</span>
</pre></div>

    </div>
</div>
</div>

<div class="output_wrapper">
<div class="output">


<div class="output_area">

    <div class="prompt output_prompt">Out[39]:</div>




<div class="output_text output_subarea output_execute_result">
<pre>(6846, 93)</pre>
</div>

</div>

</div>
</div>

</div>
<div class="cell border-box-sizing text_cell rendered"><div class="prompt input_prompt">
</div><div class="inner_cell">
<div class="text_cell_render border-box-sizing rendered_html">
<p>Let's count venues of each category in each neighborhood</p>

</div>
</div>
</div>
<div class="cell border-box-sizing code_cell rendered">
<div class="input">
<div class="prompt input_prompt">In&nbsp;[40]:</div>
<div class="inner_cell">
    <div class="input_area">
<div class=" highlight hl-ipython3"><pre><span></span><span class="n">venue_counts</span> <span class="o">=</span> <span class="n">nyc_onehot</span><span class="o">.</span><span class="n">groupby</span><span class="p">(</span><span class="s1">'Neighborhood'</span><span class="p">)</span><span class="o">.</span><span class="n">sum</span><span class="p">()</span>
<span class="n">venue_counts</span><span class="o">.</span><span class="n">head</span><span class="p">(</span><span class="mi">5</span><span class="p">)</span>
</pre></div>

    </div>
</div>
</div>

<div class="output_wrapper">
<div class="output">


<div class="output_area">

    <div class="prompt output_prompt">Out[40]:</div>



<div class="output_html rendered_html output_subarea output_execute_result">
<div>
<style scoped="">
    .dataframe tbody tr th:only-of-type {
        vertical-align: middle;
    }

    .dataframe tbody tr th {
        vertical-align: top;
    }

    .dataframe thead th {
        text-align: right;
    }
</style>
<table border="1" class="dataframe">
  <thead>
    <tr style="text-align: right;">
      <th></th>
      <th>Afghan Restaurant</th>
      <th>African Restaurant</th>
      <th>American Restaurant</th>
      <th>Arepa Restaurant</th>
      <th>Argentinian Restaurant</th>
      <th>Asian Restaurant</th>
      <th>Australian Restaurant</th>
      <th>Austrian Restaurant</th>
      <th>BBQ Joint</th>
      <th>Brazilian Restaurant</th>
      <th>Burmese Restaurant</th>
      <th>Burrito Place</th>
      <th>Cajun / Creole Restaurant</th>
      <th>Cantonese Restaurant</th>
      <th>Caribbean Restaurant</th>
      <th>Caucasian Restaurant</th>
      <th>Chinese Restaurant</th>
      <th>Colombian Restaurant</th>
      <th>Cuban Restaurant</th>
      <th>Dim Sum Restaurant</th>
      <th>Dosa Place</th>
      <th>Dumpling Restaurant</th>
      <th>Eastern European Restaurant</th>
      <th>Empanada Restaurant</th>
      <th>English Restaurant</th>
      <th>Ethiopian Restaurant</th>
      <th>Falafel Restaurant</th>
      <th>Fast Food Restaurant</th>
      <th>Filipino Restaurant</th>
      <th>French Restaurant</th>
      <th>Fried Chicken Joint</th>
      <th>German Restaurant</th>
      <th>Greek Restaurant</th>
      <th>Halal Restaurant</th>
      <th>Hawaiian Restaurant</th>
      <th>Himalayan Restaurant</th>
      <th>Hong Kong Restaurant</th>
      <th>Indian Chinese Restaurant</th>
      <th>Indian Restaurant</th>
      <th>Israeli Restaurant</th>
      <th>Italian Restaurant</th>
      <th>Japanese Restaurant</th>
      <th>Jewish Restaurant</th>
      <th>Kebab Restaurant</th>
      <th>Korean Restaurant</th>
      <th>Kosher Restaurant</th>
      <th>Latin American Restaurant</th>
      <th>Lebanese Restaurant</th>
      <th>Malay Restaurant</th>
      <th>Mediterranean Restaurant</th>
      <th>Mexican Restaurant</th>
      <th>Middle Eastern Restaurant</th>
      <th>Modern European Restaurant</th>
      <th>Modern Greek Restaurant</th>
      <th>Moroccan Restaurant</th>
      <th>New American Restaurant</th>
      <th>Noodle House</th>
      <th>North Indian Restaurant</th>
      <th>Paella Restaurant</th>
      <th>Pakistani Restaurant</th>
      <th>Persian Restaurant</th>
      <th>Peruvian Restaurant</th>
      <th>Pizza Place</th>
      <th>Polish Restaurant</th>
      <th>Portuguese Restaurant</th>
      <th>Ramen Restaurant</th>
      <th>Russian Restaurant</th>
      <th>Salvadoran Restaurant</th>
      <th>Seafood Restaurant</th>
      <th>Shabu-Shabu Restaurant</th>
      <th>Shanghai Restaurant</th>
      <th>South American Restaurant</th>
      <th>South Indian Restaurant</th>
      <th>Southern / Soul Food Restaurant</th>
      <th>Spanish Restaurant</th>
      <th>Sri Lankan Restaurant</th>
      <th>Steakhouse</th>
      <th>Sushi Restaurant</th>
      <th>Szechuan Restaurant</th>
      <th>Taco Place</th>
      <th>Taiwanese Restaurant</th>
      <th>Tapas Restaurant</th>
      <th>Tex-Mex Restaurant</th>
      <th>Thai Restaurant</th>
      <th>Tibetan Restaurant</th>
      <th>Turkish Restaurant</th>
      <th>Udon Restaurant</th>
      <th>Ukrainian Restaurant</th>
      <th>Varenyky restaurant</th>
      <th>Vegetarian / Vegan Restaurant</th>
      <th>Venezuelan Restaurant</th>
      <th>Vietnamese Restaurant</th>
    </tr>
    <tr>
      <th>Neighborhood</th>
      <th></th>
      <th></th>
      <th></th>
      <th></th>
      <th></th>
      <th></th>
      <th></th>
      <th></th>
      <th></th>
      <th></th>
      <th></th>
      <th></th>
      <th></th>
      <th></th>
      <th></th>
      <th></th>
      <th></th>
      <th></th>
      <th></th>
      <th></th>
      <th></th>
      <th></th>
      <th></th>
      <th></th>
      <th></th>
      <th></th>
      <th></th>
      <th></th>
      <th></th>
      <th></th>
      <th></th>
      <th></th>
      <th></th>
      <th></th>
      <th></th>
      <th></th>
      <th></th>
      <th></th>
      <th></th>
      <th></th>
      <th></th>
      <th></th>
      <th></th>
      <th></th>
      <th></th>
      <th></th>
      <th></th>
      <th></th>
      <th></th>
      <th></th>
      <th></th>
      <th></th>
      <th></th>
      <th></th>
      <th></th>
      <th></th>
      <th></th>
      <th></th>
      <th></th>
      <th></th>
      <th></th>
      <th></th>
      <th></th>
      <th></th>
      <th></th>
      <th></th>
      <th></th>
      <th></th>
      <th></th>
      <th></th>
      <th></th>
      <th></th>
      <th></th>
      <th></th>
      <th></th>
      <th></th>
      <th></th>
      <th></th>
      <th></th>
      <th></th>
      <th></th>
      <th></th>
      <th></th>
      <th></th>
      <th></th>
      <th></th>
      <th></th>
      <th></th>
      <th></th>
      <th></th>
      <th></th>
      <th></th>
    </tr>
  </thead>
  <tbody>
    <tr>
      <th>Allerton</th>
      <td>0</td>
      <td>0</td>
      <td>0</td>
      <td>0</td>
      <td>0</td>
      <td>0</td>
      <td>0</td>
      <td>0</td>
      <td>0</td>
      <td>0</td>
      <td>0</td>
      <td>0</td>
      <td>0</td>
      <td>0</td>
      <td>3</td>
      <td>0</td>
      <td>4</td>
      <td>0</td>
      <td>0</td>
      <td>0</td>
      <td>0</td>
      <td>0</td>
      <td>0</td>
      <td>0</td>
      <td>0</td>
      <td>0</td>
      <td>0</td>
      <td>3</td>
      <td>0</td>
      <td>0</td>
      <td>4</td>
      <td>0</td>
      <td>0</td>
      <td>0</td>
      <td>0</td>
      <td>0</td>
      <td>0</td>
      <td>0</td>
      <td>0</td>
      <td>0</td>
      <td>0</td>
      <td>0</td>
      <td>0</td>
      <td>0</td>
      <td>0</td>
      <td>0</td>
      <td>0</td>
      <td>0</td>
      <td>0</td>
      <td>0</td>
      <td>5</td>
      <td>0</td>
      <td>0</td>
      <td>0</td>
      <td>0</td>
      <td>0</td>
      <td>0</td>
      <td>0</td>
      <td>0</td>
      <td>0</td>
      <td>0</td>
      <td>0</td>
      <td>4</td>
      <td>0</td>
      <td>0</td>
      <td>0</td>
      <td>0</td>
      <td>0</td>
      <td>1</td>
      <td>0</td>
      <td>0</td>
      <td>0</td>
      <td>0</td>
      <td>0</td>
      <td>1</td>
      <td>0</td>
      <td>0</td>
      <td>0</td>
      <td>0</td>
      <td>0</td>
      <td>0</td>
      <td>0</td>
      <td>0</td>
      <td>0</td>
      <td>0</td>
      <td>0</td>
      <td>0</td>
      <td>0</td>
      <td>0</td>
      <td>0</td>
      <td>0</td>
      <td>0</td>
    </tr>
    <tr>
      <th>Annadale</th>
      <td>0</td>
      <td>0</td>
      <td>3</td>
      <td>0</td>
      <td>0</td>
      <td>0</td>
      <td>0</td>
      <td>0</td>
      <td>0</td>
      <td>0</td>
      <td>0</td>
      <td>0</td>
      <td>0</td>
      <td>0</td>
      <td>0</td>
      <td>0</td>
      <td>1</td>
      <td>0</td>
      <td>0</td>
      <td>0</td>
      <td>0</td>
      <td>0</td>
      <td>0</td>
      <td>0</td>
      <td>0</td>
      <td>0</td>
      <td>0</td>
      <td>0</td>
      <td>0</td>
      <td>0</td>
      <td>0</td>
      <td>0</td>
      <td>0</td>
      <td>0</td>
      <td>0</td>
      <td>0</td>
      <td>0</td>
      <td>0</td>
      <td>0</td>
      <td>0</td>
      <td>2</td>
      <td>1</td>
      <td>0</td>
      <td>0</td>
      <td>0</td>
      <td>0</td>
      <td>0</td>
      <td>0</td>
      <td>0</td>
      <td>0</td>
      <td>0</td>
      <td>1</td>
      <td>0</td>
      <td>0</td>
      <td>0</td>
      <td>0</td>
      <td>0</td>
      <td>0</td>
      <td>0</td>
      <td>0</td>
      <td>0</td>
      <td>0</td>
      <td>6</td>
      <td>0</td>
      <td>0</td>
      <td>0</td>
      <td>0</td>
      <td>0</td>
      <td>0</td>
      <td>0</td>
      <td>0</td>
      <td>0</td>
      <td>0</td>
      <td>0</td>
      <td>0</td>
      <td>0</td>
      <td>0</td>
      <td>3</td>
      <td>0</td>
      <td>0</td>
      <td>0</td>
      <td>0</td>
      <td>0</td>
      <td>0</td>
      <td>0</td>
      <td>0</td>
      <td>0</td>
      <td>0</td>
      <td>0</td>
      <td>0</td>
      <td>0</td>
      <td>0</td>
    </tr>
    <tr>
      <th>Arden Heights</th>
      <td>0</td>
      <td>0</td>
      <td>3</td>
      <td>0</td>
      <td>0</td>
      <td>0</td>
      <td>0</td>
      <td>0</td>
      <td>1</td>
      <td>0</td>
      <td>0</td>
      <td>0</td>
      <td>0</td>
      <td>0</td>
      <td>0</td>
      <td>0</td>
      <td>2</td>
      <td>0</td>
      <td>0</td>
      <td>0</td>
      <td>0</td>
      <td>0</td>
      <td>0</td>
      <td>0</td>
      <td>0</td>
      <td>0</td>
      <td>0</td>
      <td>0</td>
      <td>0</td>
      <td>0</td>
      <td>0</td>
      <td>0</td>
      <td>0</td>
      <td>0</td>
      <td>0</td>
      <td>0</td>
      <td>0</td>
      <td>0</td>
      <td>0</td>
      <td>0</td>
      <td>2</td>
      <td>0</td>
      <td>0</td>
      <td>0</td>
      <td>0</td>
      <td>0</td>
      <td>0</td>
      <td>0</td>
      <td>0</td>
      <td>0</td>
      <td>2</td>
      <td>0</td>
      <td>0</td>
      <td>0</td>
      <td>0</td>
      <td>0</td>
      <td>0</td>
      <td>0</td>
      <td>0</td>
      <td>0</td>
      <td>0</td>
      <td>0</td>
      <td>5</td>
      <td>0</td>
      <td>0</td>
      <td>0</td>
      <td>0</td>
      <td>0</td>
      <td>0</td>
      <td>0</td>
      <td>0</td>
      <td>0</td>
      <td>0</td>
      <td>0</td>
      <td>0</td>
      <td>0</td>
      <td>0</td>
      <td>2</td>
      <td>0</td>
      <td>0</td>
      <td>0</td>
      <td>0</td>
      <td>0</td>
      <td>0</td>
      <td>0</td>
      <td>0</td>
      <td>0</td>
      <td>0</td>
      <td>0</td>
      <td>0</td>
      <td>0</td>
      <td>0</td>
    </tr>
    <tr>
      <th>Arlington</th>
      <td>0</td>
      <td>0</td>
      <td>2</td>
      <td>0</td>
      <td>0</td>
      <td>1</td>
      <td>0</td>
      <td>0</td>
      <td>0</td>
      <td>0</td>
      <td>0</td>
      <td>0</td>
      <td>0</td>
      <td>0</td>
      <td>1</td>
      <td>0</td>
      <td>1</td>
      <td>0</td>
      <td>0</td>
      <td>0</td>
      <td>0</td>
      <td>0</td>
      <td>0</td>
      <td>0</td>
      <td>0</td>
      <td>0</td>
      <td>0</td>
      <td>3</td>
      <td>0</td>
      <td>0</td>
      <td>1</td>
      <td>0</td>
      <td>0</td>
      <td>0</td>
      <td>0</td>
      <td>0</td>
      <td>0</td>
      <td>0</td>
      <td>0</td>
      <td>0</td>
      <td>0</td>
      <td>0</td>
      <td>0</td>
      <td>0</td>
      <td>0</td>
      <td>0</td>
      <td>1</td>
      <td>0</td>
      <td>0</td>
      <td>0</td>
      <td>0</td>
      <td>0</td>
      <td>0</td>
      <td>0</td>
      <td>0</td>
      <td>0</td>
      <td>0</td>
      <td>0</td>
      <td>0</td>
      <td>0</td>
      <td>0</td>
      <td>2</td>
      <td>4</td>
      <td>1</td>
      <td>0</td>
      <td>0</td>
      <td>0</td>
      <td>0</td>
      <td>0</td>
      <td>0</td>
      <td>0</td>
      <td>0</td>
      <td>0</td>
      <td>0</td>
      <td>2</td>
      <td>0</td>
      <td>0</td>
      <td>0</td>
      <td>0</td>
      <td>0</td>
      <td>0</td>
      <td>0</td>
      <td>0</td>
      <td>0</td>
      <td>0</td>
      <td>0</td>
      <td>0</td>
      <td>0</td>
      <td>0</td>
      <td>0</td>
      <td>0</td>
      <td>0</td>
    </tr>
    <tr>
      <th>Arrochar</th>
      <td>0</td>
      <td>0</td>
      <td>0</td>
      <td>0</td>
      <td>0</td>
      <td>0</td>
      <td>0</td>
      <td>0</td>
      <td>0</td>
      <td>0</td>
      <td>0</td>
      <td>0</td>
      <td>0</td>
      <td>0</td>
      <td>0</td>
      <td>0</td>
      <td>2</td>
      <td>0</td>
      <td>0</td>
      <td>0</td>
      <td>0</td>
      <td>0</td>
      <td>0</td>
      <td>0</td>
      <td>0</td>
      <td>0</td>
      <td>0</td>
      <td>0</td>
      <td>0</td>
      <td>0</td>
      <td>0</td>
      <td>0</td>
      <td>0</td>
      <td>0</td>
      <td>0</td>
      <td>0</td>
      <td>0</td>
      <td>0</td>
      <td>0</td>
      <td>0</td>
      <td>4</td>
      <td>1</td>
      <td>0</td>
      <td>0</td>
      <td>0</td>
      <td>0</td>
      <td>1</td>
      <td>0</td>
      <td>0</td>
      <td>1</td>
      <td>0</td>
      <td>2</td>
      <td>0</td>
      <td>0</td>
      <td>0</td>
      <td>0</td>
      <td>0</td>
      <td>0</td>
      <td>0</td>
      <td>0</td>
      <td>0</td>
      <td>0</td>
      <td>4</td>
      <td>1</td>
      <td>0</td>
      <td>0</td>
      <td>0</td>
      <td>0</td>
      <td>0</td>
      <td>0</td>
      <td>0</td>
      <td>0</td>
      <td>0</td>
      <td>0</td>
      <td>0</td>
      <td>0</td>
      <td>2</td>
      <td>0</td>
      <td>0</td>
      <td>0</td>
      <td>0</td>
      <td>0</td>
      <td>0</td>
      <td>0</td>
      <td>0</td>
      <td>0</td>
      <td>0</td>
      <td>0</td>
      <td>0</td>
      <td>0</td>
      <td>0</td>
      <td>0</td>
    </tr>
  </tbody>
</table>
</div>
</div>

</div>

</div>
</div>

</div>
<div class="cell border-box-sizing text_cell rendered"><div class="prompt input_prompt">
</div><div class="inner_cell">
<div class="text_cell_render border-box-sizing rendered_html">
<p>Let's find out the top 10 food categories in NYC</p>

</div>
</div>
</div>
<div class="cell border-box-sizing code_cell rendered">
<div class="input">
<div class="prompt input_prompt">In&nbsp;[41]:</div>
<div class="inner_cell">
    <div class="input_area">
<div class=" highlight hl-ipython3"><pre><span></span><span class="n">venue_counts_described</span> <span class="o">=</span> <span class="n">venue_counts</span><span class="o">.</span><span class="n">describe</span><span class="p">()</span><span class="o">.</span><span class="n">transpose</span><span class="p">()</span>
</pre></div>

    </div>
</div>
</div>

</div>
<div class="cell border-box-sizing code_cell rendered">
<div class="input">
<div class="prompt input_prompt">In&nbsp;[42]:</div>
<div class="inner_cell">
    <div class="input_area">
<div class=" highlight hl-ipython3"><pre><span></span><span class="n">venue_top10</span> <span class="o">=</span> <span class="n">venue_counts_described</span><span class="o">.</span><span class="n">sort_values</span><span class="p">(</span><span class="s1">'max'</span><span class="p">,</span> <span class="n">ascending</span><span class="o">=</span><span class="kc">False</span><span class="p">)[</span><span class="mi">0</span><span class="p">:</span><span class="mi">10</span><span class="p">]</span>
<span class="n">venue_top10</span>
</pre></div>

    </div>
</div>
</div>

<div class="output_wrapper">
<div class="output">


<div class="output_area">

    <div class="prompt output_prompt">Out[42]:</div>



<div class="output_html rendered_html output_subarea output_execute_result">
<div>
<style scoped="">
    .dataframe tbody tr th:only-of-type {
        vertical-align: middle;
    }

    .dataframe tbody tr th {
        vertical-align: top;
    }

    .dataframe thead th {
        text-align: right;
    }
</style>
<table border="1" class="dataframe">
  <thead>
    <tr style="text-align: right;">
      <th></th>
      <th>count</th>
      <th>mean</th>
      <th>std</th>
      <th>min</th>
      <th>25%</th>
      <th>50%</th>
      <th>75%</th>
      <th>max</th>
    </tr>
  </thead>
  <tbody>
    <tr>
      <th>Korean Restaurant</th>
      <td>302.0</td>
      <td>0.291391</td>
      <td>1.828491</td>
      <td>0.0</td>
      <td>0.0</td>
      <td>0.0</td>
      <td>0.0</td>
      <td>29.0</td>
    </tr>
    <tr>
      <th>Chinese Restaurant</th>
      <td>302.0</td>
      <td>2.049669</td>
      <td>2.083199</td>
      <td>0.0</td>
      <td>1.0</td>
      <td>2.0</td>
      <td>3.0</td>
      <td>17.0</td>
    </tr>
    <tr>
      <th>Caribbean Restaurant</th>
      <td>302.0</td>
      <td>1.188742</td>
      <td>2.785965</td>
      <td>0.0</td>
      <td>0.0</td>
      <td>0.0</td>
      <td>1.0</td>
      <td>16.0</td>
    </tr>
    <tr>
      <th>Indian Restaurant</th>
      <td>302.0</td>
      <td>0.324503</td>
      <td>1.123885</td>
      <td>0.0</td>
      <td>0.0</td>
      <td>0.0</td>
      <td>0.0</td>
      <td>15.0</td>
    </tr>
    <tr>
      <th>Fast Food Restaurant</th>
      <td>302.0</td>
      <td>2.198675</td>
      <td>2.054150</td>
      <td>0.0</td>
      <td>1.0</td>
      <td>2.0</td>
      <td>3.0</td>
      <td>11.0</td>
    </tr>
    <tr>
      <th>Italian Restaurant</th>
      <td>302.0</td>
      <td>1.801325</td>
      <td>1.983386</td>
      <td>0.0</td>
      <td>0.0</td>
      <td>1.0</td>
      <td>3.0</td>
      <td>11.0</td>
    </tr>
    <tr>
      <th>Pizza Place</th>
      <td>302.0</td>
      <td>3.569536</td>
      <td>2.190314</td>
      <td>0.0</td>
      <td>2.0</td>
      <td>3.0</td>
      <td>5.0</td>
      <td>10.0</td>
    </tr>
    <tr>
      <th>Seafood Restaurant</th>
      <td>302.0</td>
      <td>0.513245</td>
      <td>0.849950</td>
      <td>0.0</td>
      <td>0.0</td>
      <td>0.0</td>
      <td>1.0</td>
      <td>7.0</td>
    </tr>
    <tr>
      <th>New American Restaurant</th>
      <td>302.0</td>
      <td>0.357616</td>
      <td>0.745702</td>
      <td>0.0</td>
      <td>0.0</td>
      <td>0.0</td>
      <td>0.0</td>
      <td>6.0</td>
    </tr>
    <tr>
      <th>Thai Restaurant</th>
      <td>302.0</td>
      <td>0.311258</td>
      <td>0.726210</td>
      <td>0.0</td>
      <td>0.0</td>
      <td>0.0</td>
      <td>0.0</td>
      <td>6.0</td>
    </tr>
  </tbody>
</table>
</div>
</div>

</div>

</div>
</div>

</div>
<div class="cell border-box-sizing code_cell rendered">
<div class="input">
<div class="prompt input_prompt">In&nbsp;[43]:</div>
<div class="inner_cell">
    <div class="input_area">
<div class=" highlight hl-ipython3"><pre><span></span><span class="n">venue_top10_list</span> <span class="o">=</span> <span class="n">venue_top10</span><span class="o">.</span><span class="n">index</span><span class="o">.</span><span class="n">values</span><span class="o">.</span><span class="n">tolist</span><span class="p">()</span>
</pre></div>

    </div>
</div>
</div>

</div>
<div class="cell border-box-sizing code_cell rendered">
<div class="input">
<div class="prompt input_prompt">In&nbsp;[44]:</div>
<div class="inner_cell">
    <div class="input_area">
<div class=" highlight hl-ipython3"><pre><span></span><span class="kn">import</span> <span class="nn">seaborn</span> <span class="k">as</span> <span class="nn">sns</span>
<span class="kn">import</span> <span class="nn">matplotlib.pyplot</span> <span class="k">as</span> <span class="nn">plt</span>

<span class="n">fig</span><span class="p">,</span> <span class="n">axes</span> <span class="o">=</span><span class="n">plt</span><span class="o">.</span><span class="n">subplots</span><span class="p">(</span><span class="mi">5</span><span class="p">,</span> <span class="mi">2</span><span class="p">,</span> <span class="n">figsize</span><span class="o">=</span><span class="p">(</span><span class="mi">20</span><span class="p">,</span><span class="mi">20</span><span class="p">),</span> <span class="n">sharex</span><span class="o">=</span><span class="kc">True</span><span class="p">)</span>
<span class="n">axes</span> <span class="o">=</span> <span class="n">axes</span><span class="o">.</span><span class="n">flatten</span><span class="p">()</span>

<span class="k">for</span> <span class="n">ax</span><span class="p">,</span> <span class="n">category</span> <span class="ow">in</span> <span class="nb">zip</span><span class="p">(</span><span class="n">axes</span><span class="p">,</span> <span class="n">venue_top10_list</span><span class="p">):</span>
    <span class="n">data</span> <span class="o">=</span> <span class="n">venue_counts</span><span class="p">[[</span><span class="n">category</span><span class="p">]]</span><span class="o">.</span><span class="n">sort_values</span><span class="p">([</span><span class="n">category</span><span class="p">],</span> <span class="n">ascending</span><span class="o">=</span><span class="kc">False</span><span class="p">)[</span><span class="mi">0</span><span class="p">:</span><span class="mi">10</span><span class="p">]</span>
    <span class="n">pal</span> <span class="o">=</span> <span class="n">sns</span><span class="o">.</span><span class="n">color_palette</span><span class="p">(</span><span class="s2">"Blues"</span><span class="p">,</span> <span class="nb">len</span><span class="p">(</span><span class="n">data</span><span class="p">))</span>
    <span class="n">sns</span><span class="o">.</span><span class="n">barplot</span><span class="p">(</span><span class="n">x</span><span class="o">=</span><span class="n">category</span><span class="p">,</span> <span class="n">y</span><span class="o">=</span><span class="n">data</span><span class="o">.</span><span class="n">index</span><span class="p">,</span> <span class="n">data</span><span class="o">=</span><span class="n">data</span><span class="p">,</span> <span class="n">ax</span><span class="o">=</span><span class="n">ax</span><span class="p">,</span> <span class="n">palette</span><span class="o">=</span><span class="n">np</span><span class="o">.</span><span class="n">array</span><span class="p">(</span><span class="n">pal</span><span class="p">[::</span><span class="o">-</span><span class="mi">1</span><span class="p">]))</span>

<span class="n">plt</span><span class="o">.</span><span class="n">tight_layout</span><span class="p">()</span>
<span class="n">plt</span><span class="o">.</span><span class="n">show</span><span class="p">();</span>
</pre></div>

    </div>
</div>
</div>

<div class="output_wrapper">
<div class="output">


<div class="output_area">

    <div class="prompt"></div>




<div class="output_text output_subarea ">
<pre>&lt;Figure size 2000x2000 with 10 Axes&gt;</pre>
</div>

</div>

</div>
</div>

</div>
<div class="cell border-box-sizing text_cell rendered"><div class="prompt input_prompt">
</div><div class="inner_cell">
<div class="text_cell_render border-box-sizing rendered_html">
<h4 id="Next,-let&#39;s-group-rows-by-neighborhood-and-by-taking-the-mean-of-the-frequency-of-occurrence-of-each-category">Next, let's group rows by neighborhood and by taking the mean of the frequency of occurrence of each category<a class="anchor-link" href="https://nbviewer.jupyter.org/github/eklavyasaxena/The-Battle-of-Neighborhoods/blob/master/Exploring-the-Taste-of-NYC-Neighborhoods/Project_Notebook.ipynb#Next,-let&#39;s-group-rows-by-neighborhood-and-by-taking-the-mean-of-the-frequency-of-occurrence-of-each-category">¶</a></h4>
</div>
</div>
</div>
<div class="cell border-box-sizing code_cell rendered">
<div class="input">
<div class="prompt input_prompt">In&nbsp;[45]:</div>
<div class="inner_cell">
    <div class="input_area">
<div class=" highlight hl-ipython3"><pre><span></span><span class="n">nyc_grouped</span> <span class="o">=</span> <span class="n">nyc_onehot</span><span class="o">.</span><span class="n">groupby</span><span class="p">(</span><span class="s1">'Neighborhood'</span><span class="p">)</span><span class="o">.</span><span class="n">mean</span><span class="p">()</span><span class="o">.</span><span class="n">reset_index</span><span class="p">()</span>
<span class="n">nyc_grouped</span><span class="o">.</span><span class="n">head</span><span class="p">()</span>
</pre></div>

    </div>
</div>
</div>

<div class="output_wrapper">
<div class="output">


<div class="output_area">

    <div class="prompt output_prompt">Out[45]:</div>



<div class="output_html rendered_html output_subarea output_execute_result">
<div>
<style scoped="">
    .dataframe tbody tr th:only-of-type {
        vertical-align: middle;
    }

    .dataframe tbody tr th {
        vertical-align: top;
    }

    .dataframe thead th {
        text-align: right;
    }
</style>
<table border="1" class="dataframe">
  <thead>
    <tr style="text-align: right;">
      <th></th>
      <th>Neighborhood</th>
      <th>Afghan Restaurant</th>
      <th>African Restaurant</th>
      <th>American Restaurant</th>
      <th>Arepa Restaurant</th>
      <th>Argentinian Restaurant</th>
      <th>Asian Restaurant</th>
      <th>Australian Restaurant</th>
      <th>Austrian Restaurant</th>
      <th>BBQ Joint</th>
      <th>Brazilian Restaurant</th>
      <th>Burmese Restaurant</th>
      <th>Burrito Place</th>
      <th>Cajun / Creole Restaurant</th>
      <th>Cantonese Restaurant</th>
      <th>Caribbean Restaurant</th>
      <th>Caucasian Restaurant</th>
      <th>Chinese Restaurant</th>
      <th>Colombian Restaurant</th>
      <th>Cuban Restaurant</th>
      <th>Dim Sum Restaurant</th>
      <th>Dosa Place</th>
      <th>Dumpling Restaurant</th>
      <th>Eastern European Restaurant</th>
      <th>Empanada Restaurant</th>
      <th>English Restaurant</th>
      <th>Ethiopian Restaurant</th>
      <th>Falafel Restaurant</th>
      <th>Fast Food Restaurant</th>
      <th>Filipino Restaurant</th>
      <th>French Restaurant</th>
      <th>Fried Chicken Joint</th>
      <th>German Restaurant</th>
      <th>Greek Restaurant</th>
      <th>Halal Restaurant</th>
      <th>Hawaiian Restaurant</th>
      <th>Himalayan Restaurant</th>
      <th>Hong Kong Restaurant</th>
      <th>Indian Chinese Restaurant</th>
      <th>Indian Restaurant</th>
      <th>Israeli Restaurant</th>
      <th>Italian Restaurant</th>
      <th>Japanese Restaurant</th>
      <th>Jewish Restaurant</th>
      <th>Kebab Restaurant</th>
      <th>Korean Restaurant</th>
      <th>Kosher Restaurant</th>
      <th>Latin American Restaurant</th>
      <th>Lebanese Restaurant</th>
      <th>Malay Restaurant</th>
      <th>Mediterranean Restaurant</th>
      <th>Mexican Restaurant</th>
      <th>Middle Eastern Restaurant</th>
      <th>Modern European Restaurant</th>
      <th>Modern Greek Restaurant</th>
      <th>Moroccan Restaurant</th>
      <th>New American Restaurant</th>
      <th>Noodle House</th>
      <th>North Indian Restaurant</th>
      <th>Paella Restaurant</th>
      <th>Pakistani Restaurant</th>
      <th>Persian Restaurant</th>
      <th>Peruvian Restaurant</th>
      <th>Pizza Place</th>
      <th>Polish Restaurant</th>
      <th>Portuguese Restaurant</th>
      <th>Ramen Restaurant</th>
      <th>Russian Restaurant</th>
      <th>Salvadoran Restaurant</th>
      <th>Seafood Restaurant</th>
      <th>Shabu-Shabu Restaurant</th>
      <th>Shanghai Restaurant</th>
      <th>South American Restaurant</th>
      <th>South Indian Restaurant</th>
      <th>Southern / Soul Food Restaurant</th>
      <th>Spanish Restaurant</th>
      <th>Sri Lankan Restaurant</th>
      <th>Steakhouse</th>
      <th>Sushi Restaurant</th>
      <th>Szechuan Restaurant</th>
      <th>Taco Place</th>
      <th>Taiwanese Restaurant</th>
      <th>Tapas Restaurant</th>
      <th>Tex-Mex Restaurant</th>
      <th>Thai Restaurant</th>
      <th>Tibetan Restaurant</th>
      <th>Turkish Restaurant</th>
      <th>Udon Restaurant</th>
      <th>Ukrainian Restaurant</th>
      <th>Varenyky restaurant</th>
      <th>Vegetarian / Vegan Restaurant</th>
      <th>Venezuelan Restaurant</th>
      <th>Vietnamese Restaurant</th>
    </tr>
  </thead>
  <tbody>
    <tr>
      <th>0</th>
      <td>Allerton</td>
      <td>0.0</td>
      <td>0.0</td>
      <td>0.000000</td>
      <td>0.0</td>
      <td>0.0</td>
      <td>0.000000</td>
      <td>0.0</td>
      <td>0.0</td>
      <td>0.000000</td>
      <td>0.0</td>
      <td>0.0</td>
      <td>0.0</td>
      <td>0.0</td>
      <td>0.0</td>
      <td>0.120000</td>
      <td>0.0</td>
      <td>0.160000</td>
      <td>0.0</td>
      <td>0.0</td>
      <td>0.0</td>
      <td>0.0</td>
      <td>0.0</td>
      <td>0.0</td>
      <td>0.0</td>
      <td>0.0</td>
      <td>0.0</td>
      <td>0.0</td>
      <td>0.120000</td>
      <td>0.0</td>
      <td>0.0</td>
      <td>0.160000</td>
      <td>0.0</td>
      <td>0.0</td>
      <td>0.0</td>
      <td>0.0</td>
      <td>0.0</td>
      <td>0.0</td>
      <td>0.0</td>
      <td>0.0</td>
      <td>0.0</td>
      <td>0.000000</td>
      <td>0.000000</td>
      <td>0.0</td>
      <td>0.0</td>
      <td>0.0</td>
      <td>0.0</td>
      <td>0.000000</td>
      <td>0.0</td>
      <td>0.0</td>
      <td>0.000000</td>
      <td>0.200000</td>
      <td>0.000000</td>
      <td>0.0</td>
      <td>0.0</td>
      <td>0.0</td>
      <td>0.0</td>
      <td>0.0</td>
      <td>0.0</td>
      <td>0.0</td>
      <td>0.0</td>
      <td>0.0</td>
      <td>0.000000</td>
      <td>0.160000</td>
      <td>0.000000</td>
      <td>0.0</td>
      <td>0.0</td>
      <td>0.0</td>
      <td>0.0</td>
      <td>0.04</td>
      <td>0.0</td>
      <td>0.0</td>
      <td>0.0</td>
      <td>0.0</td>
      <td>0.0</td>
      <td>0.040000</td>
      <td>0.0</td>
      <td>0.000000</td>
      <td>0.000000</td>
      <td>0.0</td>
      <td>0.0</td>
      <td>0.0</td>
      <td>0.0</td>
      <td>0.0</td>
      <td>0.0</td>
      <td>0.0</td>
      <td>0.0</td>
      <td>0.0</td>
      <td>0.0</td>
      <td>0.0</td>
      <td>0.0</td>
      <td>0.0</td>
      <td>0.0</td>
    </tr>
    <tr>
      <th>1</th>
      <td>Annadale</td>
      <td>0.0</td>
      <td>0.0</td>
      <td>0.176471</td>
      <td>0.0</td>
      <td>0.0</td>
      <td>0.000000</td>
      <td>0.0</td>
      <td>0.0</td>
      <td>0.000000</td>
      <td>0.0</td>
      <td>0.0</td>
      <td>0.0</td>
      <td>0.0</td>
      <td>0.0</td>
      <td>0.000000</td>
      <td>0.0</td>
      <td>0.058824</td>
      <td>0.0</td>
      <td>0.0</td>
      <td>0.0</td>
      <td>0.0</td>
      <td>0.0</td>
      <td>0.0</td>
      <td>0.0</td>
      <td>0.0</td>
      <td>0.0</td>
      <td>0.0</td>
      <td>0.000000</td>
      <td>0.0</td>
      <td>0.0</td>
      <td>0.000000</td>
      <td>0.0</td>
      <td>0.0</td>
      <td>0.0</td>
      <td>0.0</td>
      <td>0.0</td>
      <td>0.0</td>
      <td>0.0</td>
      <td>0.0</td>
      <td>0.0</td>
      <td>0.117647</td>
      <td>0.058824</td>
      <td>0.0</td>
      <td>0.0</td>
      <td>0.0</td>
      <td>0.0</td>
      <td>0.000000</td>
      <td>0.0</td>
      <td>0.0</td>
      <td>0.000000</td>
      <td>0.000000</td>
      <td>0.058824</td>
      <td>0.0</td>
      <td>0.0</td>
      <td>0.0</td>
      <td>0.0</td>
      <td>0.0</td>
      <td>0.0</td>
      <td>0.0</td>
      <td>0.0</td>
      <td>0.0</td>
      <td>0.000000</td>
      <td>0.352941</td>
      <td>0.000000</td>
      <td>0.0</td>
      <td>0.0</td>
      <td>0.0</td>
      <td>0.0</td>
      <td>0.00</td>
      <td>0.0</td>
      <td>0.0</td>
      <td>0.0</td>
      <td>0.0</td>
      <td>0.0</td>
      <td>0.000000</td>
      <td>0.0</td>
      <td>0.000000</td>
      <td>0.176471</td>
      <td>0.0</td>
      <td>0.0</td>
      <td>0.0</td>
      <td>0.0</td>
      <td>0.0</td>
      <td>0.0</td>
      <td>0.0</td>
      <td>0.0</td>
      <td>0.0</td>
      <td>0.0</td>
      <td>0.0</td>
      <td>0.0</td>
      <td>0.0</td>
      <td>0.0</td>
    </tr>
    <tr>
      <th>2</th>
      <td>Arden Heights</td>
      <td>0.0</td>
      <td>0.0</td>
      <td>0.176471</td>
      <td>0.0</td>
      <td>0.0</td>
      <td>0.000000</td>
      <td>0.0</td>
      <td>0.0</td>
      <td>0.058824</td>
      <td>0.0</td>
      <td>0.0</td>
      <td>0.0</td>
      <td>0.0</td>
      <td>0.0</td>
      <td>0.000000</td>
      <td>0.0</td>
      <td>0.117647</td>
      <td>0.0</td>
      <td>0.0</td>
      <td>0.0</td>
      <td>0.0</td>
      <td>0.0</td>
      <td>0.0</td>
      <td>0.0</td>
      <td>0.0</td>
      <td>0.0</td>
      <td>0.0</td>
      <td>0.000000</td>
      <td>0.0</td>
      <td>0.0</td>
      <td>0.000000</td>
      <td>0.0</td>
      <td>0.0</td>
      <td>0.0</td>
      <td>0.0</td>
      <td>0.0</td>
      <td>0.0</td>
      <td>0.0</td>
      <td>0.0</td>
      <td>0.0</td>
      <td>0.117647</td>
      <td>0.000000</td>
      <td>0.0</td>
      <td>0.0</td>
      <td>0.0</td>
      <td>0.0</td>
      <td>0.000000</td>
      <td>0.0</td>
      <td>0.0</td>
      <td>0.000000</td>
      <td>0.117647</td>
      <td>0.000000</td>
      <td>0.0</td>
      <td>0.0</td>
      <td>0.0</td>
      <td>0.0</td>
      <td>0.0</td>
      <td>0.0</td>
      <td>0.0</td>
      <td>0.0</td>
      <td>0.0</td>
      <td>0.000000</td>
      <td>0.294118</td>
      <td>0.000000</td>
      <td>0.0</td>
      <td>0.0</td>
      <td>0.0</td>
      <td>0.0</td>
      <td>0.00</td>
      <td>0.0</td>
      <td>0.0</td>
      <td>0.0</td>
      <td>0.0</td>
      <td>0.0</td>
      <td>0.000000</td>
      <td>0.0</td>
      <td>0.000000</td>
      <td>0.117647</td>
      <td>0.0</td>
      <td>0.0</td>
      <td>0.0</td>
      <td>0.0</td>
      <td>0.0</td>
      <td>0.0</td>
      <td>0.0</td>
      <td>0.0</td>
      <td>0.0</td>
      <td>0.0</td>
      <td>0.0</td>
      <td>0.0</td>
      <td>0.0</td>
      <td>0.0</td>
    </tr>
    <tr>
      <th>3</th>
      <td>Arlington</td>
      <td>0.0</td>
      <td>0.0</td>
      <td>0.105263</td>
      <td>0.0</td>
      <td>0.0</td>
      <td>0.052632</td>
      <td>0.0</td>
      <td>0.0</td>
      <td>0.000000</td>
      <td>0.0</td>
      <td>0.0</td>
      <td>0.0</td>
      <td>0.0</td>
      <td>0.0</td>
      <td>0.052632</td>
      <td>0.0</td>
      <td>0.052632</td>
      <td>0.0</td>
      <td>0.0</td>
      <td>0.0</td>
      <td>0.0</td>
      <td>0.0</td>
      <td>0.0</td>
      <td>0.0</td>
      <td>0.0</td>
      <td>0.0</td>
      <td>0.0</td>
      <td>0.157895</td>
      <td>0.0</td>
      <td>0.0</td>
      <td>0.052632</td>
      <td>0.0</td>
      <td>0.0</td>
      <td>0.0</td>
      <td>0.0</td>
      <td>0.0</td>
      <td>0.0</td>
      <td>0.0</td>
      <td>0.0</td>
      <td>0.0</td>
      <td>0.000000</td>
      <td>0.000000</td>
      <td>0.0</td>
      <td>0.0</td>
      <td>0.0</td>
      <td>0.0</td>
      <td>0.052632</td>
      <td>0.0</td>
      <td>0.0</td>
      <td>0.000000</td>
      <td>0.000000</td>
      <td>0.000000</td>
      <td>0.0</td>
      <td>0.0</td>
      <td>0.0</td>
      <td>0.0</td>
      <td>0.0</td>
      <td>0.0</td>
      <td>0.0</td>
      <td>0.0</td>
      <td>0.0</td>
      <td>0.105263</td>
      <td>0.210526</td>
      <td>0.052632</td>
      <td>0.0</td>
      <td>0.0</td>
      <td>0.0</td>
      <td>0.0</td>
      <td>0.00</td>
      <td>0.0</td>
      <td>0.0</td>
      <td>0.0</td>
      <td>0.0</td>
      <td>0.0</td>
      <td>0.105263</td>
      <td>0.0</td>
      <td>0.000000</td>
      <td>0.000000</td>
      <td>0.0</td>
      <td>0.0</td>
      <td>0.0</td>
      <td>0.0</td>
      <td>0.0</td>
      <td>0.0</td>
      <td>0.0</td>
      <td>0.0</td>
      <td>0.0</td>
      <td>0.0</td>
      <td>0.0</td>
      <td>0.0</td>
      <td>0.0</td>
      <td>0.0</td>
    </tr>
    <tr>
      <th>4</th>
      <td>Arrochar</td>
      <td>0.0</td>
      <td>0.0</td>
      <td>0.000000</td>
      <td>0.0</td>
      <td>0.0</td>
      <td>0.000000</td>
      <td>0.0</td>
      <td>0.0</td>
      <td>0.000000</td>
      <td>0.0</td>
      <td>0.0</td>
      <td>0.0</td>
      <td>0.0</td>
      <td>0.0</td>
      <td>0.000000</td>
      <td>0.0</td>
      <td>0.111111</td>
      <td>0.0</td>
      <td>0.0</td>
      <td>0.0</td>
      <td>0.0</td>
      <td>0.0</td>
      <td>0.0</td>
      <td>0.0</td>
      <td>0.0</td>
      <td>0.0</td>
      <td>0.0</td>
      <td>0.000000</td>
      <td>0.0</td>
      <td>0.0</td>
      <td>0.000000</td>
      <td>0.0</td>
      <td>0.0</td>
      <td>0.0</td>
      <td>0.0</td>
      <td>0.0</td>
      <td>0.0</td>
      <td>0.0</td>
      <td>0.0</td>
      <td>0.0</td>
      <td>0.222222</td>
      <td>0.055556</td>
      <td>0.0</td>
      <td>0.0</td>
      <td>0.0</td>
      <td>0.0</td>
      <td>0.055556</td>
      <td>0.0</td>
      <td>0.0</td>
      <td>0.055556</td>
      <td>0.000000</td>
      <td>0.111111</td>
      <td>0.0</td>
      <td>0.0</td>
      <td>0.0</td>
      <td>0.0</td>
      <td>0.0</td>
      <td>0.0</td>
      <td>0.0</td>
      <td>0.0</td>
      <td>0.0</td>
      <td>0.000000</td>
      <td>0.222222</td>
      <td>0.055556</td>
      <td>0.0</td>
      <td>0.0</td>
      <td>0.0</td>
      <td>0.0</td>
      <td>0.00</td>
      <td>0.0</td>
      <td>0.0</td>
      <td>0.0</td>
      <td>0.0</td>
      <td>0.0</td>
      <td>0.000000</td>
      <td>0.0</td>
      <td>0.111111</td>
      <td>0.000000</td>
      <td>0.0</td>
      <td>0.0</td>
      <td>0.0</td>
      <td>0.0</td>
      <td>0.0</td>
      <td>0.0</td>
      <td>0.0</td>
      <td>0.0</td>
      <td>0.0</td>
      <td>0.0</td>
      <td>0.0</td>
      <td>0.0</td>
      <td>0.0</td>
      <td>0.0</td>
    </tr>
  </tbody>
</table>
</div>
</div>

</div>

</div>
</div>

</div>
<div class="cell border-box-sizing text_cell rendered"><div class="prompt input_prompt">
</div><div class="inner_cell">
<div class="text_cell_render border-box-sizing rendered_html">
<h4 id="Let&#39;s-confirm-the-new-size">Let's confirm the new size<a class="anchor-link" href="https://nbviewer.jupyter.org/github/eklavyasaxena/The-Battle-of-Neighborhoods/blob/master/Exploring-the-Taste-of-NYC-Neighborhoods/Project_Notebook.ipynb#Let&#39;s-confirm-the-new-size">¶</a></h4>
</div>
</div>
</div>
<div class="cell border-box-sizing code_cell rendered">
<div class="input">
<div class="prompt input_prompt">In&nbsp;[46]:</div>
<div class="inner_cell">
    <div class="input_area">
<div class=" highlight hl-ipython3"><pre><span></span><span class="n">nyc_grouped</span><span class="o">.</span><span class="n">shape</span>
</pre></div>

    </div>
</div>
</div>

<div class="output_wrapper">
<div class="output">


<div class="output_area">

    <div class="prompt output_prompt">Out[46]:</div>




<div class="output_text output_subarea output_execute_result">
<pre>(302, 93)</pre>
</div>

</div>

</div>
</div>

</div>
<div class="cell border-box-sizing text_cell rendered"><div class="prompt input_prompt">
</div><div class="inner_cell">
<div class="text_cell_render border-box-sizing rendered_html">
<h4 id="Let&#39;s-write-a-function-to-sort-the-venues-in-descending-order.">Let's write a function to sort the venues in descending order.<a class="anchor-link" href="https://nbviewer.jupyter.org/github/eklavyasaxena/The-Battle-of-Neighborhoods/blob/master/Exploring-the-Taste-of-NYC-Neighborhoods/Project_Notebook.ipynb#Let&#39;s-write-a-function-to-sort-the-venues-in-descending-order.">¶</a></h4>
</div>
</div>
</div>
<div class="cell border-box-sizing code_cell rendered">
<div class="input">
<div class="prompt input_prompt">In&nbsp;[47]:</div>
<div class="inner_cell">
    <div class="input_area">
<div class=" highlight hl-ipython3"><pre><span></span><span class="k">def</span> <span class="nf">return_most_common_venues</span><span class="p">(</span><span class="n">row</span><span class="p">,</span> <span class="n">num_top_venues</span><span class="p">):</span>
    <span class="n">row_categories</span> <span class="o">=</span> <span class="n">row</span><span class="o">.</span><span class="n">iloc</span><span class="p">[</span><span class="mi">1</span><span class="p">:]</span>
    <span class="n">row_categories_sorted</span> <span class="o">=</span> <span class="n">row_categories</span><span class="o">.</span><span class="n">sort_values</span><span class="p">(</span><span class="n">ascending</span><span class="o">=</span><span class="kc">False</span><span class="p">)</span>
    
    <span class="k">return</span> <span class="n">row_categories_sorted</span><span class="o">.</span><span class="n">index</span><span class="o">.</span><span class="n">values</span><span class="p">[</span><span class="mi">0</span><span class="p">:</span><span class="n">num_top_venues</span><span class="p">]</span>
</pre></div>

    </div>
</div>
</div>

</div>
<div class="cell border-box-sizing text_cell rendered"><div class="prompt input_prompt">
</div><div class="inner_cell">
<div class="text_cell_render border-box-sizing rendered_html">
<p>Now let's create the new dataframe and display the top 5 venues for each neighborhood.</p>

</div>
</div>
</div>
<div class="cell border-box-sizing code_cell rendered">
<div class="input">
<div class="prompt input_prompt">In&nbsp;[48]:</div>
<div class="inner_cell">
    <div class="input_area">
<div class=" highlight hl-ipython3"><pre><span></span><span class="n">num_top_venues</span> <span class="o">=</span> <span class="mi">5</span>

<span class="n">indicators</span> <span class="o">=</span> <span class="p">[</span><span class="s1">'st'</span><span class="p">,</span> <span class="s1">'nd'</span><span class="p">,</span> <span class="s1">'rd'</span><span class="p">]</span>

<span class="c1"># create columns according to number of top venues</span>
<span class="n">columns</span> <span class="o">=</span> <span class="p">[</span><span class="s1">'Neighborhood'</span><span class="p">]</span>
<span class="k">for</span> <span class="n">ind</span> <span class="ow">in</span> <span class="n">np</span><span class="o">.</span><span class="n">arange</span><span class="p">(</span><span class="n">num_top_venues</span><span class="p">):</span>
    <span class="k">try</span><span class="p">:</span>
        <span class="n">columns</span><span class="o">.</span><span class="n">append</span><span class="p">(</span><span class="s1">'</span><span class="si">{}{}</span><span class="s1"> Most Common Venue'</span><span class="o">.</span><span class="n">format</span><span class="p">(</span><span class="n">ind</span><span class="o">+</span><span class="mi">1</span><span class="p">,</span> <span class="n">indicators</span><span class="p">[</span><span class="n">ind</span><span class="p">]))</span>
    <span class="k">except</span><span class="p">:</span>
        <span class="n">columns</span><span class="o">.</span><span class="n">append</span><span class="p">(</span><span class="s1">'</span><span class="si">{}</span><span class="s1">th Most Common Venue'</span><span class="o">.</span><span class="n">format</span><span class="p">(</span><span class="n">ind</span><span class="o">+</span><span class="mi">1</span><span class="p">))</span>    
</pre></div>

    </div>
</div>
</div>

</div>
<div class="cell border-box-sizing code_cell rendered">
<div class="input">
<div class="prompt input_prompt">In&nbsp;[49]:</div>
<div class="inner_cell">
    <div class="input_area">
<div class=" highlight hl-ipython3"><pre><span></span><span class="c1"># create a new dataframe</span>
<span class="n">neighborhoods_venues_sorted</span> <span class="o">=</span> <span class="n">pd</span><span class="o">.</span><span class="n">DataFrame</span><span class="p">(</span><span class="n">columns</span><span class="o">=</span><span class="n">columns</span><span class="p">)</span>
<span class="n">neighborhoods_venues_sorted</span><span class="p">[</span><span class="s1">'Neighborhood'</span><span class="p">]</span> <span class="o">=</span> <span class="n">nyc_grouped</span><span class="p">[</span><span class="s1">'Neighborhood'</span><span class="p">]</span>
</pre></div>

    </div>
</div>
</div>

</div>
<div class="cell border-box-sizing code_cell rendered">
<div class="input">
<div class="prompt input_prompt">In&nbsp;[50]:</div>
<div class="inner_cell">
    <div class="input_area">
<div class=" highlight hl-ipython3"><pre><span></span><span class="k">for</span> <span class="n">ind</span> <span class="ow">in</span> <span class="n">np</span><span class="o">.</span><span class="n">arange</span><span class="p">(</span><span class="n">nyc_grouped</span><span class="o">.</span><span class="n">shape</span><span class="p">[</span><span class="mi">0</span><span class="p">]):</span>
    <span class="n">neighborhoods_venues_sorted</span><span class="o">.</span><span class="n">iloc</span><span class="p">[</span><span class="n">ind</span><span class="p">,</span> <span class="mi">1</span><span class="p">:]</span> <span class="o">=</span> <span class="n">return_most_common_venues</span><span class="p">(</span><span class="n">nyc_grouped</span><span class="o">.</span><span class="n">iloc</span><span class="p">[</span><span class="n">ind</span><span class="p">,</span> <span class="p">:],</span> <span class="n">num_top_venues</span><span class="p">)</span>

<span class="n">neighborhoods_venues_sorted</span><span class="o">.</span><span class="n">head</span><span class="p">()</span>
</pre></div>

    </div>
</div>
</div>

<div class="output_wrapper">
<div class="output">


<div class="output_area">

    <div class="prompt output_prompt">Out[50]:</div>



<div class="output_html rendered_html output_subarea output_execute_result">
<div>
<style scoped="">
    .dataframe tbody tr th:only-of-type {
        vertical-align: middle;
    }

    .dataframe tbody tr th {
        vertical-align: top;
    }

    .dataframe thead th {
        text-align: right;
    }
</style>
<table border="1" class="dataframe">
  <thead>
    <tr style="text-align: right;">
      <th></th>
      <th>Neighborhood</th>
      <th>1st Most Common Venue</th>
      <th>2nd Most Common Venue</th>
      <th>3rd Most Common Venue</th>
      <th>4th Most Common Venue</th>
      <th>5th Most Common Venue</th>
    </tr>
  </thead>
  <tbody>
    <tr>
      <th>0</th>
      <td>Allerton</td>
      <td>Mexican Restaurant</td>
      <td>Fried Chicken Joint</td>
      <td>Pizza Place</td>
      <td>Chinese Restaurant</td>
      <td>Fast Food Restaurant</td>
    </tr>
    <tr>
      <th>1</th>
      <td>Annadale</td>
      <td>Pizza Place</td>
      <td>American Restaurant</td>
      <td>Sushi Restaurant</td>
      <td>Italian Restaurant</td>
      <td>Japanese Restaurant</td>
    </tr>
    <tr>
      <th>2</th>
      <td>Arden Heights</td>
      <td>Pizza Place</td>
      <td>American Restaurant</td>
      <td>Italian Restaurant</td>
      <td>Mexican Restaurant</td>
      <td>Chinese Restaurant</td>
    </tr>
    <tr>
      <th>3</th>
      <td>Arlington</td>
      <td>Pizza Place</td>
      <td>Fast Food Restaurant</td>
      <td>American Restaurant</td>
      <td>Peruvian Restaurant</td>
      <td>Spanish Restaurant</td>
    </tr>
    <tr>
      <th>4</th>
      <td>Arrochar</td>
      <td>Italian Restaurant</td>
      <td>Pizza Place</td>
      <td>Steakhouse</td>
      <td>Middle Eastern Restaurant</td>
      <td>Chinese Restaurant</td>
    </tr>
  </tbody>
</table>
</div>
</div>

</div>

</div>
</div>

</div>
<div class="cell border-box-sizing text_cell rendered"><div class="prompt input_prompt">
</div><div class="inner_cell">
<div class="text_cell_render border-box-sizing rendered_html">
<h3 id="Cluster-Neighborhoods">Cluster Neighborhoods<a class="anchor-link" href="https://nbviewer.jupyter.org/github/eklavyasaxena/The-Battle-of-Neighborhoods/blob/master/Exploring-the-Taste-of-NYC-Neighborhoods/Project_Notebook.ipynb#Cluster-Neighborhoods">¶</a></h3>
</div>
</div>
</div>
<div class="cell border-box-sizing text_cell rendered"><div class="prompt input_prompt">
</div><div class="inner_cell">
<div class="text_cell_render border-box-sizing rendered_html">
<p>Run <em>k</em>-means to count Neighborhoods for each cluster label for variable cluster size</p>

</div>
</div>
</div>
<div class="cell border-box-sizing code_cell rendered">
<div class="input">
<div class="prompt input_prompt">In&nbsp;[51]:</div>
<div class="inner_cell">
    <div class="input_area">
<div class=" highlight hl-ipython3"><pre><span></span><span class="n">nyc_grouped_clustering</span> <span class="o">=</span> <span class="n">nyc_grouped</span><span class="o">.</span><span class="n">drop</span><span class="p">(</span><span class="s1">'Neighborhood'</span><span class="p">,</span> <span class="mi">1</span><span class="p">)</span>
</pre></div>

    </div>
</div>
</div>

</div>
<div class="cell border-box-sizing text_cell rendered"><div class="prompt input_prompt">
</div><div class="inner_cell">
<div class="text_cell_render border-box-sizing rendered_html">
<h4 id="Determine-the-optimal-number-of-clusters-for-k-means-clustering">Determine the optimal number of clusters for k-means clustering<a class="anchor-link" href="https://nbviewer.jupyter.org/github/eklavyasaxena/The-Battle-of-Neighborhoods/blob/master/Exploring-the-Taste-of-NYC-Neighborhoods/Project_Notebook.ipynb#Determine-the-optimal-number-of-clusters-for-k-means-clustering">¶</a></h4>
</div>
</div>
</div>
<div class="cell border-box-sizing text_cell rendered"><div class="prompt input_prompt">
</div><div class="inner_cell">
<div class="text_cell_render border-box-sizing rendered_html">
<p><strong>The Elbow Method</strong> - calculate the sum of squared distances of samples to their closest cluster center for different values of k. The value of k after which there is no siginificant decrease in sum of squared distances is choosen.</p>

</div>
</div>
</div>
<div class="cell border-box-sizing code_cell rendered">
<div class="input">
<div class="prompt input_prompt">In&nbsp;[52]:</div>
<div class="inner_cell">
    <div class="input_area">
<div class=" highlight hl-ipython3"><pre><span></span><span class="n">sum_of_squared_distances</span> <span class="o">=</span> <span class="p">[]</span>
<span class="n">K</span> <span class="o">=</span> <span class="nb">range</span><span class="p">(</span><span class="mi">1</span><span class="p">,</span><span class="mi">50</span><span class="p">)</span>
<span class="k">for</span> <span class="n">k</span> <span class="ow">in</span> <span class="n">K</span><span class="p">:</span>
    <span class="nb">print</span><span class="p">(</span><span class="n">k</span><span class="p">,</span> <span class="n">end</span><span class="o">=</span><span class="s1">' '</span><span class="p">)</span>
    <span class="n">kmeans</span> <span class="o">=</span> <span class="n">KMeans</span><span class="p">(</span><span class="n">n_clusters</span><span class="o">=</span><span class="n">k</span><span class="p">)</span><span class="o">.</span><span class="n">fit</span><span class="p">(</span><span class="n">nyc_grouped_clustering</span><span class="p">)</span>
    <span class="n">sum_of_squared_distances</span><span class="o">.</span><span class="n">append</span><span class="p">(</span><span class="n">kmeans</span><span class="o">.</span><span class="n">inertia_</span><span class="p">)</span>
</pre></div>

    </div>
</div>
</div>

<div class="output_wrapper">
<div class="output">


<div class="output_area">

    <div class="prompt"></div>


<div class="output_subarea output_stream output_stdout output_text">
<pre>1 2 3 4 5 6 7 8 9 10 11 12 13 14 15 16 17 18 19 20 21 22 23 24 25 26 27 28 29 30 31 32 33 34 35 36 37 38 39 40 41 42 43 44 45 46 47 48 49 </pre>
</div>
</div>

</div>
</div>

</div>
<div class="cell border-box-sizing code_cell rendered">
<div class="input">
<div class="prompt input_prompt">In&nbsp;[53]:</div>
<div class="inner_cell">
    <div class="input_area">
<div class=" highlight hl-ipython3"><pre><span></span><span class="n">plt</span><span class="o">.</span><span class="n">plot</span><span class="p">(</span><span class="n">K</span><span class="p">,</span> <span class="n">sum_of_squared_distances</span><span class="p">,</span> <span class="s1">'bx-'</span><span class="p">)</span>
<span class="n">plt</span><span class="o">.</span><span class="n">xlabel</span><span class="p">(</span><span class="s1">'k'</span><span class="p">)</span>
<span class="n">plt</span><span class="o">.</span><span class="n">ylabel</span><span class="p">(</span><span class="s1">'sum_of_squared_distances'</span><span class="p">)</span>
<span class="n">plt</span><span class="o">.</span><span class="n">title</span><span class="p">(</span><span class="s1">'Elbow Method For Optimal k'</span><span class="p">);</span>
</pre></div>

    </div>
</div>
</div>

<div class="output_wrapper">
<div class="output">


<div class="output_area">

    <div class="prompt"></div>




<div class="output_png output_subarea ">
<img src="data:image/png;base64,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">
</div>

</div>

</div>
</div>

</div>
<div class="cell border-box-sizing text_cell rendered"><div class="prompt input_prompt">
</div><div class="inner_cell">
<div class="text_cell_render border-box-sizing rendered_html">
<p>Elbow method does not seem to help us to determine the optimal number of clusters. Let's use another method.</p>
<p><strong>The Silhouette Method</strong> - The silhouette value measures how similar a point is to its own cluster (cohesion) compared to other clusters (separation). Source: Wikipedia</p>

</div>
</div>
</div>
<div class="cell border-box-sizing code_cell rendered">
<div class="input">
<div class="prompt input_prompt">In&nbsp;[54]:</div>
<div class="inner_cell">
    <div class="input_area">
<div class=" highlight hl-ipython3"><pre><span></span><span class="kn">from</span> <span class="nn">sklearn.metrics</span> <span class="kn">import</span> <span class="n">silhouette_score</span>

<span class="n">sil</span> <span class="o">=</span> <span class="p">[]</span>
<span class="n">K_sil</span> <span class="o">=</span> <span class="nb">range</span><span class="p">(</span><span class="mi">2</span><span class="p">,</span><span class="mi">50</span><span class="p">)</span>
<span class="c1"># minimum 2 clusters required, to define dissimilarity</span>
<span class="k">for</span> <span class="n">k</span> <span class="ow">in</span> <span class="n">K_sil</span><span class="p">:</span>
    <span class="nb">print</span><span class="p">(</span><span class="n">k</span><span class="p">,</span> <span class="n">end</span><span class="o">=</span><span class="s1">' '</span><span class="p">)</span>
    <span class="n">kmeans</span> <span class="o">=</span> <span class="n">KMeans</span><span class="p">(</span><span class="n">n_clusters</span> <span class="o">=</span> <span class="n">k</span><span class="p">)</span><span class="o">.</span><span class="n">fit</span><span class="p">(</span><span class="n">nyc_grouped_clustering</span><span class="p">)</span>
    <span class="n">labels</span> <span class="o">=</span> <span class="n">kmeans</span><span class="o">.</span><span class="n">labels_</span>
    <span class="n">sil</span><span class="o">.</span><span class="n">append</span><span class="p">(</span><span class="n">silhouette_score</span><span class="p">(</span><span class="n">nyc_grouped_clustering</span><span class="p">,</span> <span class="n">labels</span><span class="p">,</span> <span class="n">metric</span> <span class="o">=</span> <span class="s1">'euclidean'</span><span class="p">))</span>
</pre></div>

    </div>
</div>
</div>

<div class="output_wrapper">
<div class="output">


<div class="output_area">

    <div class="prompt"></div>


<div class="output_subarea output_stream output_stdout output_text">
<pre>2 3 4 5 6 7 8 9 10 11 12 13 14 15 16 17 18 19 20 21 22 23 24 25 26 27 28 29 30 31 32 33 34 35 36 37 38 39 40 41 42 43 44 45 46 47 48 49 </pre>
</div>
</div>

</div>
</div>

</div>
<div class="cell border-box-sizing code_cell rendered">
<div class="input">
<div class="prompt input_prompt">In&nbsp;[55]:</div>
<div class="inner_cell">
    <div class="input_area">
<div class=" highlight hl-ipython3"><pre><span></span><span class="n">plt</span><span class="o">.</span><span class="n">plot</span><span class="p">(</span><span class="n">K_sil</span><span class="p">,</span> <span class="n">sil</span><span class="p">,</span> <span class="s1">'bx-'</span><span class="p">)</span>
<span class="n">plt</span><span class="o">.</span><span class="n">xlabel</span><span class="p">(</span><span class="s1">'k'</span><span class="p">)</span>
<span class="n">plt</span><span class="o">.</span><span class="n">ylabel</span><span class="p">(</span><span class="s1">'silhouette_score'</span><span class="p">)</span>
<span class="n">plt</span><span class="o">.</span><span class="n">title</span><span class="p">(</span><span class="s1">'Silhouette Method For Optimal k'</span><span class="p">)</span>
<span class="n">plt</span><span class="o">.</span><span class="n">show</span><span class="p">()</span>
</pre></div>

    </div>
</div>
</div>

<div class="output_wrapper">
<div class="output">


<div class="output_area">

    <div class="prompt"></div>




<div class="output_png output_subarea ">
<img src="data:image/png;base64,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">
</div>

</div>

</div>
</div>

</div>
<div class="cell border-box-sizing text_cell rendered"><div class="prompt input_prompt">
</div><div class="inner_cell">
<div class="text_cell_render border-box-sizing rendered_html">
<p>There is a peak at k = 2, k = 4 and k = 8. Two and four clusters will give a very broad classification of the venues.</p>
<h4 id="Let&#39;s-set-number-of-clusters-=-8">Let's set number of clusters = 8<a class="anchor-link" href="https://nbviewer.jupyter.org/github/eklavyasaxena/The-Battle-of-Neighborhoods/blob/master/Exploring-the-Taste-of-NYC-Neighborhoods/Project_Notebook.ipynb#Let&#39;s-set-number-of-clusters-=-8">¶</a></h4>
</div>
</div>
</div>
<div class="cell border-box-sizing code_cell rendered">
<div class="input">
<div class="prompt input_prompt">In&nbsp;[56]:</div>
<div class="inner_cell">
    <div class="input_area">
<div class=" highlight hl-ipython3"><pre><span></span><span class="c1"># set number of clusters</span>
<span class="n">kclusters</span> <span class="o">=</span> <span class="mi">8</span>

<span class="c1"># run k-means clustering</span>
<span class="n">kmeans</span> <span class="o">=</span> <span class="n">KMeans</span><span class="p">(</span><span class="n">init</span><span class="o">=</span><span class="s2">"k-means++"</span><span class="p">,</span> <span class="n">n_clusters</span><span class="o">=</span><span class="n">kclusters</span><span class="p">,</span> <span class="n">n_init</span><span class="o">=</span><span class="mi">50</span><span class="p">)</span><span class="o">.</span><span class="n">fit</span><span class="p">(</span><span class="n">nyc_grouped_clustering</span><span class="p">)</span>

<span class="nb">print</span><span class="p">(</span><span class="n">Counter</span><span class="p">(</span><span class="n">kmeans</span><span class="o">.</span><span class="n">labels_</span><span class="p">))</span>
</pre></div>

    </div>
</div>
</div>

<div class="output_wrapper">
<div class="output">


<div class="output_area">

    <div class="prompt"></div>


<div class="output_subarea output_stream output_stdout output_text">
<pre>Counter({3: 87, 4: 52, 6: 50, 2: 45, 1: 31, 0: 21, 7: 15, 5: 1})
</pre>
</div>
</div>

</div>
</div>

</div>
<div class="cell border-box-sizing text_cell rendered"><div class="prompt input_prompt">
</div><div class="inner_cell">
<div class="text_cell_render border-box-sizing rendered_html">
<p>Let's create a new dataframe that includes the cluster as well as the top 5 venues for each neighborhood.</p>

</div>
</div>
</div>
<div class="cell border-box-sizing code_cell rendered">
<div class="input">
<div class="prompt input_prompt">In&nbsp;[57]:</div>
<div class="inner_cell">
    <div class="input_area">
<div class=" highlight hl-ipython3"><pre><span></span><span class="c1"># add clustering labels</span>
<span class="k">try</span><span class="p">:</span>
    <span class="n">neighborhoods_venues_sorted</span><span class="o">.</span><span class="n">drop</span><span class="p">(</span><span class="s1">'Cluster Labels'</span><span class="p">,</span> <span class="n">axis</span><span class="o">=</span><span class="mi">1</span><span class="p">)</span>
<span class="k">except</span><span class="p">:</span>
    <span class="n">neighborhoods_venues_sorted</span><span class="o">.</span><span class="n">insert</span><span class="p">(</span><span class="mi">0</span><span class="p">,</span> <span class="s1">'Cluster Labels'</span><span class="p">,</span> <span class="n">kmeans</span><span class="o">.</span><span class="n">labels_</span><span class="p">)</span>
</pre></div>

    </div>
</div>
</div>

</div>
<div class="cell border-box-sizing code_cell rendered">
<div class="input">
<div class="prompt input_prompt">In&nbsp;[58]:</div>
<div class="inner_cell">
    <div class="input_area">
<div class=" highlight hl-ipython3"><pre><span></span><span class="n">neighborhoods_venues_sorted</span><span class="o">.</span><span class="n">head</span><span class="p">(</span><span class="mi">5</span><span class="p">)</span>
</pre></div>

    </div>
</div>
</div>

<div class="output_wrapper">
<div class="output">


<div class="output_area">

    <div class="prompt output_prompt">Out[58]:</div>



<div class="output_html rendered_html output_subarea output_execute_result">
<div>
<style scoped="">
    .dataframe tbody tr th:only-of-type {
        vertical-align: middle;
    }

    .dataframe tbody tr th {
        vertical-align: top;
    }

    .dataframe thead th {
        text-align: right;
    }
</style>
<table border="1" class="dataframe">
  <thead>
    <tr style="text-align: right;">
      <th></th>
      <th>Cluster Labels</th>
      <th>Neighborhood</th>
      <th>1st Most Common Venue</th>
      <th>2nd Most Common Venue</th>
      <th>3rd Most Common Venue</th>
      <th>4th Most Common Venue</th>
      <th>5th Most Common Venue</th>
    </tr>
  </thead>
  <tbody>
    <tr>
      <th>0</th>
      <td>6</td>
      <td>Allerton</td>
      <td>Mexican Restaurant</td>
      <td>Fried Chicken Joint</td>
      <td>Pizza Place</td>
      <td>Chinese Restaurant</td>
      <td>Fast Food Restaurant</td>
    </tr>
    <tr>
      <th>1</th>
      <td>4</td>
      <td>Annadale</td>
      <td>Pizza Place</td>
      <td>American Restaurant</td>
      <td>Sushi Restaurant</td>
      <td>Italian Restaurant</td>
      <td>Japanese Restaurant</td>
    </tr>
    <tr>
      <th>2</th>
      <td>4</td>
      <td>Arden Heights</td>
      <td>Pizza Place</td>
      <td>American Restaurant</td>
      <td>Italian Restaurant</td>
      <td>Mexican Restaurant</td>
      <td>Chinese Restaurant</td>
    </tr>
    <tr>
      <th>3</th>
      <td>6</td>
      <td>Arlington</td>
      <td>Pizza Place</td>
      <td>Fast Food Restaurant</td>
      <td>American Restaurant</td>
      <td>Peruvian Restaurant</td>
      <td>Spanish Restaurant</td>
    </tr>
    <tr>
      <th>4</th>
      <td>2</td>
      <td>Arrochar</td>
      <td>Italian Restaurant</td>
      <td>Pizza Place</td>
      <td>Steakhouse</td>
      <td>Middle Eastern Restaurant</td>
      <td>Chinese Restaurant</td>
    </tr>
  </tbody>
</table>
</div>
</div>

</div>

</div>
</div>

</div>
<div class="cell border-box-sizing code_cell rendered">
<div class="input">
<div class="prompt input_prompt">In&nbsp;[59]:</div>
<div class="inner_cell">
    <div class="input_area">
<div class=" highlight hl-ipython3"><pre><span></span><span class="c1"># merge neighborhoods_venues_sorted with nyc_data to add latitude/longitude for each neighborhood</span>
<span class="n">nyc_merged</span> <span class="o">=</span> <span class="n">neighborhoods_venues_sorted</span><span class="o">.</span><span class="n">join</span><span class="p">(</span><span class="n">neighborhoods</span><span class="o">.</span><span class="n">set_index</span><span class="p">(</span><span class="s1">'Neighborhood'</span><span class="p">),</span> <span class="n">on</span><span class="o">=</span><span class="s1">'Neighborhood'</span><span class="p">)</span>
<span class="n">nyc_merged</span><span class="o">.</span><span class="n">head</span><span class="p">()</span>
</pre></div>

    </div>
</div>
</div>

<div class="output_wrapper">
<div class="output">


<div class="output_area">

    <div class="prompt output_prompt">Out[59]:</div>



<div class="output_html rendered_html output_subarea output_execute_result">
<div>
<style scoped="">
    .dataframe tbody tr th:only-of-type {
        vertical-align: middle;
    }

    .dataframe tbody tr th {
        vertical-align: top;
    }

    .dataframe thead th {
        text-align: right;
    }
</style>
<table border="1" class="dataframe">
  <thead>
    <tr style="text-align: right;">
      <th></th>
      <th>Cluster Labels</th>
      <th>Neighborhood</th>
      <th>1st Most Common Venue</th>
      <th>2nd Most Common Venue</th>
      <th>3rd Most Common Venue</th>
      <th>4th Most Common Venue</th>
      <th>5th Most Common Venue</th>
      <th>Borough</th>
      <th>Latitude</th>
      <th>Longitude</th>
    </tr>
  </thead>
  <tbody>
    <tr>
      <th>0</th>
      <td>6</td>
      <td>Allerton</td>
      <td>Mexican Restaurant</td>
      <td>Fried Chicken Joint</td>
      <td>Pizza Place</td>
      <td>Chinese Restaurant</td>
      <td>Fast Food Restaurant</td>
      <td>Bronx</td>
      <td>40.865788</td>
      <td>-73.859319</td>
    </tr>
    <tr>
      <th>1</th>
      <td>4</td>
      <td>Annadale</td>
      <td>Pizza Place</td>
      <td>American Restaurant</td>
      <td>Sushi Restaurant</td>
      <td>Italian Restaurant</td>
      <td>Japanese Restaurant</td>
      <td>Staten Island</td>
      <td>40.538114</td>
      <td>-74.178549</td>
    </tr>
    <tr>
      <th>2</th>
      <td>4</td>
      <td>Arden Heights</td>
      <td>Pizza Place</td>
      <td>American Restaurant</td>
      <td>Italian Restaurant</td>
      <td>Mexican Restaurant</td>
      <td>Chinese Restaurant</td>
      <td>Staten Island</td>
      <td>40.549286</td>
      <td>-74.185887</td>
    </tr>
    <tr>
      <th>3</th>
      <td>6</td>
      <td>Arlington</td>
      <td>Pizza Place</td>
      <td>Fast Food Restaurant</td>
      <td>American Restaurant</td>
      <td>Peruvian Restaurant</td>
      <td>Spanish Restaurant</td>
      <td>Staten Island</td>
      <td>40.635325</td>
      <td>-74.165104</td>
    </tr>
    <tr>
      <th>4</th>
      <td>2</td>
      <td>Arrochar</td>
      <td>Italian Restaurant</td>
      <td>Pizza Place</td>
      <td>Steakhouse</td>
      <td>Middle Eastern Restaurant</td>
      <td>Chinese Restaurant</td>
      <td>Staten Island</td>
      <td>40.596313</td>
      <td>-74.067124</td>
    </tr>
  </tbody>
</table>
</div>
</div>

</div>

</div>
</div>

</div>
<div class="cell border-box-sizing text_cell rendered"><div class="prompt input_prompt">
</div><div class="inner_cell">
<div class="text_cell_render border-box-sizing rendered_html">
<p>Finally, let's visualize the resulting clusters</p>

</div>
</div>
</div>
<div class="cell border-box-sizing code_cell rendered">
<div class="input">
<div class="prompt input_prompt">In&nbsp;[60]:</div>
<div class="inner_cell">
    <div class="input_area">
<div class=" highlight hl-ipython3"><pre><span></span><span class="c1"># create map</span>
<span class="n">map_clusters</span> <span class="o">=</span> <span class="n">folium</span><span class="o">.</span><span class="n">Map</span><span class="p">(</span><span class="n">location</span><span class="o">=</span><span class="p">[</span><span class="n">latitude</span><span class="p">,</span> <span class="n">longitude</span><span class="p">],</span> <span class="n">zoom_start</span><span class="o">=</span><span class="mi">10</span><span class="p">)</span>

<span class="c1"># set color scheme for the clusters</span>
<span class="n">colors_array</span> <span class="o">=</span> <span class="n">cm</span><span class="o">.</span><span class="n">rainbow</span><span class="p">(</span><span class="n">np</span><span class="o">.</span><span class="n">linspace</span><span class="p">(</span><span class="mi">0</span><span class="p">,</span> <span class="mi">1</span><span class="p">,</span> <span class="n">kclusters</span><span class="p">))</span>
<span class="n">rainbow</span> <span class="o">=</span> <span class="p">[</span><span class="n">colors</span><span class="o">.</span><span class="n">rgb2hex</span><span class="p">(</span><span class="n">i</span><span class="p">)</span> <span class="k">for</span> <span class="n">i</span> <span class="ow">in</span> <span class="n">colors_array</span><span class="p">]</span>

<span class="c1"># add markers to the map</span>
<span class="n">markers_colors</span> <span class="o">=</span> <span class="p">[]</span>
<span class="k">for</span> <span class="n">lat</span><span class="p">,</span> <span class="n">lon</span><span class="p">,</span> <span class="n">poi</span><span class="p">,</span> <span class="n">cluster</span> <span class="ow">in</span> <span class="nb">zip</span><span class="p">(</span><span class="n">nyc_merged</span><span class="p">[</span><span class="s1">'Latitude'</span><span class="p">],</span> <span class="n">nyc_merged</span><span class="p">[</span><span class="s1">'Longitude'</span><span class="p">],</span> <span class="n">nyc_merged</span><span class="p">[</span><span class="s1">'Neighborhood'</span><span class="p">],</span> <span class="n">nyc_merged</span><span class="p">[</span><span class="s1">'Cluster Labels'</span><span class="p">]):</span>
    <span class="n">label</span> <span class="o">=</span> <span class="n">folium</span><span class="o">.</span><span class="n">Popup</span><span class="p">(</span><span class="nb">str</span><span class="p">(</span><span class="n">poi</span><span class="p">)</span> <span class="o">+</span> <span class="s1">' Cluster '</span> <span class="o">+</span> <span class="nb">str</span><span class="p">(</span><span class="n">cluster</span><span class="p">),</span> <span class="n">parse_html</span><span class="o">=</span><span class="kc">True</span><span class="p">)</span>
    <span class="n">folium</span><span class="o">.</span><span class="n">CircleMarker</span><span class="p">(</span>
        <span class="p">[</span><span class="n">lat</span><span class="p">,</span> <span class="n">lon</span><span class="p">],</span>
        <span class="n">radius</span><span class="o">=</span><span class="mi">5</span><span class="p">,</span>
        <span class="n">popup</span><span class="o">=</span><span class="n">label</span><span class="p">,</span>
        <span class="n">color</span><span class="o">=</span><span class="n">rainbow</span><span class="p">[</span><span class="n">cluster</span><span class="o">-</span><span class="mi">1</span><span class="p">],</span>
        <span class="n">fill</span><span class="o">=</span><span class="kc">True</span><span class="p">,</span>
        <span class="n">fill_color</span><span class="o">=</span><span class="n">rainbow</span><span class="p">[</span><span class="n">cluster</span><span class="o">-</span><span class="mi">1</span><span class="p">],</span>
        <span class="n">fill_opacity</span><span class="o">=</span><span class="mf">0.7</span><span class="p">)</span><span class="o">.</span><span class="n">add_to</span><span class="p">(</span><span class="n">map_clusters</span><span class="p">)</span>
       
<span class="n">map_clusters</span>
</pre></div>

    </div>
</div>
</div>

<div class="output_wrapper">
<div class="output">


<div class="output_area">

    <div class="prompt output_prompt">Out[60]:</div>



<div class="output_html rendered_html output_subarea output_execute_result">
<div style="width:100%;"><div style="position:relative;width:100%;height:0;padding-bottom:60%;"><iframe src="./Jupyter Notebook Viewer_files/saved_resource(1).html" style="position:absolute;width:100%;height:100%;left:0;top:0;border:none !important;" allowfullscreen="" webkitallowfullscreen="" mozallowfullscreen=""></iframe></div></div>
</div>

</div>

</div>
</div>

</div>
<div class="cell border-box-sizing text_cell rendered"><div class="prompt input_prompt">
</div><div class="inner_cell">
<div class="text_cell_render border-box-sizing rendered_html">
<p><a id="results"></a><a href="https://nbviewer.jupyter.org/github/eklavyasaxena/The-Battle-of-Neighborhoods/blob/master/Exploring-the-Taste-of-NYC-Neighborhoods/Project_Notebook.ipynb#tableofcontents">Scroll Back to Table of Contents</a></p>

</div>
</div>
</div>
<div class="cell border-box-sizing text_cell rendered"><div class="prompt input_prompt">
</div><div class="inner_cell">
<div class="text_cell_render border-box-sizing rendered_html">
<h2 id="5.-Results">5. Results<a class="anchor-link" href="https://nbviewer.jupyter.org/github/eklavyasaxena/The-Battle-of-Neighborhoods/blob/master/Exploring-the-Taste-of-NYC-Neighborhoods/Project_Notebook.ipynb#5.-Results">¶</a></h2>
</div>
</div>
</div>
<div class="cell border-box-sizing code_cell rendered">
<div class="input">
<div class="prompt input_prompt">In&nbsp;[61]:</div>
<div class="inner_cell">
    <div class="input_area">
<div class=" highlight hl-ipython3"><pre><span></span><span class="n">required_column_indices</span> <span class="o">=</span> <span class="p">[</span><span class="mi">2</span><span class="p">,</span><span class="mi">3</span><span class="p">,</span><span class="mi">7</span><span class="p">]</span>
<span class="n">required_column</span> <span class="o">=</span> <span class="p">[</span><span class="nb">list</span><span class="p">(</span><span class="n">nyc_merged</span><span class="o">.</span><span class="n">columns</span><span class="o">.</span><span class="n">values</span><span class="p">)[</span><span class="n">i</span><span class="p">]</span> <span class="k">for</span> <span class="n">i</span> <span class="ow">in</span> <span class="n">required_column_indices</span><span class="p">]</span>
<span class="n">required_column_indices</span> <span class="o">=</span> <span class="p">[</span><span class="mi">2</span><span class="p">,</span><span class="mi">3</span><span class="p">,</span><span class="mi">7</span><span class="p">]</span>
</pre></div>

    </div>
</div>
</div>

</div>
<div class="cell border-box-sizing text_cell rendered"><div class="prompt input_prompt">
</div><div class="inner_cell">
<div class="text_cell_render border-box-sizing rendered_html">
<h4 id="Cluster-0">Cluster 0<a class="anchor-link" href="https://nbviewer.jupyter.org/github/eklavyasaxena/The-Battle-of-Neighborhoods/blob/master/Exploring-the-Taste-of-NYC-Neighborhoods/Project_Notebook.ipynb#Cluster-0">¶</a></h4>
</div>
</div>
</div>
<div class="cell border-box-sizing code_cell rendered">
<div class="input">
<div class="prompt input_prompt">In&nbsp;[62]:</div>
<div class="inner_cell">
    <div class="input_area">
<div class=" highlight hl-ipython3"><pre><span></span><span class="n">cluster_0</span> <span class="o">=</span> <span class="n">nyc_merged</span><span class="o">.</span><span class="n">loc</span><span class="p">[</span><span class="n">nyc_merged</span><span class="p">[</span><span class="s1">'Cluster Labels'</span><span class="p">]</span> <span class="o">==</span> <span class="mi">0</span><span class="p">,</span> <span class="n">nyc_merged</span><span class="o">.</span><span class="n">columns</span><span class="p">[</span><span class="mi">1</span><span class="p">:</span><span class="mi">12</span><span class="p">]]</span>
<span class="n">cluster_0</span><span class="o">.</span><span class="n">head</span><span class="p">(</span><span class="mi">5</span><span class="p">)</span>
</pre></div>

    </div>
</div>
</div>

<div class="output_wrapper">
<div class="output">


<div class="output_area">

    <div class="prompt output_prompt">Out[62]:</div>



<div class="output_html rendered_html output_subarea output_execute_result">
<div>
<style scoped="">
    .dataframe tbody tr th:only-of-type {
        vertical-align: middle;
    }

    .dataframe tbody tr th {
        vertical-align: top;
    }

    .dataframe thead th {
        text-align: right;
    }
</style>
<table border="1" class="dataframe">
  <thead>
    <tr style="text-align: right;">
      <th></th>
      <th>Neighborhood</th>
      <th>1st Most Common Venue</th>
      <th>2nd Most Common Venue</th>
      <th>3rd Most Common Venue</th>
      <th>4th Most Common Venue</th>
      <th>5th Most Common Venue</th>
      <th>Borough</th>
      <th>Latitude</th>
      <th>Longitude</th>
    </tr>
  </thead>
  <tbody>
    <tr>
      <th>36</th>
      <td>Brookville</td>
      <td>Fried Chicken Joint</td>
      <td>Caribbean Restaurant</td>
      <td>Pizza Place</td>
      <td>Chinese Restaurant</td>
      <td>Fast Food Restaurant</td>
      <td>Queens</td>
      <td>40.660003</td>
      <td>-73.751753</td>
    </tr>
    <tr>
      <th>41</th>
      <td>Cambria Heights</td>
      <td>Caribbean Restaurant</td>
      <td>Chinese Restaurant</td>
      <td>Latin American Restaurant</td>
      <td>Pizza Place</td>
      <td>Fast Food Restaurant</td>
      <td>Queens</td>
      <td>40.692775</td>
      <td>-73.735269</td>
    </tr>
    <tr>
      <th>68</th>
      <td>Crown Heights</td>
      <td>Caribbean Restaurant</td>
      <td>Fast Food Restaurant</td>
      <td>Pizza Place</td>
      <td>French Restaurant</td>
      <td>Mexican Restaurant</td>
      <td>Brooklyn</td>
      <td>40.670829</td>
      <td>-73.943291</td>
    </tr>
    <tr>
      <th>77</th>
      <td>East Flatbush</td>
      <td>Caribbean Restaurant</td>
      <td>Pizza Place</td>
      <td>Fried Chicken Joint</td>
      <td>Chinese Restaurant</td>
      <td>Fast Food Restaurant</td>
      <td>Brooklyn</td>
      <td>40.641718</td>
      <td>-73.936103</td>
    </tr>
    <tr>
      <th>83</th>
      <td>Eastchester</td>
      <td>Caribbean Restaurant</td>
      <td>Pizza Place</td>
      <td>Fast Food Restaurant</td>
      <td>Asian Restaurant</td>
      <td>Chinese Restaurant</td>
      <td>Bronx</td>
      <td>40.887556</td>
      <td>-73.827806</td>
    </tr>
  </tbody>
</table>
</div>
</div>

</div>

</div>
</div>

</div>
<div class="cell border-box-sizing code_cell rendered">
<div class="input">
<div class="prompt input_prompt">In&nbsp;[63]:</div>
<div class="inner_cell">
    <div class="input_area">
<div class=" highlight hl-ipython3"><pre><span></span><span class="k">for</span> <span class="n">col</span> <span class="ow">in</span> <span class="n">required_column</span><span class="p">:</span>
    <span class="nb">print</span><span class="p">(</span><span class="n">cluster_0</span><span class="p">[</span><span class="n">col</span><span class="p">]</span><span class="o">.</span><span class="n">value_counts</span><span class="p">(</span><span class="n">ascending</span> <span class="o">=</span> <span class="kc">False</span><span class="p">))</span>
    <span class="nb">print</span><span class="p">(</span><span class="s2">"---------------------------------------------"</span><span class="p">)</span>
</pre></div>

    </div>
</div>
</div>

<div class="output_wrapper">
<div class="output">


<div class="output_area">

    <div class="prompt"></div>


<div class="output_subarea output_stream output_stdout output_text">
<pre>Caribbean Restaurant    18
Pizza Place              1
American Restaurant      1
Fried Chicken Joint      1
Name: 1st Most Common Venue, dtype: int64
---------------------------------------------
Fast Food Restaurant    7
Pizza Place             7
Chinese Restaurant      3
Caribbean Restaurant    2
Falafel Restaurant      1
Fried Chicken Joint     1
Name: 2nd Most Common Venue, dtype: int64
---------------------------------------------
Brooklyn         9
Queens           6
Bronx            5
Staten Island    1
Name: Borough, dtype: int64
---------------------------------------------
</pre>
</div>
</div>

</div>
</div>

</div>
<div class="cell border-box-sizing text_cell rendered"><div class="prompt input_prompt">
</div><div class="inner_cell">
<div class="text_cell_render border-box-sizing rendered_html">
<h4 id="Cluster-1">Cluster 1<a class="anchor-link" href="https://nbviewer.jupyter.org/github/eklavyasaxena/The-Battle-of-Neighborhoods/blob/master/Exploring-the-Taste-of-NYC-Neighborhoods/Project_Notebook.ipynb#Cluster-1">¶</a></h4>
</div>
</div>
</div>
<div class="cell border-box-sizing code_cell rendered">
<div class="input">
<div class="prompt input_prompt">In&nbsp;[64]:</div>
<div class="inner_cell">
    <div class="input_area">
<div class=" highlight hl-ipython3"><pre><span></span><span class="n">cluster_1</span> <span class="o">=</span> <span class="n">nyc_merged</span><span class="o">.</span><span class="n">loc</span><span class="p">[</span><span class="n">nyc_merged</span><span class="p">[</span><span class="s1">'Cluster Labels'</span><span class="p">]</span> <span class="o">==</span> <span class="mi">1</span><span class="p">,</span> <span class="n">nyc_merged</span><span class="o">.</span><span class="n">columns</span><span class="p">[</span><span class="mi">1</span><span class="p">:</span><span class="mi">12</span><span class="p">]]</span>
<span class="n">cluster_1</span><span class="o">.</span><span class="n">head</span><span class="p">(</span><span class="mi">5</span><span class="p">)</span>
</pre></div>

    </div>
</div>
</div>

<div class="output_wrapper">
<div class="output">


<div class="output_area">

    <div class="prompt output_prompt">Out[64]:</div>



<div class="output_html rendered_html output_subarea output_execute_result">
<div>
<style scoped="">
    .dataframe tbody tr th:only-of-type {
        vertical-align: middle;
    }

    .dataframe tbody tr th {
        vertical-align: top;
    }

    .dataframe thead th {
        text-align: right;
    }
</style>
<table border="1" class="dataframe">
  <thead>
    <tr style="text-align: right;">
      <th></th>
      <th>Neighborhood</th>
      <th>1st Most Common Venue</th>
      <th>2nd Most Common Venue</th>
      <th>3rd Most Common Venue</th>
      <th>4th Most Common Venue</th>
      <th>5th Most Common Venue</th>
      <th>Borough</th>
      <th>Latitude</th>
      <th>Longitude</th>
    </tr>
  </thead>
  <tbody>
    <tr>
      <th>5</th>
      <td>Arverne</td>
      <td>Chinese Restaurant</td>
      <td>Pizza Place</td>
      <td>American Restaurant</td>
      <td>Asian Restaurant</td>
      <td>Thai Restaurant</td>
      <td>Queens</td>
      <td>40.589144</td>
      <td>-73.791992</td>
    </tr>
    <tr>
      <th>9</th>
      <td>Bath Beach</td>
      <td>Chinese Restaurant</td>
      <td>Fast Food Restaurant</td>
      <td>Cantonese Restaurant</td>
      <td>Sushi Restaurant</td>
      <td>Vietnamese Restaurant</td>
      <td>Brooklyn</td>
      <td>40.599519</td>
      <td>-73.998752</td>
    </tr>
    <tr>
      <th>13</th>
      <td>Baychester</td>
      <td>Pizza Place</td>
      <td>Chinese Restaurant</td>
      <td>Fast Food Restaurant</td>
      <td>Italian Restaurant</td>
      <td>American Restaurant</td>
      <td>Bronx</td>
      <td>40.866858</td>
      <td>-73.835798</td>
    </tr>
    <tr>
      <th>15</th>
      <td>Bayswater</td>
      <td>Chinese Restaurant</td>
      <td>Pizza Place</td>
      <td>Fried Chicken Joint</td>
      <td>Caribbean Restaurant</td>
      <td>American Restaurant</td>
      <td>Queens</td>
      <td>40.611322</td>
      <td>-73.765968</td>
    </tr>
    <tr>
      <th>23</th>
      <td>Bensonhurst</td>
      <td>Chinese Restaurant</td>
      <td>Pizza Place</td>
      <td>Cantonese Restaurant</td>
      <td>Japanese Restaurant</td>
      <td>Italian Restaurant</td>
      <td>Brooklyn</td>
      <td>40.611009</td>
      <td>-73.995180</td>
    </tr>
  </tbody>
</table>
</div>
</div>

</div>

</div>
</div>

</div>
<div class="cell border-box-sizing code_cell rendered">
<div class="input">
<div class="prompt input_prompt">In&nbsp;[65]:</div>
<div class="inner_cell">
    <div class="input_area">
<div class=" highlight hl-ipython3"><pre><span></span><span class="k">for</span> <span class="n">col</span> <span class="ow">in</span> <span class="n">required_column</span><span class="p">:</span>
    <span class="nb">print</span><span class="p">(</span><span class="n">cluster_1</span><span class="p">[</span><span class="n">col</span><span class="p">]</span><span class="o">.</span><span class="n">value_counts</span><span class="p">(</span><span class="n">ascending</span> <span class="o">=</span> <span class="kc">False</span><span class="p">))</span>
    <span class="nb">print</span><span class="p">(</span><span class="s2">"---------------------------------------------"</span><span class="p">)</span>
</pre></div>

    </div>
</div>
</div>

<div class="output_wrapper">
<div class="output">


<div class="output_area">

    <div class="prompt"></div>


<div class="output_subarea output_stream output_stdout output_text">
<pre>Chinese Restaurant      18
Pizza Place              8
Caribbean Restaurant     2
Indian Restaurant        2
Seafood Restaurant       1
Name: 1st Most Common Venue, dtype: int64
---------------------------------------------
Pizza Place             10
Chinese Restaurant       8
Caribbean Restaurant     5
Fast Food Restaurant     3
American Restaurant      1
Fried Chicken Joint      1
Mexican Restaurant       1
Italian Restaurant       1
Cantonese Restaurant     1
Name: 2nd Most Common Venue, dtype: int64
---------------------------------------------
Queens           18
Brooklyn          9
Bronx             3
Staten Island     1
Name: Borough, dtype: int64
---------------------------------------------
</pre>
</div>
</div>

</div>
</div>

</div>
<div class="cell border-box-sizing text_cell rendered"><div class="prompt input_prompt">
</div><div class="inner_cell">
<div class="text_cell_render border-box-sizing rendered_html">
<h4 id="Cluster-2">Cluster 2<a class="anchor-link" href="https://nbviewer.jupyter.org/github/eklavyasaxena/The-Battle-of-Neighborhoods/blob/master/Exploring-the-Taste-of-NYC-Neighborhoods/Project_Notebook.ipynb#Cluster-2">¶</a></h4>
</div>
</div>
</div>
<div class="cell border-box-sizing code_cell rendered">
<div class="input">
<div class="prompt input_prompt">In&nbsp;[66]:</div>
<div class="inner_cell">
    <div class="input_area">
<div class=" highlight hl-ipython3"><pre><span></span><span class="n">cluster_2</span> <span class="o">=</span> <span class="n">nyc_merged</span><span class="o">.</span><span class="n">loc</span><span class="p">[</span><span class="n">nyc_merged</span><span class="p">[</span><span class="s1">'Cluster Labels'</span><span class="p">]</span> <span class="o">==</span> <span class="mi">2</span><span class="p">,</span> <span class="n">nyc_merged</span><span class="o">.</span><span class="n">columns</span><span class="p">[</span><span class="mi">1</span><span class="p">:</span><span class="mi">12</span><span class="p">]]</span>
<span class="n">cluster_2</span><span class="o">.</span><span class="n">head</span><span class="p">(</span><span class="mi">5</span><span class="p">)</span>
</pre></div>

    </div>
</div>
</div>

<div class="output_wrapper">
<div class="output">


<div class="output_area">

    <div class="prompt output_prompt">Out[66]:</div>



<div class="output_html rendered_html output_subarea output_execute_result">
<div>
<style scoped="">
    .dataframe tbody tr th:only-of-type {
        vertical-align: middle;
    }

    .dataframe tbody tr th {
        vertical-align: top;
    }

    .dataframe thead th {
        text-align: right;
    }
</style>
<table border="1" class="dataframe">
  <thead>
    <tr style="text-align: right;">
      <th></th>
      <th>Neighborhood</th>
      <th>1st Most Common Venue</th>
      <th>2nd Most Common Venue</th>
      <th>3rd Most Common Venue</th>
      <th>4th Most Common Venue</th>
      <th>5th Most Common Venue</th>
      <th>Borough</th>
      <th>Latitude</th>
      <th>Longitude</th>
    </tr>
  </thead>
  <tbody>
    <tr>
      <th>4</th>
      <td>Arrochar</td>
      <td>Italian Restaurant</td>
      <td>Pizza Place</td>
      <td>Steakhouse</td>
      <td>Middle Eastern Restaurant</td>
      <td>Chinese Restaurant</td>
      <td>Staten Island</td>
      <td>40.596313</td>
      <td>-74.067124</td>
    </tr>
    <tr>
      <th>7</th>
      <td>Astoria Heights</td>
      <td>Italian Restaurant</td>
      <td>Chinese Restaurant</td>
      <td>Greek Restaurant</td>
      <td>Pizza Place</td>
      <td>Sushi Restaurant</td>
      <td>Queens</td>
      <td>40.770317</td>
      <td>-73.894680</td>
    </tr>
    <tr>
      <th>12</th>
      <td>Bay Terrace</td>
      <td>Italian Restaurant</td>
      <td>Asian Restaurant</td>
      <td>Pizza Place</td>
      <td>Chinese Restaurant</td>
      <td>American Restaurant</td>
      <td>Queens</td>
      <td>40.782843</td>
      <td>-73.776802</td>
    </tr>
    <tr>
      <th>12</th>
      <td>Bay Terrace</td>
      <td>Italian Restaurant</td>
      <td>Asian Restaurant</td>
      <td>Pizza Place</td>
      <td>Chinese Restaurant</td>
      <td>American Restaurant</td>
      <td>Staten Island</td>
      <td>40.553988</td>
      <td>-74.139166</td>
    </tr>
    <tr>
      <th>18</th>
      <td>Beechhurst</td>
      <td>Italian Restaurant</td>
      <td>Pizza Place</td>
      <td>Chinese Restaurant</td>
      <td>Japanese Restaurant</td>
      <td>Vietnamese Restaurant</td>
      <td>Queens</td>
      <td>40.792781</td>
      <td>-73.804365</td>
    </tr>
  </tbody>
</table>
</div>
</div>

</div>

</div>
</div>

</div>
<div class="cell border-box-sizing code_cell rendered">
<div class="input">
<div class="prompt input_prompt">In&nbsp;[67]:</div>
<div class="inner_cell">
    <div class="input_area">
<div class=" highlight hl-ipython3"><pre><span></span><span class="k">for</span> <span class="n">col</span> <span class="ow">in</span> <span class="n">required_column</span><span class="p">:</span>
    <span class="nb">print</span><span class="p">(</span><span class="n">cluster_2</span><span class="p">[</span><span class="n">col</span><span class="p">]</span><span class="o">.</span><span class="n">value_counts</span><span class="p">(</span><span class="n">ascending</span> <span class="o">=</span> <span class="kc">False</span><span class="p">))</span>
    <span class="nb">print</span><span class="p">(</span><span class="s2">"---------------------------------------------"</span><span class="p">)</span>
</pre></div>

    </div>
</div>
</div>

<div class="output_wrapper">
<div class="output">


<div class="output_area">

    <div class="prompt"></div>


<div class="output_subarea output_stream output_stdout output_text">
<pre>Italian Restaurant      27
Pizza Place             16
Fast Food Restaurant     2
Falafel Restaurant       1
Name: 1st Most Common Venue, dtype: int64
---------------------------------------------
Italian Restaurant      16
Pizza Place             15
Chinese Restaurant       5
Asian Restaurant         4
Mexican Restaurant       2
Fast Food Restaurant     2
American Restaurant      2
Name: 2nd Most Common Venue, dtype: int64
---------------------------------------------
Staten Island    22
Queens           10
Bronx             8
Brooklyn          6
Name: Borough, dtype: int64
---------------------------------------------
</pre>
</div>
</div>

</div>
</div>

</div>
<div class="cell border-box-sizing text_cell rendered"><div class="prompt input_prompt">
</div><div class="inner_cell">
<div class="text_cell_render border-box-sizing rendered_html">
<h4 id="Cluster-3">Cluster 3<a class="anchor-link" href="https://nbviewer.jupyter.org/github/eklavyasaxena/The-Battle-of-Neighborhoods/blob/master/Exploring-the-Taste-of-NYC-Neighborhoods/Project_Notebook.ipynb#Cluster-3">¶</a></h4>
</div>
</div>
</div>
<div class="cell border-box-sizing code_cell rendered">
<div class="input">
<div class="prompt input_prompt">In&nbsp;[68]:</div>
<div class="inner_cell">
    <div class="input_area">
<div class=" highlight hl-ipython3"><pre><span></span><span class="n">cluster_3</span> <span class="o">=</span> <span class="n">nyc_merged</span><span class="o">.</span><span class="n">loc</span><span class="p">[</span><span class="n">nyc_merged</span><span class="p">[</span><span class="s1">'Cluster Labels'</span><span class="p">]</span> <span class="o">==</span> <span class="mi">3</span><span class="p">,</span> <span class="n">nyc_merged</span><span class="o">.</span><span class="n">columns</span><span class="p">[</span><span class="mi">1</span><span class="p">:</span><span class="mi">12</span><span class="p">]]</span>
<span class="n">cluster_3</span><span class="o">.</span><span class="n">head</span><span class="p">(</span><span class="mi">5</span><span class="p">)</span>
</pre></div>

    </div>
</div>
</div>

<div class="output_wrapper">
<div class="output">


<div class="output_area">

    <div class="prompt output_prompt">Out[68]:</div>



<div class="output_html rendered_html output_subarea output_execute_result">
<div>
<style scoped="">
    .dataframe tbody tr th:only-of-type {
        vertical-align: middle;
    }

    .dataframe tbody tr th {
        vertical-align: top;
    }

    .dataframe thead th {
        text-align: right;
    }
</style>
<table border="1" class="dataframe">
  <thead>
    <tr style="text-align: right;">
      <th></th>
      <th>Neighborhood</th>
      <th>1st Most Common Venue</th>
      <th>2nd Most Common Venue</th>
      <th>3rd Most Common Venue</th>
      <th>4th Most Common Venue</th>
      <th>5th Most Common Venue</th>
      <th>Borough</th>
      <th>Latitude</th>
      <th>Longitude</th>
    </tr>
  </thead>
  <tbody>
    <tr>
      <th>6</th>
      <td>Astoria</td>
      <td>Greek Restaurant</td>
      <td>Pizza Place</td>
      <td>Fast Food Restaurant</td>
      <td>Vietnamese Restaurant</td>
      <td>American Restaurant</td>
      <td>Queens</td>
      <td>40.768509</td>
      <td>-73.915654</td>
    </tr>
    <tr>
      <th>8</th>
      <td>Auburndale</td>
      <td>Korean Restaurant</td>
      <td>Greek Restaurant</td>
      <td>Pizza Place</td>
      <td>Italian Restaurant</td>
      <td>American Restaurant</td>
      <td>Queens</td>
      <td>40.761730</td>
      <td>-73.791762</td>
    </tr>
    <tr>
      <th>10</th>
      <td>Battery Park City</td>
      <td>Seafood Restaurant</td>
      <td>Italian Restaurant</td>
      <td>Pizza Place</td>
      <td>Fast Food Restaurant</td>
      <td>New American Restaurant</td>
      <td>Manhattan</td>
      <td>40.711932</td>
      <td>-74.016869</td>
    </tr>
    <tr>
      <th>11</th>
      <td>Bay Ridge</td>
      <td>Fast Food Restaurant</td>
      <td>Pizza Place</td>
      <td>Italian Restaurant</td>
      <td>Middle Eastern Restaurant</td>
      <td>Japanese Restaurant</td>
      <td>Brooklyn</td>
      <td>40.625801</td>
      <td>-74.030621</td>
    </tr>
    <tr>
      <th>14</th>
      <td>Bayside</td>
      <td>American Restaurant</td>
      <td>Korean Restaurant</td>
      <td>Italian Restaurant</td>
      <td>Greek Restaurant</td>
      <td>Fast Food Restaurant</td>
      <td>Queens</td>
      <td>40.766041</td>
      <td>-73.774274</td>
    </tr>
  </tbody>
</table>
</div>
</div>

</div>

</div>
</div>

</div>
<div class="cell border-box-sizing code_cell rendered">
<div class="input">
<div class="prompt input_prompt">In&nbsp;[69]:</div>
<div class="inner_cell">
    <div class="input_area">
<div class=" highlight hl-ipython3"><pre><span></span><span class="k">for</span> <span class="n">col</span> <span class="ow">in</span> <span class="n">required_column</span><span class="p">:</span>
    <span class="nb">print</span><span class="p">(</span><span class="n">cluster_3</span><span class="p">[</span><span class="n">col</span><span class="p">]</span><span class="o">.</span><span class="n">value_counts</span><span class="p">(</span><span class="n">ascending</span> <span class="o">=</span> <span class="kc">False</span><span class="p">))</span>
    <span class="nb">print</span><span class="p">(</span><span class="s2">"---------------------------------------------"</span><span class="p">)</span>
</pre></div>

    </div>
</div>
</div>

<div class="output_wrapper">
<div class="output">


<div class="output_area">

    <div class="prompt"></div>


<div class="output_subarea output_stream output_stdout output_text">
<pre>Pizza Place                      21
Italian Restaurant               18
American Restaurant              14
Korean Restaurant                 7
Seafood Restaurant                5
Fast Food Restaurant              5
New American Restaurant           3
Thai Restaurant                   3
Mexican Restaurant                2
Greek Restaurant                  2
Vegetarian / Vegan Restaurant     2
Sushi Restaurant                  2
Middle Eastern Restaurant         1
Vietnamese Restaurant             1
Indian Restaurant                 1
Ramen Restaurant                  1
Eastern European Restaurant       1
Name: 1st Most Common Venue, dtype: int64
---------------------------------------------
Italian Restaurant               17
Pizza Place                      12
American Restaurant              11
Fast Food Restaurant              7
French Restaurant                 7
Mexican Restaurant                6
BBQ Joint                         4
Vietnamese Restaurant             4
Turkish Restaurant                2
Middle Eastern Restaurant         2
Korean Restaurant                 2
Russian Restaurant                1
Sushi Restaurant                  1
Ramen Restaurant                  1
Noodle House                      1
Indian Restaurant                 1
Japanese Restaurant               1
Latin American Restaurant         1
Sri Lankan Restaurant             1
Shanghai Restaurant               1
Seafood Restaurant                1
Asian Restaurant                  1
Thai Restaurant                   1
Caribbean Restaurant              1
Greek Restaurant                  1
Vegetarian / Vegan Restaurant     1
Name: 2nd Most Common Venue, dtype: int64
---------------------------------------------
Manhattan        28
Brooklyn         25
Queens           22
Staten Island    12
Bronx             2
Name: Borough, dtype: int64
---------------------------------------------
</pre>
</div>
</div>

</div>
</div>

</div>
<div class="cell border-box-sizing text_cell rendered"><div class="prompt input_prompt">
</div><div class="inner_cell">
<div class="text_cell_render border-box-sizing rendered_html">
<h4 id="Cluster-4">Cluster 4<a class="anchor-link" href="https://nbviewer.jupyter.org/github/eklavyasaxena/The-Battle-of-Neighborhoods/blob/master/Exploring-the-Taste-of-NYC-Neighborhoods/Project_Notebook.ipynb#Cluster-4">¶</a></h4>
</div>
</div>
</div>
<div class="cell border-box-sizing code_cell rendered">
<div class="input">
<div class="prompt input_prompt">In&nbsp;[70]:</div>
<div class="inner_cell">
    <div class="input_area">
<div class=" highlight hl-ipython3"><pre><span></span><span class="n">cluster_4</span> <span class="o">=</span> <span class="n">nyc_merged</span><span class="o">.</span><span class="n">loc</span><span class="p">[</span><span class="n">nyc_merged</span><span class="p">[</span><span class="s1">'Cluster Labels'</span><span class="p">]</span> <span class="o">==</span> <span class="mi">4</span><span class="p">,</span> <span class="n">nyc_merged</span><span class="o">.</span><span class="n">columns</span><span class="p">[</span><span class="mi">1</span><span class="p">:</span><span class="mi">12</span><span class="p">]]</span>
<span class="n">cluster_4</span><span class="o">.</span><span class="n">head</span><span class="p">(</span><span class="mi">5</span><span class="p">)</span>
</pre></div>

    </div>
</div>
</div>

<div class="output_wrapper">
<div class="output">


<div class="output_area">

    <div class="prompt output_prompt">Out[70]:</div>



<div class="output_html rendered_html output_subarea output_execute_result">
<div>
<style scoped="">
    .dataframe tbody tr th:only-of-type {
        vertical-align: middle;
    }

    .dataframe tbody tr th {
        vertical-align: top;
    }

    .dataframe thead th {
        text-align: right;
    }
</style>
<table border="1" class="dataframe">
  <thead>
    <tr style="text-align: right;">
      <th></th>
      <th>Neighborhood</th>
      <th>1st Most Common Venue</th>
      <th>2nd Most Common Venue</th>
      <th>3rd Most Common Venue</th>
      <th>4th Most Common Venue</th>
      <th>5th Most Common Venue</th>
      <th>Borough</th>
      <th>Latitude</th>
      <th>Longitude</th>
    </tr>
  </thead>
  <tbody>
    <tr>
      <th>1</th>
      <td>Annadale</td>
      <td>Pizza Place</td>
      <td>American Restaurant</td>
      <td>Sushi Restaurant</td>
      <td>Italian Restaurant</td>
      <td>Japanese Restaurant</td>
      <td>Staten Island</td>
      <td>40.538114</td>
      <td>-74.178549</td>
    </tr>
    <tr>
      <th>2</th>
      <td>Arden Heights</td>
      <td>Pizza Place</td>
      <td>American Restaurant</td>
      <td>Italian Restaurant</td>
      <td>Mexican Restaurant</td>
      <td>Chinese Restaurant</td>
      <td>Staten Island</td>
      <td>40.549286</td>
      <td>-74.185887</td>
    </tr>
    <tr>
      <th>16</th>
      <td>Bedford Park</td>
      <td>Pizza Place</td>
      <td>Chinese Restaurant</td>
      <td>Fast Food Restaurant</td>
      <td>Salvadoran Restaurant</td>
      <td>Fried Chicken Joint</td>
      <td>Bronx</td>
      <td>40.870185</td>
      <td>-73.885512</td>
    </tr>
    <tr>
      <th>19</th>
      <td>Bellaire</td>
      <td>Pizza Place</td>
      <td>Chinese Restaurant</td>
      <td>Fast Food Restaurant</td>
      <td>Italian Restaurant</td>
      <td>American Restaurant</td>
      <td>Queens</td>
      <td>40.733014</td>
      <td>-73.738892</td>
    </tr>
    <tr>
      <th>21</th>
      <td>Bellerose</td>
      <td>Pizza Place</td>
      <td>Indian Restaurant</td>
      <td>American Restaurant</td>
      <td>Halal Restaurant</td>
      <td>Seafood Restaurant</td>
      <td>Queens</td>
      <td>40.728573</td>
      <td>-73.720128</td>
    </tr>
  </tbody>
</table>
</div>
</div>

</div>

</div>
</div>

</div>
<div class="cell border-box-sizing code_cell rendered">
<div class="input">
<div class="prompt input_prompt">In&nbsp;[71]:</div>
<div class="inner_cell">
    <div class="input_area">
<div class=" highlight hl-ipython3"><pre><span></span><span class="k">for</span> <span class="n">col</span> <span class="ow">in</span> <span class="n">required_column</span><span class="p">:</span>
    <span class="nb">print</span><span class="p">(</span><span class="n">cluster_4</span><span class="p">[</span><span class="n">col</span><span class="p">]</span><span class="o">.</span><span class="n">value_counts</span><span class="p">(</span><span class="n">ascending</span> <span class="o">=</span> <span class="kc">False</span><span class="p">))</span>
    <span class="nb">print</span><span class="p">(</span><span class="s2">"---------------------------------------------"</span><span class="p">)</span>
</pre></div>

    </div>
</div>
</div>

<div class="output_wrapper">
<div class="output">


<div class="output_area">

    <div class="prompt"></div>


<div class="output_subarea output_stream output_stdout output_text">
<pre>Pizza Place    52
Taco Place      1
Name: 1st Most Common Venue, dtype: int64
---------------------------------------------
Chinese Restaurant      12
American Restaurant      9
Japanese Restaurant      5
Fast Food Restaurant     5
Italian Restaurant       4
Mexican Restaurant       4
Sushi Restaurant         3
Asian Restaurant         3
Taco Place               2
BBQ Joint                2
Spanish Restaurant       1
Indian Restaurant        1
Pizza Place              1
Caribbean Restaurant     1
Name: 2nd Most Common Venue, dtype: int64
---------------------------------------------
Staten Island    20
Queens           14
Bronx            11
Brooklyn          8
Name: Borough, dtype: int64
---------------------------------------------
</pre>
</div>
</div>

</div>
</div>

</div>
<div class="cell border-box-sizing text_cell rendered"><div class="prompt input_prompt">
</div><div class="inner_cell">
<div class="text_cell_render border-box-sizing rendered_html">
<h4 id="Cluster-5">Cluster 5<a class="anchor-link" href="https://nbviewer.jupyter.org/github/eklavyasaxena/The-Battle-of-Neighborhoods/blob/master/Exploring-the-Taste-of-NYC-Neighborhoods/Project_Notebook.ipynb#Cluster-5">¶</a></h4>
</div>
</div>
</div>
<div class="cell border-box-sizing code_cell rendered">
<div class="input">
<div class="prompt input_prompt">In&nbsp;[72]:</div>
<div class="inner_cell">
    <div class="input_area">
<div class=" highlight hl-ipython3"><pre><span></span><span class="n">cluster_5</span> <span class="o">=</span> <span class="n">nyc_merged</span><span class="o">.</span><span class="n">loc</span><span class="p">[</span><span class="n">nyc_merged</span><span class="p">[</span><span class="s1">'Cluster Labels'</span><span class="p">]</span> <span class="o">==</span> <span class="mi">5</span><span class="p">,</span> <span class="n">nyc_merged</span><span class="o">.</span><span class="n">columns</span><span class="p">[</span><span class="mi">1</span><span class="p">:</span><span class="mi">12</span><span class="p">]]</span>
<span class="n">cluster_5</span><span class="o">.</span><span class="n">head</span><span class="p">(</span><span class="mi">5</span><span class="p">)</span>
</pre></div>

    </div>
</div>
</div>

<div class="output_wrapper">
<div class="output">


<div class="output_area">

    <div class="prompt output_prompt">Out[72]:</div>



<div class="output_html rendered_html output_subarea output_execute_result">
<div>
<style scoped="">
    .dataframe tbody tr th:only-of-type {
        vertical-align: middle;
    }

    .dataframe tbody tr th {
        vertical-align: top;
    }

    .dataframe thead th {
        text-align: right;
    }
</style>
<table border="1" class="dataframe">
  <thead>
    <tr style="text-align: right;">
      <th></th>
      <th>Neighborhood</th>
      <th>1st Most Common Venue</th>
      <th>2nd Most Common Venue</th>
      <th>3rd Most Common Venue</th>
      <th>4th Most Common Venue</th>
      <th>5th Most Common Venue</th>
      <th>Borough</th>
      <th>Latitude</th>
      <th>Longitude</th>
    </tr>
  </thead>
  <tbody>
    <tr>
      <th>152</th>
      <td>Lighthouse Hill</td>
      <td>Italian Restaurant</td>
      <td>Vietnamese Restaurant</td>
      <td>Halal Restaurant</td>
      <td>English Restaurant</td>
      <td>Ethiopian Restaurant</td>
      <td>Staten Island</td>
      <td>40.576506</td>
      <td>-74.137927</td>
    </tr>
  </tbody>
</table>
</div>
</div>

</div>

</div>
</div>

</div>
<div class="cell border-box-sizing code_cell rendered">
<div class="input">
<div class="prompt input_prompt">In&nbsp;[73]:</div>
<div class="inner_cell">
    <div class="input_area">
<div class=" highlight hl-ipython3"><pre><span></span><span class="k">for</span> <span class="n">col</span> <span class="ow">in</span> <span class="n">required_column</span><span class="p">:</span>
    <span class="nb">print</span><span class="p">(</span><span class="n">cluster_5</span><span class="p">[</span><span class="n">col</span><span class="p">]</span><span class="o">.</span><span class="n">value_counts</span><span class="p">(</span><span class="n">ascending</span> <span class="o">=</span> <span class="kc">False</span><span class="p">))</span>
    <span class="nb">print</span><span class="p">(</span><span class="s2">"---------------------------------------------"</span><span class="p">)</span>
</pre></div>

    </div>
</div>
</div>

<div class="output_wrapper">
<div class="output">


<div class="output_area">

    <div class="prompt"></div>


<div class="output_subarea output_stream output_stdout output_text">
<pre>Italian Restaurant    1
Name: 1st Most Common Venue, dtype: int64
---------------------------------------------
Vietnamese Restaurant    1
Name: 2nd Most Common Venue, dtype: int64
---------------------------------------------
Staten Island    1
Name: Borough, dtype: int64
---------------------------------------------
</pre>
</div>
</div>

</div>
</div>

</div>
<div class="cell border-box-sizing text_cell rendered"><div class="prompt input_prompt">
</div><div class="inner_cell">
<div class="text_cell_render border-box-sizing rendered_html">
<h4 id="Cluster-6">Cluster 6<a class="anchor-link" href="https://nbviewer.jupyter.org/github/eklavyasaxena/The-Battle-of-Neighborhoods/blob/master/Exploring-the-Taste-of-NYC-Neighborhoods/Project_Notebook.ipynb#Cluster-6">¶</a></h4>
</div>
</div>
</div>
<div class="cell border-box-sizing code_cell rendered">
<div class="input">
<div class="prompt input_prompt">In&nbsp;[74]:</div>
<div class="inner_cell">
    <div class="input_area">
<div class=" highlight hl-ipython3"><pre><span></span><span class="n">cluster_6</span> <span class="o">=</span> <span class="n">nyc_merged</span><span class="o">.</span><span class="n">loc</span><span class="p">[</span><span class="n">nyc_merged</span><span class="p">[</span><span class="s1">'Cluster Labels'</span><span class="p">]</span> <span class="o">==</span> <span class="mi">6</span><span class="p">,</span> <span class="n">nyc_merged</span><span class="o">.</span><span class="n">columns</span><span class="p">[</span><span class="mi">1</span><span class="p">:</span><span class="mi">12</span><span class="p">]]</span>
<span class="n">cluster_6</span><span class="o">.</span><span class="n">head</span><span class="p">(</span><span class="mi">5</span><span class="p">)</span>
</pre></div>

    </div>
</div>
</div>

<div class="output_wrapper">
<div class="output">


<div class="output_area">

    <div class="prompt output_prompt">Out[74]:</div>



<div class="output_html rendered_html output_subarea output_execute_result">
<div>
<style scoped="">
    .dataframe tbody tr th:only-of-type {
        vertical-align: middle;
    }

    .dataframe tbody tr th {
        vertical-align: top;
    }

    .dataframe thead th {
        text-align: right;
    }
</style>
<table border="1" class="dataframe">
  <thead>
    <tr style="text-align: right;">
      <th></th>
      <th>Neighborhood</th>
      <th>1st Most Common Venue</th>
      <th>2nd Most Common Venue</th>
      <th>3rd Most Common Venue</th>
      <th>4th Most Common Venue</th>
      <th>5th Most Common Venue</th>
      <th>Borough</th>
      <th>Latitude</th>
      <th>Longitude</th>
    </tr>
  </thead>
  <tbody>
    <tr>
      <th>0</th>
      <td>Allerton</td>
      <td>Mexican Restaurant</td>
      <td>Fried Chicken Joint</td>
      <td>Pizza Place</td>
      <td>Chinese Restaurant</td>
      <td>Fast Food Restaurant</td>
      <td>Bronx</td>
      <td>40.865788</td>
      <td>-73.859319</td>
    </tr>
    <tr>
      <th>3</th>
      <td>Arlington</td>
      <td>Pizza Place</td>
      <td>Fast Food Restaurant</td>
      <td>American Restaurant</td>
      <td>Peruvian Restaurant</td>
      <td>Spanish Restaurant</td>
      <td>Staten Island</td>
      <td>40.635325</td>
      <td>-74.165104</td>
    </tr>
    <tr>
      <th>17</th>
      <td>Bedford Stuyvesant</td>
      <td>Pizza Place</td>
      <td>Fast Food Restaurant</td>
      <td>Caribbean Restaurant</td>
      <td>French Restaurant</td>
      <td>Ramen Restaurant</td>
      <td>Brooklyn</td>
      <td>40.687232</td>
      <td>-73.941785</td>
    </tr>
    <tr>
      <th>30</th>
      <td>Briarwood</td>
      <td>Fast Food Restaurant</td>
      <td>Pizza Place</td>
      <td>Fried Chicken Joint</td>
      <td>Chinese Restaurant</td>
      <td>Japanese Restaurant</td>
      <td>Queens</td>
      <td>40.710935</td>
      <td>-73.811748</td>
    </tr>
    <tr>
      <th>33</th>
      <td>Broadway Junction</td>
      <td>Fast Food Restaurant</td>
      <td>Fried Chicken Joint</td>
      <td>Mexican Restaurant</td>
      <td>Chinese Restaurant</td>
      <td>Pizza Place</td>
      <td>Brooklyn</td>
      <td>40.677861</td>
      <td>-73.903317</td>
    </tr>
  </tbody>
</table>
</div>
</div>

</div>

</div>
</div>

</div>
<div class="cell border-box-sizing code_cell rendered">
<div class="input">
<div class="prompt input_prompt">In&nbsp;[75]:</div>
<div class="inner_cell">
    <div class="input_area">
<div class=" highlight hl-ipython3"><pre><span></span><span class="k">for</span> <span class="n">col</span> <span class="ow">in</span> <span class="n">required_column</span><span class="p">:</span>
    <span class="nb">print</span><span class="p">(</span><span class="n">cluster_6</span><span class="p">[</span><span class="n">col</span><span class="p">]</span><span class="o">.</span><span class="n">value_counts</span><span class="p">(</span><span class="n">ascending</span> <span class="o">=</span> <span class="kc">False</span><span class="p">))</span>
    <span class="nb">print</span><span class="p">(</span><span class="s2">"---------------------------------------------"</span><span class="p">)</span>
</pre></div>

    </div>
</div>
</div>

<div class="output_wrapper">
<div class="output">


<div class="output_area">

    <div class="prompt"></div>


<div class="output_subarea output_stream output_stdout output_text">
<pre>Fast Food Restaurant    28
Pizza Place             14
Mexican Restaurant       5
Chinese Restaurant       2
Fried Chicken Joint      1
Name: 1st Most Common Venue, dtype: int64
---------------------------------------------
Fast Food Restaurant               16
Pizza Place                        10
Chinese Restaurant                  8
Fried Chicken Joint                 5
Mexican Restaurant                  4
Latin American Restaurant           2
Southern / Soul Food Restaurant     1
Indian Restaurant                   1
Filipino Restaurant                 1
Caribbean Restaurant                1
Italian Restaurant                  1
Name: 2nd Most Common Venue, dtype: int64
---------------------------------------------
Bronx            22
Queens           10
Brooklyn          9
Manhattan         5
Staten Island     4
Name: Borough, dtype: int64
---------------------------------------------
</pre>
</div>
</div>

</div>
</div>

</div>
<div class="cell border-box-sizing text_cell rendered"><div class="prompt input_prompt">
</div><div class="inner_cell">
<div class="text_cell_render border-box-sizing rendered_html">
<h4 id="Cluster-7">Cluster 7<a class="anchor-link" href="https://nbviewer.jupyter.org/github/eklavyasaxena/The-Battle-of-Neighborhoods/blob/master/Exploring-the-Taste-of-NYC-Neighborhoods/Project_Notebook.ipynb#Cluster-7">¶</a></h4>
</div>
</div>
</div>
<div class="cell border-box-sizing code_cell rendered">
<div class="input">
<div class="prompt input_prompt">In&nbsp;[76]:</div>
<div class="inner_cell">
    <div class="input_area">
<div class=" highlight hl-ipython3"><pre><span></span><span class="n">cluster_7</span> <span class="o">=</span> <span class="n">nyc_merged</span><span class="o">.</span><span class="n">loc</span><span class="p">[</span><span class="n">nyc_merged</span><span class="p">[</span><span class="s1">'Cluster Labels'</span><span class="p">]</span> <span class="o">==</span> <span class="mi">7</span><span class="p">,</span> <span class="n">nyc_merged</span><span class="o">.</span><span class="n">columns</span><span class="p">[</span><span class="mi">1</span><span class="p">:</span><span class="mi">12</span><span class="p">]]</span>
<span class="n">cluster_7</span><span class="o">.</span><span class="n">head</span><span class="p">(</span><span class="mi">5</span><span class="p">)</span>
</pre></div>

    </div>
</div>
</div>

<div class="output_wrapper">
<div class="output">


<div class="output_area">

    <div class="prompt output_prompt">Out[76]:</div>



<div class="output_html rendered_html output_subarea output_execute_result">
<div>
<style scoped="">
    .dataframe tbody tr th:only-of-type {
        vertical-align: middle;
    }

    .dataframe tbody tr th {
        vertical-align: top;
    }

    .dataframe thead th {
        text-align: right;
    }
</style>
<table border="1" class="dataframe">
  <thead>
    <tr style="text-align: right;">
      <th></th>
      <th>Neighborhood</th>
      <th>1st Most Common Venue</th>
      <th>2nd Most Common Venue</th>
      <th>3rd Most Common Venue</th>
      <th>4th Most Common Venue</th>
      <th>5th Most Common Venue</th>
      <th>Borough</th>
      <th>Latitude</th>
      <th>Longitude</th>
    </tr>
  </thead>
  <tbody>
    <tr>
      <th>29</th>
      <td>Breezy Point</td>
      <td>American Restaurant</td>
      <td>Pizza Place</td>
      <td>Vietnamese Restaurant</td>
      <td>Halal Restaurant</td>
      <td>Ethiopian Restaurant</td>
      <td>Queens</td>
      <td>40.557401</td>
      <td>-73.925512</td>
    </tr>
    <tr>
      <th>35</th>
      <td>Brooklyn Heights</td>
      <td>American Restaurant</td>
      <td>Pizza Place</td>
      <td>Mexican Restaurant</td>
      <td>Seafood Restaurant</td>
      <td>Mediterranean Restaurant</td>
      <td>Brooklyn</td>
      <td>40.695864</td>
      <td>-73.993782</td>
    </tr>
    <tr>
      <th>43</th>
      <td>Carnegie Hill</td>
      <td>American Restaurant</td>
      <td>Vietnamese Restaurant</td>
      <td>BBQ Joint</td>
      <td>Pizza Place</td>
      <td>Fast Food Restaurant</td>
      <td>Manhattan</td>
      <td>40.782683</td>
      <td>-73.953256</td>
    </tr>
    <tr>
      <th>55</th>
      <td>Clason Point</td>
      <td>American Restaurant</td>
      <td>Seafood Restaurant</td>
      <td>South American Restaurant</td>
      <td>Greek Restaurant</td>
      <td>English Restaurant</td>
      <td>Bronx</td>
      <td>40.806551</td>
      <td>-73.854144</td>
    </tr>
    <tr>
      <th>74</th>
      <td>Dumbo</td>
      <td>American Restaurant</td>
      <td>Pizza Place</td>
      <td>Italian Restaurant</td>
      <td>Mexican Restaurant</td>
      <td>Seafood Restaurant</td>
      <td>Brooklyn</td>
      <td>40.703176</td>
      <td>-73.988753</td>
    </tr>
  </tbody>
</table>
</div>
</div>

</div>

</div>
</div>

</div>
<div class="cell border-box-sizing code_cell rendered">
<div class="input">
<div class="prompt input_prompt">In&nbsp;[77]:</div>
<div class="inner_cell">
    <div class="input_area">
<div class=" highlight hl-ipython3"><pre><span></span><span class="k">for</span> <span class="n">col</span> <span class="ow">in</span> <span class="n">required_column</span><span class="p">:</span>
    <span class="nb">print</span><span class="p">(</span><span class="n">cluster_7</span><span class="p">[</span><span class="n">col</span><span class="p">]</span><span class="o">.</span><span class="n">value_counts</span><span class="p">(</span><span class="n">ascending</span> <span class="o">=</span> <span class="kc">False</span><span class="p">))</span>
    <span class="nb">print</span><span class="p">(</span><span class="s2">"---------------------------------------------"</span><span class="p">)</span>
</pre></div>

    </div>
</div>
</div>

<div class="output_wrapper">
<div class="output">


<div class="output_area">

    <div class="prompt"></div>


<div class="output_subarea output_stream output_stdout output_text">
<pre>American Restaurant    14
Pizza Place             1
Name: 1st Most Common Venue, dtype: int64
---------------------------------------------
Pizza Place              4
Mexican Restaurant       3
Italian Restaurant       3
Seafood Restaurant       1
Chinese Restaurant       1
American Restaurant      1
Fast Food Restaurant     1
Vietnamese Restaurant    1
Name: 2nd Most Common Venue, dtype: int64
---------------------------------------------
Manhattan        7
Brooklyn         4
Staten Island    2
Queens           1
Bronx            1
Name: Borough, dtype: int64
---------------------------------------------
</pre>
</div>
</div>

</div>
</div>

</div>
<div class="cell border-box-sizing text_cell rendered"><div class="prompt input_prompt">
</div><div class="inner_cell">
<div class="text_cell_render border-box-sizing rendered_html">
<h3 id="Thank-You">Thank You<a class="anchor-link" href="https://nbviewer.jupyter.org/github/eklavyasaxena/The-Battle-of-Neighborhoods/blob/master/Exploring-the-Taste-of-NYC-Neighborhoods/Project_Notebook.ipynb#Thank-You">¶</a></h3><ul>
<li>References: Notebook created by <a href="https://www.linkedin.com/in/aklson/">Alex Aklson</a> and <a href="https://www.linkedin.com/in/polonglin/">Polong Lin</a> for the course on <strong>Coursera</strong> called <em>Applied Data Science Capstone</em></li>
</ul>
<hr>
</div>
</div>
</div>
 


    </div>
  </div>

  </div>


  
    <footer class="footer hidden-print">
      <div class="container">
        <div class="col-md-4">
          <p>
            This website does not host notebooks, it only renders notebooks
            available on other websites.
          </p>
        </div>

        <div class="col-md-4">
          <p>
            Delivered by <a href="http://www.fastly.com/">Fastly</a>,
            Rendered by <a href="https://ovhcloud.com/">OVHcloud</a>
          </p>
          <p>
            nbviewer GitHub <a href="https://github.com/jupyter/nbviewer">repository</a>.
          </p>
        </div>

        <div class="col-md-4">
          
  
            
              <p>
                nbviewer version:
                <a href="https://github.com/jupyter/nbviewer/commit/90c61ccda0e4ae08ce46511c45505b49663fb019">
                  90c61cc
                </a>
              </p>
            
          
  
  <p>
    nbconvert version: <a href="https://github.com/jupyter/nbconvert/releases/tag/5.6.1">
      5.6.1
    </a>
  </p>
  

          
  
  
  <p>
    Rendered
    <span class="date" data-date="Tue, 13 Jul 2021 13:13:17 UTC" title="Tue, 13 Jul 2021 13:13:17 UTC">4 hours ago</span>
  </p>
  

        </div>
      </div>
    </footer>
  

  <script src="./Jupyter Notebook Viewer_files/bootstrap.min.js.download"></script>
  <script src="./Jupyter Notebook Viewer_files/headroom.min.js.download"></script>
  <script src="./Jupyter Notebook Viewer_files/jQuery.headroom.min.js.download"></script>

  
  
  <script>
    $(function(){ $("#menubar").headroom({
      tolerance: 5,
      offset: 205,
      classes: {
        initial: "animated",
        pinned: "slideInDown",
        unpinned: "slideOutUp"
      }
    })});
  </script>


  
  <script>
    (function(i,s,o,g,r,a,m){i['GoogleAnalyticsObject']=r;i[r]=i[r]||function(){
      (i[r].q=i[r].q||[]).push(arguments)},i[r].l=1*new Date();a=s.createElement(o),
      m=s.getElementsByTagName(o)[0];a.async=1;a.src=g;m.parentNode.insertBefore(a,m)
    })(window,document,'script','https://www.google-analytics.com/analytics.js','ga');
    ga('create', 'UA-52617120-5', 'auto',
       {'storage': 'none'});
    ga('set', 'anonymizeIp', true);
    ga('send', 'pageview');
  </script>
  
  <script>
    require({
        paths: {
          moment: "/static/components/moment/min/moment.min.js"
        }
      }, ["moment"], function(moment){
      var date = $("footer .date"),
        m = moment(new Date(date.data('date'))),
        update = function(){ date.text(m.fromNow()); };
      setInterval(update, 61*1000);
      update();
      var w = $(window).scroll(function(event){
        $("body").toggleClass("scrolled", w.scrollTop() > 0);
      });
    });
  </script>

  <!--NEW RELIC Stop Perf Measurement-->
  
  <!--NEW RELIC End-->

<script src="./Jupyter Notebook Viewer_files/embed-amd.js.download"></script></body></html>